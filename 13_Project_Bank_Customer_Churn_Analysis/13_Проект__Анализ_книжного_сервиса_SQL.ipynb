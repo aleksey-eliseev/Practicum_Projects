{
  "cells": [
    {
      "cell_type": "markdown",
      "metadata": {
        "id": "wdLG6Nbir1ul"
      },
      "source": [
        "# Анализ книжного сервиса: данные, рейтинги и пользовательские обзоры"
      ]
    },
    {
      "cell_type": "markdown",
      "metadata": {
        "id": "XUxth7Thr1um"
      },
      "source": [
        "**Описание проекта**"
      ]
    },
    {
      "cell_type": "markdown",
      "metadata": {
        "id": "-KVzM1hFr1un"
      },
      "source": [
        "Коронавирус застал мир врасплох, изменив привычный порядок вещей. На какое-то время жители городов перестали выходить на улицу, посещать кафе и торговые центры. Зато стало больше времени для книг. Это заметили стартаперы — и бросились создавать приложения для тех, кто любит читать.\n",
        "\n",
        "Ваша компания решила быть на волне и купила крупный сервис для чтения книг по подписке. Ваша первая задача как аналитика — проанализировать базу данных.\n",
        "В ней — информация о книгах, издательствах, авторах, а также пользовательские обзоры книг. Эти данные помогут сформулировать ценностное предложение для нового продукта."
      ]
    },
    {
      "cell_type": "markdown",
      "metadata": {
        "id": "ohAvxAlBr1un"
      },
      "source": [
        "**Цели исследования**"
      ]
    },
    {
      "cell_type": "markdown",
      "metadata": {
        "id": "H8yZilbDr1uo"
      },
      "source": [
        "Целью данного исследования является анализ базы данных книжного сервиса, приобретённого компанией, с целью формирования ценностного предложения для нового продукта."
      ]
    },
    {
      "cell_type": "markdown",
      "metadata": {
        "id": "68_6A5-0r1uo"
      },
      "source": [
        "**Ход исследования**"
      ]
    },
    {
      "cell_type": "markdown",
      "metadata": {
        "id": "Md9kQ5Q7r1uo"
      },
      "source": [
        "В рамках исследования необходимо:\n",
        "\n",
        "1. Определить количество книг, опубликованных после 1 января 2000 года.\n",
        "2. Рассчитать количество обзоров и среднюю оценку для каждой книги.\n",
        "3. Выявить издательство, выпустившее наибольшее число книг (с учётом только книг толще 50 страниц).\n",
        "4. Найти автора с самой высокой средней оценкой (учитывая только книги с 50 и более оценками).\n",
        "5. Определить среднее количество обзоров от пользователей, которые поставили более 48 оценок.\n",
        "\n",
        "Исследование позволит выявить ключевые тенденции в данных и поможет понять, какие книги наиболее популярны среди пользователей, какие издательства и авторы имеют высокий рейтинг, а также активность пользователей на платформе."
      ]
    },
    {
      "cell_type": "markdown",
      "metadata": {
        "id": "Fu3yaldwr1up"
      },
      "source": [
        "**Описание данных**"
      ]
    },
    {
      "cell_type": "markdown",
      "metadata": {
        "id": "HgcVeJAPr1up"
      },
      "source": [
        "**Таблица `books`**\n",
        "\n",
        "Содержит данные о книгах:\n",
        "\n",
        "- `book_id` — идентификатор книги;\n",
        "- `author_id` — идентификатор автора;\n",
        "- `title` — название книги;\n",
        "- `num_pages` — количество страниц;\n",
        "- `publication_date` — дата публикации книги;\n",
        "- `publisher_id` — идентификатор издателя.\n",
        "\n",
        "**Таблица `authors`**\n",
        "\n",
        "Содержит данные об авторах:\n",
        "\n",
        "- `author_id` — идентификатор автора;\n",
        "- `author` — имя автора.\n",
        "\n",
        "**Таблица `publishers`**\n",
        "\n",
        "Содержит данные об издательствах:\n",
        "\n",
        "- `publisher_id` — идентификатор издательства;\n",
        "- `publisher` — название издательства;\n",
        "\n",
        "**Таблица `ratings`**\n",
        "\n",
        "Содержит данные о пользовательских оценках книг:\n",
        "\n",
        "- `rating_id` — идентификатор оценки;\n",
        "- `book_id` — идентификатор книги;\n",
        "- `username` — имя пользователя, оставившего оценку;\n",
        "- `rating` — оценка книги.\n",
        "\n",
        "**Таблица `reviews`**\n",
        "\n",
        "Содержит данные о пользовательских обзорах:\n",
        "\n",
        "- `review_id` — идентификатор обзора;\n",
        "- `book_id` — идентификатор книги;\n",
        "- `username` — имя автора обзора;\n",
        "- `text` — текст обзора."
      ]
    },
    {
      "cell_type": "markdown",
      "metadata": {
        "id": "GRdhxp7yr1uq"
      },
      "source": [
        "## Подготовка данных"
      ]
    },
    {
      "cell_type": "code",
      "execution_count": null,
      "metadata": {
        "id": "focFwvP3r1uq",
        "outputId": "ce8f3828-3bea-4371-ccf3-d208d1eaac2e"
      },
      "outputs": [
        {
          "data": {
            "text/html": [
              "<div>\n",
              "<style scoped>\n",
              "    .dataframe tbody tr th:only-of-type {\n",
              "        vertical-align: middle;\n",
              "    }\n",
              "\n",
              "    .dataframe tbody tr th {\n",
              "        vertical-align: top;\n",
              "    }\n",
              "\n",
              "    .dataframe thead th {\n",
              "        text-align: right;\n",
              "    }\n",
              "</style>\n",
              "<table border=\"1\" class=\"dataframe\">\n",
              "  <thead>\n",
              "    <tr style=\"text-align: right;\">\n",
              "      <th></th>\n",
              "      <th>book_id</th>\n",
              "      <th>author_id</th>\n",
              "      <th>title</th>\n",
              "      <th>num_pages</th>\n",
              "      <th>publication_date</th>\n",
              "      <th>publisher_id</th>\n",
              "    </tr>\n",
              "  </thead>\n",
              "  <tbody>\n",
              "    <tr>\n",
              "      <th>0</th>\n",
              "      <td>1</td>\n",
              "      <td>546</td>\n",
              "      <td>'Salem's Lot</td>\n",
              "      <td>594</td>\n",
              "      <td>2005-11-01</td>\n",
              "      <td>93</td>\n",
              "    </tr>\n",
              "    <tr>\n",
              "      <th>1</th>\n",
              "      <td>2</td>\n",
              "      <td>465</td>\n",
              "      <td>1 000 Places to See Before You Die</td>\n",
              "      <td>992</td>\n",
              "      <td>2003-05-22</td>\n",
              "      <td>336</td>\n",
              "    </tr>\n",
              "    <tr>\n",
              "      <th>2</th>\n",
              "      <td>3</td>\n",
              "      <td>407</td>\n",
              "      <td>13 Little Blue Envelopes (Little Blue Envelope...</td>\n",
              "      <td>322</td>\n",
              "      <td>2010-12-21</td>\n",
              "      <td>135</td>\n",
              "    </tr>\n",
              "    <tr>\n",
              "      <th>3</th>\n",
              "      <td>4</td>\n",
              "      <td>82</td>\n",
              "      <td>1491: New Revelations of the Americas Before C...</td>\n",
              "      <td>541</td>\n",
              "      <td>2006-10-10</td>\n",
              "      <td>309</td>\n",
              "    </tr>\n",
              "    <tr>\n",
              "      <th>4</th>\n",
              "      <td>5</td>\n",
              "      <td>125</td>\n",
              "      <td>1776</td>\n",
              "      <td>386</td>\n",
              "      <td>2006-07-04</td>\n",
              "      <td>268</td>\n",
              "    </tr>\n",
              "  </tbody>\n",
              "</table>\n",
              "</div>"
            ],
            "text/plain": [
              "   book_id  author_id                                              title  \\\n",
              "0        1        546                                       'Salem's Lot   \n",
              "1        2        465                 1 000 Places to See Before You Die   \n",
              "2        3        407  13 Little Blue Envelopes (Little Blue Envelope...   \n",
              "3        4         82  1491: New Revelations of the Americas Before C...   \n",
              "4        5        125                                               1776   \n",
              "\n",
              "   num_pages publication_date  publisher_id  \n",
              "0        594       2005-11-01            93  \n",
              "1        992       2003-05-22           336  \n",
              "2        322       2010-12-21           135  \n",
              "3        541       2006-10-10           309  \n",
              "4        386       2006-07-04           268  "
            ]
          },
          "execution_count": 1,
          "metadata": {},
          "output_type": "execute_result"
        }
      ],
      "source": [
        "# импортируем библиотеки\n",
        "import pandas as pd\n",
        "from sqlalchemy import text, create_engine\n",
        "\n",
        "# устанавливаем параметры\n",
        "db_config = {'user': 'praktikum_student', # имя пользователя\n",
        "'pwd': 'Sdf4$2;d-d30pp', # пароль\n",
        "'host': 'rc1b-wcoijxj3yxfsf3fs.mdb.yandexcloud.net',\n",
        "'port': 6432, # порт подключения\n",
        "'db': 'data-analyst-final-project-db'} # название базы данных\n",
        "connection_string = 'postgresql://{user}:{pwd}@{host}:{port}/{db}'.format(**db_config)\n",
        "\n",
        "# сохраняем коннектор\n",
        "engine = create_engine(connection_string, connect_args={'sslmode':'require'})\n",
        "\n",
        "# чтобы выполнить SQL-запрос, используем Pandas\n",
        "query = '''SELECT * FROM books LIMIT 5'''\n",
        "con=engine.connect()\n",
        "pd.io.sql.read_sql(sql=text(query), con = con)"
      ]
    },
    {
      "cell_type": "code",
      "execution_count": null,
      "metadata": {
        "id": "ce3SesBGr1ut",
        "outputId": "f5e68c0b-8ce6-4d6f-cdde-867b68e2da9f"
      },
      "outputs": [
        {
          "name": "stdout",
          "output_type": "stream",
          "text": [
            "\n",
            "Таблица books:\n"
          ]
        },
        {
          "data": {
            "text/html": [
              "<div>\n",
              "<style scoped>\n",
              "    .dataframe tbody tr th:only-of-type {\n",
              "        vertical-align: middle;\n",
              "    }\n",
              "\n",
              "    .dataframe tbody tr th {\n",
              "        vertical-align: top;\n",
              "    }\n",
              "\n",
              "    .dataframe thead th {\n",
              "        text-align: right;\n",
              "    }\n",
              "</style>\n",
              "<table border=\"1\" class=\"dataframe\">\n",
              "  <thead>\n",
              "    <tr style=\"text-align: right;\">\n",
              "      <th></th>\n",
              "      <th>book_id</th>\n",
              "      <th>author_id</th>\n",
              "      <th>title</th>\n",
              "      <th>num_pages</th>\n",
              "      <th>publication_date</th>\n",
              "      <th>publisher_id</th>\n",
              "    </tr>\n",
              "  </thead>\n",
              "  <tbody>\n",
              "    <tr>\n",
              "      <th>0</th>\n",
              "      <td>1</td>\n",
              "      <td>546</td>\n",
              "      <td>'Salem's Lot</td>\n",
              "      <td>594</td>\n",
              "      <td>2005-11-01</td>\n",
              "      <td>93</td>\n",
              "    </tr>\n",
              "    <tr>\n",
              "      <th>1</th>\n",
              "      <td>2</td>\n",
              "      <td>465</td>\n",
              "      <td>1 000 Places to See Before You Die</td>\n",
              "      <td>992</td>\n",
              "      <td>2003-05-22</td>\n",
              "      <td>336</td>\n",
              "    </tr>\n",
              "    <tr>\n",
              "      <th>2</th>\n",
              "      <td>3</td>\n",
              "      <td>407</td>\n",
              "      <td>13 Little Blue Envelopes (Little Blue Envelope...</td>\n",
              "      <td>322</td>\n",
              "      <td>2010-12-21</td>\n",
              "      <td>135</td>\n",
              "    </tr>\n",
              "    <tr>\n",
              "      <th>3</th>\n",
              "      <td>4</td>\n",
              "      <td>82</td>\n",
              "      <td>1491: New Revelations of the Americas Before C...</td>\n",
              "      <td>541</td>\n",
              "      <td>2006-10-10</td>\n",
              "      <td>309</td>\n",
              "    </tr>\n",
              "    <tr>\n",
              "      <th>4</th>\n",
              "      <td>5</td>\n",
              "      <td>125</td>\n",
              "      <td>1776</td>\n",
              "      <td>386</td>\n",
              "      <td>2006-07-04</td>\n",
              "      <td>268</td>\n",
              "    </tr>\n",
              "  </tbody>\n",
              "</table>\n",
              "</div>"
            ],
            "text/plain": [
              "   book_id  author_id                                              title  \\\n",
              "0        1        546                                       'Salem's Lot   \n",
              "1        2        465                 1 000 Places to See Before You Die   \n",
              "2        3        407  13 Little Blue Envelopes (Little Blue Envelope...   \n",
              "3        4         82  1491: New Revelations of the Americas Before C...   \n",
              "4        5        125                                               1776   \n",
              "\n",
              "   num_pages publication_date  publisher_id  \n",
              "0        594       2005-11-01            93  \n",
              "1        992       2003-05-22           336  \n",
              "2        322       2010-12-21           135  \n",
              "3        541       2006-10-10           309  \n",
              "4        386       2006-07-04           268  "
            ]
          },
          "metadata": {},
          "output_type": "display_data"
        },
        {
          "name": "stdout",
          "output_type": "stream",
          "text": [
            "\n",
            "Таблица authors:\n"
          ]
        },
        {
          "data": {
            "text/html": [
              "<div>\n",
              "<style scoped>\n",
              "    .dataframe tbody tr th:only-of-type {\n",
              "        vertical-align: middle;\n",
              "    }\n",
              "\n",
              "    .dataframe tbody tr th {\n",
              "        vertical-align: top;\n",
              "    }\n",
              "\n",
              "    .dataframe thead th {\n",
              "        text-align: right;\n",
              "    }\n",
              "</style>\n",
              "<table border=\"1\" class=\"dataframe\">\n",
              "  <thead>\n",
              "    <tr style=\"text-align: right;\">\n",
              "      <th></th>\n",
              "      <th>author_id</th>\n",
              "      <th>author</th>\n",
              "    </tr>\n",
              "  </thead>\n",
              "  <tbody>\n",
              "    <tr>\n",
              "      <th>0</th>\n",
              "      <td>1</td>\n",
              "      <td>A.S. Byatt</td>\n",
              "    </tr>\n",
              "    <tr>\n",
              "      <th>1</th>\n",
              "      <td>2</td>\n",
              "      <td>Aesop/Laura Harris/Laura Gibbs</td>\n",
              "    </tr>\n",
              "    <tr>\n",
              "      <th>2</th>\n",
              "      <td>3</td>\n",
              "      <td>Agatha Christie</td>\n",
              "    </tr>\n",
              "    <tr>\n",
              "      <th>3</th>\n",
              "      <td>4</td>\n",
              "      <td>Alan Brennert</td>\n",
              "    </tr>\n",
              "    <tr>\n",
              "      <th>4</th>\n",
              "      <td>5</td>\n",
              "      <td>Alan Moore/David   Lloyd</td>\n",
              "    </tr>\n",
              "  </tbody>\n",
              "</table>\n",
              "</div>"
            ],
            "text/plain": [
              "   author_id                          author\n",
              "0          1                      A.S. Byatt\n",
              "1          2  Aesop/Laura Harris/Laura Gibbs\n",
              "2          3                 Agatha Christie\n",
              "3          4                   Alan Brennert\n",
              "4          5        Alan Moore/David   Lloyd"
            ]
          },
          "metadata": {},
          "output_type": "display_data"
        },
        {
          "name": "stdout",
          "output_type": "stream",
          "text": [
            "\n",
            "Таблица publishers:\n"
          ]
        },
        {
          "data": {
            "text/html": [
              "<div>\n",
              "<style scoped>\n",
              "    .dataframe tbody tr th:only-of-type {\n",
              "        vertical-align: middle;\n",
              "    }\n",
              "\n",
              "    .dataframe tbody tr th {\n",
              "        vertical-align: top;\n",
              "    }\n",
              "\n",
              "    .dataframe thead th {\n",
              "        text-align: right;\n",
              "    }\n",
              "</style>\n",
              "<table border=\"1\" class=\"dataframe\">\n",
              "  <thead>\n",
              "    <tr style=\"text-align: right;\">\n",
              "      <th></th>\n",
              "      <th>publisher_id</th>\n",
              "      <th>publisher</th>\n",
              "    </tr>\n",
              "  </thead>\n",
              "  <tbody>\n",
              "    <tr>\n",
              "      <th>0</th>\n",
              "      <td>1</td>\n",
              "      <td>Ace</td>\n",
              "    </tr>\n",
              "    <tr>\n",
              "      <th>1</th>\n",
              "      <td>2</td>\n",
              "      <td>Ace Book</td>\n",
              "    </tr>\n",
              "    <tr>\n",
              "      <th>2</th>\n",
              "      <td>3</td>\n",
              "      <td>Ace Books</td>\n",
              "    </tr>\n",
              "    <tr>\n",
              "      <th>3</th>\n",
              "      <td>4</td>\n",
              "      <td>Ace Hardcover</td>\n",
              "    </tr>\n",
              "    <tr>\n",
              "      <th>4</th>\n",
              "      <td>5</td>\n",
              "      <td>Addison Wesley Publishing Company</td>\n",
              "    </tr>\n",
              "  </tbody>\n",
              "</table>\n",
              "</div>"
            ],
            "text/plain": [
              "   publisher_id                          publisher\n",
              "0             1                                Ace\n",
              "1             2                           Ace Book\n",
              "2             3                          Ace Books\n",
              "3             4                      Ace Hardcover\n",
              "4             5  Addison Wesley Publishing Company"
            ]
          },
          "metadata": {},
          "output_type": "display_data"
        },
        {
          "name": "stdout",
          "output_type": "stream",
          "text": [
            "\n",
            "Таблица ratings:\n"
          ]
        },
        {
          "data": {
            "text/html": [
              "<div>\n",
              "<style scoped>\n",
              "    .dataframe tbody tr th:only-of-type {\n",
              "        vertical-align: middle;\n",
              "    }\n",
              "\n",
              "    .dataframe tbody tr th {\n",
              "        vertical-align: top;\n",
              "    }\n",
              "\n",
              "    .dataframe thead th {\n",
              "        text-align: right;\n",
              "    }\n",
              "</style>\n",
              "<table border=\"1\" class=\"dataframe\">\n",
              "  <thead>\n",
              "    <tr style=\"text-align: right;\">\n",
              "      <th></th>\n",
              "      <th>rating_id</th>\n",
              "      <th>book_id</th>\n",
              "      <th>username</th>\n",
              "      <th>rating</th>\n",
              "    </tr>\n",
              "  </thead>\n",
              "  <tbody>\n",
              "    <tr>\n",
              "      <th>0</th>\n",
              "      <td>1</td>\n",
              "      <td>1</td>\n",
              "      <td>ryanfranco</td>\n",
              "      <td>4</td>\n",
              "    </tr>\n",
              "    <tr>\n",
              "      <th>1</th>\n",
              "      <td>2</td>\n",
              "      <td>1</td>\n",
              "      <td>grantpatricia</td>\n",
              "      <td>2</td>\n",
              "    </tr>\n",
              "    <tr>\n",
              "      <th>2</th>\n",
              "      <td>3</td>\n",
              "      <td>1</td>\n",
              "      <td>brandtandrea</td>\n",
              "      <td>5</td>\n",
              "    </tr>\n",
              "    <tr>\n",
              "      <th>3</th>\n",
              "      <td>4</td>\n",
              "      <td>2</td>\n",
              "      <td>lorichen</td>\n",
              "      <td>3</td>\n",
              "    </tr>\n",
              "    <tr>\n",
              "      <th>4</th>\n",
              "      <td>5</td>\n",
              "      <td>2</td>\n",
              "      <td>mariokeller</td>\n",
              "      <td>2</td>\n",
              "    </tr>\n",
              "  </tbody>\n",
              "</table>\n",
              "</div>"
            ],
            "text/plain": [
              "   rating_id  book_id       username  rating\n",
              "0          1        1     ryanfranco       4\n",
              "1          2        1  grantpatricia       2\n",
              "2          3        1   brandtandrea       5\n",
              "3          4        2       lorichen       3\n",
              "4          5        2    mariokeller       2"
            ]
          },
          "metadata": {},
          "output_type": "display_data"
        },
        {
          "name": "stdout",
          "output_type": "stream",
          "text": [
            "\n",
            "Таблица reviews:\n"
          ]
        },
        {
          "data": {
            "text/html": [
              "<div>\n",
              "<style scoped>\n",
              "    .dataframe tbody tr th:only-of-type {\n",
              "        vertical-align: middle;\n",
              "    }\n",
              "\n",
              "    .dataframe tbody tr th {\n",
              "        vertical-align: top;\n",
              "    }\n",
              "\n",
              "    .dataframe thead th {\n",
              "        text-align: right;\n",
              "    }\n",
              "</style>\n",
              "<table border=\"1\" class=\"dataframe\">\n",
              "  <thead>\n",
              "    <tr style=\"text-align: right;\">\n",
              "      <th></th>\n",
              "      <th>review_id</th>\n",
              "      <th>book_id</th>\n",
              "      <th>username</th>\n",
              "      <th>text</th>\n",
              "    </tr>\n",
              "  </thead>\n",
              "  <tbody>\n",
              "    <tr>\n",
              "      <th>0</th>\n",
              "      <td>1</td>\n",
              "      <td>1</td>\n",
              "      <td>brandtandrea</td>\n",
              "      <td>Mention society tell send professor analysis. ...</td>\n",
              "    </tr>\n",
              "    <tr>\n",
              "      <th>1</th>\n",
              "      <td>2</td>\n",
              "      <td>1</td>\n",
              "      <td>ryanfranco</td>\n",
              "      <td>Foot glass pretty audience hit themselves. Amo...</td>\n",
              "    </tr>\n",
              "    <tr>\n",
              "      <th>2</th>\n",
              "      <td>3</td>\n",
              "      <td>2</td>\n",
              "      <td>lorichen</td>\n",
              "      <td>Listen treat keep worry. Miss husband tax but ...</td>\n",
              "    </tr>\n",
              "    <tr>\n",
              "      <th>3</th>\n",
              "      <td>4</td>\n",
              "      <td>3</td>\n",
              "      <td>johnsonamanda</td>\n",
              "      <td>Finally month interesting blue could nature cu...</td>\n",
              "    </tr>\n",
              "    <tr>\n",
              "      <th>4</th>\n",
              "      <td>5</td>\n",
              "      <td>3</td>\n",
              "      <td>scotttamara</td>\n",
              "      <td>Nation purpose heavy give wait song will. List...</td>\n",
              "    </tr>\n",
              "  </tbody>\n",
              "</table>\n",
              "</div>"
            ],
            "text/plain": [
              "   review_id  book_id       username  \\\n",
              "0          1        1   brandtandrea   \n",
              "1          2        1     ryanfranco   \n",
              "2          3        2       lorichen   \n",
              "3          4        3  johnsonamanda   \n",
              "4          5        3    scotttamara   \n",
              "\n",
              "                                                text  \n",
              "0  Mention society tell send professor analysis. ...  \n",
              "1  Foot glass pretty audience hit themselves. Amo...  \n",
              "2  Listen treat keep worry. Miss husband tax but ...  \n",
              "3  Finally month interesting blue could nature cu...  \n",
              "4  Nation purpose heavy give wait song will. List...  "
            ]
          },
          "metadata": {},
          "output_type": "display_data"
        }
      ],
      "source": [
        "# Функция для выполнения SQL-запроса и вывода первых строк\n",
        "def run_query(query):\n",
        "    return pd.io.sql.read_sql(sql=text(query), con=con)\n",
        "\n",
        "# Выведем первые 5 строк из каждой таблицы\n",
        "tables = ['books', 'authors', 'publishers', 'ratings', 'reviews']\n",
        "\n",
        "for table in tables:\n",
        "    print(f\"\\nТаблица {table}:\")\n",
        "    display(run_query(f\"SELECT * FROM {table} LIMIT 5\"))"
      ]
    },
    {
      "cell_type": "markdown",
      "metadata": {
        "id": "BoZ7B4idr1uu"
      },
      "source": [
        "## Выполнение заданий"
      ]
    },
    {
      "cell_type": "markdown",
      "metadata": {
        "id": "NFB9-PXOr1uu"
      },
      "source": [
        "### Посчитаем, сколько книг вышло после 1 января 2000 года"
      ]
    },
    {
      "cell_type": "code",
      "execution_count": null,
      "metadata": {
        "id": "wkEAUcNcr1uu",
        "outputId": "cbde668f-1369-4303-db4a-84fff24a5347"
      },
      "outputs": [
        {
          "data": {
            "text/html": [
              "<div>\n",
              "<style scoped>\n",
              "    .dataframe tbody tr th:only-of-type {\n",
              "        vertical-align: middle;\n",
              "    }\n",
              "\n",
              "    .dataframe tbody tr th {\n",
              "        vertical-align: top;\n",
              "    }\n",
              "\n",
              "    .dataframe thead th {\n",
              "        text-align: right;\n",
              "    }\n",
              "</style>\n",
              "<table border=\"1\" class=\"dataframe\">\n",
              "  <thead>\n",
              "    <tr style=\"text-align: right;\">\n",
              "      <th></th>\n",
              "      <th>book_count</th>\n",
              "    </tr>\n",
              "  </thead>\n",
              "  <tbody>\n",
              "    <tr>\n",
              "      <th>0</th>\n",
              "      <td>819</td>\n",
              "    </tr>\n",
              "  </tbody>\n",
              "</table>\n",
              "</div>"
            ],
            "text/plain": [
              "   book_count\n",
              "0         819"
            ]
          },
          "metadata": {},
          "output_type": "display_data"
        }
      ],
      "source": [
        "query = '''\n",
        "SELECT COUNT(*) AS book_count\n",
        "  FROM books\n",
        " WHERE publication_date > '2000-01-01';\n",
        "'''\n",
        "\n",
        "# Выполняем запрос и выводим результат\n",
        "result = pd.io.sql.read_sql(sql=text(query), con=con)\n",
        "display(result)"
      ]
    },
    {
      "cell_type": "markdown",
      "metadata": {
        "id": "-DOKw5elr1uv"
      },
      "source": [
        "**Вывод:**<br/>\n",
        "После 1 января 2000 года было выпущено **819 книг**."
      ]
    },
    {
      "cell_type": "markdown",
      "metadata": {
        "id": "GR2QqIZkr1uv"
      },
      "source": [
        "### Для каждой книги посчитаем количество обзоров и среднюю оценку"
      ]
    },
    {
      "cell_type": "code",
      "execution_count": null,
      "metadata": {
        "id": "NOXZzBQUr1uv",
        "outputId": "479aab0a-1850-4055-cc0c-5ee1c22f41f3"
      },
      "outputs": [
        {
          "data": {
            "text/html": [
              "<div>\n",
              "<style scoped>\n",
              "    .dataframe tbody tr th:only-of-type {\n",
              "        vertical-align: middle;\n",
              "    }\n",
              "\n",
              "    .dataframe tbody tr th {\n",
              "        vertical-align: top;\n",
              "    }\n",
              "\n",
              "    .dataframe thead th {\n",
              "        text-align: right;\n",
              "    }\n",
              "</style>\n",
              "<table border=\"1\" class=\"dataframe\">\n",
              "  <thead>\n",
              "    <tr style=\"text-align: right;\">\n",
              "      <th></th>\n",
              "      <th>title</th>\n",
              "      <th>review_count</th>\n",
              "      <th>avg_rating</th>\n",
              "    </tr>\n",
              "  </thead>\n",
              "  <tbody>\n",
              "    <tr>\n",
              "      <th>0</th>\n",
              "      <td>Twilight (Twilight  #1)</td>\n",
              "      <td>7</td>\n",
              "      <td>3.66</td>\n",
              "    </tr>\n",
              "    <tr>\n",
              "      <th>1</th>\n",
              "      <td>Water for Elephants</td>\n",
              "      <td>6</td>\n",
              "      <td>3.98</td>\n",
              "    </tr>\n",
              "    <tr>\n",
              "      <th>2</th>\n",
              "      <td>The Glass Castle</td>\n",
              "      <td>6</td>\n",
              "      <td>4.21</td>\n",
              "    </tr>\n",
              "    <tr>\n",
              "      <th>3</th>\n",
              "      <td>Harry Potter and the Prisoner of Azkaban (Harr...</td>\n",
              "      <td>6</td>\n",
              "      <td>4.41</td>\n",
              "    </tr>\n",
              "    <tr>\n",
              "      <th>4</th>\n",
              "      <td>The Curious Incident of the Dog in the Night-Time</td>\n",
              "      <td>6</td>\n",
              "      <td>4.08</td>\n",
              "    </tr>\n",
              "    <tr>\n",
              "      <th>...</th>\n",
              "      <td>...</td>\n",
              "      <td>...</td>\n",
              "      <td>...</td>\n",
              "    </tr>\n",
              "    <tr>\n",
              "      <th>995</th>\n",
              "      <td>Anne Rice's The Vampire Lestat: A Graphic Novel</td>\n",
              "      <td>0</td>\n",
              "      <td>3.67</td>\n",
              "    </tr>\n",
              "    <tr>\n",
              "      <th>996</th>\n",
              "      <td>The Natural Way to Draw</td>\n",
              "      <td>0</td>\n",
              "      <td>3.00</td>\n",
              "    </tr>\n",
              "    <tr>\n",
              "      <th>997</th>\n",
              "      <td>The Cat in the Hat and Other Dr. Seuss Favorites</td>\n",
              "      <td>0</td>\n",
              "      <td>5.00</td>\n",
              "    </tr>\n",
              "    <tr>\n",
              "      <th>998</th>\n",
              "      <td>Essential Tales and Poems</td>\n",
              "      <td>0</td>\n",
              "      <td>4.00</td>\n",
              "    </tr>\n",
              "    <tr>\n",
              "      <th>999</th>\n",
              "      <td>Disney's Beauty and the Beast (A Little Golden...</td>\n",
              "      <td>0</td>\n",
              "      <td>4.00</td>\n",
              "    </tr>\n",
              "  </tbody>\n",
              "</table>\n",
              "<p>1000 rows × 3 columns</p>\n",
              "</div>"
            ],
            "text/plain": [
              "                                                 title  review_count  \\\n",
              "0                              Twilight (Twilight  #1)             7   \n",
              "1                                  Water for Elephants             6   \n",
              "2                                     The Glass Castle             6   \n",
              "3    Harry Potter and the Prisoner of Azkaban (Harr...             6   \n",
              "4    The Curious Incident of the Dog in the Night-Time             6   \n",
              "..                                                 ...           ...   \n",
              "995    Anne Rice's The Vampire Lestat: A Graphic Novel             0   \n",
              "996                            The Natural Way to Draw             0   \n",
              "997   The Cat in the Hat and Other Dr. Seuss Favorites             0   \n",
              "998                          Essential Tales and Poems             0   \n",
              "999  Disney's Beauty and the Beast (A Little Golden...             0   \n",
              "\n",
              "     avg_rating  \n",
              "0          3.66  \n",
              "1          3.98  \n",
              "2          4.21  \n",
              "3          4.41  \n",
              "4          4.08  \n",
              "..          ...  \n",
              "995        3.67  \n",
              "996        3.00  \n",
              "997        5.00  \n",
              "998        4.00  \n",
              "999        4.00  \n",
              "\n",
              "[1000 rows x 3 columns]"
            ]
          },
          "metadata": {},
          "output_type": "display_data"
        }
      ],
      "source": [
        "query = '''\n",
        "SELECT b.title,\n",
        "       COUNT(DISTINCT r.review_id) AS review_count,\n",
        "       ROUND(AVG(rt.rating), 2) AS avg_rating\n",
        "  FROM books as b\n",
        "       LEFT JOIN reviews AS r ON b.book_id = r.book_id\n",
        "       LEFT JOIN ratings AS rt ON b.book_id = rt.book_id\n",
        " GROUP BY b.book_id, b.title\n",
        " ORDER BY review_count DESC;\n",
        "'''\n",
        "\n",
        "# Выполняем запрос и выводим результат\n",
        "result = pd.io.sql.read_sql(sql=text(query), con=con)\n",
        "display(result)"
      ]
    },
    {
      "cell_type": "markdown",
      "metadata": {
        "id": "q_Bhks1Dr1uw"
      },
      "source": [
        "**Вывод:**<br/>\n",
        "- Больше всего обзоров у **Twilight (Twilight #1) — 7** при средней оценке **3.66**."
      ]
    },
    {
      "cell_type": "markdown",
      "metadata": {
        "id": "44IS7kd6r1ux"
      },
      "source": [
        "### Определим издательство, которое выпустило наибольшее число книг толще 50 страниц — так мы исключим из анализа брошюры"
      ]
    },
    {
      "cell_type": "code",
      "execution_count": null,
      "metadata": {
        "id": "LOd8vtIjr1ux",
        "outputId": "539fbf10-9f27-46b2-9a45-8d5ab661c166"
      },
      "outputs": [
        {
          "data": {
            "text/html": [
              "<div>\n",
              "<style scoped>\n",
              "    .dataframe tbody tr th:only-of-type {\n",
              "        vertical-align: middle;\n",
              "    }\n",
              "\n",
              "    .dataframe tbody tr th {\n",
              "        vertical-align: top;\n",
              "    }\n",
              "\n",
              "    .dataframe thead th {\n",
              "        text-align: right;\n",
              "    }\n",
              "</style>\n",
              "<table border=\"1\" class=\"dataframe\">\n",
              "  <thead>\n",
              "    <tr style=\"text-align: right;\">\n",
              "      <th></th>\n",
              "      <th>publisher</th>\n",
              "      <th>book_count</th>\n",
              "    </tr>\n",
              "  </thead>\n",
              "  <tbody>\n",
              "    <tr>\n",
              "      <th>0</th>\n",
              "      <td>Penguin Books</td>\n",
              "      <td>42</td>\n",
              "    </tr>\n",
              "  </tbody>\n",
              "</table>\n",
              "</div>"
            ],
            "text/plain": [
              "       publisher  book_count\n",
              "0  Penguin Books          42"
            ]
          },
          "metadata": {},
          "output_type": "display_data"
        }
      ],
      "source": [
        "query = '''\n",
        "SELECT\n",
        "       p.publisher,\n",
        "       COUNT(b.book_id) AS book_count\n",
        "  FROM books AS b\n",
        "       JOIN publishers AS p ON b.publisher_id = p.publisher_id\n",
        " WHERE b.num_pages > 50\n",
        " GROUP BY p.publisher\n",
        " ORDER BY book_count DESC\n",
        " LIMIT 1;;\n",
        "'''\n",
        "\n",
        "# Выполняем запрос и выводим результат\n",
        "result = pd.io.sql.read_sql(sql=text(query), con=con)\n",
        "display(result)"
      ]
    },
    {
      "cell_type": "markdown",
      "metadata": {
        "id": "Et7I5yw7r1ux"
      },
      "source": [
        "**Вывод:**<br/>\n",
        "- Наибольшее число книг (**42**) толще 50 страниц выпустило **издательство Penguin Books**."
      ]
    },
    {
      "cell_type": "markdown",
      "metadata": {
        "id": "Ua9dtpAar1uy"
      },
      "source": [
        "### Определим автора с самой высокой средней оценкой книг — учитывайте только книги с 50 и более оценками"
      ]
    },
    {
      "cell_type": "code",
      "execution_count": null,
      "metadata": {
        "id": "1Hr6IzAZr1uy",
        "outputId": "d91c082d-0a79-4763-adcf-cc3f8dec54e9"
      },
      "outputs": [
        {
          "data": {
            "text/html": [
              "<div>\n",
              "<style scoped>\n",
              "    .dataframe tbody tr th:only-of-type {\n",
              "        vertical-align: middle;\n",
              "    }\n",
              "\n",
              "    .dataframe tbody tr th {\n",
              "        vertical-align: top;\n",
              "    }\n",
              "\n",
              "    .dataframe thead th {\n",
              "        text-align: right;\n",
              "    }\n",
              "</style>\n",
              "<table border=\"1\" class=\"dataframe\">\n",
              "  <thead>\n",
              "    <tr style=\"text-align: right;\">\n",
              "      <th></th>\n",
              "      <th>author</th>\n",
              "      <th>avg_author_rating</th>\n",
              "    </tr>\n",
              "  </thead>\n",
              "  <tbody>\n",
              "    <tr>\n",
              "      <th>0</th>\n",
              "      <td>J.K. Rowling/Mary GrandPré</td>\n",
              "      <td>4.28</td>\n",
              "    </tr>\n",
              "  </tbody>\n",
              "</table>\n",
              "</div>"
            ],
            "text/plain": [
              "                       author  avg_author_rating\n",
              "0  J.K. Rowling/Mary GrandPré               4.28"
            ]
          },
          "metadata": {},
          "output_type": "display_data"
        }
      ],
      "source": [
        "query = '''\n",
        "SELECT\n",
        "       a.author,\n",
        "       ROUND(AVG(rating_avg), 2) AS avg_author_rating\n",
        "  FROM (\n",
        "        SELECT\n",
        "               b.author_id,\n",
        "               b.title,\n",
        "               COUNT(rt.rating) AS rating_count,\n",
        "               AVG(rt.rating) AS rating_avg\n",
        "          FROM books AS b\n",
        "               JOIN ratings AS rt ON b.book_id = rt.book_id\n",
        "         GROUP BY b.book_id\n",
        "        HAVING COUNT(rt.rating) >= 50\n",
        ") AS filtered_books\n",
        "\n",
        "       JOIN authors AS a ON filtered_books.author_id = a.author_id\n",
        " GROUP BY a.author\n",
        " ORDER BY avg_author_rating DESC\n",
        " LIMIT 1;\n",
        "'''\n",
        "\n",
        "# Выполняем запрос и выводим результат\n",
        "result = pd.io.sql.read_sql(sql=text(query), con=con)\n",
        "display(result)"
      ]
    },
    {
      "cell_type": "markdown",
      "metadata": {
        "id": "rD6jfX16r1uz"
      },
      "source": [
        "**Вывод:**<br/>\n",
        "- Автор с самой высокой средней оценкой книг— **J.K. Rowling/Mary GrandPré**."
      ]
    },
    {
      "cell_type": "markdown",
      "metadata": {
        "id": "4RZqIHFKr1u0"
      },
      "source": [
        "### Посчитаем среднее количество обзоров от пользователей, которые поставили больше 48 оценок"
      ]
    },
    {
      "cell_type": "code",
      "execution_count": null,
      "metadata": {
        "id": "LERPVovkr1u0",
        "outputId": "1213a5ec-69ca-405b-d74c-cc7ed4bd4bf1"
      },
      "outputs": [
        {
          "data": {
            "text/html": [
              "<div>\n",
              "<style scoped>\n",
              "    .dataframe tbody tr th:only-of-type {\n",
              "        vertical-align: middle;\n",
              "    }\n",
              "\n",
              "    .dataframe tbody tr th {\n",
              "        vertical-align: top;\n",
              "    }\n",
              "\n",
              "    .dataframe thead th {\n",
              "        text-align: right;\n",
              "    }\n",
              "</style>\n",
              "<table border=\"1\" class=\"dataframe\">\n",
              "  <thead>\n",
              "    <tr style=\"text-align: right;\">\n",
              "      <th></th>\n",
              "      <th>avg_reviews_per_user</th>\n",
              "    </tr>\n",
              "  </thead>\n",
              "  <tbody>\n",
              "    <tr>\n",
              "      <th>0</th>\n",
              "      <td>24.0</td>\n",
              "    </tr>\n",
              "  </tbody>\n",
              "</table>\n",
              "</div>"
            ],
            "text/plain": [
              "   avg_reviews_per_user\n",
              "0                  24.0"
            ]
          },
          "metadata": {},
          "output_type": "display_data"
        }
      ],
      "source": [
        "query = '''\n",
        "WITH active_users AS (\n",
        "     SELECT username\n",
        "       FROM ratings\n",
        "      GROUP BY username\n",
        "     HAVING COUNT(rating_id) > 48\n",
        ")\n",
        "\n",
        "SELECT ROUND(AVG(review_count), 2) AS avg_reviews_per_user\n",
        "  FROM (\n",
        "      SELECT r.username, COUNT(r.review_id) AS review_count\n",
        "        FROM reviews AS r\n",
        "             JOIN active_users AS au ON r.username = au.username\n",
        "       GROUP BY r.username\n",
        ") AS user_reviews;\n",
        "'''\n",
        "\n",
        "# Выполняем запрос и выводим результат\n",
        "result = pd.io.sql.read_sql(sql=text(query), con=con)\n",
        "display(result)"
      ]
    },
    {
      "cell_type": "markdown",
      "metadata": {
        "id": "c6czzT-Or1u1"
      },
      "source": [
        "**Вывод:**<br/>\n",
        "- Среднее количество обзоров, поставленное пользователями, которые поставили больше 48 оценок — **24**."
      ]
    },
    {
      "cell_type": "markdown",
      "metadata": {
        "id": "9Cq0UhAUr1u1"
      },
      "source": [
        "## Общий вывод"
      ]
    },
    {
      "cell_type": "markdown",
      "metadata": {
        "id": "up8xJBFqr1u1"
      },
      "source": [
        "1. **Количество книг, выпущенных после 1 января 2000 года:**\n",
        "Мы определили, что после указанной даты было выпущено 819 книг.\n",
        "\n",
        "2. **Количество обзоров и средняя оценка книг:**\n",
        "Изучая обзоры и рейтинги книг, мы обнаружили, что Twilight (Twilight #1) имеет наибольшее количество обзоров — 7, при средней оценке 3.66.\n",
        "\n",
        "3. **Издательство, выпустившее наибольшее количество книг толще 50 страниц:**\n",
        "Penguin Books стало лидером по количеству изданных книг (42 книги) объемом более 50 страниц.\n",
        "\n",
        "4. **Автор с самой высокой средней оценкой книг:**\n",
        "J.K. Rowling/Mary GrandPré оказалась автором с самой высокой средней оценкой для своих книг.\n",
        "\n",
        "5. **Среднее количество обзоров от пользователей, поставивших более 48 оценок:**\n",
        "Мы подсчитали, что пользователи, которые активно оценивают книги (поставили более 48 оценок), оставляют в среднем 24 обзора."
      ]
    }
  ],
  "metadata": {
    "ExecuteTimeLog": [
      {
        "duration": 9629,
        "start_time": "2025-01-30T14:15:24.046Z"
      },
      {
        "duration": 79,
        "start_time": "2025-01-30T14:16:15.698Z"
      },
      {
        "duration": 81,
        "start_time": "2025-01-30T14:16:33.597Z"
      },
      {
        "duration": 146,
        "start_time": "2025-01-30T14:18:37.275Z"
      },
      {
        "duration": 30,
        "start_time": "2025-01-30T14:22:31.420Z"
      },
      {
        "duration": 66,
        "start_time": "2025-01-30T14:27:30.568Z"
      },
      {
        "duration": 66,
        "start_time": "2025-01-30T14:29:43.437Z"
      },
      {
        "duration": 65,
        "start_time": "2025-01-30T14:30:07.800Z"
      },
      {
        "duration": 66,
        "start_time": "2025-01-30T14:30:42.659Z"
      },
      {
        "duration": 43,
        "start_time": "2025-01-30T14:32:25.593Z"
      },
      {
        "duration": 32,
        "start_time": "2025-01-30T14:34:40.151Z"
      },
      {
        "duration": 36,
        "start_time": "2025-01-30T14:38:59.979Z"
      },
      {
        "duration": 32,
        "start_time": "2025-01-30T14:41:47.779Z"
      },
      {
        "duration": 9498,
        "start_time": "2025-01-30T14:42:39.083Z"
      },
      {
        "duration": 146,
        "start_time": "2025-01-30T14:42:48.584Z"
      },
      {
        "duration": 28,
        "start_time": "2025-01-30T14:42:48.732Z"
      },
      {
        "duration": 65,
        "start_time": "2025-01-30T14:42:48.762Z"
      },
      {
        "duration": 30,
        "start_time": "2025-01-30T14:42:48.829Z"
      },
      {
        "duration": 34,
        "start_time": "2025-01-30T14:42:48.861Z"
      },
      {
        "duration": 31,
        "start_time": "2025-01-30T14:42:48.896Z"
      },
      {
        "duration": 69,
        "start_time": "2025-01-30T14:44:44.148Z"
      },
      {
        "duration": 66,
        "start_time": "2025-01-30T14:46:11.932Z"
      },
      {
        "duration": 67,
        "start_time": "2025-01-30T14:46:43.706Z"
      },
      {
        "duration": 10181,
        "start_time": "2025-01-30T14:53:37.223Z"
      },
      {
        "duration": 149,
        "start_time": "2025-01-30T14:53:47.406Z"
      },
      {
        "duration": 32,
        "start_time": "2025-01-30T14:53:47.557Z"
      },
      {
        "duration": 68,
        "start_time": "2025-01-30T14:53:47.592Z"
      },
      {
        "duration": 32,
        "start_time": "2025-01-30T14:53:47.662Z"
      },
      {
        "duration": 35,
        "start_time": "2025-01-30T14:53:47.696Z"
      },
      {
        "duration": 33,
        "start_time": "2025-01-30T14:53:47.732Z"
      },
      {
        "duration": 11356,
        "start_time": "2025-01-30T20:04:52.241Z"
      },
      {
        "duration": 152,
        "start_time": "2025-01-30T20:05:03.599Z"
      },
      {
        "duration": 30,
        "start_time": "2025-01-30T20:05:03.753Z"
      },
      {
        "duration": 71,
        "start_time": "2025-01-30T20:05:03.785Z"
      },
      {
        "duration": 32,
        "start_time": "2025-01-30T20:05:03.858Z"
      },
      {
        "duration": 75,
        "start_time": "2025-01-30T20:05:03.892Z"
      },
      {
        "duration": 33,
        "start_time": "2025-01-30T20:05:03.969Z"
      },
      {
        "duration": 12571,
        "start_time": "2025-01-31T06:10:35.459Z"
      },
      {
        "duration": 50,
        "start_time": "2025-01-31T06:10:48.033Z"
      },
      {
        "duration": 10,
        "start_time": "2025-01-31T06:10:48.085Z"
      },
      {
        "duration": 32,
        "start_time": "2025-01-31T06:10:48.097Z"
      },
      {
        "duration": 12,
        "start_time": "2025-01-31T06:10:48.131Z"
      },
      {
        "duration": 28,
        "start_time": "2025-01-31T06:10:48.145Z"
      },
      {
        "duration": 13,
        "start_time": "2025-01-31T06:10:48.175Z"
      }
    ],
    "kernelspec": {
      "display_name": "Python 3 (ipykernel)",
      "language": "python",
      "name": "python3"
    },
    "language_info": {
      "codemirror_mode": {
        "name": "ipython",
        "version": 3
      },
      "file_extension": ".py",
      "mimetype": "text/x-python",
      "name": "python",
      "nbconvert_exporter": "python",
      "pygments_lexer": "ipython3",
      "version": "3.9.5"
    },
    "toc": {
      "base_numbering": 1,
      "nav_menu": {},
      "number_sections": true,
      "sideBar": true,
      "skip_h1_title": true,
      "title_cell": "Table of Contents",
      "title_sidebar": "Contents",
      "toc_cell": false,
      "toc_position": {},
      "toc_section_display": true,
      "toc_window_display": false
    },
    "colab": {
      "provenance": []
    }
  },
  "nbformat": 4,
  "nbformat_minor": 0
}