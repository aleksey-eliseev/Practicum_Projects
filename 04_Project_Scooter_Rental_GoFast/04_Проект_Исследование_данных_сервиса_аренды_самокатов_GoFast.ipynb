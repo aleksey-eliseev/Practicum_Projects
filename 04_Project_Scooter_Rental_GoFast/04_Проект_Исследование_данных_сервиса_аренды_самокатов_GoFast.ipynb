{
  "cells": [
    {
      "cell_type": "markdown",
      "id": "b42bb189",
      "metadata": {
        "id": "b42bb189"
      },
      "source": [
        "# Исследование данных сервиса аренды самокатов GoFast"
      ]
    },
    {
      "cell_type": "markdown",
      "id": "c79e2805",
      "metadata": {
        "id": "c79e2805"
      },
      "source": [
        "**Описание проекта**"
      ]
    },
    {
      "cell_type": "markdown",
      "id": "45a77fe5",
      "metadata": {
        "id": "45a77fe5"
      },
      "source": [
        "Вы аналитик популярного сервиса аренды самокатов GoFast. Вам передали данные о некоторых пользователях из нескольких городов, а также об их поездках. Проанализируйте данные и проверьте некоторые гипотезы, которые могут помочь бизнесу вырасти.\n",
        "\n",
        "Чтобы совершать поездки по городу, пользователи сервиса GoFast пользуются мобильным приложением. Сервисом можно пользоваться:\n",
        "\n",
        "- без подписки\n",
        "    - абонентская плата отсутствует;\n",
        "    - стоимость одной минуты поездки — 8 рублей;\n",
        "    - стоимость старта (начала поездки) — 50 рублей;\n",
        "- с подпиской Ultra\n",
        "    - абонентская плата — 199 рублей в месяц;\n",
        "    - стоимость одной минуты поездки — 6 рублей;\n",
        "    - стоимость старта — бесплатно."
      ]
    },
    {
      "cell_type": "markdown",
      "id": "cad6f8b3",
      "metadata": {
        "id": "cad6f8b3"
      },
      "source": [
        "**Цель проекта**"
      ]
    },
    {
      "cell_type": "markdown",
      "id": "e52d4c04",
      "metadata": {
        "id": "e52d4c04"
      },
      "source": [
        "Провести комплексный анализ данных сервиса аренды самокатов GoFast с целью выявления закономерностей, проверки гипотез и разработки рекомендаций для бизнеса."
      ]
    },
    {
      "cell_type": "markdown",
      "id": "d43ead98",
      "metadata": {
        "id": "d43ead98"
      },
      "source": [
        "**Задачи проекта**"
      ]
    },
    {
      "cell_type": "markdown",
      "id": "99417577",
      "metadata": {
        "id": "99417577"
      },
      "source": [
        "1. Понять, тратят ли пользователи с подпиской больше времени на поездки?\n",
        "2. Выяснить, не превышает ли среднее растояние, которое проезжают пользователи с подпиской за одну поездку, 3130 метров?\n",
        "3. Проверить, будет ли помесячная выручка от пользователей с подпиской выше, чем от пользователей без подписки?\n",
        "4. Выбрать тест для проверки гипотезы о снижении количества обращений в тех поддержку до обновления приложения и после него."
      ]
    },
    {
      "cell_type": "markdown",
      "id": "5986d406",
      "metadata": {
        "id": "5986d406"
      },
      "source": [
        "**Описание данных**"
      ]
    },
    {
      "cell_type": "markdown",
      "id": "18744da1",
      "metadata": {
        "id": "18744da1"
      },
      "source": [
        "В основных данных есть информация о пользователях, их поездках и подписках.<br/>\n",
        "\n",
        "Пользователи — 'users_go.csv'<br/>\n",
        "- *user_id* - уникальный идентификатор пользователя<br/>\n",
        "- *name* - имя пользователя<br/>\n",
        "- *age* - возраст<br/>\n",
        "- *city* - город<br/>\n",
        "- *subscription_type* - тип подписки (free, ultra)<br/>\n",
        "\n",
        "Поездки — 'rides_go.csv'<br/>\n",
        "- *user_id* - уникальный идентификатор пользователя<br/>\n",
        "- *distance* - расстояние, которое пользователь проехал в текущей сессии (в метрах)<br/>\n",
        "- *duration* - продолжительность сессии (в минутах) — время с того момента, как пользователь нажал кнопку «Начать поездку» до момента, как он нажал кнопку «Завершить поездку»<br/>\n",
        "- *date* - дата совершения поездки<br/>\n",
        "\n",
        "Подписки — 'subscriptions_go.csv'<br/>\n",
        "- *subscription_type* - тип подписки\n",
        "- *minute_price* - стоимость одной минуты поездки по данной подписке\n",
        "- *start_ride_price* - стоимость начала поездки\n",
        "- *subscription_fee* - стоимость ежемесячного платежа"
      ]
    },
    {
      "cell_type": "markdown",
      "id": "6438437c",
      "metadata": {
        "id": "6438437c"
      },
      "source": [
        "**Подключим библиотеки**"
      ]
    },
    {
      "cell_type": "code",
      "execution_count": null,
      "id": "7d1020ce",
      "metadata": {
        "id": "7d1020ce"
      },
      "outputs": [],
      "source": [
        "# Импортируем необходимые библиотеки.\n",
        "import pandas as pd\n",
        "import numpy as np\n",
        "import matplotlib.pyplot as plt\n",
        "from scipy import stats as st"
      ]
    },
    {
      "cell_type": "markdown",
      "id": "b8ab261b",
      "metadata": {
        "id": "b8ab261b"
      },
      "source": [
        "### Загрузка данных"
      ]
    },
    {
      "cell_type": "markdown",
      "id": "18aff52e",
      "metadata": {
        "id": "18aff52e"
      },
      "source": [
        "#### Считаем CSV-файлы с данными"
      ]
    },
    {
      "cell_type": "code",
      "execution_count": null,
      "id": "e9a255e6",
      "metadata": {
        "id": "e9a255e6"
      },
      "outputs": [],
      "source": [
        "# Загружаем датафреймы.\n",
        "df_users = pd.read_csv('/datasets/users_go.csv')\n",
        "df_rides = pd.read_csv('/datasets/rides_go.csv')\n",
        "df_subs = pd.read_csv('/datasets/subscriptions_go.csv')"
      ]
    },
    {
      "cell_type": "markdown",
      "id": "b8721e7b",
      "metadata": {
        "id": "b8721e7b"
      },
      "source": [
        "#### Изучим общую информацию о датафреймах"
      ]
    },
    {
      "cell_type": "markdown",
      "id": "a2a952e3",
      "metadata": {
        "id": "a2a952e3"
      },
      "source": [
        "**df_users:**"
      ]
    },
    {
      "cell_type": "code",
      "execution_count": null,
      "id": "6c648f96",
      "metadata": {
        "id": "6c648f96",
        "outputId": "92042555-f4ba-4d9f-9107-f5769dc8d765"
      },
      "outputs": [
        {
          "data": {
            "text/html": [
              "<div>\n",
              "<style scoped>\n",
              "    .dataframe tbody tr th:only-of-type {\n",
              "        vertical-align: middle;\n",
              "    }\n",
              "\n",
              "    .dataframe tbody tr th {\n",
              "        vertical-align: top;\n",
              "    }\n",
              "\n",
              "    .dataframe thead th {\n",
              "        text-align: right;\n",
              "    }\n",
              "</style>\n",
              "<table border=\"1\" class=\"dataframe\">\n",
              "  <thead>\n",
              "    <tr style=\"text-align: right;\">\n",
              "      <th></th>\n",
              "      <th>user_id</th>\n",
              "      <th>name</th>\n",
              "      <th>age</th>\n",
              "      <th>city</th>\n",
              "      <th>subscription_type</th>\n",
              "    </tr>\n",
              "  </thead>\n",
              "  <tbody>\n",
              "    <tr>\n",
              "      <th>0</th>\n",
              "      <td>1</td>\n",
              "      <td>Кира</td>\n",
              "      <td>22</td>\n",
              "      <td>Тюмень</td>\n",
              "      <td>ultra</td>\n",
              "    </tr>\n",
              "    <tr>\n",
              "      <th>1</th>\n",
              "      <td>2</td>\n",
              "      <td>Станислав</td>\n",
              "      <td>31</td>\n",
              "      <td>Омск</td>\n",
              "      <td>ultra</td>\n",
              "    </tr>\n",
              "    <tr>\n",
              "      <th>2</th>\n",
              "      <td>3</td>\n",
              "      <td>Алексей</td>\n",
              "      <td>20</td>\n",
              "      <td>Москва</td>\n",
              "      <td>ultra</td>\n",
              "    </tr>\n",
              "    <tr>\n",
              "      <th>3</th>\n",
              "      <td>4</td>\n",
              "      <td>Константин</td>\n",
              "      <td>26</td>\n",
              "      <td>Ростов-на-Дону</td>\n",
              "      <td>ultra</td>\n",
              "    </tr>\n",
              "    <tr>\n",
              "      <th>4</th>\n",
              "      <td>5</td>\n",
              "      <td>Адель</td>\n",
              "      <td>28</td>\n",
              "      <td>Омск</td>\n",
              "      <td>ultra</td>\n",
              "    </tr>\n",
              "  </tbody>\n",
              "</table>\n",
              "</div>"
            ],
            "text/plain": [
              "   user_id        name  age            city subscription_type\n",
              "0        1        Кира   22          Тюмень             ultra\n",
              "1        2   Станислав   31            Омск             ultra\n",
              "2        3     Алексей   20          Москва             ultra\n",
              "3        4  Константин   26  Ростов-на-Дону             ultra\n",
              "4        5       Адель   28            Омск             ultra"
            ]
          },
          "execution_count": 3,
          "metadata": {},
          "output_type": "execute_result"
        }
      ],
      "source": [
        "# Выведем первые строки.\n",
        "df_users.head()"
      ]
    },
    {
      "cell_type": "code",
      "execution_count": null,
      "id": "0630c6c4",
      "metadata": {
        "id": "0630c6c4",
        "outputId": "8166dd48-49ce-4fda-a54b-cbc1a405ea82"
      },
      "outputs": [
        {
          "name": "stdout",
          "output_type": "stream",
          "text": [
            "<class 'pandas.core.frame.DataFrame'>\n",
            "RangeIndex: 1565 entries, 0 to 1564\n",
            "Data columns (total 5 columns):\n",
            " #   Column             Non-Null Count  Dtype \n",
            "---  ------             --------------  ----- \n",
            " 0   user_id            1565 non-null   int64 \n",
            " 1   name               1565 non-null   object\n",
            " 2   age                1565 non-null   int64 \n",
            " 3   city               1565 non-null   object\n",
            " 4   subscription_type  1565 non-null   object\n",
            "dtypes: int64(2), object(3)\n",
            "memory usage: 61.3+ KB\n"
          ]
        }
      ],
      "source": [
        "# Выведем общую информацию о датафрейме.\n",
        "df_users.info()"
      ]
    },
    {
      "cell_type": "code",
      "execution_count": null,
      "id": "1c649ac6",
      "metadata": {
        "id": "1c649ac6",
        "outputId": "78ebe47f-9c66-4345-82ec-4772696321d9"
      },
      "outputs": [
        {
          "data": {
            "text/html": [
              "<div>\n",
              "<style scoped>\n",
              "    .dataframe tbody tr th:only-of-type {\n",
              "        vertical-align: middle;\n",
              "    }\n",
              "\n",
              "    .dataframe tbody tr th {\n",
              "        vertical-align: top;\n",
              "    }\n",
              "\n",
              "    .dataframe thead th {\n",
              "        text-align: right;\n",
              "    }\n",
              "</style>\n",
              "<table border=\"1\" class=\"dataframe\">\n",
              "  <thead>\n",
              "    <tr style=\"text-align: right;\">\n",
              "      <th></th>\n",
              "      <th>user_id</th>\n",
              "      <th>age</th>\n",
              "    </tr>\n",
              "  </thead>\n",
              "  <tbody>\n",
              "    <tr>\n",
              "      <th>count</th>\n",
              "      <td>1565.000000</td>\n",
              "      <td>1565.000000</td>\n",
              "    </tr>\n",
              "    <tr>\n",
              "      <th>mean</th>\n",
              "      <td>762.633866</td>\n",
              "      <td>24.922045</td>\n",
              "    </tr>\n",
              "    <tr>\n",
              "      <th>std</th>\n",
              "      <td>443.260155</td>\n",
              "      <td>4.553496</td>\n",
              "    </tr>\n",
              "    <tr>\n",
              "      <th>min</th>\n",
              "      <td>1.000000</td>\n",
              "      <td>12.000000</td>\n",
              "    </tr>\n",
              "    <tr>\n",
              "      <th>25%</th>\n",
              "      <td>378.000000</td>\n",
              "      <td>22.000000</td>\n",
              "    </tr>\n",
              "    <tr>\n",
              "      <th>50%</th>\n",
              "      <td>762.000000</td>\n",
              "      <td>25.000000</td>\n",
              "    </tr>\n",
              "    <tr>\n",
              "      <th>75%</th>\n",
              "      <td>1146.000000</td>\n",
              "      <td>28.000000</td>\n",
              "    </tr>\n",
              "    <tr>\n",
              "      <th>max</th>\n",
              "      <td>1534.000000</td>\n",
              "      <td>43.000000</td>\n",
              "    </tr>\n",
              "  </tbody>\n",
              "</table>\n",
              "</div>"
            ],
            "text/plain": [
              "           user_id          age\n",
              "count  1565.000000  1565.000000\n",
              "mean    762.633866    24.922045\n",
              "std     443.260155     4.553496\n",
              "min       1.000000    12.000000\n",
              "25%     378.000000    22.000000\n",
              "50%     762.000000    25.000000\n",
              "75%    1146.000000    28.000000\n",
              "max    1534.000000    43.000000"
            ]
          },
          "execution_count": 5,
          "metadata": {},
          "output_type": "execute_result"
        }
      ],
      "source": [
        "# Краткий обзор числовых данных датафрейма.\n",
        "df_users.describe()"
      ]
    },
    {
      "cell_type": "markdown",
      "id": "cc834aa9",
      "metadata": {
        "id": "cc834aa9"
      },
      "source": [
        "Датафрейм *df_users* состоит из 5 столбцов и 1565 записей. В данных отсутствуют пропуски."
      ]
    },
    {
      "cell_type": "markdown",
      "id": "20cb334a",
      "metadata": {
        "id": "20cb334a"
      },
      "source": [
        "**df_rides:**"
      ]
    },
    {
      "cell_type": "code",
      "execution_count": null,
      "id": "f5948c97",
      "metadata": {
        "id": "f5948c97",
        "outputId": "b81329ad-de2b-4875-8abf-dbe597212544"
      },
      "outputs": [
        {
          "data": {
            "text/html": [
              "<div>\n",
              "<style scoped>\n",
              "    .dataframe tbody tr th:only-of-type {\n",
              "        vertical-align: middle;\n",
              "    }\n",
              "\n",
              "    .dataframe tbody tr th {\n",
              "        vertical-align: top;\n",
              "    }\n",
              "\n",
              "    .dataframe thead th {\n",
              "        text-align: right;\n",
              "    }\n",
              "</style>\n",
              "<table border=\"1\" class=\"dataframe\">\n",
              "  <thead>\n",
              "    <tr style=\"text-align: right;\">\n",
              "      <th></th>\n",
              "      <th>user_id</th>\n",
              "      <th>distance</th>\n",
              "      <th>duration</th>\n",
              "      <th>date</th>\n",
              "    </tr>\n",
              "  </thead>\n",
              "  <tbody>\n",
              "    <tr>\n",
              "      <th>0</th>\n",
              "      <td>1</td>\n",
              "      <td>4409.919140</td>\n",
              "      <td>25.599769</td>\n",
              "      <td>2021-01-01</td>\n",
              "    </tr>\n",
              "    <tr>\n",
              "      <th>1</th>\n",
              "      <td>1</td>\n",
              "      <td>2617.592153</td>\n",
              "      <td>15.816871</td>\n",
              "      <td>2021-01-18</td>\n",
              "    </tr>\n",
              "    <tr>\n",
              "      <th>2</th>\n",
              "      <td>1</td>\n",
              "      <td>754.159807</td>\n",
              "      <td>6.232113</td>\n",
              "      <td>2021-04-20</td>\n",
              "    </tr>\n",
              "    <tr>\n",
              "      <th>3</th>\n",
              "      <td>1</td>\n",
              "      <td>2694.783254</td>\n",
              "      <td>18.511000</td>\n",
              "      <td>2021-08-11</td>\n",
              "    </tr>\n",
              "    <tr>\n",
              "      <th>4</th>\n",
              "      <td>1</td>\n",
              "      <td>4028.687306</td>\n",
              "      <td>26.265803</td>\n",
              "      <td>2021-08-28</td>\n",
              "    </tr>\n",
              "  </tbody>\n",
              "</table>\n",
              "</div>"
            ],
            "text/plain": [
              "   user_id     distance   duration        date\n",
              "0        1  4409.919140  25.599769  2021-01-01\n",
              "1        1  2617.592153  15.816871  2021-01-18\n",
              "2        1   754.159807   6.232113  2021-04-20\n",
              "3        1  2694.783254  18.511000  2021-08-11\n",
              "4        1  4028.687306  26.265803  2021-08-28"
            ]
          },
          "execution_count": 6,
          "metadata": {},
          "output_type": "execute_result"
        }
      ],
      "source": [
        "# Выведем первые строки.\n",
        "df_rides.head()"
      ]
    },
    {
      "cell_type": "code",
      "execution_count": null,
      "id": "ae00d550",
      "metadata": {
        "id": "ae00d550",
        "outputId": "12d7961c-ece5-483c-97fe-3e0164881967"
      },
      "outputs": [
        {
          "name": "stdout",
          "output_type": "stream",
          "text": [
            "<class 'pandas.core.frame.DataFrame'>\n",
            "RangeIndex: 18068 entries, 0 to 18067\n",
            "Data columns (total 4 columns):\n",
            " #   Column    Non-Null Count  Dtype  \n",
            "---  ------    --------------  -----  \n",
            " 0   user_id   18068 non-null  int64  \n",
            " 1   distance  18068 non-null  float64\n",
            " 2   duration  18068 non-null  float64\n",
            " 3   date      18068 non-null  object \n",
            "dtypes: float64(2), int64(1), object(1)\n",
            "memory usage: 564.8+ KB\n"
          ]
        }
      ],
      "source": [
        "# Выведем общую информацию о датафрейме.\n",
        "df_rides.info()"
      ]
    },
    {
      "cell_type": "code",
      "execution_count": null,
      "id": "0d09b21e",
      "metadata": {
        "id": "0d09b21e",
        "outputId": "6a74d2e4-4d3c-4bf1-bc6e-6c635576ea36"
      },
      "outputs": [
        {
          "data": {
            "text/html": [
              "<div>\n",
              "<style scoped>\n",
              "    .dataframe tbody tr th:only-of-type {\n",
              "        vertical-align: middle;\n",
              "    }\n",
              "\n",
              "    .dataframe tbody tr th {\n",
              "        vertical-align: top;\n",
              "    }\n",
              "\n",
              "    .dataframe thead th {\n",
              "        text-align: right;\n",
              "    }\n",
              "</style>\n",
              "<table border=\"1\" class=\"dataframe\">\n",
              "  <thead>\n",
              "    <tr style=\"text-align: right;\">\n",
              "      <th></th>\n",
              "      <th>user_id</th>\n",
              "      <th>distance</th>\n",
              "      <th>duration</th>\n",
              "    </tr>\n",
              "  </thead>\n",
              "  <tbody>\n",
              "    <tr>\n",
              "      <th>count</th>\n",
              "      <td>18068.000000</td>\n",
              "      <td>18068.000000</td>\n",
              "      <td>18068.000000</td>\n",
              "    </tr>\n",
              "    <tr>\n",
              "      <th>mean</th>\n",
              "      <td>842.869936</td>\n",
              "      <td>3070.659976</td>\n",
              "      <td>17.805011</td>\n",
              "    </tr>\n",
              "    <tr>\n",
              "      <th>std</th>\n",
              "      <td>434.734317</td>\n",
              "      <td>1116.831209</td>\n",
              "      <td>6.091051</td>\n",
              "    </tr>\n",
              "    <tr>\n",
              "      <th>min</th>\n",
              "      <td>1.000000</td>\n",
              "      <td>0.855683</td>\n",
              "      <td>0.500000</td>\n",
              "    </tr>\n",
              "    <tr>\n",
              "      <th>25%</th>\n",
              "      <td>487.000000</td>\n",
              "      <td>2543.226360</td>\n",
              "      <td>13.597563</td>\n",
              "    </tr>\n",
              "    <tr>\n",
              "      <th>50%</th>\n",
              "      <td>889.000000</td>\n",
              "      <td>3133.609994</td>\n",
              "      <td>17.678395</td>\n",
              "    </tr>\n",
              "    <tr>\n",
              "      <th>75%</th>\n",
              "      <td>1213.250000</td>\n",
              "      <td>3776.222735</td>\n",
              "      <td>21.724800</td>\n",
              "    </tr>\n",
              "    <tr>\n",
              "      <th>max</th>\n",
              "      <td>1534.000000</td>\n",
              "      <td>7211.007745</td>\n",
              "      <td>40.823963</td>\n",
              "    </tr>\n",
              "  </tbody>\n",
              "</table>\n",
              "</div>"
            ],
            "text/plain": [
              "            user_id      distance      duration\n",
              "count  18068.000000  18068.000000  18068.000000\n",
              "mean     842.869936   3070.659976     17.805011\n",
              "std      434.734317   1116.831209      6.091051\n",
              "min        1.000000      0.855683      0.500000\n",
              "25%      487.000000   2543.226360     13.597563\n",
              "50%      889.000000   3133.609994     17.678395\n",
              "75%     1213.250000   3776.222735     21.724800\n",
              "max     1534.000000   7211.007745     40.823963"
            ]
          },
          "execution_count": 8,
          "metadata": {},
          "output_type": "execute_result"
        }
      ],
      "source": [
        "# Краткий обзор числовых данных датафрейма.\n",
        "df_rides.describe()"
      ]
    },
    {
      "cell_type": "markdown",
      "id": "5970c178",
      "metadata": {
        "id": "5970c178"
      },
      "source": [
        "Датафрейм *df_rides* состоит из 4 столбцов и 18068 записей. В данных отсутствуют пропуски. Поле *date* имеет тип данных *object*."
      ]
    },
    {
      "cell_type": "markdown",
      "id": "8041fb67",
      "metadata": {
        "id": "8041fb67"
      },
      "source": [
        "**df_subs:**"
      ]
    },
    {
      "cell_type": "code",
      "execution_count": null,
      "id": "722529e2",
      "metadata": {
        "id": "722529e2",
        "outputId": "ce688595-b3bd-476a-8214-e672913c546e"
      },
      "outputs": [
        {
          "data": {
            "text/html": [
              "<div>\n",
              "<style scoped>\n",
              "    .dataframe tbody tr th:only-of-type {\n",
              "        vertical-align: middle;\n",
              "    }\n",
              "\n",
              "    .dataframe tbody tr th {\n",
              "        vertical-align: top;\n",
              "    }\n",
              "\n",
              "    .dataframe thead th {\n",
              "        text-align: right;\n",
              "    }\n",
              "</style>\n",
              "<table border=\"1\" class=\"dataframe\">\n",
              "  <thead>\n",
              "    <tr style=\"text-align: right;\">\n",
              "      <th></th>\n",
              "      <th>subscription_type</th>\n",
              "      <th>minute_price</th>\n",
              "      <th>start_ride_price</th>\n",
              "      <th>subscription_fee</th>\n",
              "    </tr>\n",
              "  </thead>\n",
              "  <tbody>\n",
              "    <tr>\n",
              "      <th>0</th>\n",
              "      <td>free</td>\n",
              "      <td>8</td>\n",
              "      <td>50</td>\n",
              "      <td>0</td>\n",
              "    </tr>\n",
              "    <tr>\n",
              "      <th>1</th>\n",
              "      <td>ultra</td>\n",
              "      <td>6</td>\n",
              "      <td>0</td>\n",
              "      <td>199</td>\n",
              "    </tr>\n",
              "  </tbody>\n",
              "</table>\n",
              "</div>"
            ],
            "text/plain": [
              "  subscription_type  minute_price  start_ride_price  subscription_fee\n",
              "0              free             8                50                 0\n",
              "1             ultra             6                 0               199"
            ]
          },
          "execution_count": 9,
          "metadata": {},
          "output_type": "execute_result"
        }
      ],
      "source": [
        "# Выведем первые строки.\n",
        "df_subs.head()"
      ]
    },
    {
      "cell_type": "code",
      "execution_count": null,
      "id": "141d1937",
      "metadata": {
        "id": "141d1937",
        "outputId": "5e6aad98-8455-4b32-8924-481f12d42cc8"
      },
      "outputs": [
        {
          "name": "stdout",
          "output_type": "stream",
          "text": [
            "<class 'pandas.core.frame.DataFrame'>\n",
            "RangeIndex: 2 entries, 0 to 1\n",
            "Data columns (total 4 columns):\n",
            " #   Column             Non-Null Count  Dtype \n",
            "---  ------             --------------  ----- \n",
            " 0   subscription_type  2 non-null      object\n",
            " 1   minute_price       2 non-null      int64 \n",
            " 2   start_ride_price   2 non-null      int64 \n",
            " 3   subscription_fee   2 non-null      int64 \n",
            "dtypes: int64(3), object(1)\n",
            "memory usage: 192.0+ bytes\n"
          ]
        }
      ],
      "source": [
        "# Выведем общую информацию о датафрейме.\n",
        "df_subs.info()"
      ]
    },
    {
      "cell_type": "markdown",
      "id": "8883dea3",
      "metadata": {
        "id": "8883dea3"
      },
      "source": [
        "Датафрейм *df_subs* состоит из 4 столбцов и 2 записей."
      ]
    },
    {
      "cell_type": "markdown",
      "id": "03121802",
      "metadata": {
        "id": "03121802"
      },
      "source": [
        "**Вывод:**<br/>\n",
        "В загруженных данных отстутствуют пропущенные значения.<br/>\n",
        "Имена столбцов соответствуют стилю написания snake_case.<br/>\n",
        "Поле *date* имеет тип данных *object*."
      ]
    },
    {
      "cell_type": "markdown",
      "id": "5e0a5fba",
      "metadata": {
        "id": "5e0a5fba"
      },
      "source": [
        "### Предобработка данных"
      ]
    },
    {
      "cell_type": "markdown",
      "id": "6f7078df",
      "metadata": {
        "id": "6f7078df"
      },
      "source": [
        "#### Проверим датафреймы на наличие дубликатов и пропусков"
      ]
    },
    {
      "cell_type": "markdown",
      "id": "80bfa906",
      "metadata": {
        "id": "80bfa906"
      },
      "source": [
        "**df_users:**"
      ]
    },
    {
      "cell_type": "code",
      "execution_count": null,
      "id": "57175ea6",
      "metadata": {
        "scrolled": false,
        "id": "57175ea6",
        "outputId": "d7aefb62-fe4a-461b-a529-2df0b5d538de"
      },
      "outputs": [
        {
          "data": {
            "text/plain": [
              "user_id              0\n",
              "name                 0\n",
              "age                  0\n",
              "city                 0\n",
              "subscription_type    0\n",
              "dtype: int64"
            ]
          },
          "execution_count": 11,
          "metadata": {},
          "output_type": "execute_result"
        }
      ],
      "source": [
        "# Проверим датафрейм на пропуски.\n",
        "df_users.isna().sum()"
      ]
    },
    {
      "cell_type": "markdown",
      "id": "3862f80e",
      "metadata": {
        "id": "3862f80e"
      },
      "source": [
        "Пропусков не обнаружено"
      ]
    },
    {
      "cell_type": "code",
      "execution_count": null,
      "id": "179c8223",
      "metadata": {
        "id": "179c8223",
        "outputId": "d859e002-da0b-4ff7-fbd1-d49ea0125412"
      },
      "outputs": [
        {
          "data": {
            "text/plain": [
              "31"
            ]
          },
          "execution_count": 12,
          "metadata": {},
          "output_type": "execute_result"
        }
      ],
      "source": [
        "# Проверим датафрейм на явные дубликаты.\n",
        "df_users.duplicated().sum()"
      ]
    },
    {
      "cell_type": "code",
      "execution_count": null,
      "id": "ab7dec20",
      "metadata": {
        "id": "ab7dec20",
        "outputId": "710c3289-5895-4778-d515-20e66c772cff"
      },
      "outputs": [
        {
          "data": {
            "text/plain": [
              "0"
            ]
          },
          "execution_count": 13,
          "metadata": {},
          "output_type": "execute_result"
        }
      ],
      "source": [
        "# Удалим явные дубликаты.\n",
        "df_users = df_users.drop_duplicates()\n",
        "df_users.duplicated().sum()"
      ]
    },
    {
      "cell_type": "markdown",
      "id": "b0350766",
      "metadata": {
        "id": "b0350766"
      },
      "source": [
        "Явные дубликаты удалены"
      ]
    },
    {
      "cell_type": "markdown",
      "id": "e50fc18b",
      "metadata": {
        "id": "e50fc18b"
      },
      "source": [
        "**df_rides:**"
      ]
    },
    {
      "cell_type": "code",
      "execution_count": null,
      "id": "e85551e8",
      "metadata": {
        "scrolled": false,
        "id": "e85551e8",
        "outputId": "54b42ecc-73b8-4707-c79f-638d248ce4de"
      },
      "outputs": [
        {
          "data": {
            "text/plain": [
              "user_id     0\n",
              "distance    0\n",
              "duration    0\n",
              "date        0\n",
              "dtype: int64"
            ]
          },
          "execution_count": 14,
          "metadata": {},
          "output_type": "execute_result"
        }
      ],
      "source": [
        "# Проверим датафрейм на пропуски.\n",
        "df_rides.isna().sum()"
      ]
    },
    {
      "cell_type": "markdown",
      "id": "a8e56bc6",
      "metadata": {
        "id": "a8e56bc6"
      },
      "source": [
        "Пропусков не обнаружено"
      ]
    },
    {
      "cell_type": "code",
      "execution_count": null,
      "id": "50609dee",
      "metadata": {
        "id": "50609dee",
        "outputId": "5fc78945-fd96-4eed-9ef7-48028b192576"
      },
      "outputs": [
        {
          "data": {
            "text/plain": [
              "0"
            ]
          },
          "execution_count": 15,
          "metadata": {},
          "output_type": "execute_result"
        }
      ],
      "source": [
        "# Проверим датафрейм на явные дубликаты.\n",
        "df_rides.duplicated().sum()"
      ]
    },
    {
      "cell_type": "markdown",
      "id": "651b1fc9",
      "metadata": {
        "id": "651b1fc9"
      },
      "source": [
        "Явных дубликатов не обнаружено"
      ]
    },
    {
      "cell_type": "markdown",
      "id": "c533834f",
      "metadata": {
        "id": "c533834f"
      },
      "source": [
        "**df_subs:**<br/>\n",
        "Состоит из двух записей.<br/>\n",
        "Пропусков и дубликатов — нет"
      ]
    },
    {
      "cell_type": "markdown",
      "id": "77901832",
      "metadata": {
        "id": "77901832"
      },
      "source": [
        "#### Изменим тип данных столбцов"
      ]
    },
    {
      "cell_type": "markdown",
      "id": "371af7d6",
      "metadata": {
        "id": "371af7d6"
      },
      "source": [
        "**df_rides:**"
      ]
    },
    {
      "cell_type": "code",
      "execution_count": null,
      "id": "fde753cb",
      "metadata": {
        "id": "fde753cb"
      },
      "outputs": [],
      "source": [
        "# Изменим тип данных столбца date на datetime\n",
        "df_rides['date'] = pd.to_datetime(df_rides['date'], format='%Y-%m-%d')"
      ]
    },
    {
      "cell_type": "markdown",
      "id": "7c151953",
      "metadata": {
        "id": "7c151953"
      },
      "source": [
        "#### Создадим новый столбец с номером месяца на основе столбца date"
      ]
    },
    {
      "cell_type": "code",
      "execution_count": null,
      "id": "4c652aae",
      "metadata": {
        "id": "4c652aae",
        "outputId": "802ce0bf-a12f-43ee-f134-91ce5d22f309"
      },
      "outputs": [
        {
          "data": {
            "text/html": [
              "<div>\n",
              "<style scoped>\n",
              "    .dataframe tbody tr th:only-of-type {\n",
              "        vertical-align: middle;\n",
              "    }\n",
              "\n",
              "    .dataframe tbody tr th {\n",
              "        vertical-align: top;\n",
              "    }\n",
              "\n",
              "    .dataframe thead th {\n",
              "        text-align: right;\n",
              "    }\n",
              "</style>\n",
              "<table border=\"1\" class=\"dataframe\">\n",
              "  <thead>\n",
              "    <tr style=\"text-align: right;\">\n",
              "      <th></th>\n",
              "      <th>user_id</th>\n",
              "      <th>distance</th>\n",
              "      <th>duration</th>\n",
              "      <th>date</th>\n",
              "      <th>month</th>\n",
              "    </tr>\n",
              "  </thead>\n",
              "  <tbody>\n",
              "    <tr>\n",
              "      <th>0</th>\n",
              "      <td>1</td>\n",
              "      <td>4409.919140</td>\n",
              "      <td>25.599769</td>\n",
              "      <td>2021-01-01</td>\n",
              "      <td>1</td>\n",
              "    </tr>\n",
              "    <tr>\n",
              "      <th>1</th>\n",
              "      <td>1</td>\n",
              "      <td>2617.592153</td>\n",
              "      <td>15.816871</td>\n",
              "      <td>2021-01-18</td>\n",
              "      <td>1</td>\n",
              "    </tr>\n",
              "    <tr>\n",
              "      <th>2</th>\n",
              "      <td>1</td>\n",
              "      <td>754.159807</td>\n",
              "      <td>6.232113</td>\n",
              "      <td>2021-04-20</td>\n",
              "      <td>4</td>\n",
              "    </tr>\n",
              "    <tr>\n",
              "      <th>3</th>\n",
              "      <td>1</td>\n",
              "      <td>2694.783254</td>\n",
              "      <td>18.511000</td>\n",
              "      <td>2021-08-11</td>\n",
              "      <td>8</td>\n",
              "    </tr>\n",
              "    <tr>\n",
              "      <th>4</th>\n",
              "      <td>1</td>\n",
              "      <td>4028.687306</td>\n",
              "      <td>26.265803</td>\n",
              "      <td>2021-08-28</td>\n",
              "      <td>8</td>\n",
              "    </tr>\n",
              "  </tbody>\n",
              "</table>\n",
              "</div>"
            ],
            "text/plain": [
              "   user_id     distance   duration       date  month\n",
              "0        1  4409.919140  25.599769 2021-01-01      1\n",
              "1        1  2617.592153  15.816871 2021-01-18      1\n",
              "2        1   754.159807   6.232113 2021-04-20      4\n",
              "3        1  2694.783254  18.511000 2021-08-11      8\n",
              "4        1  4028.687306  26.265803 2021-08-28      8"
            ]
          },
          "execution_count": 17,
          "metadata": {},
          "output_type": "execute_result"
        }
      ],
      "source": [
        "df_rides['month'] = df_rides['date'].dt.month\n",
        "df_rides.head()"
      ]
    },
    {
      "cell_type": "code",
      "execution_count": null,
      "id": "1d410578",
      "metadata": {
        "id": "1d410578",
        "outputId": "c1bced70-a6fd-4813-ee8d-cdb4a10e2d56"
      },
      "outputs": [
        {
          "name": "stdout",
          "output_type": "stream",
          "text": [
            "В данных имеются записи с 2021-01-01 00:00:00 по 2021-12-30 00:00:00\n"
          ]
        }
      ],
      "source": [
        "print(f\"В данных имеются записи с {df_rides['date'].min()} по {df_rides['date'].max()}\")"
      ]
    },
    {
      "cell_type": "markdown",
      "id": "5b109fd1",
      "metadata": {
        "id": "5b109fd1"
      },
      "source": [
        "**ВЫВОД ПО РАЗДЕЛУ:**<br/>\n",
        "В процессе предобработки данных:<br/>\n",
        "- Обнаружили и удалили явные дубликаты в датафрейме *df_users*\n",
        "- Изменили тип данныв столбца *date* датафрейма *df_rides* на *datetime*\n",
        "- Добавили новый столбец в *df_rides* с номером месяца на основе столбца *date*\n",
        "\n",
        "Пропусков, неявных дубликатов и названий столбцов с некорректным написание обнаружено не было."
      ]
    },
    {
      "cell_type": "markdown",
      "id": "976661b3",
      "metadata": {
        "id": "976661b3"
      },
      "source": [
        "### Исследовательский анализ данных"
      ]
    },
    {
      "cell_type": "markdown",
      "id": "4d7c5932",
      "metadata": {
        "id": "4d7c5932"
      },
      "source": [
        "#### Частота встречаемости городов"
      ]
    },
    {
      "cell_type": "code",
      "execution_count": null,
      "id": "23879538",
      "metadata": {
        "id": "23879538",
        "outputId": "3c9da10a-c323-4eae-ba8b-322e01cc729a"
      },
      "outputs": [
        {
          "data": {
            "image/png": "[encoded data removed]",
            "text/plain": [
              "<Figure size 576x360 with 1 Axes>"
            ]
          },
          "metadata": {
            "needs_background": "light"
          },
          "output_type": "display_data"
        },
        {
          "data": {
            "text/plain": [
              "Пятигорск         219\n",
              "Екатеринбург      204\n",
              "Ростов-на-Дону    198\n",
              "Краснодар         193\n",
              "Сочи              189\n",
              "Омск              183\n",
              "Тюмень            180\n",
              "Москва            168\n",
              "Name: city, dtype: int64"
            ]
          },
          "execution_count": 19,
          "metadata": {},
          "output_type": "execute_result"
        }
      ],
      "source": [
        "df_users_city = df_users.pivot_table(index='city', values='user_id', aggfunc='count')\n",
        "df_users_city = df_users_city.sort_values(by='user_id', ascending=True)\n",
        "df_users_city.plot(kind='barh', figsize=(8, 5), grid=True )\n",
        "plt.title('Количество пользователей по городам')\n",
        "plt.ylabel('Города')\n",
        "plt.xlabel('Количество пользователей')\n",
        "plt.show()\n",
        "\n",
        "df_users['city'].value_counts()"
      ]
    },
    {
      "cell_type": "markdown",
      "id": "958b6240",
      "metadata": {
        "id": "958b6240"
      },
      "source": [
        "**Вывод:**\n",
        "В датафреймах содержатся данные о пользователях сервиса из 8 городов.\n",
        "Больше всего пользователей в Пятигорске (219).\n",
        "Меньше всего пользователей в Москве (168)."
      ]
    },
    {
      "cell_type": "markdown",
      "id": "7532886c",
      "metadata": {
        "id": "7532886c"
      },
      "source": [
        "#### Соотношение пользователей с подпиской и без подписки"
      ]
    },
    {
      "cell_type": "code",
      "execution_count": null,
      "id": "27da0ace",
      "metadata": {
        "id": "27da0ace",
        "outputId": "14956e0d-18c9-4c8d-a369-f34fc7fa70ec"
      },
      "outputs": [
        {
          "data": {
            "image/png": "[encoded data removed]",
            "text/plain": [
              "<Figure size 576x576 with 1 Axes>"
            ]
          },
          "metadata": {},
          "output_type": "display_data"
        },
        {
          "data": {
            "text/html": [
              "<div>\n",
              "<style scoped>\n",
              "    .dataframe tbody tr th:only-of-type {\n",
              "        vertical-align: middle;\n",
              "    }\n",
              "\n",
              "    .dataframe tbody tr th {\n",
              "        vertical-align: top;\n",
              "    }\n",
              "\n",
              "    .dataframe thead th {\n",
              "        text-align: right;\n",
              "    }\n",
              "</style>\n",
              "<table border=\"1\" class=\"dataframe\">\n",
              "  <thead>\n",
              "    <tr style=\"text-align: right;\">\n",
              "      <th></th>\n",
              "      <th>user_id</th>\n",
              "    </tr>\n",
              "    <tr>\n",
              "      <th>subscription_type</th>\n",
              "      <th></th>\n",
              "    </tr>\n",
              "  </thead>\n",
              "  <tbody>\n",
              "    <tr>\n",
              "      <th>free</th>\n",
              "      <td>835</td>\n",
              "    </tr>\n",
              "    <tr>\n",
              "      <th>ultra</th>\n",
              "      <td>699</td>\n",
              "    </tr>\n",
              "  </tbody>\n",
              "</table>\n",
              "</div>"
            ],
            "text/plain": [
              "                   user_id\n",
              "subscription_type         \n",
              "free                   835\n",
              "ultra                  699"
            ]
          },
          "execution_count": 20,
          "metadata": {},
          "output_type": "execute_result"
        }
      ],
      "source": [
        "df_users_subs = df_users.pivot_table(index = 'subscription_type', values = 'user_id', aggfunc = 'count')\n",
        "df_users_subs.plot(kind='pie', y='user_id', labels=df_users_subs.index, autopct='%1.1f%%', figsize=(8, 8))\n",
        "plt.title('Соотношение пользователей с типом подписки')\n",
        "plt.show()\n",
        "df_users_subs"
      ]
    },
    {
      "cell_type": "markdown",
      "id": "b8b41457",
      "metadata": {
        "id": "b8b41457"
      },
      "source": [
        "**Вывод:**\n",
        "- Больше всего пользователей с подпиской \"free\" — 835\n",
        "- С подпиской \"ultra\" — 699"
      ]
    },
    {
      "cell_type": "markdown",
      "id": "e800dd67",
      "metadata": {
        "id": "e800dd67"
      },
      "source": [
        "####  Возраст пользователей"
      ]
    },
    {
      "cell_type": "code",
      "execution_count": null,
      "id": "c1b2df81",
      "metadata": {
        "id": "c1b2df81",
        "outputId": "e4f38774-e06b-46bf-dcd9-32b2fd349b63"
      },
      "outputs": [
        {
          "data": {
            "image/png": "[encoded data removed]",
            "text/plain": [
              "<Figure size 576x216 with 1 Axes>"
            ]
          },
          "metadata": {
            "needs_background": "light"
          },
          "output_type": "display_data"
        },
        {
          "data": {
            "text/plain": [
              "count    1534.000000\n",
              "mean       24.903520\n",
              "std         4.572367\n",
              "min        12.000000\n",
              "25%        22.000000\n",
              "50%        25.000000\n",
              "75%        28.000000\n",
              "max        43.000000\n",
              "Name: age, dtype: float64"
            ]
          },
          "execution_count": 21,
          "metadata": {},
          "output_type": "execute_result"
        }
      ],
      "source": [
        "df_users['age'].plot(kind='hist', grid=True, figsize=(8, 3), bins=30)\n",
        "plt.title('Возраст пользователей')\n",
        "plt.xlabel('Возраст, лет')\n",
        "plt.ylabel('Кол-во пользователей')\n",
        "plt.show()\n",
        "df_users['age'].describe()"
      ]
    },
    {
      "cell_type": "markdown",
      "id": "5144e541",
      "metadata": {
        "id": "5144e541"
      },
      "source": [
        "**Вывод:**<br/>\n",
        "Средний возраст пользователей сервиса составляет 24,9. Возраст пользователей представлен в диапазоне от 12 до 43 лет. Выборка имеет нормальное распределение. При этом медиана и средний возраст практически совпадают — 25 лет."
      ]
    },
    {
      "cell_type": "markdown",
      "id": "4f9e0e9a",
      "metadata": {
        "id": "4f9e0e9a"
      },
      "source": [
        "#### Расстояние, которое пользователь преодолел за одну поездку"
      ]
    },
    {
      "cell_type": "code",
      "execution_count": null,
      "id": "79f196f1",
      "metadata": {
        "id": "79f196f1",
        "outputId": "ce2dede6-191c-46aa-bdba-f6a402cd3433"
      },
      "outputs": [
        {
          "data": {
            "image/png": "[encoded data removed]",
            "text/plain": [
              "<Figure size 576x216 with 1 Axes>"
            ]
          },
          "metadata": {
            "needs_background": "light"
          },
          "output_type": "display_data"
        },
        {
          "data": {
            "text/plain": [
              "count    18068.000000\n",
              "mean      3070.659976\n",
              "std       1116.831209\n",
              "min          0.855683\n",
              "25%       2543.226360\n",
              "50%       3133.609994\n",
              "75%       3776.222735\n",
              "max       7211.007745\n",
              "Name: distance, dtype: float64"
            ]
          },
          "execution_count": 22,
          "metadata": {},
          "output_type": "execute_result"
        }
      ],
      "source": [
        "df_rides['distance'].plot(kind='hist', grid=True, figsize=(8, 3), bins=50)\n",
        "plt.title('Расстояние одной поездки')\n",
        "plt.xlabel('Расстояние, м')\n",
        "plt.ylabel('Кол-во поездок')\n",
        "plt.show()\n",
        "df_rides['distance'].describe()"
      ]
    },
    {
      "cell_type": "code",
      "execution_count": null,
      "id": "e5fd359a",
      "metadata": {
        "id": "e5fd359a",
        "outputId": "17c139d6-3382-448e-9b9e-e97df288a3d1"
      },
      "outputs": [
        {
          "name": "stdout",
          "output_type": "stream",
          "text": [
            "       user_id    distance   duration       date  month\n",
            "100         10  680.952663   5.150377 2021-02-21      2\n",
            "149         15  634.891669  15.809350 2021-04-05      4\n",
            "153         15  671.851433  12.031109 2021-11-15     11\n",
            "197         21  518.341543  10.151870 2021-02-03      2\n",
            "204         21  517.912395  14.219625 2021-10-01     10\n",
            "...        ...         ...        ...        ...    ...\n",
            "18018     1531  375.107762   5.406654 2021-06-27      6\n",
            "18031     1532  303.787850   7.792490 2021-05-21      5\n",
            "18037     1532  662.468186   9.528773 2021-11-18     11\n",
            "18043     1533  310.488247  10.642389 2021-02-21      2\n",
            "18058     1534  195.447469   6.469074 2021-06-11      6\n",
            "\n",
            "[924 rows x 5 columns]\n"
          ]
        }
      ],
      "source": [
        "print(df_rides.query('distance > 0 and distance < 700'))"
      ]
    },
    {
      "cell_type": "markdown",
      "id": "cb9d3607",
      "metadata": {
        "id": "cb9d3607"
      },
      "source": [
        "**Вывод:**<br/>\n",
        "За одну поездку пользователи преодолевают расстояние от 1 м до 7211 м.\n",
        "В данных наблюдается два пика, один в районе 600 м, второй около 3100 м.\n",
        "Среднее расстояние, преодолеваемое за одну поездку составляет примерно 3 километра. Медиана 3134 м. Значения между пиками распределены нормально. Малый пик в районе 600 метров может свидетельствовать о том, что пользователи используют поездки на самокатах, даже на короткие расстояния, от дома до магазина, до метро и т.д. Основная же масса поездок приходится на расстояния в диапазоне 2,5 до 3,5 км."
      ]
    },
    {
      "cell_type": "markdown",
      "id": "ee656de2",
      "metadata": {
        "id": "ee656de2"
      },
      "source": [
        "#### Продолжительность поездок"
      ]
    },
    {
      "cell_type": "code",
      "execution_count": null,
      "id": "76325620",
      "metadata": {
        "id": "76325620",
        "outputId": "2e6a3600-2bc9-4706-9cd7-da35da2d7121"
      },
      "outputs": [
        {
          "data": {
            "image/png": "[encoded data removed]",
            "text/plain": [
              "<Figure size 576x216 with 1 Axes>"
            ]
          },
          "metadata": {
            "needs_background": "light"
          },
          "output_type": "display_data"
        },
        {
          "data": {
            "text/plain": [
              "count    18068.000000\n",
              "mean        17.805011\n",
              "std          6.091051\n",
              "min          0.500000\n",
              "25%         13.597563\n",
              "50%         17.678395\n",
              "75%         21.724800\n",
              "max         40.823963\n",
              "Name: duration, dtype: float64"
            ]
          },
          "execution_count": 24,
          "metadata": {},
          "output_type": "execute_result"
        }
      ],
      "source": [
        "df_rides['duration'].plot(kind='hist', grid=True, figsize=(8,3), bins=50)\n",
        "plt.title('Продолжительность одной поездки')\n",
        "plt.xlabel('Продолжительность (минут)')\n",
        "plt.ylabel('Кол-во поездок')\n",
        "plt.show()\n",
        "df_rides['duration'].describe()"
      ]
    },
    {
      "cell_type": "markdown",
      "id": "9293a1c8",
      "metadata": {
        "id": "9293a1c8"
      },
      "source": [
        "В данных наблюдается пик с аномально маленькими значениями продолжительности поездки."
      ]
    },
    {
      "cell_type": "code",
      "execution_count": null,
      "id": "95fd7447",
      "metadata": {
        "id": "95fd7447",
        "outputId": "c07eed0e-e57d-4138-f4a1-7dc48fa3e5ba"
      },
      "outputs": [
        {
          "name": "stdout",
          "output_type": "stream",
          "text": [
            "       user_id     distance  duration       date  month\n",
            "6531       701  4196.445201       0.5 2021-08-31      8\n",
            "6570       704  4830.824371       0.5 2021-10-14     10\n",
            "6680       712  4684.004397       0.5 2021-03-04      3\n",
            "6695       713  5215.642710       0.5 2021-02-25      2\n",
            "6768       718  5197.436649       0.5 2021-02-11      2\n",
            "...        ...          ...       ...        ...    ...\n",
            "17004     1460  5531.335845       0.5 2021-01-19      1\n",
            "17242     1477  6724.932981       0.5 2021-01-12      1\n",
            "17314     1483  4445.481070       0.5 2021-03-06      3\n",
            "17505     1496  5722.551787       0.5 2021-02-14      2\n",
            "17909     1524  4103.998874       0.5 2021-06-18      6\n",
            "\n",
            "[95 rows x 5 columns]\n"
          ]
        }
      ],
      "source": [
        "# Проверим аномальные значения\n",
        "print(df_rides.query('duration < 0.6'))"
      ]
    },
    {
      "cell_type": "markdown",
      "id": "764c04b1",
      "metadata": {
        "id": "764c04b1"
      },
      "source": [
        "95 записей в данных с очень короткой продолжительностью в пол минуты имеют аномально большие расстояния поездок. Считаю, что причиной послужил технический сбой при записи или выгрузке данных. Удалим аномальные строки с аномальными значениями."
      ]
    },
    {
      "cell_type": "code",
      "execution_count": null,
      "id": "8c022369",
      "metadata": {
        "id": "8c022369",
        "outputId": "aa5148cc-9c7a-484a-a41b-0fe57b34e4f6"
      },
      "outputs": [
        {
          "data": {
            "text/plain": [
              "(18068, 5)"
            ]
          },
          "execution_count": 26,
          "metadata": {},
          "output_type": "execute_result"
        }
      ],
      "source": [
        "# Выведем исходное количество строк до удаления.\n",
        "df_rides.shape"
      ]
    },
    {
      "cell_type": "code",
      "execution_count": null,
      "id": "df42f726",
      "metadata": {
        "id": "df42f726"
      },
      "outputs": [],
      "source": [
        "# Отфильтруем данные удалив строки с аномальными значениями.\n",
        "df_rides = df_rides.query('duration != 0.5')"
      ]
    },
    {
      "cell_type": "code",
      "execution_count": null,
      "id": "a1f54bb9",
      "metadata": {
        "id": "a1f54bb9",
        "outputId": "f4cd25b8-21a5-4871-b1fb-0cd12e05c2e4"
      },
      "outputs": [
        {
          "data": {
            "text/plain": [
              "(17973, 5)"
            ]
          },
          "execution_count": 28,
          "metadata": {},
          "output_type": "execute_result"
        }
      ],
      "source": [
        "# Количество строк после удаления\n",
        "df_rides.shape"
      ]
    },
    {
      "cell_type": "code",
      "execution_count": null,
      "id": "9dd852d5",
      "metadata": {
        "id": "9dd852d5",
        "outputId": "a848e841-a83d-4d09-c6b8-d85deb86f7a0"
      },
      "outputs": [
        {
          "data": {
            "image/png": "[encoded data removed]",
            "text/plain": [
              "<Figure size 576x216 with 1 Axes>"
            ]
          },
          "metadata": {
            "needs_background": "light"
          },
          "output_type": "display_data"
        },
        {
          "data": {
            "text/plain": [
              "count    17973.000000\n",
              "mean        17.896480\n",
              "std          5.975424\n",
              "min          2.035632\n",
              "25%         13.670439\n",
              "50%         17.714122\n",
              "75%         21.747016\n",
              "max         40.823963\n",
              "Name: duration, dtype: float64"
            ]
          },
          "execution_count": 29,
          "metadata": {},
          "output_type": "execute_result"
        }
      ],
      "source": [
        "df_rides['duration'].plot(kind='hist', grid=True, figsize=(8,3), bins=50)\n",
        "plt.title('Продолжительность одной поездки без аномальных значений')\n",
        "plt.xlabel('Продолжительность (минут)')\n",
        "plt.ylabel('Кол-во поездок')\n",
        "plt.show()\n",
        "df_rides['duration'].describe()"
      ]
    },
    {
      "cell_type": "markdown",
      "id": "26274343",
      "metadata": {
        "id": "26274343"
      },
      "source": [
        "**Вывод:**<br/>\n",
        "Продолжительность одной поездки нормально распределена от 2 ло 41 минуты. Среднее и медианные значения находятся в районе 18 минут и являются наиболее распространенными. В данных присутствовали записи поездок с продолжительностью 0.5 минут и аномально большими расстояниями поездок. Было принято решение удалить 95 записей с аномалиями."
      ]
    },
    {
      "cell_type": "markdown",
      "id": "97631b1a",
      "metadata": {
        "id": "97631b1a"
      },
      "source": [
        "**ВЫВОД ПО РАЗДЕЛУ**<br/>\n",
        "Максимальное количество пользователей сервиса представлено в городе Пятигорск — 219. Минимальное в Москве — 168.<br/>\n",
        "Большинство пользователей пользуются подпиской 'free' — 835. С подпиской 'ultra' — 699.<br/>\n",
        "Средний возраст пользователя составляет 25 лет. При этом в выборке представлены пользователи от 12 до 43 лет.<br/>\n",
        "Среднее расстояние, преодолеваемое за одну поездку составляет примерно 3 километра. Медиана 3134 м. Значения между пиками распределены нормально.<br/>\n",
        "Продолжительность одной поездки нормально распределена от 2 до 41 минуты. Среднее и медианные значения находятся в районе 18 минут и являются наиболее распространенными."
      ]
    },
    {
      "cell_type": "markdown",
      "id": "7c6cd831",
      "metadata": {
        "id": "7c6cd831"
      },
      "source": [
        "### Объединение данных"
      ]
    },
    {
      "cell_type": "markdown",
      "id": "ecb0733c",
      "metadata": {
        "id": "ecb0733c"
      },
      "source": [
        "#### Объединим данных о пользователях, поездках и подписках в один датафрейм"
      ]
    },
    {
      "cell_type": "code",
      "execution_count": null,
      "id": "d71ee9c2",
      "metadata": {
        "id": "d71ee9c2",
        "outputId": "96967f01-0230-4551-eea4-0a7643d8ec67"
      },
      "outputs": [
        {
          "data": {
            "text/html": [
              "<div>\n",
              "<style scoped>\n",
              "    .dataframe tbody tr th:only-of-type {\n",
              "        vertical-align: middle;\n",
              "    }\n",
              "\n",
              "    .dataframe tbody tr th {\n",
              "        vertical-align: top;\n",
              "    }\n",
              "\n",
              "    .dataframe thead th {\n",
              "        text-align: right;\n",
              "    }\n",
              "</style>\n",
              "<table border=\"1\" class=\"dataframe\">\n",
              "  <thead>\n",
              "    <tr style=\"text-align: right;\">\n",
              "      <th></th>\n",
              "      <th>user_id</th>\n",
              "      <th>age</th>\n",
              "    </tr>\n",
              "  </thead>\n",
              "  <tbody>\n",
              "    <tr>\n",
              "      <th>count</th>\n",
              "      <td>1534.000000</td>\n",
              "      <td>1534.000000</td>\n",
              "    </tr>\n",
              "    <tr>\n",
              "      <th>mean</th>\n",
              "      <td>767.500000</td>\n",
              "      <td>24.903520</td>\n",
              "    </tr>\n",
              "    <tr>\n",
              "      <th>std</th>\n",
              "      <td>442.971971</td>\n",
              "      <td>4.572367</td>\n",
              "    </tr>\n",
              "    <tr>\n",
              "      <th>min</th>\n",
              "      <td>1.000000</td>\n",
              "      <td>12.000000</td>\n",
              "    </tr>\n",
              "    <tr>\n",
              "      <th>25%</th>\n",
              "      <td>384.250000</td>\n",
              "      <td>22.000000</td>\n",
              "    </tr>\n",
              "    <tr>\n",
              "      <th>50%</th>\n",
              "      <td>767.500000</td>\n",
              "      <td>25.000000</td>\n",
              "    </tr>\n",
              "    <tr>\n",
              "      <th>75%</th>\n",
              "      <td>1150.750000</td>\n",
              "      <td>28.000000</td>\n",
              "    </tr>\n",
              "    <tr>\n",
              "      <th>max</th>\n",
              "      <td>1534.000000</td>\n",
              "      <td>43.000000</td>\n",
              "    </tr>\n",
              "  </tbody>\n",
              "</table>\n",
              "</div>"
            ],
            "text/plain": [
              "           user_id          age\n",
              "count  1534.000000  1534.000000\n",
              "mean    767.500000    24.903520\n",
              "std     442.971971     4.572367\n",
              "min       1.000000    12.000000\n",
              "25%     384.250000    22.000000\n",
              "50%     767.500000    25.000000\n",
              "75%    1150.750000    28.000000\n",
              "max    1534.000000    43.000000"
            ]
          },
          "execution_count": 30,
          "metadata": {},
          "output_type": "execute_result"
        }
      ],
      "source": [
        "# Выведем информацию о необходимых таблицах.\n",
        "df_users.describe()"
      ]
    },
    {
      "cell_type": "code",
      "execution_count": null,
      "id": "8b0b460d",
      "metadata": {
        "id": "8b0b460d",
        "outputId": "ce313176-7ca6-4898-d7d3-508c66f4a295"
      },
      "outputs": [
        {
          "data": {
            "text/html": [
              "<div>\n",
              "<style scoped>\n",
              "    .dataframe tbody tr th:only-of-type {\n",
              "        vertical-align: middle;\n",
              "    }\n",
              "\n",
              "    .dataframe tbody tr th {\n",
              "        vertical-align: top;\n",
              "    }\n",
              "\n",
              "    .dataframe thead th {\n",
              "        text-align: right;\n",
              "    }\n",
              "</style>\n",
              "<table border=\"1\" class=\"dataframe\">\n",
              "  <thead>\n",
              "    <tr style=\"text-align: right;\">\n",
              "      <th></th>\n",
              "      <th>user_id</th>\n",
              "      <th>distance</th>\n",
              "      <th>duration</th>\n",
              "      <th>month</th>\n",
              "    </tr>\n",
              "  </thead>\n",
              "  <tbody>\n",
              "    <tr>\n",
              "      <th>count</th>\n",
              "      <td>17973.000000</td>\n",
              "      <td>17973.000000</td>\n",
              "      <td>17973.000000</td>\n",
              "      <td>17973.000000</td>\n",
              "    </tr>\n",
              "    <tr>\n",
              "      <th>mean</th>\n",
              "      <td>841.551995</td>\n",
              "      <td>3059.863833</td>\n",
              "      <td>17.896480</td>\n",
              "      <td>6.486786</td>\n",
              "    </tr>\n",
              "    <tr>\n",
              "      <th>std</th>\n",
              "      <td>435.144929</td>\n",
              "      <td>1108.814612</td>\n",
              "      <td>5.975424</td>\n",
              "      <td>3.436024</td>\n",
              "    </tr>\n",
              "    <tr>\n",
              "      <th>min</th>\n",
              "      <td>1.000000</td>\n",
              "      <td>0.855683</td>\n",
              "      <td>2.035632</td>\n",
              "      <td>1.000000</td>\n",
              "    </tr>\n",
              "    <tr>\n",
              "      <th>25%</th>\n",
              "      <td>484.000000</td>\n",
              "      <td>2538.839628</td>\n",
              "      <td>13.670439</td>\n",
              "      <td>4.000000</td>\n",
              "    </tr>\n",
              "    <tr>\n",
              "      <th>50%</th>\n",
              "      <td>887.000000</td>\n",
              "      <td>3129.029255</td>\n",
              "      <td>17.714122</td>\n",
              "      <td>6.000000</td>\n",
              "    </tr>\n",
              "    <tr>\n",
              "      <th>75%</th>\n",
              "      <td>1213.000000</td>\n",
              "      <td>3762.636244</td>\n",
              "      <td>21.747016</td>\n",
              "      <td>9.000000</td>\n",
              "    </tr>\n",
              "    <tr>\n",
              "      <th>max</th>\n",
              "      <td>1534.000000</td>\n",
              "      <td>7066.003772</td>\n",
              "      <td>40.823963</td>\n",
              "      <td>12.000000</td>\n",
              "    </tr>\n",
              "  </tbody>\n",
              "</table>\n",
              "</div>"
            ],
            "text/plain": [
              "            user_id      distance      duration         month\n",
              "count  17973.000000  17973.000000  17973.000000  17973.000000\n",
              "mean     841.551995   3059.863833     17.896480      6.486786\n",
              "std      435.144929   1108.814612      5.975424      3.436024\n",
              "min        1.000000      0.855683      2.035632      1.000000\n",
              "25%      484.000000   2538.839628     13.670439      4.000000\n",
              "50%      887.000000   3129.029255     17.714122      6.000000\n",
              "75%     1213.000000   3762.636244     21.747016      9.000000\n",
              "max     1534.000000   7066.003772     40.823963     12.000000"
            ]
          },
          "execution_count": 31,
          "metadata": {},
          "output_type": "execute_result"
        }
      ],
      "source": [
        "df_rides.describe()"
      ]
    },
    {
      "cell_type": "code",
      "execution_count": null,
      "id": "e1f75b68",
      "metadata": {
        "id": "e1f75b68"
      },
      "outputs": [],
      "source": [
        "# Объедимим данные методом merge().\n",
        "df_total = df_users.merge(df_rides, on='user_id').merge(df_subs, on='subscription_type')"
      ]
    },
    {
      "cell_type": "code",
      "execution_count": null,
      "id": "beb59689",
      "metadata": {
        "id": "beb59689",
        "outputId": "7846eb68-2fe1-4311-8fda-9e44d66a4825"
      },
      "outputs": [
        {
          "data": {
            "text/html": [
              "<div>\n",
              "<style scoped>\n",
              "    .dataframe tbody tr th:only-of-type {\n",
              "        vertical-align: middle;\n",
              "    }\n",
              "\n",
              "    .dataframe tbody tr th {\n",
              "        vertical-align: top;\n",
              "    }\n",
              "\n",
              "    .dataframe thead th {\n",
              "        text-align: right;\n",
              "    }\n",
              "</style>\n",
              "<table border=\"1\" class=\"dataframe\">\n",
              "  <thead>\n",
              "    <tr style=\"text-align: right;\">\n",
              "      <th></th>\n",
              "      <th>user_id</th>\n",
              "      <th>name</th>\n",
              "      <th>age</th>\n",
              "      <th>city</th>\n",
              "      <th>subscription_type</th>\n",
              "      <th>distance</th>\n",
              "      <th>duration</th>\n",
              "      <th>date</th>\n",
              "      <th>month</th>\n",
              "      <th>minute_price</th>\n",
              "      <th>start_ride_price</th>\n",
              "      <th>subscription_fee</th>\n",
              "    </tr>\n",
              "  </thead>\n",
              "  <tbody>\n",
              "    <tr>\n",
              "      <th>0</th>\n",
              "      <td>1</td>\n",
              "      <td>Кира</td>\n",
              "      <td>22</td>\n",
              "      <td>Тюмень</td>\n",
              "      <td>ultra</td>\n",
              "      <td>4409.919140</td>\n",
              "      <td>25.599769</td>\n",
              "      <td>2021-01-01</td>\n",
              "      <td>1</td>\n",
              "      <td>6</td>\n",
              "      <td>0</td>\n",
              "      <td>199</td>\n",
              "    </tr>\n",
              "    <tr>\n",
              "      <th>1</th>\n",
              "      <td>1</td>\n",
              "      <td>Кира</td>\n",
              "      <td>22</td>\n",
              "      <td>Тюмень</td>\n",
              "      <td>ultra</td>\n",
              "      <td>2617.592153</td>\n",
              "      <td>15.816871</td>\n",
              "      <td>2021-01-18</td>\n",
              "      <td>1</td>\n",
              "      <td>6</td>\n",
              "      <td>0</td>\n",
              "      <td>199</td>\n",
              "    </tr>\n",
              "    <tr>\n",
              "      <th>2</th>\n",
              "      <td>1</td>\n",
              "      <td>Кира</td>\n",
              "      <td>22</td>\n",
              "      <td>Тюмень</td>\n",
              "      <td>ultra</td>\n",
              "      <td>754.159807</td>\n",
              "      <td>6.232113</td>\n",
              "      <td>2021-04-20</td>\n",
              "      <td>4</td>\n",
              "      <td>6</td>\n",
              "      <td>0</td>\n",
              "      <td>199</td>\n",
              "    </tr>\n",
              "    <tr>\n",
              "      <th>3</th>\n",
              "      <td>1</td>\n",
              "      <td>Кира</td>\n",
              "      <td>22</td>\n",
              "      <td>Тюмень</td>\n",
              "      <td>ultra</td>\n",
              "      <td>2694.783254</td>\n",
              "      <td>18.511000</td>\n",
              "      <td>2021-08-11</td>\n",
              "      <td>8</td>\n",
              "      <td>6</td>\n",
              "      <td>0</td>\n",
              "      <td>199</td>\n",
              "    </tr>\n",
              "    <tr>\n",
              "      <th>4</th>\n",
              "      <td>1</td>\n",
              "      <td>Кира</td>\n",
              "      <td>22</td>\n",
              "      <td>Тюмень</td>\n",
              "      <td>ultra</td>\n",
              "      <td>4028.687306</td>\n",
              "      <td>26.265803</td>\n",
              "      <td>2021-08-28</td>\n",
              "      <td>8</td>\n",
              "      <td>6</td>\n",
              "      <td>0</td>\n",
              "      <td>199</td>\n",
              "    </tr>\n",
              "    <tr>\n",
              "      <th>...</th>\n",
              "      <td>...</td>\n",
              "      <td>...</td>\n",
              "      <td>...</td>\n",
              "      <td>...</td>\n",
              "      <td>...</td>\n",
              "      <td>...</td>\n",
              "      <td>...</td>\n",
              "      <td>...</td>\n",
              "      <td>...</td>\n",
              "      <td>...</td>\n",
              "      <td>...</td>\n",
              "      <td>...</td>\n",
              "    </tr>\n",
              "    <tr>\n",
              "      <th>17968</th>\n",
              "      <td>1534</td>\n",
              "      <td>Альберт</td>\n",
              "      <td>25</td>\n",
              "      <td>Краснодар</td>\n",
              "      <td>free</td>\n",
              "      <td>3781.098080</td>\n",
              "      <td>19.822962</td>\n",
              "      <td>2021-11-04</td>\n",
              "      <td>11</td>\n",
              "      <td>8</td>\n",
              "      <td>50</td>\n",
              "      <td>0</td>\n",
              "    </tr>\n",
              "    <tr>\n",
              "      <th>17969</th>\n",
              "      <td>1534</td>\n",
              "      <td>Альберт</td>\n",
              "      <td>25</td>\n",
              "      <td>Краснодар</td>\n",
              "      <td>free</td>\n",
              "      <td>2840.423057</td>\n",
              "      <td>21.409799</td>\n",
              "      <td>2021-11-16</td>\n",
              "      <td>11</td>\n",
              "      <td>8</td>\n",
              "      <td>50</td>\n",
              "      <td>0</td>\n",
              "    </tr>\n",
              "    <tr>\n",
              "      <th>17970</th>\n",
              "      <td>1534</td>\n",
              "      <td>Альберт</td>\n",
              "      <td>25</td>\n",
              "      <td>Краснодар</td>\n",
              "      <td>free</td>\n",
              "      <td>3826.185507</td>\n",
              "      <td>18.435051</td>\n",
              "      <td>2021-11-18</td>\n",
              "      <td>11</td>\n",
              "      <td>8</td>\n",
              "      <td>50</td>\n",
              "      <td>0</td>\n",
              "    </tr>\n",
              "    <tr>\n",
              "      <th>17971</th>\n",
              "      <td>1534</td>\n",
              "      <td>Альберт</td>\n",
              "      <td>25</td>\n",
              "      <td>Краснодар</td>\n",
              "      <td>free</td>\n",
              "      <td>2902.308661</td>\n",
              "      <td>16.674362</td>\n",
              "      <td>2021-11-27</td>\n",
              "      <td>11</td>\n",
              "      <td>8</td>\n",
              "      <td>50</td>\n",
              "      <td>0</td>\n",
              "    </tr>\n",
              "    <tr>\n",
              "      <th>17972</th>\n",
              "      <td>1534</td>\n",
              "      <td>Альберт</td>\n",
              "      <td>25</td>\n",
              "      <td>Краснодар</td>\n",
              "      <td>free</td>\n",
              "      <td>2371.711192</td>\n",
              "      <td>15.893917</td>\n",
              "      <td>2021-12-29</td>\n",
              "      <td>12</td>\n",
              "      <td>8</td>\n",
              "      <td>50</td>\n",
              "      <td>0</td>\n",
              "    </tr>\n",
              "  </tbody>\n",
              "</table>\n",
              "<p>17973 rows × 12 columns</p>\n",
              "</div>"
            ],
            "text/plain": [
              "       user_id     name  age       city subscription_type     distance  \\\n",
              "0            1     Кира   22     Тюмень             ultra  4409.919140   \n",
              "1            1     Кира   22     Тюмень             ultra  2617.592153   \n",
              "2            1     Кира   22     Тюмень             ultra   754.159807   \n",
              "3            1     Кира   22     Тюмень             ultra  2694.783254   \n",
              "4            1     Кира   22     Тюмень             ultra  4028.687306   \n",
              "...        ...      ...  ...        ...               ...          ...   \n",
              "17968     1534  Альберт   25  Краснодар              free  3781.098080   \n",
              "17969     1534  Альберт   25  Краснодар              free  2840.423057   \n",
              "17970     1534  Альберт   25  Краснодар              free  3826.185507   \n",
              "17971     1534  Альберт   25  Краснодар              free  2902.308661   \n",
              "17972     1534  Альберт   25  Краснодар              free  2371.711192   \n",
              "\n",
              "        duration       date  month  minute_price  start_ride_price  \\\n",
              "0      25.599769 2021-01-01      1             6                 0   \n",
              "1      15.816871 2021-01-18      1             6                 0   \n",
              "2       6.232113 2021-04-20      4             6                 0   \n",
              "3      18.511000 2021-08-11      8             6                 0   \n",
              "4      26.265803 2021-08-28      8             6                 0   \n",
              "...          ...        ...    ...           ...               ...   \n",
              "17968  19.822962 2021-11-04     11             8                50   \n",
              "17969  21.409799 2021-11-16     11             8                50   \n",
              "17970  18.435051 2021-11-18     11             8                50   \n",
              "17971  16.674362 2021-11-27     11             8                50   \n",
              "17972  15.893917 2021-12-29     12             8                50   \n",
              "\n",
              "       subscription_fee  \n",
              "0                   199  \n",
              "1                   199  \n",
              "2                   199  \n",
              "3                   199  \n",
              "4                   199  \n",
              "...                 ...  \n",
              "17968                 0  \n",
              "17969                 0  \n",
              "17970                 0  \n",
              "17971                 0  \n",
              "17972                 0  \n",
              "\n",
              "[17973 rows x 12 columns]"
            ]
          },
          "execution_count": 33,
          "metadata": {},
          "output_type": "execute_result"
        }
      ],
      "source": [
        "df_total"
      ]
    },
    {
      "cell_type": "markdown",
      "id": "d2dc2467",
      "metadata": {
        "id": "d2dc2467"
      },
      "source": [
        "**Вывод:**<br/>\n",
        "Объединение таблиц прошло успешно. Датафрейм *df_total* состоит из 12 столбцов и 17973 записей, что соответствует количеству записей из датафрейма о поездках *df_rides*."
      ]
    },
    {
      "cell_type": "markdown",
      "id": "58059fa3",
      "metadata": {
        "id": "58059fa3"
      },
      "source": [
        "#### Создадим два датафрейма с пользователями с подпиской и без подписки"
      ]
    },
    {
      "cell_type": "code",
      "execution_count": null,
      "id": "5b08be9a",
      "metadata": {
        "id": "5b08be9a",
        "outputId": "70c690ec-d8fa-4876-c0a1-f9cf57d62cec"
      },
      "outputs": [
        {
          "data": {
            "text/html": [
              "<div>\n",
              "<style scoped>\n",
              "    .dataframe tbody tr th:only-of-type {\n",
              "        vertical-align: middle;\n",
              "    }\n",
              "\n",
              "    .dataframe tbody tr th {\n",
              "        vertical-align: top;\n",
              "    }\n",
              "\n",
              "    .dataframe thead th {\n",
              "        text-align: right;\n",
              "    }\n",
              "</style>\n",
              "<table border=\"1\" class=\"dataframe\">\n",
              "  <thead>\n",
              "    <tr style=\"text-align: right;\">\n",
              "      <th></th>\n",
              "      <th>user_id</th>\n",
              "      <th>name</th>\n",
              "      <th>age</th>\n",
              "      <th>city</th>\n",
              "      <th>subscription_type</th>\n",
              "      <th>distance</th>\n",
              "      <th>duration</th>\n",
              "      <th>date</th>\n",
              "      <th>month</th>\n",
              "      <th>minute_price</th>\n",
              "      <th>start_ride_price</th>\n",
              "      <th>subscription_fee</th>\n",
              "    </tr>\n",
              "  </thead>\n",
              "  <tbody>\n",
              "    <tr>\n",
              "      <th>0</th>\n",
              "      <td>1</td>\n",
              "      <td>Кира</td>\n",
              "      <td>22</td>\n",
              "      <td>Тюмень</td>\n",
              "      <td>ultra</td>\n",
              "      <td>4409.919140</td>\n",
              "      <td>25.599769</td>\n",
              "      <td>2021-01-01</td>\n",
              "      <td>1</td>\n",
              "      <td>6</td>\n",
              "      <td>0</td>\n",
              "      <td>199</td>\n",
              "    </tr>\n",
              "    <tr>\n",
              "      <th>1</th>\n",
              "      <td>1</td>\n",
              "      <td>Кира</td>\n",
              "      <td>22</td>\n",
              "      <td>Тюмень</td>\n",
              "      <td>ultra</td>\n",
              "      <td>2617.592153</td>\n",
              "      <td>15.816871</td>\n",
              "      <td>2021-01-18</td>\n",
              "      <td>1</td>\n",
              "      <td>6</td>\n",
              "      <td>0</td>\n",
              "      <td>199</td>\n",
              "    </tr>\n",
              "    <tr>\n",
              "      <th>2</th>\n",
              "      <td>1</td>\n",
              "      <td>Кира</td>\n",
              "      <td>22</td>\n",
              "      <td>Тюмень</td>\n",
              "      <td>ultra</td>\n",
              "      <td>754.159807</td>\n",
              "      <td>6.232113</td>\n",
              "      <td>2021-04-20</td>\n",
              "      <td>4</td>\n",
              "      <td>6</td>\n",
              "      <td>0</td>\n",
              "      <td>199</td>\n",
              "    </tr>\n",
              "    <tr>\n",
              "      <th>3</th>\n",
              "      <td>1</td>\n",
              "      <td>Кира</td>\n",
              "      <td>22</td>\n",
              "      <td>Тюмень</td>\n",
              "      <td>ultra</td>\n",
              "      <td>2694.783254</td>\n",
              "      <td>18.511000</td>\n",
              "      <td>2021-08-11</td>\n",
              "      <td>8</td>\n",
              "      <td>6</td>\n",
              "      <td>0</td>\n",
              "      <td>199</td>\n",
              "    </tr>\n",
              "    <tr>\n",
              "      <th>4</th>\n",
              "      <td>1</td>\n",
              "      <td>Кира</td>\n",
              "      <td>22</td>\n",
              "      <td>Тюмень</td>\n",
              "      <td>ultra</td>\n",
              "      <td>4028.687306</td>\n",
              "      <td>26.265803</td>\n",
              "      <td>2021-08-28</td>\n",
              "      <td>8</td>\n",
              "      <td>6</td>\n",
              "      <td>0</td>\n",
              "      <td>199</td>\n",
              "    </tr>\n",
              "    <tr>\n",
              "      <th>...</th>\n",
              "      <td>...</td>\n",
              "      <td>...</td>\n",
              "      <td>...</td>\n",
              "      <td>...</td>\n",
              "      <td>...</td>\n",
              "      <td>...</td>\n",
              "      <td>...</td>\n",
              "      <td>...</td>\n",
              "      <td>...</td>\n",
              "      <td>...</td>\n",
              "      <td>...</td>\n",
              "      <td>...</td>\n",
              "    </tr>\n",
              "    <tr>\n",
              "      <th>6495</th>\n",
              "      <td>699</td>\n",
              "      <td>Оксана</td>\n",
              "      <td>22</td>\n",
              "      <td>Москва</td>\n",
              "      <td>ultra</td>\n",
              "      <td>3973.046497</td>\n",
              "      <td>24.671163</td>\n",
              "      <td>2021-08-29</td>\n",
              "      <td>8</td>\n",
              "      <td>6</td>\n",
              "      <td>0</td>\n",
              "      <td>199</td>\n",
              "    </tr>\n",
              "    <tr>\n",
              "      <th>6496</th>\n",
              "      <td>699</td>\n",
              "      <td>Оксана</td>\n",
              "      <td>22</td>\n",
              "      <td>Москва</td>\n",
              "      <td>ultra</td>\n",
              "      <td>3288.702563</td>\n",
              "      <td>15.892886</td>\n",
              "      <td>2021-09-12</td>\n",
              "      <td>9</td>\n",
              "      <td>6</td>\n",
              "      <td>0</td>\n",
              "      <td>199</td>\n",
              "    </tr>\n",
              "    <tr>\n",
              "      <th>6497</th>\n",
              "      <td>699</td>\n",
              "      <td>Оксана</td>\n",
              "      <td>22</td>\n",
              "      <td>Москва</td>\n",
              "      <td>ultra</td>\n",
              "      <td>3076.159348</td>\n",
              "      <td>14.389525</td>\n",
              "      <td>2021-09-26</td>\n",
              "      <td>9</td>\n",
              "      <td>6</td>\n",
              "      <td>0</td>\n",
              "      <td>199</td>\n",
              "    </tr>\n",
              "    <tr>\n",
              "      <th>6498</th>\n",
              "      <td>699</td>\n",
              "      <td>Оксана</td>\n",
              "      <td>22</td>\n",
              "      <td>Москва</td>\n",
              "      <td>ultra</td>\n",
              "      <td>4707.845501</td>\n",
              "      <td>15.839579</td>\n",
              "      <td>2021-10-17</td>\n",
              "      <td>10</td>\n",
              "      <td>6</td>\n",
              "      <td>0</td>\n",
              "      <td>199</td>\n",
              "    </tr>\n",
              "    <tr>\n",
              "      <th>6499</th>\n",
              "      <td>699</td>\n",
              "      <td>Оксана</td>\n",
              "      <td>22</td>\n",
              "      <td>Москва</td>\n",
              "      <td>ultra</td>\n",
              "      <td>3202.890770</td>\n",
              "      <td>25.217345</td>\n",
              "      <td>2021-12-03</td>\n",
              "      <td>12</td>\n",
              "      <td>6</td>\n",
              "      <td>0</td>\n",
              "      <td>199</td>\n",
              "    </tr>\n",
              "  </tbody>\n",
              "</table>\n",
              "<p>6500 rows × 12 columns</p>\n",
              "</div>"
            ],
            "text/plain": [
              "      user_id    name  age    city subscription_type     distance   duration  \\\n",
              "0           1    Кира   22  Тюмень             ultra  4409.919140  25.599769   \n",
              "1           1    Кира   22  Тюмень             ultra  2617.592153  15.816871   \n",
              "2           1    Кира   22  Тюмень             ultra   754.159807   6.232113   \n",
              "3           1    Кира   22  Тюмень             ultra  2694.783254  18.511000   \n",
              "4           1    Кира   22  Тюмень             ultra  4028.687306  26.265803   \n",
              "...       ...     ...  ...     ...               ...          ...        ...   \n",
              "6495      699  Оксана   22  Москва             ultra  3973.046497  24.671163   \n",
              "6496      699  Оксана   22  Москва             ultra  3288.702563  15.892886   \n",
              "6497      699  Оксана   22  Москва             ultra  3076.159348  14.389525   \n",
              "6498      699  Оксана   22  Москва             ultra  4707.845501  15.839579   \n",
              "6499      699  Оксана   22  Москва             ultra  3202.890770  25.217345   \n",
              "\n",
              "           date  month  minute_price  start_ride_price  subscription_fee  \n",
              "0    2021-01-01      1             6                 0               199  \n",
              "1    2021-01-18      1             6                 0               199  \n",
              "2    2021-04-20      4             6                 0               199  \n",
              "3    2021-08-11      8             6                 0               199  \n",
              "4    2021-08-28      8             6                 0               199  \n",
              "...         ...    ...           ...               ...               ...  \n",
              "6495 2021-08-29      8             6                 0               199  \n",
              "6496 2021-09-12      9             6                 0               199  \n",
              "6497 2021-09-26      9             6                 0               199  \n",
              "6498 2021-10-17     10             6                 0               199  \n",
              "6499 2021-12-03     12             6                 0               199  \n",
              "\n",
              "[6500 rows x 12 columns]"
            ]
          },
          "execution_count": 34,
          "metadata": {},
          "output_type": "execute_result"
        }
      ],
      "source": [
        "# Датафрейм с пользователями с подпиской ultra\n",
        "df_ultra = df_total[df_total['subscription_type'] == 'ultra']\n",
        "df_ultra"
      ]
    },
    {
      "cell_type": "code",
      "execution_count": null,
      "id": "8435056c",
      "metadata": {
        "id": "8435056c",
        "outputId": "be56b267-6c83-4823-8977-c3a8b7c00637"
      },
      "outputs": [
        {
          "data": {
            "text/html": [
              "<div>\n",
              "<style scoped>\n",
              "    .dataframe tbody tr th:only-of-type {\n",
              "        vertical-align: middle;\n",
              "    }\n",
              "\n",
              "    .dataframe tbody tr th {\n",
              "        vertical-align: top;\n",
              "    }\n",
              "\n",
              "    .dataframe thead th {\n",
              "        text-align: right;\n",
              "    }\n",
              "</style>\n",
              "<table border=\"1\" class=\"dataframe\">\n",
              "  <thead>\n",
              "    <tr style=\"text-align: right;\">\n",
              "      <th></th>\n",
              "      <th>user_id</th>\n",
              "      <th>name</th>\n",
              "      <th>age</th>\n",
              "      <th>city</th>\n",
              "      <th>subscription_type</th>\n",
              "      <th>distance</th>\n",
              "      <th>duration</th>\n",
              "      <th>date</th>\n",
              "      <th>month</th>\n",
              "      <th>minute_price</th>\n",
              "      <th>start_ride_price</th>\n",
              "      <th>subscription_fee</th>\n",
              "    </tr>\n",
              "  </thead>\n",
              "  <tbody>\n",
              "    <tr>\n",
              "      <th>6500</th>\n",
              "      <td>700</td>\n",
              "      <td>Айдар</td>\n",
              "      <td>22</td>\n",
              "      <td>Омск</td>\n",
              "      <td>free</td>\n",
              "      <td>2515.690719</td>\n",
              "      <td>14.944286</td>\n",
              "      <td>2021-01-02</td>\n",
              "      <td>1</td>\n",
              "      <td>8</td>\n",
              "      <td>50</td>\n",
              "      <td>0</td>\n",
              "    </tr>\n",
              "    <tr>\n",
              "      <th>6501</th>\n",
              "      <td>700</td>\n",
              "      <td>Айдар</td>\n",
              "      <td>22</td>\n",
              "      <td>Омск</td>\n",
              "      <td>free</td>\n",
              "      <td>846.932642</td>\n",
              "      <td>16.234663</td>\n",
              "      <td>2021-02-01</td>\n",
              "      <td>2</td>\n",
              "      <td>8</td>\n",
              "      <td>50</td>\n",
              "      <td>0</td>\n",
              "    </tr>\n",
              "    <tr>\n",
              "      <th>6502</th>\n",
              "      <td>700</td>\n",
              "      <td>Айдар</td>\n",
              "      <td>22</td>\n",
              "      <td>Омск</td>\n",
              "      <td>free</td>\n",
              "      <td>4004.434142</td>\n",
              "      <td>20.016628</td>\n",
              "      <td>2021-02-04</td>\n",
              "      <td>2</td>\n",
              "      <td>8</td>\n",
              "      <td>50</td>\n",
              "      <td>0</td>\n",
              "    </tr>\n",
              "    <tr>\n",
              "      <th>6503</th>\n",
              "      <td>700</td>\n",
              "      <td>Айдар</td>\n",
              "      <td>22</td>\n",
              "      <td>Омск</td>\n",
              "      <td>free</td>\n",
              "      <td>1205.911290</td>\n",
              "      <td>9.782872</td>\n",
              "      <td>2021-02-10</td>\n",
              "      <td>2</td>\n",
              "      <td>8</td>\n",
              "      <td>50</td>\n",
              "      <td>0</td>\n",
              "    </tr>\n",
              "    <tr>\n",
              "      <th>6504</th>\n",
              "      <td>700</td>\n",
              "      <td>Айдар</td>\n",
              "      <td>22</td>\n",
              "      <td>Омск</td>\n",
              "      <td>free</td>\n",
              "      <td>3047.379435</td>\n",
              "      <td>17.427673</td>\n",
              "      <td>2021-02-14</td>\n",
              "      <td>2</td>\n",
              "      <td>8</td>\n",
              "      <td>50</td>\n",
              "      <td>0</td>\n",
              "    </tr>\n",
              "    <tr>\n",
              "      <th>...</th>\n",
              "      <td>...</td>\n",
              "      <td>...</td>\n",
              "      <td>...</td>\n",
              "      <td>...</td>\n",
              "      <td>...</td>\n",
              "      <td>...</td>\n",
              "      <td>...</td>\n",
              "      <td>...</td>\n",
              "      <td>...</td>\n",
              "      <td>...</td>\n",
              "      <td>...</td>\n",
              "      <td>...</td>\n",
              "    </tr>\n",
              "    <tr>\n",
              "      <th>17968</th>\n",
              "      <td>1534</td>\n",
              "      <td>Альберт</td>\n",
              "      <td>25</td>\n",
              "      <td>Краснодар</td>\n",
              "      <td>free</td>\n",
              "      <td>3781.098080</td>\n",
              "      <td>19.822962</td>\n",
              "      <td>2021-11-04</td>\n",
              "      <td>11</td>\n",
              "      <td>8</td>\n",
              "      <td>50</td>\n",
              "      <td>0</td>\n",
              "    </tr>\n",
              "    <tr>\n",
              "      <th>17969</th>\n",
              "      <td>1534</td>\n",
              "      <td>Альберт</td>\n",
              "      <td>25</td>\n",
              "      <td>Краснодар</td>\n",
              "      <td>free</td>\n",
              "      <td>2840.423057</td>\n",
              "      <td>21.409799</td>\n",
              "      <td>2021-11-16</td>\n",
              "      <td>11</td>\n",
              "      <td>8</td>\n",
              "      <td>50</td>\n",
              "      <td>0</td>\n",
              "    </tr>\n",
              "    <tr>\n",
              "      <th>17970</th>\n",
              "      <td>1534</td>\n",
              "      <td>Альберт</td>\n",
              "      <td>25</td>\n",
              "      <td>Краснодар</td>\n",
              "      <td>free</td>\n",
              "      <td>3826.185507</td>\n",
              "      <td>18.435051</td>\n",
              "      <td>2021-11-18</td>\n",
              "      <td>11</td>\n",
              "      <td>8</td>\n",
              "      <td>50</td>\n",
              "      <td>0</td>\n",
              "    </tr>\n",
              "    <tr>\n",
              "      <th>17971</th>\n",
              "      <td>1534</td>\n",
              "      <td>Альберт</td>\n",
              "      <td>25</td>\n",
              "      <td>Краснодар</td>\n",
              "      <td>free</td>\n",
              "      <td>2902.308661</td>\n",
              "      <td>16.674362</td>\n",
              "      <td>2021-11-27</td>\n",
              "      <td>11</td>\n",
              "      <td>8</td>\n",
              "      <td>50</td>\n",
              "      <td>0</td>\n",
              "    </tr>\n",
              "    <tr>\n",
              "      <th>17972</th>\n",
              "      <td>1534</td>\n",
              "      <td>Альберт</td>\n",
              "      <td>25</td>\n",
              "      <td>Краснодар</td>\n",
              "      <td>free</td>\n",
              "      <td>2371.711192</td>\n",
              "      <td>15.893917</td>\n",
              "      <td>2021-12-29</td>\n",
              "      <td>12</td>\n",
              "      <td>8</td>\n",
              "      <td>50</td>\n",
              "      <td>0</td>\n",
              "    </tr>\n",
              "  </tbody>\n",
              "</table>\n",
              "<p>11473 rows × 12 columns</p>\n",
              "</div>"
            ],
            "text/plain": [
              "       user_id     name  age       city subscription_type     distance  \\\n",
              "6500       700    Айдар   22       Омск              free  2515.690719   \n",
              "6501       700    Айдар   22       Омск              free   846.932642   \n",
              "6502       700    Айдар   22       Омск              free  4004.434142   \n",
              "6503       700    Айдар   22       Омск              free  1205.911290   \n",
              "6504       700    Айдар   22       Омск              free  3047.379435   \n",
              "...        ...      ...  ...        ...               ...          ...   \n",
              "17968     1534  Альберт   25  Краснодар              free  3781.098080   \n",
              "17969     1534  Альберт   25  Краснодар              free  2840.423057   \n",
              "17970     1534  Альберт   25  Краснодар              free  3826.185507   \n",
              "17971     1534  Альберт   25  Краснодар              free  2902.308661   \n",
              "17972     1534  Альберт   25  Краснодар              free  2371.711192   \n",
              "\n",
              "        duration       date  month  minute_price  start_ride_price  \\\n",
              "6500   14.944286 2021-01-02      1             8                50   \n",
              "6501   16.234663 2021-02-01      2             8                50   \n",
              "6502   20.016628 2021-02-04      2             8                50   \n",
              "6503    9.782872 2021-02-10      2             8                50   \n",
              "6504   17.427673 2021-02-14      2             8                50   \n",
              "...          ...        ...    ...           ...               ...   \n",
              "17968  19.822962 2021-11-04     11             8                50   \n",
              "17969  21.409799 2021-11-16     11             8                50   \n",
              "17970  18.435051 2021-11-18     11             8                50   \n",
              "17971  16.674362 2021-11-27     11             8                50   \n",
              "17972  15.893917 2021-12-29     12             8                50   \n",
              "\n",
              "       subscription_fee  \n",
              "6500                  0  \n",
              "6501                  0  \n",
              "6502                  0  \n",
              "6503                  0  \n",
              "6504                  0  \n",
              "...                 ...  \n",
              "17968                 0  \n",
              "17969                 0  \n",
              "17970                 0  \n",
              "17971                 0  \n",
              "17972                 0  \n",
              "\n",
              "[11473 rows x 12 columns]"
            ]
          },
          "execution_count": 35,
          "metadata": {},
          "output_type": "execute_result"
        }
      ],
      "source": [
        "# Датафрейм с пользователями без подписки\n",
        "df_free = df_total[df_total['subscription_type'] == 'free']\n",
        "df_free"
      ]
    },
    {
      "cell_type": "markdown",
      "id": "411151da",
      "metadata": {
        "id": "411151da"
      },
      "source": [
        "#### Визуализируем информацию о расстоянии и времени поездок для пользователей обеих категорий"
      ]
    },
    {
      "cell_type": "code",
      "execution_count": null,
      "id": "ad663e44",
      "metadata": {
        "id": "ad663e44",
        "outputId": "7a43508f-8693-4f8f-f67f-d96bd8a6fd70"
      },
      "outputs": [
        {
          "data": {
            "image/png": "[encoded data removed]",
            "text/plain": [
              "<Figure size 576x216 with 1 Axes>"
            ]
          },
          "metadata": {
            "needs_background": "light"
          },
          "output_type": "display_data"
        }
      ],
      "source": [
        "# Построим график количества поездок для пользователей с подпиской и без.\n",
        "df_free['distance'].plot(kind='hist', grid=True, figsize=(8,3), bins=30, label='без подписки')\n",
        "df_ultra['distance'].plot(kind='hist', grid=True, figsize=(8,3), bins=30, label='с подпиской Ultra')\n",
        "plt.title('Количество поездок в зависимости расстояния поездки')\n",
        "plt.xlabel('Расстояние, м')\n",
        "plt.ylabel('Кол-во поездок')\n",
        "plt.legend(loc='upper right')\n",
        "plt.show()"
      ]
    },
    {
      "cell_type": "code",
      "execution_count": null,
      "id": "a344f4f8",
      "metadata": {
        "id": "a344f4f8",
        "outputId": "3abd5531-e2b8-461f-9cb6-9d625c948f63"
      },
      "outputs": [
        {
          "data": {
            "text/plain": [
              "count    11473.000000\n",
              "mean      3028.374239\n",
              "std       1235.541051\n",
              "min          0.855683\n",
              "25%       2360.878149\n",
              "50%       3102.083025\n",
              "75%       3883.979311\n",
              "max       7066.003772\n",
              "Name: distance, dtype: float64"
            ]
          },
          "execution_count": 37,
          "metadata": {},
          "output_type": "execute_result"
        }
      ],
      "source": [
        "df_free['distance'].describe()"
      ]
    },
    {
      "cell_type": "code",
      "execution_count": null,
      "id": "ed964755",
      "metadata": {
        "id": "ed964755",
        "outputId": "ff8804c2-833d-45b5-a148-4c305dcb226c"
      },
      "outputs": [
        {
          "data": {
            "text/plain": [
              "count    6500.000000\n",
              "mean     3115.445388\n",
              "std       836.895330\n",
              "min       244.210438\n",
              "25%      2785.444017\n",
              "50%      3148.637229\n",
              "75%      3560.574425\n",
              "max      5699.769662\n",
              "Name: distance, dtype: float64"
            ]
          },
          "execution_count": 38,
          "metadata": {},
          "output_type": "execute_result"
        }
      ],
      "source": [
        "df_ultra['distance'].describe()"
      ]
    },
    {
      "cell_type": "code",
      "execution_count": null,
      "id": "6ed3a041",
      "metadata": {
        "id": "6ed3a041",
        "outputId": "21124a05-064d-4c4c-a042-aa017c5f2a7e"
      },
      "outputs": [
        {
          "data": {
            "image/png": "[encoded data removed]",
            "text/plain": [
              "<Figure size 576x216 with 1 Axes>"
            ]
          },
          "metadata": {
            "needs_background": "light"
          },
          "output_type": "display_data"
        }
      ],
      "source": [
        "df_free['duration'].plot(kind='hist', grid=True, figsize=(8,3), bins=30, label='без подписки')\n",
        "df_ultra['duration'].plot(kind='hist', grid=True, figsize=(8,3), bins=30, label='с подпиской Ultra')\n",
        "plt.title('Количество поездок в зависимости от продолжительности')\n",
        "plt.xlabel('Время, мин')\n",
        "plt.ylabel('Кол-во поездок')\n",
        "plt.legend(loc='upper right')\n",
        "plt.show()"
      ]
    },
    {
      "cell_type": "code",
      "execution_count": null,
      "id": "9f735c05",
      "metadata": {
        "id": "9f735c05",
        "outputId": "c065c2f3-4230-433a-9a53-199fed6a7fef"
      },
      "outputs": [
        {
          "data": {
            "text/plain": [
              "count    11473.000000\n",
              "mean        17.530771\n",
              "std          6.162609\n",
              "min          2.035632\n",
              "25%         13.085688\n",
              "50%         17.383807\n",
              "75%         21.638038\n",
              "max         34.948498\n",
              "Name: duration, dtype: float64"
            ]
          },
          "execution_count": 40,
          "metadata": {},
          "output_type": "execute_result"
        }
      ],
      "source": [
        "df_free['duration'].describe()"
      ]
    },
    {
      "cell_type": "code",
      "execution_count": null,
      "id": "fac28084",
      "metadata": {
        "id": "fac28084",
        "outputId": "2aa9ec9c-0d6b-41b5-acb2-219748941f2a"
      },
      "outputs": [
        {
          "data": {
            "text/plain": [
              "count    6500.000000\n",
              "mean       18.541985\n",
              "std         5.572048\n",
              "min         3.760353\n",
              "25%        14.524654\n",
              "50%        18.178153\n",
              "75%        21.884129\n",
              "max        40.823963\n",
              "Name: duration, dtype: float64"
            ]
          },
          "execution_count": 41,
          "metadata": {},
          "output_type": "execute_result"
        }
      ],
      "source": [
        "df_ultra['duration'].describe()"
      ]
    },
    {
      "cell_type": "markdown",
      "id": "c7032ab1",
      "metadata": {
        "id": "c7032ab1"
      },
      "source": [
        "**ВЫВОД ПО РАЗДЕЛУ:**<br/>\n",
        "- В ходе проведения исследования три отдельных датафрейма были объединены в один *df_total*.\n",
        "- На основе объединённого датафрейма были созданы два дополнительных: с данными о пользователях без подписки и с данными о пользователях с подпиской *ultra*.\n",
        "- Визуализировали информацию о расстоянии и времени поездок для пользователей обеих категорий.\n",
        "\n",
        "**Продолжительность поездок**<br/>\n",
        "Пользователи с подпиской ultra в среднем проводят в поездке немного больше времени (18.5 минут) по сравнению с пользователями без подписки (17.5 минут). Для обеих групп характерен широкий разброс значений продолжительности поездок. Минимальное время поездок для пользователей без подписки составляет (2.03 минут), для пользователей с подпиской (3.7 минут).<br/>\n",
        "**Расстояние поездок**<br/>\n",
        "Распределение расстояний поездок для обеих групп пользователей (с подпиской и без) имеет схожую форму, напоминающую нормальное распределение. Пользователи с подпиской ultra в среднем совершают более длинные поездки (3115 метров) по сравнению с пользователями без подписки (3028 метров). Разница, хотя и не очень большая, но статистически значима. Это говорит о том, что как пользователи с подпиской, так и без нее совершают поездки на самые разные расстояния.<br/>"
      ]
    },
    {
      "cell_type": "markdown",
      "id": "3a110389",
      "metadata": {
        "id": "3a110389"
      },
      "source": [
        "### Подсчёт выручки"
      ]
    },
    {
      "cell_type": "markdown",
      "id": "64fbaaac",
      "metadata": {
        "id": "64fbaaac"
      },
      "source": [
        "#### Создадим датафрейм, агрегированный по пользователям на основе df_total"
      ]
    },
    {
      "cell_type": "markdown",
      "id": "8709c082",
      "metadata": {
        "id": "8709c082"
      },
      "source": [
        "Найдём для каждого пользователя, за каждый месяц: суммарное расстояние, количество поездок и суммарное время."
      ]
    },
    {
      "cell_type": "code",
      "execution_count": null,
      "id": "20098408",
      "metadata": {
        "id": "20098408"
      },
      "outputs": [],
      "source": [
        "# Округлим время поездки до целого числа в большую сторону.\n",
        "df_total['duration'] = np.ceil(df_total['duration'])"
      ]
    },
    {
      "cell_type": "code",
      "execution_count": null,
      "id": "e1a76c31",
      "metadata": {
        "id": "e1a76c31"
      },
      "outputs": [],
      "source": [
        "# Приведём тип данных к целочисленному.\n",
        "df_total['duration'] = df_total['duration'].astype('int')"
      ]
    },
    {
      "cell_type": "code",
      "execution_count": null,
      "id": "b25a323f",
      "metadata": {
        "id": "b25a323f",
        "outputId": "deca3cc0-be13-4792-cad9-f0432c170842"
      },
      "outputs": [
        {
          "data": {
            "text/html": [
              "<div>\n",
              "<style scoped>\n",
              "    .dataframe tbody tr th:only-of-type {\n",
              "        vertical-align: middle;\n",
              "    }\n",
              "\n",
              "    .dataframe tbody tr th {\n",
              "        vertical-align: top;\n",
              "    }\n",
              "\n",
              "    .dataframe thead th {\n",
              "        text-align: right;\n",
              "    }\n",
              "</style>\n",
              "<table border=\"1\" class=\"dataframe\">\n",
              "  <thead>\n",
              "    <tr style=\"text-align: right;\">\n",
              "      <th></th>\n",
              "      <th>user_id</th>\n",
              "      <th>month</th>\n",
              "      <th>count</th>\n",
              "      <th>distance</th>\n",
              "      <th>duration</th>\n",
              "    </tr>\n",
              "  </thead>\n",
              "  <tbody>\n",
              "    <tr>\n",
              "      <th>0</th>\n",
              "      <td>1</td>\n",
              "      <td>1</td>\n",
              "      <td>2</td>\n",
              "      <td>7027.511294</td>\n",
              "      <td>42</td>\n",
              "    </tr>\n",
              "    <tr>\n",
              "      <th>1</th>\n",
              "      <td>1</td>\n",
              "      <td>4</td>\n",
              "      <td>1</td>\n",
              "      <td>754.159807</td>\n",
              "      <td>7</td>\n",
              "    </tr>\n",
              "    <tr>\n",
              "      <th>2</th>\n",
              "      <td>1</td>\n",
              "      <td>8</td>\n",
              "      <td>2</td>\n",
              "      <td>6723.470560</td>\n",
              "      <td>46</td>\n",
              "    </tr>\n",
              "    <tr>\n",
              "      <th>3</th>\n",
              "      <td>1</td>\n",
              "      <td>10</td>\n",
              "      <td>2</td>\n",
              "      <td>5809.911100</td>\n",
              "      <td>32</td>\n",
              "    </tr>\n",
              "    <tr>\n",
              "      <th>4</th>\n",
              "      <td>1</td>\n",
              "      <td>11</td>\n",
              "      <td>3</td>\n",
              "      <td>7003.499363</td>\n",
              "      <td>56</td>\n",
              "    </tr>\n",
              "    <tr>\n",
              "      <th>...</th>\n",
              "      <td>...</td>\n",
              "      <td>...</td>\n",
              "      <td>...</td>\n",
              "      <td>...</td>\n",
              "      <td>...</td>\n",
              "    </tr>\n",
              "    <tr>\n",
              "      <th>11295</th>\n",
              "      <td>1534</td>\n",
              "      <td>6</td>\n",
              "      <td>2</td>\n",
              "      <td>3409.468534</td>\n",
              "      <td>26</td>\n",
              "    </tr>\n",
              "    <tr>\n",
              "      <th>11296</th>\n",
              "      <td>1534</td>\n",
              "      <td>8</td>\n",
              "      <td>2</td>\n",
              "      <td>7622.453034</td>\n",
              "      <td>48</td>\n",
              "    </tr>\n",
              "    <tr>\n",
              "      <th>11297</th>\n",
              "      <td>1534</td>\n",
              "      <td>9</td>\n",
              "      <td>1</td>\n",
              "      <td>4928.173852</td>\n",
              "      <td>23</td>\n",
              "    </tr>\n",
              "    <tr>\n",
              "      <th>11298</th>\n",
              "      <td>1534</td>\n",
              "      <td>11</td>\n",
              "      <td>4</td>\n",
              "      <td>13350.015305</td>\n",
              "      <td>78</td>\n",
              "    </tr>\n",
              "    <tr>\n",
              "      <th>11299</th>\n",
              "      <td>1534</td>\n",
              "      <td>12</td>\n",
              "      <td>1</td>\n",
              "      <td>2371.711192</td>\n",
              "      <td>16</td>\n",
              "    </tr>\n",
              "  </tbody>\n",
              "</table>\n",
              "<p>11300 rows × 5 columns</p>\n",
              "</div>"
            ],
            "text/plain": [
              "       user_id  month  count      distance  duration\n",
              "0            1      1      2   7027.511294        42\n",
              "1            1      4      1    754.159807         7\n",
              "2            1      8      2   6723.470560        46\n",
              "3            1     10      2   5809.911100        32\n",
              "4            1     11      3   7003.499363        56\n",
              "...        ...    ...    ...           ...       ...\n",
              "11295     1534      6      2   3409.468534        26\n",
              "11296     1534      8      2   7622.453034        48\n",
              "11297     1534      9      1   4928.173852        23\n",
              "11298     1534     11      4  13350.015305        78\n",
              "11299     1534     12      1   2371.711192        16\n",
              "\n",
              "[11300 rows x 5 columns]"
            ]
          },
          "execution_count": 44,
          "metadata": {},
          "output_type": "execute_result"
        }
      ],
      "source": [
        "# Создадим сводную таблицу.\n",
        "df_total_agg = df_total.pivot_table(\n",
        "    index=['user_id', 'month'],\n",
        "    values=['distance', 'duration'],\n",
        "    aggfunc=['count', 'sum'])\n",
        "\n",
        "# Переименуем столбцы.\n",
        "df_total_agg.columns = [\n",
        "    'count',           # кол-во поездок за месяц\n",
        "    'count_duration',\n",
        "    'distance',        # суммарное растояние за месяц\n",
        "    'duration'         # общая продолжительность поездок\n",
        "]\n",
        "\n",
        "# Удалим лишний столбец.\n",
        "df_total_agg = df_total_agg.drop(columns=['count_duration'])\n",
        "df_total_agg = df_total_agg.reset_index()\n",
        "df_total_agg"
      ]
    },
    {
      "cell_type": "markdown",
      "id": "7f9c187f",
      "metadata": {
        "id": "7f9c187f"
      },
      "source": [
        "#### Добавим столбец с помесячной выручкой, которую принёс каждый пользователь"
      ]
    },
    {
      "cell_type": "code",
      "execution_count": null,
      "id": "a25cfc73",
      "metadata": {
        "id": "a25cfc73"
      },
      "outputs": [],
      "source": [
        "# Добавим столбцы с необходимыми данными.\n",
        "df_total_agg = df_total_agg.merge(df_users, how='left', on='user_id')\n",
        "df_total_agg = df_total_agg.merge(df_subs, how = 'left', on='subscription_type')\n",
        "\n",
        "df_total_agg['revenue'] = (\n",
        "    (df_total_agg['start_ride_price'] * df_total_agg['count'])\n",
        "    + (df_total_agg['minute_price'] * df_total_agg['duration'])\n",
        "    + df_total_agg['subscription_fee']\n",
        ")"
      ]
    },
    {
      "cell_type": "code",
      "execution_count": null,
      "id": "9aa4a811",
      "metadata": {
        "id": "9aa4a811",
        "outputId": "7ab922a0-e696-4da9-aa5d-53dff807cbe2"
      },
      "outputs": [
        {
          "data": {
            "text/html": [
              "<div>\n",
              "<style scoped>\n",
              "    .dataframe tbody tr th:only-of-type {\n",
              "        vertical-align: middle;\n",
              "    }\n",
              "\n",
              "    .dataframe tbody tr th {\n",
              "        vertical-align: top;\n",
              "    }\n",
              "\n",
              "    .dataframe thead th {\n",
              "        text-align: right;\n",
              "    }\n",
              "</style>\n",
              "<table border=\"1\" class=\"dataframe\">\n",
              "  <thead>\n",
              "    <tr style=\"text-align: right;\">\n",
              "      <th></th>\n",
              "      <th>user_id</th>\n",
              "      <th>month</th>\n",
              "      <th>count</th>\n",
              "      <th>distance</th>\n",
              "      <th>duration</th>\n",
              "      <th>name</th>\n",
              "      <th>age</th>\n",
              "      <th>city</th>\n",
              "      <th>subscription_type</th>\n",
              "      <th>minute_price</th>\n",
              "      <th>start_ride_price</th>\n",
              "      <th>subscription_fee</th>\n",
              "      <th>revenue</th>\n",
              "    </tr>\n",
              "  </thead>\n",
              "  <tbody>\n",
              "    <tr>\n",
              "      <th>0</th>\n",
              "      <td>1</td>\n",
              "      <td>1</td>\n",
              "      <td>2</td>\n",
              "      <td>7027.511294</td>\n",
              "      <td>42</td>\n",
              "      <td>Кира</td>\n",
              "      <td>22</td>\n",
              "      <td>Тюмень</td>\n",
              "      <td>ultra</td>\n",
              "      <td>6</td>\n",
              "      <td>0</td>\n",
              "      <td>199</td>\n",
              "      <td>451</td>\n",
              "    </tr>\n",
              "    <tr>\n",
              "      <th>1</th>\n",
              "      <td>1</td>\n",
              "      <td>4</td>\n",
              "      <td>1</td>\n",
              "      <td>754.159807</td>\n",
              "      <td>7</td>\n",
              "      <td>Кира</td>\n",
              "      <td>22</td>\n",
              "      <td>Тюмень</td>\n",
              "      <td>ultra</td>\n",
              "      <td>6</td>\n",
              "      <td>0</td>\n",
              "      <td>199</td>\n",
              "      <td>241</td>\n",
              "    </tr>\n",
              "    <tr>\n",
              "      <th>2</th>\n",
              "      <td>1</td>\n",
              "      <td>8</td>\n",
              "      <td>2</td>\n",
              "      <td>6723.470560</td>\n",
              "      <td>46</td>\n",
              "      <td>Кира</td>\n",
              "      <td>22</td>\n",
              "      <td>Тюмень</td>\n",
              "      <td>ultra</td>\n",
              "      <td>6</td>\n",
              "      <td>0</td>\n",
              "      <td>199</td>\n",
              "      <td>475</td>\n",
              "    </tr>\n",
              "    <tr>\n",
              "      <th>3</th>\n",
              "      <td>1</td>\n",
              "      <td>10</td>\n",
              "      <td>2</td>\n",
              "      <td>5809.911100</td>\n",
              "      <td>32</td>\n",
              "      <td>Кира</td>\n",
              "      <td>22</td>\n",
              "      <td>Тюмень</td>\n",
              "      <td>ultra</td>\n",
              "      <td>6</td>\n",
              "      <td>0</td>\n",
              "      <td>199</td>\n",
              "      <td>391</td>\n",
              "    </tr>\n",
              "    <tr>\n",
              "      <th>4</th>\n",
              "      <td>1</td>\n",
              "      <td>11</td>\n",
              "      <td>3</td>\n",
              "      <td>7003.499363</td>\n",
              "      <td>56</td>\n",
              "      <td>Кира</td>\n",
              "      <td>22</td>\n",
              "      <td>Тюмень</td>\n",
              "      <td>ultra</td>\n",
              "      <td>6</td>\n",
              "      <td>0</td>\n",
              "      <td>199</td>\n",
              "      <td>535</td>\n",
              "    </tr>\n",
              "    <tr>\n",
              "      <th>...</th>\n",
              "      <td>...</td>\n",
              "      <td>...</td>\n",
              "      <td>...</td>\n",
              "      <td>...</td>\n",
              "      <td>...</td>\n",
              "      <td>...</td>\n",
              "      <td>...</td>\n",
              "      <td>...</td>\n",
              "      <td>...</td>\n",
              "      <td>...</td>\n",
              "      <td>...</td>\n",
              "      <td>...</td>\n",
              "      <td>...</td>\n",
              "    </tr>\n",
              "    <tr>\n",
              "      <th>11295</th>\n",
              "      <td>1534</td>\n",
              "      <td>6</td>\n",
              "      <td>2</td>\n",
              "      <td>3409.468534</td>\n",
              "      <td>26</td>\n",
              "      <td>Альберт</td>\n",
              "      <td>25</td>\n",
              "      <td>Краснодар</td>\n",
              "      <td>free</td>\n",
              "      <td>8</td>\n",
              "      <td>50</td>\n",
              "      <td>0</td>\n",
              "      <td>308</td>\n",
              "    </tr>\n",
              "    <tr>\n",
              "      <th>11296</th>\n",
              "      <td>1534</td>\n",
              "      <td>8</td>\n",
              "      <td>2</td>\n",
              "      <td>7622.453034</td>\n",
              "      <td>48</td>\n",
              "      <td>Альберт</td>\n",
              "      <td>25</td>\n",
              "      <td>Краснодар</td>\n",
              "      <td>free</td>\n",
              "      <td>8</td>\n",
              "      <td>50</td>\n",
              "      <td>0</td>\n",
              "      <td>484</td>\n",
              "    </tr>\n",
              "    <tr>\n",
              "      <th>11297</th>\n",
              "      <td>1534</td>\n",
              "      <td>9</td>\n",
              "      <td>1</td>\n",
              "      <td>4928.173852</td>\n",
              "      <td>23</td>\n",
              "      <td>Альберт</td>\n",
              "      <td>25</td>\n",
              "      <td>Краснодар</td>\n",
              "      <td>free</td>\n",
              "      <td>8</td>\n",
              "      <td>50</td>\n",
              "      <td>0</td>\n",
              "      <td>234</td>\n",
              "    </tr>\n",
              "    <tr>\n",
              "      <th>11298</th>\n",
              "      <td>1534</td>\n",
              "      <td>11</td>\n",
              "      <td>4</td>\n",
              "      <td>13350.015305</td>\n",
              "      <td>78</td>\n",
              "      <td>Альберт</td>\n",
              "      <td>25</td>\n",
              "      <td>Краснодар</td>\n",
              "      <td>free</td>\n",
              "      <td>8</td>\n",
              "      <td>50</td>\n",
              "      <td>0</td>\n",
              "      <td>824</td>\n",
              "    </tr>\n",
              "    <tr>\n",
              "      <th>11299</th>\n",
              "      <td>1534</td>\n",
              "      <td>12</td>\n",
              "      <td>1</td>\n",
              "      <td>2371.711192</td>\n",
              "      <td>16</td>\n",
              "      <td>Альберт</td>\n",
              "      <td>25</td>\n",
              "      <td>Краснодар</td>\n",
              "      <td>free</td>\n",
              "      <td>8</td>\n",
              "      <td>50</td>\n",
              "      <td>0</td>\n",
              "      <td>178</td>\n",
              "    </tr>\n",
              "  </tbody>\n",
              "</table>\n",
              "<p>11300 rows × 13 columns</p>\n",
              "</div>"
            ],
            "text/plain": [
              "       user_id  month  count      distance  duration     name  age       city  \\\n",
              "0            1      1      2   7027.511294        42     Кира   22     Тюмень   \n",
              "1            1      4      1    754.159807         7     Кира   22     Тюмень   \n",
              "2            1      8      2   6723.470560        46     Кира   22     Тюмень   \n",
              "3            1     10      2   5809.911100        32     Кира   22     Тюмень   \n",
              "4            1     11      3   7003.499363        56     Кира   22     Тюмень   \n",
              "...        ...    ...    ...           ...       ...      ...  ...        ...   \n",
              "11295     1534      6      2   3409.468534        26  Альберт   25  Краснодар   \n",
              "11296     1534      8      2   7622.453034        48  Альберт   25  Краснодар   \n",
              "11297     1534      9      1   4928.173852        23  Альберт   25  Краснодар   \n",
              "11298     1534     11      4  13350.015305        78  Альберт   25  Краснодар   \n",
              "11299     1534     12      1   2371.711192        16  Альберт   25  Краснодар   \n",
              "\n",
              "      subscription_type  minute_price  start_ride_price  subscription_fee  \\\n",
              "0                 ultra             6                 0               199   \n",
              "1                 ultra             6                 0               199   \n",
              "2                 ultra             6                 0               199   \n",
              "3                 ultra             6                 0               199   \n",
              "4                 ultra             6                 0               199   \n",
              "...                 ...           ...               ...               ...   \n",
              "11295              free             8                50                 0   \n",
              "11296              free             8                50                 0   \n",
              "11297              free             8                50                 0   \n",
              "11298              free             8                50                 0   \n",
              "11299              free             8                50                 0   \n",
              "\n",
              "       revenue  \n",
              "0          451  \n",
              "1          241  \n",
              "2          475  \n",
              "3          391  \n",
              "4          535  \n",
              "...        ...  \n",
              "11295      308  \n",
              "11296      484  \n",
              "11297      234  \n",
              "11298      824  \n",
              "11299      178  \n",
              "\n",
              "[11300 rows x 13 columns]"
            ]
          },
          "execution_count": 46,
          "metadata": {},
          "output_type": "execute_result"
        }
      ],
      "source": [
        "df_total_agg"
      ]
    },
    {
      "cell_type": "markdown",
      "id": "a10ab529",
      "metadata": {
        "id": "a10ab529"
      },
      "source": [
        "### Проверка гипотез"
      ]
    },
    {
      "cell_type": "markdown",
      "id": "c47ecf57",
      "metadata": {
        "id": "c47ecf57"
      },
      "source": [
        "Продакт-менеджеры сервиса хотят увеличить количество пользователей с подпиской. Для этого они будут проводить различные акции, но сначала нужно выяснить несколько важных моментов."
      ]
    },
    {
      "cell_type": "markdown",
      "id": "7891f266",
      "metadata": {
        "id": "7891f266"
      },
      "source": [
        "#### Гипотеза: \"Пользователи с подпиской тратят больше времени на поездки, чем пользователи без подписки?\""
      ]
    },
    {
      "cell_type": "markdown",
      "id": "8c61b65f",
      "metadata": {
        "id": "8c61b65f"
      },
      "source": [
        "Необходимо выяснить, тратят ли пользователи с подпиской больше времени на поездки, чем пользователи без подписки? Если да, то пользователи с подпиской могут быть «выгоднее» для компании.<br/>"
      ]
    },
    {
      "cell_type": "markdown",
      "id": "49da1a67",
      "metadata": {
        "id": "49da1a67"
      },
      "source": [
        "**Гипотезы:**\n",
        "- **Гипотеза H0** — Среднее время поездок пользователей с подпиской и без равно.\n",
        "- **Гипотеза H1** — Среднее время поездок пользователей с подпиской Ultra больше, чем без."
      ]
    },
    {
      "cell_type": "markdown",
      "id": "a7f8851f",
      "metadata": {
        "id": "a7f8851f"
      },
      "source": [
        "Проверим гипотезы, используем исходные данные о продолжительности каждой сессии — отдельно для подписчиков и тех, у кого нет подписки."
      ]
    },
    {
      "cell_type": "code",
      "execution_count": null,
      "id": "d2067b85",
      "metadata": {
        "id": "d2067b85",
        "outputId": "aedf70ec-57f0-4197-e154-a9e28f0d3337"
      },
      "outputs": [
        {
          "name": "stdout",
          "output_type": "stream",
          "text": [
            "p-значение: 4.704468074453899e-28\n",
            "Отвергаем нулевую гипотезу о равенстве средней продолжительности поездок\n"
          ]
        }
      ],
      "source": [
        "alpha = 0.05 # Уровень статистической значимости\n",
        "\n",
        "# Проводим ttest для двух выборок, в качестве альтернативной используем одностороннюю гипотезу «больше»\n",
        "results = st.ttest_ind(\n",
        "    df_ultra['duration'],\n",
        "    df_free['duration'],\n",
        "    alternative='greater')\n",
        "\n",
        "print(f'p-значение: {results.pvalue}') # Получившееся p-значение\n",
        "\n",
        "# Проверяем p-value\n",
        "if results.pvalue < alpha:\n",
        "    print('Отвергаем нулевую гипотезу о равенстве средней продолжительности поездок')\n",
        "else:\n",
        "    print('Не получилось отвергнуть нулевую гипотезу о равенстве средней продолжительности поездок')"
      ]
    },
    {
      "cell_type": "markdown",
      "id": "c6886b1f",
      "metadata": {
        "id": "c6886b1f"
      },
      "source": [
        "**Вывод:** Проведенный статистический анализ показал, что пользователи с подпиской, в среднем, совершают более длительные поездки по сравнению с пользователями без подписки. Этот результат статистически значим на уровне 5%, что позволяет отвергнуть гипотезу о равенстве средних и сделать вывод о том, что пользователи с подпиской действительно тратят больше времени на поездки."
      ]
    },
    {
      "cell_type": "markdown",
      "id": "d5f86c11",
      "metadata": {
        "id": "d5f86c11"
      },
      "source": [
        "#### Гипотеза: \"Среднее расстояние, которое проезжают пользователи с подпиской за одну поездку, не превышает 3130 метров\""
      ]
    },
    {
      "cell_type": "markdown",
      "id": "a130eb41",
      "metadata": {
        "id": "a130eb41"
      },
      "source": [
        "Расстояние одной поездки в 3130 метров — оптимальное с точки зрения износа самоката. Можно ли сказать, что среднее расстояние, которое проезжают пользователи с подпиской за одну поездку, не превышает 3130 метров?"
      ]
    },
    {
      "cell_type": "markdown",
      "id": "28d0c0a9",
      "metadata": {
        "id": "28d0c0a9"
      },
      "source": [
        "**Гипотезы:**\n",
        "- **Гипотеза H0** — Среднее расстояние поездок с подпиской ultra равно 3130 метров.\n",
        "- **Гипотеза H1** — Среднее расстояние поездок с подпиской ultra больше 3130 метров."
      ]
    },
    {
      "cell_type": "markdown",
      "id": "30a02100",
      "metadata": {
        "id": "30a02100"
      },
      "source": [
        "Проверим гипотезы, используем исходные данные о преодолённом расстоянии для пользователей с подпиской."
      ]
    },
    {
      "cell_type": "code",
      "execution_count": null,
      "id": "d69cd48d",
      "metadata": {
        "id": "d69cd48d",
        "outputId": "02a1e140-be14-41f8-ae65-ca73460358b5"
      },
      "outputs": [
        {
          "name": "stdout",
          "output_type": "stream",
          "text": [
            "p-значение: 0.9195368847849785\n",
            "Не получилось отвергнуть нулевую гипотезу\n"
          ]
        }
      ],
      "source": [
        "distance_value = 3130\n",
        "\n",
        "alpha = 0.05\n",
        "\n",
        "results = st.ttest_1samp(\n",
        "    df_ultra['distance'],\n",
        "    distance_value,\n",
        "    alternative='greater')\n",
        "\n",
        "print(f'p-значение: {results.pvalue}') # Получившееся p-значение\n",
        "\n",
        "# Проверяем p-value\n",
        "if results.pvalue < alpha:\n",
        "    print('Отвергаем нулевую гипотезу')\n",
        "else:\n",
        "    print('Не получилось отвергнуть нулевую гипотезу')"
      ]
    },
    {
      "cell_type": "markdown",
      "id": "74559560",
      "metadata": {
        "id": "74559560"
      },
      "source": [
        "**Вывод:** На основе проведенного статистического анализа не было найдено достаточных оснований для утверждения, что среднее расстояние одной поездки для пользователей с подпиской \"ultra\" превышает оптимальное значение в 3130 метров. Нулевую гипотезу неудалось отвергнуть."
      ]
    },
    {
      "cell_type": "markdown",
      "id": "b83befff",
      "metadata": {
        "id": "b83befff"
      },
      "source": [
        "#### Гипотеза: \"Помесячная выручка от пользователей с подпиской по месяцам выше, чем выручка от пользователей без подписки\""
      ]
    },
    {
      "cell_type": "markdown",
      "id": "f031b7b5",
      "metadata": {
        "id": "f031b7b5"
      },
      "source": [
        "Проверим гипотезу о том, будет ли помесячная выручка от пользователей с подпиской по месяцам выше, чем выручка от пользователей без подписки."
      ]
    },
    {
      "cell_type": "markdown",
      "id": "300a136d",
      "metadata": {
        "id": "300a136d"
      },
      "source": [
        "**Гипотезы:**\n",
        "- **Гипотеза H0** — Средняя помесячная выручка от пользователей с подпиской и без равны.\n",
        "- **Гипотеза H1** — Средняя помесячная выручка от пользователей с подпиской больше, чем у пользователей без подписки."
      ]
    },
    {
      "cell_type": "code",
      "execution_count": null,
      "id": "316e96e9",
      "metadata": {
        "id": "316e96e9",
        "outputId": "f5ea6664-939e-465a-ed67-3c72467d7fc7"
      },
      "outputs": [
        {
          "name": "stdout",
          "output_type": "stream",
          "text": [
            "p-значение: 2.0314113674863288e-30\n",
            "Отвергаем нулевую гипотезу\n"
          ]
        }
      ],
      "source": [
        "alpha = 0.05\n",
        "\n",
        "results = st.ttest_ind(\n",
        "    df_total_agg.loc[df_total_agg['subscription_fee'] > 0, 'revenue'],\n",
        "    df_total_agg.loc[df_total_agg['subscription_fee'] == 0, 'revenue'],\n",
        "    alternative='greater')\n",
        "\n",
        "print(f'p-значение: {results.pvalue}') # Получившееся p-значение\n",
        "\n",
        "# Проверяем p-value\n",
        "if results.pvalue < alpha:\n",
        "    print('Отвергаем нулевую гипотезу')\n",
        "else:\n",
        "    print('Не получилось отвергнуть нулевую гипотезу')"
      ]
    },
    {
      "cell_type": "markdown",
      "id": "286d59be",
      "metadata": {
        "id": "286d59be"
      },
      "source": [
        "**Вывод:** Нулевая гипотеза отвергнута. Предварительно можно говорить, что пользователи с подпиской приносят компании больше денег в среднем за месяц, чем те, у кого нет подписки."
      ]
    },
    {
      "cell_type": "markdown",
      "id": "15ef8c3a",
      "metadata": {
        "id": "15ef8c3a"
      },
      "source": [
        "#### Выбрать тест для проверки гипотезы"
      ]
    },
    {
      "cell_type": "markdown",
      "id": "6cf4cb7e",
      "metadata": {
        "id": "6cf4cb7e"
      },
      "source": [
        "**Задача:** Представьте такую ситуацию: техническая команда сервиса обновила сервера, с которыми взаимодействует мобильное приложение. Она надеется, что из-за этого количество обращений в техподдержку значимо снизилось. Некоторый файл содержит для каждого пользователя данные о количестве обращений до обновления и после него. Какой тест вам понадобился бы для проверки этой гипотезы?"
      ]
    },
    {
      "cell_type": "markdown",
      "id": "bf090d80",
      "metadata": {
        "id": "bf090d80"
      },
      "source": [
        "**Возможное решение:** У нас есть данные о каждом пользователе до и после обновления серверов, то есть данные парные. Для решения этой задачи можно использовать парный t-тест. Этот метод позволит сравнить среднее количество обращений одного и того же пользователя до и после обновления серверов. Для этого подойдёт метод scipy.stats.ttest_rel(), в который мы передадим наборы данных до обновления и после."
      ]
    },
    {
      "cell_type": "markdown",
      "id": "cc91fc7f",
      "metadata": {
        "id": "cc91fc7f"
      },
      "source": [
        "**ВЫВОД ПО РАЗДЕЛУ:**\n",
        "В ходе проверки гипотез были получены следующие выводы:\n",
        "- Пользователи с подпиской, в среднем, совершают более длительные поездки по сравнению с пользователями без подписки.\n",
        "- Среднее растояние, проезжаемое пользователями сервиса с подпиской, не превышает оптимального значения в 3130 метров.\n",
        "- Пользователи с подпиской приносят компании больше денег в среднем за месяц, чем те, у кого нет подписки.\n",
        "\n",
        "Модель подписки демонстрирует высокую эффективность. Подписчики более активно пользуются сервисом и приносят компании больше дохода.<br/>\n",
        "Полученные результаты указывают на потенциал для дальнейшего развития подписной модели. Можно рассмотреть возможность расширения спектра подписок, разработки новых тарифных планов и персонализированных предложений для подписчиков."
      ]
    },
    {
      "cell_type": "markdown",
      "id": "d4db6cee",
      "metadata": {
        "id": "d4db6cee"
      },
      "source": [
        "### Общий вывод"
      ]
    },
    {
      "cell_type": "markdown",
      "id": "e1e68021",
      "metadata": {
        "id": "e1e68021"
      },
      "source": [
        "В ходе исследования данных о пользователях сервиса аренды самокатов — GoFast, был проведён комплексный анализ данных сервиса аренды самокатов GoFast с целью выявления закономерностей, проверки гипотез и разработки рекомендаций для бизнеса. <br/>\n",
        "<br/>\n",
        "Для этого были проведены следующие этапы работ:<br/>\n",
        "\n",
        "1. **Загрузка данных**\n",
        " - Была считана и изучена общая информация о трёх предоставленных CSV-файлов:\n",
        "  - *df_users* состоит из 5 столбцов и 1565 записей. В данных отсутствуют пропуски.\n",
        "  - *df_rides* состоит из 4 столбцов и 18068 записей. В данных отсутствуют пропуски. Поле *date* имеет тип данных *object*.\n",
        "  - *df_subs* состоит из 4 столбцов и 2 записей.\n",
        " - Для каждого датафрейма были построены гистограммы, для визуального представления данных.\n",
        "\n",
        "2. **Предобработка данных**\n",
        " - Датафреймы были проверены на наличие дубликатов и пропусков\n",
        "  - *df_users* — Пропусков не обнаружено. Явные дубликаты в количестве 31 удалены.\n",
        "  - *df_rides* — Пропусков и дубликатов не обнаружено.\n",
        "  - *df_subs* — Пропусков и дубликатов не обнаружено.\n",
        " - Изменили тип данных столбца *date* датафрейма *df_rides* на datetime\n",
        " - Создали новый столбец с номером месяца на основе столбца *date*\n",
        "\n",
        "3. **Исследовательский анализ данных**\n",
        " Выяснили:\n",
        " - В датафреймах содержатся данные о пользователях сервиса из 8 городов. Больше всего пользователей в Пятигорске (219). Меньше всего пользователей в Москве (168).\n",
        " - Количество пользователей без подписки — 835, с подпиской 'ultra' — 699\n",
        " - Средний возраст пользователей сервиса составляет 24,9. Возраст пользователей представлен в диапазоне от 12 до 43 лет.\n",
        " - За одну поездку пользователи преодолевают расстояние от 1 м до 7211 м. В данных наблюдается два пика, один в районе 600 м, второй около 3100 м. Среднее расстояние, преодолеваемое за одну поездку составляет примерно 3 километра. Медиана 3134 м. Малый пик в районе 600 метров может свидетельствовать о том, что пользователи используют поездки на самокатах, даже на короткие расстояния, от дома до магазина, до метро и т.д. Основная же масса поездок приходится на расстояния в диапазоне 2,5 до 3,5 км.\n",
        " - Продолжительность одной поездки нормально распределена от 2 ло 41 минуты. Среднее и медианные значения находятся в районе 18 минут и являются наиболее распространенными. В данных присутствовали записи поездок с продолжительностью 0.5 минут и аномально большими расстояниями поездок. Было принято решение удалить 95 записей с аномалиями.\n",
        "\n",
        "4. **Объединение данных**\n",
        " - Объединили данные о пользователях, поездказ и подписках из разных датафреймов в один *df_total*.\n",
        " - Создали два датафрейма с пользователями с подпиской и без подписки *df_ultra* и *df_free*.\n",
        " - Визуализировали информацию о расстоянии и времени поездок для пользователей обеих категорий.\n",
        "\n",
        "5. **Подсчёт выручки**\n",
        " - Создали датафрейм, агрегированный по пользователям на основе *df_total*.\n",
        " - Добавили столбец *revenue* с помесячной выручкой, которую принёс каждый пользователь.\n",
        "\n",
        "6. **Проверка гипотез**\n",
        " - Гипотеза: \"Пользователи с подпиской тратят больше времени на поездки?\"\n",
        " - Гипотеза: \"Среднее расстояние, которое проезжают пользователи с подпиской за одну поездку, не превышает 3130 метров\"\n",
        " - Гипотеза: \"Помесячная выручка от пользователей с подпиской по месяцам выше, чем выручка от пользователей без подписки\"\n",
        " - Выбрать тест для проверки гипотезы\n",
        "\n",
        "**Полученные выводы:**<br/>\n",
        "\n",
        "- Пользователи с подпиской ultra в среднем проводят больше времени в поездке немного (18.5 минут) по сравнению с пользователями без подписки (17.5 минуты).\n",
        "- Нельзя утверждать, что пользователи с подпиской в среднем проезжают более 3130 метров за одну поездку. Но значение близко к оптимальному с точки зрения износа самоката.\n",
        "- Есть основания утверждать, что пользователи с подпиской приносят компании больше денег в среднем за месяц, чем те, у кого нет подписки. Этот результат является статистически значимым, что подтверждает эффективность модели подписки.\n",
        "\n",
        "**Рекомендации:**<br/>\n",
        "На основе проведённого анализа рекомендуется\n",
        "- Предложить пользователям различные варианты подписки с гибкими условиями и возможностью отмены в любое время.\n",
        "- Проанализировать данные о маршрутах пользователей, чтобы выявить наиболее популярные направления и оптимизировать сеть стоянок самокатов.\n",
        "- Разрабатывать специальные сезонные предложения для подписчиков, чтобы повысить их лояльность.\n",
        "- Активно собирать обратную связь от пользователей и использовать ее для улучшения сервиса."
      ]
    }
  ],
  "metadata": {
    "ExecuteTimeLog": [
      {
        "duration": 1375,
        "start_time": "2024-08-20T12:27:00.532Z"
      },
      {
        "duration": 365,
        "start_time": "2024-08-20T12:31:55.768Z"
      },
      {
        "duration": 241,
        "start_time": "2024-08-20T12:40:33.081Z"
      },
      {
        "duration": 221,
        "start_time": "2024-08-20T12:43:30.814Z"
      },
      {
        "duration": 10,
        "start_time": "2024-08-20T12:45:10.256Z"
      },
      {
        "duration": 10,
        "start_time": "2024-08-20T12:45:13.642Z"
      },
      {
        "duration": 14,
        "start_time": "2024-08-20T12:46:57.216Z"
      },
      {
        "duration": 15,
        "start_time": "2024-08-20T12:48:48.694Z"
      },
      {
        "duration": 229,
        "start_time": "2024-08-20T12:50:48.994Z"
      },
      {
        "duration": 94,
        "start_time": "2024-08-20T12:56:29.383Z"
      },
      {
        "duration": 238,
        "start_time": "2024-08-20T12:56:37.495Z"
      },
      {
        "duration": 154,
        "start_time": "2024-08-20T12:56:48.498Z"
      },
      {
        "duration": 166,
        "start_time": "2024-08-20T12:56:54.347Z"
      },
      {
        "duration": 274,
        "start_time": "2024-08-20T12:57:03.940Z"
      },
      {
        "duration": 8,
        "start_time": "2024-08-20T12:59:38.951Z"
      },
      {
        "duration": 11,
        "start_time": "2024-08-20T12:59:41.732Z"
      },
      {
        "duration": 19,
        "start_time": "2024-08-20T12:59:43.787Z"
      },
      {
        "duration": 258,
        "start_time": "2024-08-20T12:59:46.139Z"
      },
      {
        "duration": 232,
        "start_time": "2024-08-20T13:00:44.844Z"
      },
      {
        "duration": 458,
        "start_time": "2024-08-20T13:02:24.628Z"
      },
      {
        "duration": 1161,
        "start_time": "2024-08-20T13:06:38.284Z"
      },
      {
        "duration": 73,
        "start_time": "2024-08-20T13:06:39.447Z"
      },
      {
        "duration": 11,
        "start_time": "2024-08-20T13:06:39.521Z"
      },
      {
        "duration": 12,
        "start_time": "2024-08-20T13:06:39.533Z"
      },
      {
        "duration": 13,
        "start_time": "2024-08-20T13:06:39.547Z"
      },
      {
        "duration": 242,
        "start_time": "2024-08-20T13:06:39.561Z"
      },
      {
        "duration": 9,
        "start_time": "2024-08-20T13:06:39.807Z"
      },
      {
        "duration": 35,
        "start_time": "2024-08-20T13:06:39.817Z"
      },
      {
        "duration": 28,
        "start_time": "2024-08-20T13:06:39.854Z"
      },
      {
        "duration": 4969,
        "start_time": "2024-08-20T13:06:39.883Z"
      },
      {
        "duration": 6,
        "start_time": "2024-08-20T13:06:44.853Z"
      },
      {
        "duration": 20,
        "start_time": "2024-08-20T13:06:44.861Z"
      },
      {
        "duration": 25,
        "start_time": "2024-08-20T13:06:44.883Z"
      },
      {
        "duration": 35,
        "start_time": "2024-08-20T13:06:44.910Z"
      },
      {
        "duration": 1067,
        "start_time": "2024-08-20T13:08:21.268Z"
      },
      {
        "duration": 71,
        "start_time": "2024-08-20T13:08:22.336Z"
      },
      {
        "duration": 11,
        "start_time": "2024-08-20T13:08:22.409Z"
      },
      {
        "duration": 10,
        "start_time": "2024-08-20T13:08:22.423Z"
      },
      {
        "duration": 15,
        "start_time": "2024-08-20T13:08:22.435Z"
      },
      {
        "duration": 255,
        "start_time": "2024-08-20T13:08:22.452Z"
      },
      {
        "duration": 8,
        "start_time": "2024-08-20T13:08:22.709Z"
      },
      {
        "duration": 12,
        "start_time": "2024-08-20T13:08:22.718Z"
      },
      {
        "duration": 24,
        "start_time": "2024-08-20T13:08:22.731Z"
      },
      {
        "duration": 482,
        "start_time": "2024-08-20T13:08:22.757Z"
      },
      {
        "duration": 6,
        "start_time": "2024-08-20T13:08:23.240Z"
      },
      {
        "duration": 15,
        "start_time": "2024-08-20T13:08:23.248Z"
      },
      {
        "duration": 1247,
        "start_time": "2024-08-20T13:11:43.714Z"
      },
      {
        "duration": 73,
        "start_time": "2024-08-20T13:11:44.963Z"
      },
      {
        "duration": 12,
        "start_time": "2024-08-20T13:11:45.038Z"
      },
      {
        "duration": 35,
        "start_time": "2024-08-20T13:11:45.051Z"
      },
      {
        "duration": 19,
        "start_time": "2024-08-20T13:11:45.087Z"
      },
      {
        "duration": 262,
        "start_time": "2024-08-20T13:11:45.108Z"
      },
      {
        "duration": 8,
        "start_time": "2024-08-20T13:11:45.372Z"
      },
      {
        "duration": 36,
        "start_time": "2024-08-20T13:11:45.381Z"
      },
      {
        "duration": 24,
        "start_time": "2024-08-20T13:11:45.419Z"
      },
      {
        "duration": 493,
        "start_time": "2024-08-20T13:11:45.445Z"
      },
      {
        "duration": 7,
        "start_time": "2024-08-20T13:11:45.939Z"
      },
      {
        "duration": 14,
        "start_time": "2024-08-20T13:11:45.948Z"
      },
      {
        "duration": 7,
        "start_time": "2024-08-20T13:17:48.201Z"
      },
      {
        "duration": 7,
        "start_time": "2024-08-20T13:17:53.401Z"
      },
      {
        "duration": 15,
        "start_time": "2024-08-20T13:18:02.530Z"
      },
      {
        "duration": 5,
        "start_time": "2024-08-20T13:18:06.250Z"
      },
      {
        "duration": 5,
        "start_time": "2024-08-20T13:18:24.641Z"
      },
      {
        "duration": 8,
        "start_time": "2024-08-20T13:20:37.675Z"
      },
      {
        "duration": 8,
        "start_time": "2024-08-20T13:24:44.640Z"
      },
      {
        "duration": 8,
        "start_time": "2024-08-20T13:24:49.148Z"
      },
      {
        "duration": 7,
        "start_time": "2024-08-20T13:34:57.456Z"
      },
      {
        "duration": 6,
        "start_time": "2024-08-20T13:36:51.023Z"
      },
      {
        "duration": 10,
        "start_time": "2024-08-20T13:36:59.328Z"
      },
      {
        "duration": 1111,
        "start_time": "2024-08-20T13:37:28.623Z"
      },
      {
        "duration": 73,
        "start_time": "2024-08-20T13:37:29.736Z"
      },
      {
        "duration": 13,
        "start_time": "2024-08-20T13:37:29.810Z"
      },
      {
        "duration": 11,
        "start_time": "2024-08-20T13:37:29.824Z"
      },
      {
        "duration": 29,
        "start_time": "2024-08-20T13:37:29.837Z"
      },
      {
        "duration": 246,
        "start_time": "2024-08-20T13:37:29.867Z"
      },
      {
        "duration": 8,
        "start_time": "2024-08-20T13:37:30.114Z"
      },
      {
        "duration": 22,
        "start_time": "2024-08-20T13:37:30.123Z"
      },
      {
        "duration": 33,
        "start_time": "2024-08-20T13:37:30.147Z"
      },
      {
        "duration": 481,
        "start_time": "2024-08-20T13:37:30.181Z"
      },
      {
        "duration": 7,
        "start_time": "2024-08-20T13:37:30.663Z"
      },
      {
        "duration": 30,
        "start_time": "2024-08-20T13:37:30.671Z"
      },
      {
        "duration": 25,
        "start_time": "2024-08-20T13:37:30.702Z"
      },
      {
        "duration": 17,
        "start_time": "2024-08-20T13:37:30.729Z"
      },
      {
        "duration": 13,
        "start_time": "2024-08-20T13:37:30.747Z"
      },
      {
        "duration": 10,
        "start_time": "2024-08-20T13:37:30.762Z"
      },
      {
        "duration": 18,
        "start_time": "2024-08-20T13:37:30.773Z"
      },
      {
        "duration": 6,
        "start_time": "2024-08-20T13:37:30.792Z"
      },
      {
        "duration": 13,
        "start_time": "2024-08-20T13:37:30.799Z"
      },
      {
        "duration": 9,
        "start_time": "2024-08-20T13:40:26.277Z"
      },
      {
        "duration": 96,
        "start_time": "2024-08-20T13:41:05.729Z"
      },
      {
        "duration": 14,
        "start_time": "2024-08-20T13:41:17.088Z"
      },
      {
        "duration": 9,
        "start_time": "2024-08-20T13:41:33.025Z"
      },
      {
        "duration": 11,
        "start_time": "2024-08-20T13:41:55.421Z"
      },
      {
        "duration": 10,
        "start_time": "2024-08-20T13:42:01.307Z"
      },
      {
        "duration": 97,
        "start_time": "2024-08-20T13:44:07.116Z"
      },
      {
        "duration": 9,
        "start_time": "2024-08-20T13:44:47.187Z"
      },
      {
        "duration": 5,
        "start_time": "2024-08-20T13:44:54.429Z"
      },
      {
        "duration": 7,
        "start_time": "2024-08-20T13:45:23.516Z"
      },
      {
        "duration": 184,
        "start_time": "2024-08-20T13:57:57.780Z"
      },
      {
        "duration": 85,
        "start_time": "2024-08-20T13:58:55.832Z"
      },
      {
        "duration": 121,
        "start_time": "2024-08-20T13:59:03.508Z"
      },
      {
        "duration": 95,
        "start_time": "2024-08-20T13:59:11.963Z"
      },
      {
        "duration": 90,
        "start_time": "2024-08-20T14:00:16.184Z"
      },
      {
        "duration": 139,
        "start_time": "2024-08-20T14:00:20.792Z"
      },
      {
        "duration": 171,
        "start_time": "2024-08-20T14:00:26.087Z"
      },
      {
        "duration": 170,
        "start_time": "2024-08-20T14:01:08.871Z"
      },
      {
        "duration": 243,
        "start_time": "2024-08-20T14:01:52.631Z"
      },
      {
        "duration": 165,
        "start_time": "2024-08-20T14:10:26.322Z"
      },
      {
        "duration": 178,
        "start_time": "2024-08-20T14:11:16.734Z"
      },
      {
        "duration": 20816,
        "start_time": "2024-08-20T14:13:49.806Z"
      },
      {
        "duration": 21511,
        "start_time": "2024-08-20T14:14:34.574Z"
      },
      {
        "duration": 20867,
        "start_time": "2024-08-20T14:15:00.304Z"
      },
      {
        "duration": 128,
        "start_time": "2024-08-20T14:15:31.440Z"
      },
      {
        "duration": 135,
        "start_time": "2024-08-20T14:16:15.073Z"
      },
      {
        "duration": 164,
        "start_time": "2024-08-20T14:17:32.858Z"
      },
      {
        "duration": 177,
        "start_time": "2024-08-20T14:18:18.131Z"
      },
      {
        "duration": 129,
        "start_time": "2024-08-20T14:19:55.740Z"
      },
      {
        "duration": 532,
        "start_time": "2024-08-20T14:20:17.713Z"
      },
      {
        "duration": 131,
        "start_time": "2024-08-20T14:20:22.098Z"
      },
      {
        "duration": 138,
        "start_time": "2024-08-20T14:23:52.805Z"
      },
      {
        "duration": 24,
        "start_time": "2024-08-20T14:24:07.963Z"
      },
      {
        "duration": 134,
        "start_time": "2024-08-20T14:24:25.854Z"
      },
      {
        "duration": 169,
        "start_time": "2024-08-20T14:25:38.863Z"
      },
      {
        "duration": 168,
        "start_time": "2024-08-20T14:27:11.265Z"
      },
      {
        "duration": 167,
        "start_time": "2024-08-20T14:27:20.693Z"
      },
      {
        "duration": 171,
        "start_time": "2024-08-20T14:33:53.946Z"
      },
      {
        "duration": 139,
        "start_time": "2024-08-20T14:34:01.632Z"
      },
      {
        "duration": 139,
        "start_time": "2024-08-20T14:34:32.098Z"
      },
      {
        "duration": 138,
        "start_time": "2024-08-20T14:34:35.443Z"
      },
      {
        "duration": 141,
        "start_time": "2024-08-20T14:34:41.913Z"
      },
      {
        "duration": 229,
        "start_time": "2024-08-20T14:36:32.237Z"
      },
      {
        "duration": 127,
        "start_time": "2024-08-20T14:36:37.539Z"
      },
      {
        "duration": 165,
        "start_time": "2024-08-20T14:38:02.363Z"
      },
      {
        "duration": 157,
        "start_time": "2024-08-20T14:38:26.559Z"
      },
      {
        "duration": 167,
        "start_time": "2024-08-20T14:40:01.868Z"
      },
      {
        "duration": 165,
        "start_time": "2024-08-20T14:40:15.032Z"
      },
      {
        "duration": 178,
        "start_time": "2024-08-20T14:44:07.016Z"
      },
      {
        "duration": 171,
        "start_time": "2024-08-20T14:44:10.397Z"
      },
      {
        "duration": 168,
        "start_time": "2024-08-20T14:44:17.461Z"
      },
      {
        "duration": 163,
        "start_time": "2024-08-20T14:44:20.630Z"
      },
      {
        "duration": 334,
        "start_time": "2024-08-20T14:46:19.808Z"
      },
      {
        "duration": 275,
        "start_time": "2024-08-20T14:46:27.112Z"
      },
      {
        "duration": 257,
        "start_time": "2024-08-20T14:46:30.165Z"
      },
      {
        "duration": 254,
        "start_time": "2024-08-20T14:46:39.689Z"
      },
      {
        "duration": 251,
        "start_time": "2024-08-20T14:46:58.528Z"
      },
      {
        "duration": 236,
        "start_time": "2024-08-20T14:47:08.967Z"
      },
      {
        "duration": 284,
        "start_time": "2024-08-20T14:47:12.544Z"
      },
      {
        "duration": 196,
        "start_time": "2024-08-20T14:47:48.775Z"
      },
      {
        "duration": 44,
        "start_time": "2024-08-21T11:35:58.497Z"
      },
      {
        "duration": 1317,
        "start_time": "2024-08-21T11:36:14.374Z"
      },
      {
        "duration": 406,
        "start_time": "2024-08-21T11:36:15.693Z"
      },
      {
        "duration": 12,
        "start_time": "2024-08-21T11:36:16.100Z"
      },
      {
        "duration": 16,
        "start_time": "2024-08-21T11:36:16.114Z"
      },
      {
        "duration": 13,
        "start_time": "2024-08-21T11:36:16.132Z"
      },
      {
        "duration": 234,
        "start_time": "2024-08-21T11:36:16.147Z"
      },
      {
        "duration": 8,
        "start_time": "2024-08-21T11:36:16.386Z"
      },
      {
        "duration": 11,
        "start_time": "2024-08-21T11:36:16.395Z"
      },
      {
        "duration": 18,
        "start_time": "2024-08-21T11:36:16.407Z"
      },
      {
        "duration": 502,
        "start_time": "2024-08-21T11:36:16.428Z"
      },
      {
        "duration": 6,
        "start_time": "2024-08-21T11:36:16.932Z"
      },
      {
        "duration": 19,
        "start_time": "2024-08-21T11:36:16.939Z"
      },
      {
        "duration": 8,
        "start_time": "2024-08-21T11:36:16.960Z"
      },
      {
        "duration": 10,
        "start_time": "2024-08-21T11:36:16.970Z"
      },
      {
        "duration": 7,
        "start_time": "2024-08-21T11:36:16.986Z"
      },
      {
        "duration": 13,
        "start_time": "2024-08-21T11:36:16.994Z"
      },
      {
        "duration": 7,
        "start_time": "2024-08-21T11:36:17.008Z"
      },
      {
        "duration": 7,
        "start_time": "2024-08-21T11:36:17.016Z"
      },
      {
        "duration": 10,
        "start_time": "2024-08-21T11:36:17.025Z"
      },
      {
        "duration": 191,
        "start_time": "2024-08-21T11:36:17.037Z"
      },
      {
        "duration": 160,
        "start_time": "2024-08-21T11:36:17.229Z"
      },
      {
        "duration": 176,
        "start_time": "2024-08-21T11:36:17.390Z"
      },
      {
        "duration": 280,
        "start_time": "2024-08-21T11:36:17.567Z"
      },
      {
        "duration": 252,
        "start_time": "2024-08-21T11:36:17.848Z"
      },
      {
        "duration": 193,
        "start_time": "2024-08-21T11:37:00.766Z"
      },
      {
        "duration": 170,
        "start_time": "2024-08-21T11:38:48.337Z"
      },
      {
        "duration": 181,
        "start_time": "2024-08-21T11:39:00.588Z"
      },
      {
        "duration": 190,
        "start_time": "2024-08-21T11:43:46.755Z"
      },
      {
        "duration": 194,
        "start_time": "2024-08-21T11:49:14.612Z"
      },
      {
        "duration": 167,
        "start_time": "2024-08-21T11:49:22.669Z"
      },
      {
        "duration": 171,
        "start_time": "2024-08-21T11:49:28.687Z"
      },
      {
        "duration": 33,
        "start_time": "2024-08-21T12:11:47.529Z"
      },
      {
        "duration": 13,
        "start_time": "2024-08-21T12:13:14.721Z"
      },
      {
        "duration": 20,
        "start_time": "2024-08-21T12:13:38.711Z"
      },
      {
        "duration": 16,
        "start_time": "2024-08-21T12:16:08.639Z"
      },
      {
        "duration": 17,
        "start_time": "2024-08-21T12:16:14.582Z"
      },
      {
        "duration": 21,
        "start_time": "2024-08-21T12:24:29.373Z"
      },
      {
        "duration": 118,
        "start_time": "2024-08-21T12:25:05.923Z"
      },
      {
        "duration": 224,
        "start_time": "2024-08-21T12:29:03.564Z"
      },
      {
        "duration": 244,
        "start_time": "2024-08-21T12:29:19.388Z"
      },
      {
        "duration": 151,
        "start_time": "2024-08-21T12:31:17.304Z"
      },
      {
        "duration": 339,
        "start_time": "2024-08-21T12:31:30.851Z"
      },
      {
        "duration": 187,
        "start_time": "2024-08-21T12:32:21.438Z"
      },
      {
        "duration": 195,
        "start_time": "2024-08-21T12:32:27.730Z"
      },
      {
        "duration": 325,
        "start_time": "2024-08-21T12:32:40.333Z"
      },
      {
        "duration": 236,
        "start_time": "2024-08-21T12:36:31.805Z"
      },
      {
        "duration": 227,
        "start_time": "2024-08-21T12:36:43.583Z"
      },
      {
        "duration": 8,
        "start_time": "2024-08-21T12:37:26.550Z"
      },
      {
        "duration": 262,
        "start_time": "2024-08-21T12:37:30.037Z"
      },
      {
        "duration": 7,
        "start_time": "2024-08-21T12:37:33.718Z"
      },
      {
        "duration": 217,
        "start_time": "2024-08-21T12:38:58.520Z"
      },
      {
        "duration": 217,
        "start_time": "2024-08-21T12:39:44.713Z"
      },
      {
        "duration": 302,
        "start_time": "2024-08-21T12:39:54.602Z"
      },
      {
        "duration": 214,
        "start_time": "2024-08-21T12:41:14.855Z"
      },
      {
        "duration": 216,
        "start_time": "2024-08-21T12:42:00.649Z"
      },
      {
        "duration": 215,
        "start_time": "2024-08-21T12:42:11.056Z"
      },
      {
        "duration": 9,
        "start_time": "2024-08-21T12:42:35.097Z"
      },
      {
        "duration": 8,
        "start_time": "2024-08-21T12:42:36.751Z"
      },
      {
        "duration": 6,
        "start_time": "2024-08-21T13:28:40.251Z"
      },
      {
        "duration": 3,
        "start_time": "2024-08-21T13:29:52.267Z"
      },
      {
        "duration": 5,
        "start_time": "2024-08-21T13:29:57.419Z"
      },
      {
        "duration": 3,
        "start_time": "2024-08-21T13:31:00.820Z"
      },
      {
        "duration": 5,
        "start_time": "2024-08-21T13:31:08.456Z"
      },
      {
        "duration": 99,
        "start_time": "2024-08-21T13:31:25.316Z"
      },
      {
        "duration": 8,
        "start_time": "2024-08-21T13:31:31.035Z"
      },
      {
        "duration": 31,
        "start_time": "2024-08-21T13:31:49.547Z"
      },
      {
        "duration": 13,
        "start_time": "2024-08-21T13:31:58.518Z"
      },
      {
        "duration": 24,
        "start_time": "2024-08-21T13:38:33.914Z"
      },
      {
        "duration": 14,
        "start_time": "2024-08-21T13:38:44.930Z"
      },
      {
        "duration": 33,
        "start_time": "2024-08-21T13:41:44.852Z"
      },
      {
        "duration": 24,
        "start_time": "2024-08-21T13:42:26.233Z"
      },
      {
        "duration": 255,
        "start_time": "2024-08-21T13:47:32.346Z"
      },
      {
        "duration": 239,
        "start_time": "2024-08-21T13:47:47.309Z"
      },
      {
        "duration": 35,
        "start_time": "2024-08-21T13:48:42.839Z"
      },
      {
        "duration": 27,
        "start_time": "2024-08-21T13:57:07.739Z"
      },
      {
        "duration": 16,
        "start_time": "2024-08-21T13:57:13.738Z"
      },
      {
        "duration": 24,
        "start_time": "2024-08-21T13:57:27.510Z"
      },
      {
        "duration": 16,
        "start_time": "2024-08-21T13:57:29.385Z"
      },
      {
        "duration": 38,
        "start_time": "2024-08-21T13:57:39.450Z"
      },
      {
        "duration": 36,
        "start_time": "2024-08-21T13:58:27.784Z"
      },
      {
        "duration": 37,
        "start_time": "2024-08-21T13:58:49.114Z"
      },
      {
        "duration": 38,
        "start_time": "2024-08-21T13:58:58.779Z"
      },
      {
        "duration": 1147,
        "start_time": "2024-08-21T13:59:05.365Z"
      },
      {
        "duration": 79,
        "start_time": "2024-08-21T13:59:06.514Z"
      },
      {
        "duration": 11,
        "start_time": "2024-08-21T13:59:06.595Z"
      },
      {
        "duration": 11,
        "start_time": "2024-08-21T13:59:06.607Z"
      },
      {
        "duration": 19,
        "start_time": "2024-08-21T13:59:06.619Z"
      },
      {
        "duration": 169,
        "start_time": "2024-08-21T13:59:06.639Z"
      },
      {
        "duration": 8,
        "start_time": "2024-08-21T13:59:06.809Z"
      },
      {
        "duration": 12,
        "start_time": "2024-08-21T13:59:06.819Z"
      },
      {
        "duration": 17,
        "start_time": "2024-08-21T13:59:06.832Z"
      },
      {
        "duration": 369,
        "start_time": "2024-08-21T13:59:06.851Z"
      },
      {
        "duration": 7,
        "start_time": "2024-08-21T13:59:07.222Z"
      },
      {
        "duration": 11,
        "start_time": "2024-08-21T13:59:07.230Z"
      },
      {
        "duration": 5,
        "start_time": "2024-08-21T13:59:07.242Z"
      },
      {
        "duration": 9,
        "start_time": "2024-08-21T13:59:07.248Z"
      },
      {
        "duration": 29,
        "start_time": "2024-08-21T13:59:07.258Z"
      },
      {
        "duration": 6,
        "start_time": "2024-08-21T13:59:07.289Z"
      },
      {
        "duration": 15,
        "start_time": "2024-08-21T13:59:07.296Z"
      },
      {
        "duration": 6,
        "start_time": "2024-08-21T13:59:07.313Z"
      },
      {
        "duration": 50,
        "start_time": "2024-08-21T13:59:07.321Z"
      },
      {
        "duration": 172,
        "start_time": "2024-08-21T13:59:07.373Z"
      },
      {
        "duration": 141,
        "start_time": "2024-08-21T13:59:07.546Z"
      },
      {
        "duration": 165,
        "start_time": "2024-08-21T13:59:07.688Z"
      },
      {
        "duration": 195,
        "start_time": "2024-08-21T13:59:07.854Z"
      },
      {
        "duration": 282,
        "start_time": "2024-08-21T13:59:08.051Z"
      },
      {
        "duration": 12,
        "start_time": "2024-08-21T13:59:08.335Z"
      },
      {
        "duration": 19,
        "start_time": "2024-08-21T13:59:08.348Z"
      },
      {
        "duration": 29,
        "start_time": "2024-08-21T13:59:08.368Z"
      },
      {
        "duration": 17,
        "start_time": "2024-08-21T13:59:08.400Z"
      },
      {
        "duration": 48,
        "start_time": "2024-08-21T13:59:08.419Z"
      },
      {
        "duration": 18,
        "start_time": "2024-08-21T13:59:08.469Z"
      },
      {
        "duration": 230,
        "start_time": "2024-08-21T13:59:08.489Z"
      },
      {
        "duration": 8,
        "start_time": "2024-08-21T13:59:08.721Z"
      },
      {
        "duration": 7,
        "start_time": "2024-08-21T13:59:08.730Z"
      },
      {
        "duration": 250,
        "start_time": "2024-08-21T13:59:08.738Z"
      },
      {
        "duration": 8,
        "start_time": "2024-08-21T13:59:08.989Z"
      },
      {
        "duration": 18,
        "start_time": "2024-08-21T13:59:08.998Z"
      },
      {
        "duration": 3,
        "start_time": "2024-08-21T13:59:09.017Z"
      },
      {
        "duration": 10,
        "start_time": "2024-08-21T13:59:09.022Z"
      },
      {
        "duration": 49,
        "start_time": "2024-08-21T13:59:09.034Z"
      },
      {
        "duration": 24,
        "start_time": "2024-08-21T13:59:27.871Z"
      },
      {
        "duration": 24,
        "start_time": "2024-08-21T13:59:30.473Z"
      },
      {
        "duration": 35,
        "start_time": "2024-08-21T13:59:44.032Z"
      },
      {
        "duration": 36,
        "start_time": "2024-08-21T14:00:16.321Z"
      },
      {
        "duration": 1101,
        "start_time": "2024-08-21T14:00:31.822Z"
      },
      {
        "duration": 79,
        "start_time": "2024-08-21T14:00:32.925Z"
      },
      {
        "duration": 10,
        "start_time": "2024-08-21T14:00:33.006Z"
      },
      {
        "duration": 24,
        "start_time": "2024-08-21T14:00:33.018Z"
      },
      {
        "duration": 16,
        "start_time": "2024-08-21T14:00:33.044Z"
      },
      {
        "duration": 163,
        "start_time": "2024-08-21T14:00:33.061Z"
      },
      {
        "duration": 10,
        "start_time": "2024-08-21T14:00:33.226Z"
      },
      {
        "duration": 13,
        "start_time": "2024-08-21T14:00:33.238Z"
      },
      {
        "duration": 39,
        "start_time": "2024-08-21T14:00:33.253Z"
      },
      {
        "duration": 346,
        "start_time": "2024-08-21T14:00:33.294Z"
      },
      {
        "duration": 7,
        "start_time": "2024-08-21T14:00:33.642Z"
      },
      {
        "duration": 10,
        "start_time": "2024-08-21T14:00:33.650Z"
      },
      {
        "duration": 25,
        "start_time": "2024-08-21T14:00:33.661Z"
      },
      {
        "duration": 5,
        "start_time": "2024-08-21T14:00:33.688Z"
      },
      {
        "duration": 13,
        "start_time": "2024-08-21T14:00:33.695Z"
      },
      {
        "duration": 7,
        "start_time": "2024-08-21T14:00:33.710Z"
      },
      {
        "duration": 10,
        "start_time": "2024-08-21T14:00:33.718Z"
      },
      {
        "duration": 23,
        "start_time": "2024-08-21T14:00:33.730Z"
      },
      {
        "duration": 12,
        "start_time": "2024-08-21T14:00:33.755Z"
      },
      {
        "duration": 178,
        "start_time": "2024-08-21T14:00:33.769Z"
      },
      {
        "duration": 137,
        "start_time": "2024-08-21T14:00:33.949Z"
      },
      {
        "duration": 170,
        "start_time": "2024-08-21T14:00:34.088Z"
      },
      {
        "duration": 199,
        "start_time": "2024-08-21T14:00:34.260Z"
      },
      {
        "duration": 270,
        "start_time": "2024-08-21T14:00:34.461Z"
      },
      {
        "duration": 14,
        "start_time": "2024-08-21T14:00:34.733Z"
      },
      {
        "duration": 37,
        "start_time": "2024-08-21T14:00:34.749Z"
      },
      {
        "duration": 15,
        "start_time": "2024-08-21T14:00:34.788Z"
      },
      {
        "duration": 19,
        "start_time": "2024-08-21T14:00:34.806Z"
      },
      {
        "duration": 22,
        "start_time": "2024-08-21T14:00:34.827Z"
      },
      {
        "duration": 43,
        "start_time": "2024-08-21T14:00:34.850Z"
      },
      {
        "duration": 224,
        "start_time": "2024-08-21T14:00:34.895Z"
      },
      {
        "duration": 9,
        "start_time": "2024-08-21T14:00:35.120Z"
      },
      {
        "duration": 8,
        "start_time": "2024-08-21T14:00:35.131Z"
      },
      {
        "duration": 236,
        "start_time": "2024-08-21T14:00:35.140Z"
      },
      {
        "duration": 15,
        "start_time": "2024-08-21T14:00:35.377Z"
      },
      {
        "duration": 10,
        "start_time": "2024-08-21T14:00:35.394Z"
      },
      {
        "duration": 3,
        "start_time": "2024-08-21T14:00:35.405Z"
      },
      {
        "duration": 6,
        "start_time": "2024-08-21T14:00:35.409Z"
      },
      {
        "duration": 31,
        "start_time": "2024-08-21T14:00:35.416Z"
      },
      {
        "duration": 34,
        "start_time": "2024-08-21T14:00:39.817Z"
      },
      {
        "duration": 325,
        "start_time": "2024-08-21T14:03:19.234Z"
      },
      {
        "duration": 23,
        "start_time": "2024-08-21T14:04:05.964Z"
      },
      {
        "duration": 22,
        "start_time": "2024-08-21T14:04:10.796Z"
      },
      {
        "duration": 30,
        "start_time": "2024-08-21T14:04:14.385Z"
      },
      {
        "duration": 244,
        "start_time": "2024-08-21T14:04:31.875Z"
      },
      {
        "duration": 35,
        "start_time": "2024-08-21T14:04:42.203Z"
      },
      {
        "duration": 25,
        "start_time": "2024-08-21T14:06:10.500Z"
      },
      {
        "duration": 44,
        "start_time": "2024-08-21T14:06:16.075Z"
      },
      {
        "duration": 24,
        "start_time": "2024-08-21T14:07:41.476Z"
      },
      {
        "duration": 34,
        "start_time": "2024-08-21T14:07:55.117Z"
      },
      {
        "duration": 33,
        "start_time": "2024-08-21T14:11:24.157Z"
      },
      {
        "duration": 18,
        "start_time": "2024-08-21T14:14:41.332Z"
      },
      {
        "duration": 27,
        "start_time": "2024-08-21T14:17:33.727Z"
      },
      {
        "duration": 41,
        "start_time": "2024-08-21T14:17:39.158Z"
      },
      {
        "duration": 25,
        "start_time": "2024-08-21T14:19:11.399Z"
      },
      {
        "duration": 27,
        "start_time": "2024-08-21T14:20:31.745Z"
      },
      {
        "duration": 37,
        "start_time": "2024-08-21T14:20:46.455Z"
      },
      {
        "duration": 35,
        "start_time": "2024-08-21T14:22:52.226Z"
      },
      {
        "duration": 32,
        "start_time": "2024-08-21T14:23:26.440Z"
      },
      {
        "duration": 27,
        "start_time": "2024-08-21T14:28:20.139Z"
      },
      {
        "duration": 38,
        "start_time": "2024-08-21T14:28:25.064Z"
      },
      {
        "duration": 41,
        "start_time": "2024-08-21T14:31:10.987Z"
      },
      {
        "duration": 1069,
        "start_time": "2024-08-21T14:31:20.344Z"
      },
      {
        "duration": 81,
        "start_time": "2024-08-21T14:31:21.415Z"
      },
      {
        "duration": 11,
        "start_time": "2024-08-21T14:31:21.497Z"
      },
      {
        "duration": 17,
        "start_time": "2024-08-21T14:31:21.511Z"
      },
      {
        "duration": 30,
        "start_time": "2024-08-21T14:31:21.529Z"
      },
      {
        "duration": 152,
        "start_time": "2024-08-21T14:31:21.561Z"
      },
      {
        "duration": 9,
        "start_time": "2024-08-21T14:31:21.715Z"
      },
      {
        "duration": 11,
        "start_time": "2024-08-21T14:31:21.725Z"
      },
      {
        "duration": 16,
        "start_time": "2024-08-21T14:31:21.737Z"
      },
      {
        "duration": 376,
        "start_time": "2024-08-21T14:31:21.756Z"
      },
      {
        "duration": 7,
        "start_time": "2024-08-21T14:31:22.134Z"
      },
      {
        "duration": 9,
        "start_time": "2024-08-21T14:31:22.143Z"
      },
      {
        "duration": 10,
        "start_time": "2024-08-21T14:31:22.154Z"
      },
      {
        "duration": 21,
        "start_time": "2024-08-21T14:31:22.166Z"
      },
      {
        "duration": 8,
        "start_time": "2024-08-21T14:31:22.188Z"
      },
      {
        "duration": 9,
        "start_time": "2024-08-21T14:31:22.197Z"
      },
      {
        "duration": 8,
        "start_time": "2024-08-21T14:31:22.207Z"
      },
      {
        "duration": 7,
        "start_time": "2024-08-21T14:31:22.216Z"
      },
      {
        "duration": 11,
        "start_time": "2024-08-21T14:31:22.224Z"
      },
      {
        "duration": 198,
        "start_time": "2024-08-21T14:31:22.237Z"
      },
      {
        "duration": 134,
        "start_time": "2024-08-21T14:31:22.437Z"
      },
      {
        "duration": 168,
        "start_time": "2024-08-21T14:31:22.572Z"
      },
      {
        "duration": 198,
        "start_time": "2024-08-21T14:31:22.742Z"
      },
      {
        "duration": 274,
        "start_time": "2024-08-21T14:31:22.941Z"
      },
      {
        "duration": 19,
        "start_time": "2024-08-21T14:31:23.217Z"
      },
      {
        "duration": 23,
        "start_time": "2024-08-21T14:31:23.238Z"
      },
      {
        "duration": 14,
        "start_time": "2024-08-21T14:31:23.287Z"
      },
      {
        "duration": 16,
        "start_time": "2024-08-21T14:31:23.304Z"
      },
      {
        "duration": 19,
        "start_time": "2024-08-21T14:31:23.321Z"
      },
      {
        "duration": 18,
        "start_time": "2024-08-21T14:31:23.341Z"
      },
      {
        "duration": 238,
        "start_time": "2024-08-21T14:31:23.361Z"
      },
      {
        "duration": 8,
        "start_time": "2024-08-21T14:31:23.600Z"
      },
      {
        "duration": 7,
        "start_time": "2024-08-21T14:31:23.610Z"
      },
      {
        "duration": 232,
        "start_time": "2024-08-21T14:31:23.618Z"
      },
      {
        "duration": 7,
        "start_time": "2024-08-21T14:31:23.852Z"
      },
      {
        "duration": 7,
        "start_time": "2024-08-21T14:31:23.861Z"
      },
      {
        "duration": 18,
        "start_time": "2024-08-21T14:31:23.869Z"
      },
      {
        "duration": 3,
        "start_time": "2024-08-21T14:31:23.888Z"
      },
      {
        "duration": 47,
        "start_time": "2024-08-21T14:31:23.893Z"
      },
      {
        "duration": 345,
        "start_time": "2024-08-21T14:32:05.595Z"
      },
      {
        "duration": 34,
        "start_time": "2024-08-21T14:32:16.306Z"
      },
      {
        "duration": 26,
        "start_time": "2024-08-21T14:34:21.266Z"
      },
      {
        "duration": 23,
        "start_time": "2024-08-21T14:35:39.638Z"
      },
      {
        "duration": 18,
        "start_time": "2024-08-21T14:35:42.580Z"
      },
      {
        "duration": 850,
        "start_time": "2024-08-21T14:36:40.196Z"
      },
      {
        "duration": 911,
        "start_time": "2024-08-21T14:36:54.315Z"
      },
      {
        "duration": 9,
        "start_time": "2024-08-21T14:37:11.108Z"
      },
      {
        "duration": 12,
        "start_time": "2024-08-21T14:37:28.628Z"
      },
      {
        "duration": 22,
        "start_time": "2024-08-21T14:37:40.037Z"
      },
      {
        "duration": 52,
        "start_time": "2024-08-21T14:37:42.261Z"
      },
      {
        "duration": 38,
        "start_time": "2024-08-21T14:40:25.850Z"
      },
      {
        "duration": 1103,
        "start_time": "2024-08-21T14:41:18.612Z"
      },
      {
        "duration": 78,
        "start_time": "2024-08-21T14:41:19.716Z"
      },
      {
        "duration": 10,
        "start_time": "2024-08-21T14:41:19.796Z"
      },
      {
        "duration": 10,
        "start_time": "2024-08-21T14:41:19.808Z"
      },
      {
        "duration": 13,
        "start_time": "2024-08-21T14:41:19.820Z"
      },
      {
        "duration": 164,
        "start_time": "2024-08-21T14:41:19.835Z"
      },
      {
        "duration": 8,
        "start_time": "2024-08-21T14:41:20.001Z"
      },
      {
        "duration": 36,
        "start_time": "2024-08-21T14:41:20.010Z"
      },
      {
        "duration": 36,
        "start_time": "2024-08-21T14:41:20.048Z"
      },
      {
        "duration": 377,
        "start_time": "2024-08-21T14:41:20.085Z"
      },
      {
        "duration": 7,
        "start_time": "2024-08-21T14:41:20.464Z"
      },
      {
        "duration": 21,
        "start_time": "2024-08-21T14:41:20.472Z"
      },
      {
        "duration": 18,
        "start_time": "2024-08-21T14:41:20.494Z"
      },
      {
        "duration": 26,
        "start_time": "2024-08-21T14:41:20.515Z"
      },
      {
        "duration": 13,
        "start_time": "2024-08-21T14:41:20.543Z"
      },
      {
        "duration": 6,
        "start_time": "2024-08-21T14:41:20.557Z"
      },
      {
        "duration": 12,
        "start_time": "2024-08-21T14:41:20.564Z"
      },
      {
        "duration": 6,
        "start_time": "2024-08-21T14:41:20.577Z"
      },
      {
        "duration": 32,
        "start_time": "2024-08-21T14:41:20.584Z"
      },
      {
        "duration": 178,
        "start_time": "2024-08-21T14:41:20.618Z"
      },
      {
        "duration": 140,
        "start_time": "2024-08-21T14:41:20.798Z"
      },
      {
        "duration": 163,
        "start_time": "2024-08-21T14:41:20.940Z"
      },
      {
        "duration": 191,
        "start_time": "2024-08-21T14:41:21.105Z"
      },
      {
        "duration": 272,
        "start_time": "2024-08-21T14:41:21.297Z"
      },
      {
        "duration": 21,
        "start_time": "2024-08-21T14:41:21.571Z"
      },
      {
        "duration": 20,
        "start_time": "2024-08-21T14:41:21.594Z"
      },
      {
        "duration": 12,
        "start_time": "2024-08-21T14:41:21.616Z"
      },
      {
        "duration": 17,
        "start_time": "2024-08-21T14:41:21.630Z"
      },
      {
        "duration": 48,
        "start_time": "2024-08-21T14:41:21.649Z"
      },
      {
        "duration": 18,
        "start_time": "2024-08-21T14:41:21.699Z"
      },
      {
        "duration": 247,
        "start_time": "2024-08-21T14:41:21.719Z"
      },
      {
        "duration": 21,
        "start_time": "2024-08-21T14:41:21.968Z"
      },
      {
        "duration": 9,
        "start_time": "2024-08-21T14:41:21.990Z"
      },
      {
        "duration": 225,
        "start_time": "2024-08-21T14:41:22.001Z"
      },
      {
        "duration": 9,
        "start_time": "2024-08-21T14:41:22.227Z"
      },
      {
        "duration": 8,
        "start_time": "2024-08-21T14:41:22.237Z"
      },
      {
        "duration": 3,
        "start_time": "2024-08-21T14:41:22.247Z"
      },
      {
        "duration": 6,
        "start_time": "2024-08-21T14:41:22.252Z"
      },
      {
        "duration": 58,
        "start_time": "2024-08-21T14:41:22.259Z"
      },
      {
        "duration": 15,
        "start_time": "2024-08-21T14:41:22.318Z"
      },
      {
        "duration": 17,
        "start_time": "2024-08-21T14:41:33.252Z"
      },
      {
        "duration": 11,
        "start_time": "2024-08-21T14:42:44.029Z"
      },
      {
        "duration": 18,
        "start_time": "2024-08-21T14:43:09.437Z"
      },
      {
        "duration": 20,
        "start_time": "2024-08-21T14:43:21.615Z"
      },
      {
        "duration": 16,
        "start_time": "2024-08-21T14:43:40.943Z"
      },
      {
        "duration": 106,
        "start_time": "2024-08-21T14:45:04.741Z"
      },
      {
        "duration": 883,
        "start_time": "2024-08-21T14:45:10.492Z"
      },
      {
        "duration": 1118,
        "start_time": "2024-08-21T14:45:16.705Z"
      },
      {
        "duration": 79,
        "start_time": "2024-08-21T14:45:17.825Z"
      },
      {
        "duration": 12,
        "start_time": "2024-08-21T14:45:17.906Z"
      },
      {
        "duration": 12,
        "start_time": "2024-08-21T14:45:17.920Z"
      },
      {
        "duration": 16,
        "start_time": "2024-08-21T14:45:17.933Z"
      },
      {
        "duration": 168,
        "start_time": "2024-08-21T14:45:17.950Z"
      },
      {
        "duration": 8,
        "start_time": "2024-08-21T14:45:18.120Z"
      },
      {
        "duration": 12,
        "start_time": "2024-08-21T14:45:18.130Z"
      },
      {
        "duration": 18,
        "start_time": "2024-08-21T14:45:18.144Z"
      },
      {
        "duration": 348,
        "start_time": "2024-08-21T14:45:18.189Z"
      },
      {
        "duration": 7,
        "start_time": "2024-08-21T14:45:18.539Z"
      },
      {
        "duration": 10,
        "start_time": "2024-08-21T14:45:18.548Z"
      },
      {
        "duration": 27,
        "start_time": "2024-08-21T14:45:18.560Z"
      },
      {
        "duration": 7,
        "start_time": "2024-08-21T14:45:18.589Z"
      },
      {
        "duration": 25,
        "start_time": "2024-08-21T14:45:18.598Z"
      },
      {
        "duration": 7,
        "start_time": "2024-08-21T14:45:18.625Z"
      },
      {
        "duration": 19,
        "start_time": "2024-08-21T14:45:18.634Z"
      },
      {
        "duration": 14,
        "start_time": "2024-08-21T14:45:18.654Z"
      },
      {
        "duration": 18,
        "start_time": "2024-08-21T14:45:18.670Z"
      },
      {
        "duration": 177,
        "start_time": "2024-08-21T14:45:18.689Z"
      },
      {
        "duration": 145,
        "start_time": "2024-08-21T14:45:18.868Z"
      },
      {
        "duration": 165,
        "start_time": "2024-08-21T14:45:19.014Z"
      },
      {
        "duration": 193,
        "start_time": "2024-08-21T14:45:19.187Z"
      },
      {
        "duration": 263,
        "start_time": "2024-08-21T14:45:19.386Z"
      },
      {
        "duration": 12,
        "start_time": "2024-08-21T14:45:19.651Z"
      },
      {
        "duration": 32,
        "start_time": "2024-08-21T14:45:19.664Z"
      },
      {
        "duration": 14,
        "start_time": "2024-08-21T14:45:19.698Z"
      },
      {
        "duration": 22,
        "start_time": "2024-08-21T14:45:19.714Z"
      },
      {
        "duration": 31,
        "start_time": "2024-08-21T14:45:19.737Z"
      },
      {
        "duration": 26,
        "start_time": "2024-08-21T14:45:19.770Z"
      },
      {
        "duration": 223,
        "start_time": "2024-08-21T14:45:19.798Z"
      },
      {
        "duration": 7,
        "start_time": "2024-08-21T14:45:20.023Z"
      },
      {
        "duration": 12,
        "start_time": "2024-08-21T14:45:20.031Z"
      },
      {
        "duration": 256,
        "start_time": "2024-08-21T14:45:20.044Z"
      },
      {
        "duration": 8,
        "start_time": "2024-08-21T14:45:20.302Z"
      },
      {
        "duration": 7,
        "start_time": "2024-08-21T14:45:20.311Z"
      },
      {
        "duration": 4,
        "start_time": "2024-08-21T14:45:20.319Z"
      },
      {
        "duration": 4,
        "start_time": "2024-08-21T14:45:20.324Z"
      },
      {
        "duration": 61,
        "start_time": "2024-08-21T14:45:20.330Z"
      },
      {
        "duration": 15,
        "start_time": "2024-08-21T14:45:20.392Z"
      },
      {
        "duration": 16,
        "start_time": "2024-08-21T14:45:20.408Z"
      },
      {
        "duration": 1392,
        "start_time": "2024-08-22T11:22:03.531Z"
      },
      {
        "duration": 297,
        "start_time": "2024-08-22T11:22:04.925Z"
      },
      {
        "duration": 12,
        "start_time": "2024-08-22T11:22:05.224Z"
      },
      {
        "duration": 46,
        "start_time": "2024-08-22T11:22:05.238Z"
      },
      {
        "duration": 46,
        "start_time": "2024-08-22T11:22:05.285Z"
      },
      {
        "duration": 251,
        "start_time": "2024-08-22T11:22:05.332Z"
      },
      {
        "duration": 8,
        "start_time": "2024-08-22T11:22:05.585Z"
      },
      {
        "duration": 12,
        "start_time": "2024-08-22T11:22:05.595Z"
      },
      {
        "duration": 35,
        "start_time": "2024-08-22T11:22:05.609Z"
      },
      {
        "duration": 425,
        "start_time": "2024-08-22T11:22:05.647Z"
      },
      {
        "duration": 7,
        "start_time": "2024-08-22T11:22:06.075Z"
      },
      {
        "duration": 19,
        "start_time": "2024-08-22T11:22:06.084Z"
      },
      {
        "duration": 15,
        "start_time": "2024-08-22T11:22:06.105Z"
      },
      {
        "duration": 8,
        "start_time": "2024-08-22T11:22:06.121Z"
      },
      {
        "duration": 33,
        "start_time": "2024-08-22T11:22:06.130Z"
      },
      {
        "duration": 14,
        "start_time": "2024-08-22T11:22:06.164Z"
      },
      {
        "duration": 13,
        "start_time": "2024-08-22T11:22:06.180Z"
      },
      {
        "duration": 7,
        "start_time": "2024-08-22T11:22:06.195Z"
      },
      {
        "duration": 11,
        "start_time": "2024-08-22T11:22:06.203Z"
      },
      {
        "duration": 190,
        "start_time": "2024-08-22T11:22:06.216Z"
      },
      {
        "duration": 148,
        "start_time": "2024-08-22T11:22:06.407Z"
      },
      {
        "duration": 187,
        "start_time": "2024-08-22T11:22:06.556Z"
      },
      {
        "duration": 225,
        "start_time": "2024-08-22T11:22:06.744Z"
      },
      {
        "duration": 298,
        "start_time": "2024-08-22T11:22:06.971Z"
      },
      {
        "duration": 15,
        "start_time": "2024-08-22T11:22:07.270Z"
      },
      {
        "duration": 22,
        "start_time": "2024-08-22T11:22:07.287Z"
      },
      {
        "duration": 14,
        "start_time": "2024-08-22T11:22:07.311Z"
      },
      {
        "duration": 50,
        "start_time": "2024-08-22T11:22:07.328Z"
      },
      {
        "duration": 21,
        "start_time": "2024-08-22T11:22:07.379Z"
      },
      {
        "duration": 20,
        "start_time": "2024-08-22T11:22:07.402Z"
      },
      {
        "duration": 261,
        "start_time": "2024-08-22T11:22:07.424Z"
      },
      {
        "duration": 10,
        "start_time": "2024-08-22T11:22:07.687Z"
      },
      {
        "duration": 9,
        "start_time": "2024-08-22T11:22:07.699Z"
      },
      {
        "duration": 289,
        "start_time": "2024-08-22T11:22:07.709Z"
      },
      {
        "duration": 9,
        "start_time": "2024-08-22T11:22:07.999Z"
      },
      {
        "duration": 50,
        "start_time": "2024-08-22T11:22:08.009Z"
      },
      {
        "duration": 4,
        "start_time": "2024-08-22T11:22:08.060Z"
      },
      {
        "duration": 39,
        "start_time": "2024-08-22T11:22:08.065Z"
      },
      {
        "duration": 14,
        "start_time": "2024-08-22T11:22:08.105Z"
      },
      {
        "duration": 19,
        "start_time": "2024-08-22T11:22:08.120Z"
      },
      {
        "duration": 1242,
        "start_time": "2024-08-22T11:22:35.710Z"
      },
      {
        "duration": 77,
        "start_time": "2024-08-22T11:22:36.954Z"
      },
      {
        "duration": 12,
        "start_time": "2024-08-22T11:22:37.033Z"
      },
      {
        "duration": 36,
        "start_time": "2024-08-22T11:22:37.047Z"
      },
      {
        "duration": 25,
        "start_time": "2024-08-22T11:22:37.085Z"
      },
      {
        "duration": 186,
        "start_time": "2024-08-22T11:22:37.112Z"
      },
      {
        "duration": 8,
        "start_time": "2024-08-22T11:22:37.300Z"
      },
      {
        "duration": 18,
        "start_time": "2024-08-22T11:22:37.310Z"
      },
      {
        "duration": 16,
        "start_time": "2024-08-22T11:22:37.330Z"
      },
      {
        "duration": 388,
        "start_time": "2024-08-22T11:22:37.349Z"
      },
      {
        "duration": 10,
        "start_time": "2024-08-22T11:22:37.738Z"
      },
      {
        "duration": 23,
        "start_time": "2024-08-22T11:22:37.750Z"
      },
      {
        "duration": 37,
        "start_time": "2024-08-22T11:22:37.775Z"
      },
      {
        "duration": 27,
        "start_time": "2024-08-22T11:22:37.814Z"
      },
      {
        "duration": 12,
        "start_time": "2024-08-22T11:22:37.842Z"
      },
      {
        "duration": 14,
        "start_time": "2024-08-22T11:22:37.856Z"
      },
      {
        "duration": 18,
        "start_time": "2024-08-22T11:22:37.872Z"
      },
      {
        "duration": 9,
        "start_time": "2024-08-22T11:22:37.891Z"
      },
      {
        "duration": 26,
        "start_time": "2024-08-22T11:22:37.903Z"
      },
      {
        "duration": 185,
        "start_time": "2024-08-22T11:22:37.931Z"
      },
      {
        "duration": 157,
        "start_time": "2024-08-22T11:22:38.118Z"
      },
      {
        "duration": 194,
        "start_time": "2024-08-22T11:22:38.277Z"
      },
      {
        "duration": 227,
        "start_time": "2024-08-22T11:22:38.473Z"
      },
      {
        "duration": 312,
        "start_time": "2024-08-22T11:22:38.701Z"
      },
      {
        "duration": 16,
        "start_time": "2024-08-22T11:22:39.015Z"
      },
      {
        "duration": 39,
        "start_time": "2024-08-22T11:22:39.033Z"
      },
      {
        "duration": 15,
        "start_time": "2024-08-22T11:22:39.074Z"
      },
      {
        "duration": 20,
        "start_time": "2024-08-22T11:22:39.093Z"
      },
      {
        "duration": 51,
        "start_time": "2024-08-22T11:22:39.115Z"
      },
      {
        "duration": 20,
        "start_time": "2024-08-22T11:22:39.168Z"
      },
      {
        "duration": 255,
        "start_time": "2024-08-22T11:22:39.189Z"
      },
      {
        "duration": 22,
        "start_time": "2024-08-22T11:22:39.445Z"
      },
      {
        "duration": 11,
        "start_time": "2024-08-22T11:22:39.469Z"
      },
      {
        "duration": 280,
        "start_time": "2024-08-22T11:22:39.482Z"
      },
      {
        "duration": 9,
        "start_time": "2024-08-22T11:22:39.764Z"
      },
      {
        "duration": 8,
        "start_time": "2024-08-22T11:22:39.774Z"
      },
      {
        "duration": 4,
        "start_time": "2024-08-22T11:22:39.783Z"
      },
      {
        "duration": 10,
        "start_time": "2024-08-22T11:22:39.789Z"
      },
      {
        "duration": 65,
        "start_time": "2024-08-22T11:22:39.801Z"
      },
      {
        "duration": 17,
        "start_time": "2024-08-22T11:22:39.867Z"
      },
      {
        "duration": 19,
        "start_time": "2024-08-22T11:22:39.885Z"
      },
      {
        "duration": 7,
        "start_time": "2024-08-22T11:44:22.825Z"
      },
      {
        "duration": 122,
        "start_time": "2024-08-22T12:01:41.175Z"
      },
      {
        "duration": 6,
        "start_time": "2024-08-22T12:02:05.412Z"
      },
      {
        "duration": 8,
        "start_time": "2024-08-22T12:25:54.501Z"
      },
      {
        "duration": 1234,
        "start_time": "2024-08-22T12:53:21.237Z"
      },
      {
        "duration": 72,
        "start_time": "2024-08-22T12:53:22.474Z"
      },
      {
        "duration": 16,
        "start_time": "2024-08-22T12:53:22.548Z"
      },
      {
        "duration": 16,
        "start_time": "2024-08-22T12:53:22.567Z"
      },
      {
        "duration": 30,
        "start_time": "2024-08-22T12:53:22.585Z"
      },
      {
        "duration": 203,
        "start_time": "2024-08-22T12:53:22.617Z"
      },
      {
        "duration": 8,
        "start_time": "2024-08-22T12:53:22.821Z"
      },
      {
        "duration": 12,
        "start_time": "2024-08-22T12:53:22.830Z"
      },
      {
        "duration": 35,
        "start_time": "2024-08-22T12:53:22.844Z"
      },
      {
        "duration": 408,
        "start_time": "2024-08-22T12:53:22.882Z"
      },
      {
        "duration": 7,
        "start_time": "2024-08-22T12:53:23.292Z"
      },
      {
        "duration": 11,
        "start_time": "2024-08-22T12:53:23.301Z"
      },
      {
        "duration": 6,
        "start_time": "2024-08-22T12:53:23.314Z"
      },
      {
        "duration": 8,
        "start_time": "2024-08-22T12:53:23.322Z"
      },
      {
        "duration": 8,
        "start_time": "2024-08-22T12:53:23.331Z"
      },
      {
        "duration": 7,
        "start_time": "2024-08-22T12:53:23.365Z"
      },
      {
        "duration": 9,
        "start_time": "2024-08-22T12:53:23.373Z"
      },
      {
        "duration": 16,
        "start_time": "2024-08-22T12:53:23.383Z"
      },
      {
        "duration": 14,
        "start_time": "2024-08-22T12:53:23.401Z"
      },
      {
        "duration": 194,
        "start_time": "2024-08-22T12:53:23.417Z"
      },
      {
        "duration": 158,
        "start_time": "2024-08-22T12:53:23.613Z"
      },
      {
        "duration": 185,
        "start_time": "2024-08-22T12:53:23.772Z"
      },
      {
        "duration": 223,
        "start_time": "2024-08-22T12:53:23.958Z"
      },
      {
        "duration": 286,
        "start_time": "2024-08-22T12:53:24.183Z"
      },
      {
        "duration": 14,
        "start_time": "2024-08-22T12:53:24.470Z"
      },
      {
        "duration": 20,
        "start_time": "2024-08-22T12:53:24.485Z"
      },
      {
        "duration": 13,
        "start_time": "2024-08-22T12:53:24.507Z"
      },
      {
        "duration": 43,
        "start_time": "2024-08-22T12:53:24.524Z"
      },
      {
        "duration": 28,
        "start_time": "2024-08-22T12:53:24.569Z"
      },
      {
        "duration": 18,
        "start_time": "2024-08-22T12:53:24.598Z"
      },
      {
        "duration": 272,
        "start_time": "2024-08-22T12:53:24.618Z"
      },
      {
        "duration": 9,
        "start_time": "2024-08-22T12:53:24.892Z"
      },
      {
        "duration": 7,
        "start_time": "2024-08-22T12:53:24.902Z"
      },
      {
        "duration": 263,
        "start_time": "2024-08-22T12:53:24.910Z"
      },
      {
        "duration": 9,
        "start_time": "2024-08-22T12:53:25.175Z"
      },
      {
        "duration": 14,
        "start_time": "2024-08-22T12:53:25.187Z"
      },
      {
        "duration": 3,
        "start_time": "2024-08-22T12:53:25.203Z"
      },
      {
        "duration": 6,
        "start_time": "2024-08-22T12:53:25.208Z"
      },
      {
        "duration": 59,
        "start_time": "2024-08-22T12:53:25.216Z"
      },
      {
        "duration": 16,
        "start_time": "2024-08-22T12:53:25.276Z"
      },
      {
        "duration": 18,
        "start_time": "2024-08-22T12:53:25.294Z"
      },
      {
        "duration": 5,
        "start_time": "2024-08-22T12:53:25.314Z"
      },
      {
        "duration": 8,
        "start_time": "2024-08-22T12:53:25.321Z"
      },
      {
        "duration": 34,
        "start_time": "2024-08-22T12:53:25.331Z"
      },
      {
        "duration": 1256,
        "start_time": "2024-08-22T13:41:35.051Z"
      },
      {
        "duration": 72,
        "start_time": "2024-08-22T13:41:36.309Z"
      },
      {
        "duration": 12,
        "start_time": "2024-08-22T13:41:36.382Z"
      },
      {
        "duration": 80,
        "start_time": "2024-08-22T13:41:36.396Z"
      },
      {
        "duration": 25,
        "start_time": "2024-08-22T13:41:36.477Z"
      },
      {
        "duration": 174,
        "start_time": "2024-08-22T13:41:36.504Z"
      },
      {
        "duration": 9,
        "start_time": "2024-08-22T13:41:36.680Z"
      },
      {
        "duration": 14,
        "start_time": "2024-08-22T13:41:36.691Z"
      },
      {
        "duration": 33,
        "start_time": "2024-08-22T13:41:36.707Z"
      },
      {
        "duration": 375,
        "start_time": "2024-08-22T13:41:36.743Z"
      },
      {
        "duration": 7,
        "start_time": "2024-08-22T13:41:37.119Z"
      },
      {
        "duration": 11,
        "start_time": "2024-08-22T13:41:37.128Z"
      },
      {
        "duration": 18,
        "start_time": "2024-08-22T13:41:37.141Z"
      },
      {
        "duration": 6,
        "start_time": "2024-08-22T13:41:37.165Z"
      },
      {
        "duration": 50,
        "start_time": "2024-08-22T13:41:37.173Z"
      },
      {
        "duration": 22,
        "start_time": "2024-08-22T13:41:37.225Z"
      },
      {
        "duration": 20,
        "start_time": "2024-08-22T13:41:37.249Z"
      },
      {
        "duration": 13,
        "start_time": "2024-08-22T13:41:37.270Z"
      },
      {
        "duration": 13,
        "start_time": "2024-08-22T13:41:37.285Z"
      },
      {
        "duration": 188,
        "start_time": "2024-08-22T13:41:37.299Z"
      },
      {
        "duration": 169,
        "start_time": "2024-08-22T13:41:37.489Z"
      },
      {
        "duration": 210,
        "start_time": "2024-08-22T13:41:37.660Z"
      },
      {
        "duration": 228,
        "start_time": "2024-08-22T13:41:37.872Z"
      },
      {
        "duration": 316,
        "start_time": "2024-08-22T13:41:38.102Z"
      },
      {
        "duration": 12,
        "start_time": "2024-08-22T13:41:38.420Z"
      },
      {
        "duration": 40,
        "start_time": "2024-08-22T13:41:38.434Z"
      },
      {
        "duration": 13,
        "start_time": "2024-08-22T13:41:38.476Z"
      },
      {
        "duration": 19,
        "start_time": "2024-08-22T13:41:38.492Z"
      },
      {
        "duration": 30,
        "start_time": "2024-08-22T13:41:38.513Z"
      },
      {
        "duration": 28,
        "start_time": "2024-08-22T13:41:38.544Z"
      },
      {
        "duration": 244,
        "start_time": "2024-08-22T13:41:38.574Z"
      },
      {
        "duration": 8,
        "start_time": "2024-08-22T13:41:38.820Z"
      },
      {
        "duration": 8,
        "start_time": "2024-08-22T13:41:38.829Z"
      },
      {
        "duration": 250,
        "start_time": "2024-08-22T13:41:38.838Z"
      },
      {
        "duration": 9,
        "start_time": "2024-08-22T13:41:39.089Z"
      },
      {
        "duration": 10,
        "start_time": "2024-08-22T13:41:39.099Z"
      },
      {
        "duration": 10,
        "start_time": "2024-08-22T13:41:39.111Z"
      },
      {
        "duration": 7,
        "start_time": "2024-08-22T13:41:39.122Z"
      },
      {
        "duration": 62,
        "start_time": "2024-08-22T13:41:39.131Z"
      },
      {
        "duration": 16,
        "start_time": "2024-08-22T13:41:39.194Z"
      },
      {
        "duration": 44,
        "start_time": "2024-08-22T13:41:39.212Z"
      },
      {
        "duration": 7,
        "start_time": "2024-08-22T13:41:39.258Z"
      },
      {
        "duration": 10,
        "start_time": "2024-08-22T13:41:39.266Z"
      },
      {
        "duration": 7,
        "start_time": "2024-08-22T13:41:39.277Z"
      },
      {
        "duration": 1145,
        "start_time": "2024-08-22T13:43:46.729Z"
      },
      {
        "duration": 77,
        "start_time": "2024-08-22T13:43:47.876Z"
      },
      {
        "duration": 14,
        "start_time": "2024-08-22T13:43:47.955Z"
      },
      {
        "duration": 19,
        "start_time": "2024-08-22T13:43:47.971Z"
      },
      {
        "duration": 22,
        "start_time": "2024-08-22T13:43:47.991Z"
      },
      {
        "duration": 177,
        "start_time": "2024-08-22T13:43:48.014Z"
      },
      {
        "duration": 8,
        "start_time": "2024-08-22T13:43:48.192Z"
      },
      {
        "duration": 11,
        "start_time": "2024-08-22T13:43:48.202Z"
      },
      {
        "duration": 18,
        "start_time": "2024-08-22T13:43:48.214Z"
      },
      {
        "duration": 406,
        "start_time": "2024-08-22T13:43:48.234Z"
      },
      {
        "duration": 7,
        "start_time": "2024-08-22T13:43:48.643Z"
      },
      {
        "duration": 9,
        "start_time": "2024-08-22T13:43:48.665Z"
      },
      {
        "duration": 14,
        "start_time": "2024-08-22T13:43:48.676Z"
      },
      {
        "duration": 26,
        "start_time": "2024-08-22T13:43:48.692Z"
      },
      {
        "duration": 7,
        "start_time": "2024-08-22T13:43:48.719Z"
      },
      {
        "duration": 6,
        "start_time": "2024-08-22T13:43:48.727Z"
      },
      {
        "duration": 7,
        "start_time": "2024-08-22T13:43:48.735Z"
      },
      {
        "duration": 10,
        "start_time": "2024-08-22T13:43:48.744Z"
      },
      {
        "duration": 18,
        "start_time": "2024-08-22T13:43:48.755Z"
      },
      {
        "duration": 186,
        "start_time": "2024-08-22T13:43:48.775Z"
      },
      {
        "duration": 147,
        "start_time": "2024-08-22T13:43:48.962Z"
      },
      {
        "duration": 181,
        "start_time": "2024-08-22T13:43:49.110Z"
      },
      {
        "duration": 207,
        "start_time": "2024-08-22T13:43:49.292Z"
      },
      {
        "duration": 307,
        "start_time": "2024-08-22T13:43:49.501Z"
      },
      {
        "duration": 15,
        "start_time": "2024-08-22T13:43:49.809Z"
      },
      {
        "duration": 40,
        "start_time": "2024-08-22T13:43:49.826Z"
      },
      {
        "duration": 13,
        "start_time": "2024-08-22T13:43:49.868Z"
      },
      {
        "duration": 27,
        "start_time": "2024-08-22T13:43:49.885Z"
      },
      {
        "duration": 22,
        "start_time": "2024-08-22T13:43:49.914Z"
      },
      {
        "duration": 43,
        "start_time": "2024-08-22T13:43:49.938Z"
      },
      {
        "duration": 277,
        "start_time": "2024-08-22T13:43:49.982Z"
      },
      {
        "duration": 10,
        "start_time": "2024-08-22T13:43:50.261Z"
      },
      {
        "duration": 8,
        "start_time": "2024-08-22T13:43:50.273Z"
      },
      {
        "duration": 274,
        "start_time": "2024-08-22T13:43:50.283Z"
      },
      {
        "duration": 14,
        "start_time": "2024-08-22T13:43:50.558Z"
      },
      {
        "duration": 8,
        "start_time": "2024-08-22T13:43:50.573Z"
      },
      {
        "duration": 5,
        "start_time": "2024-08-22T13:43:50.582Z"
      },
      {
        "duration": 4,
        "start_time": "2024-08-22T13:43:50.588Z"
      },
      {
        "duration": 57,
        "start_time": "2024-08-22T13:43:50.594Z"
      },
      {
        "duration": 29,
        "start_time": "2024-08-22T13:43:50.652Z"
      },
      {
        "duration": 17,
        "start_time": "2024-08-22T13:43:50.683Z"
      },
      {
        "duration": 14,
        "start_time": "2024-08-22T13:43:50.702Z"
      },
      {
        "duration": 6,
        "start_time": "2024-08-22T13:43:50.718Z"
      },
      {
        "duration": 7,
        "start_time": "2024-08-22T13:43:50.726Z"
      },
      {
        "duration": 1176,
        "start_time": "2024-08-22T14:09:41.264Z"
      },
      {
        "duration": 71,
        "start_time": "2024-08-22T14:09:42.442Z"
      },
      {
        "duration": 13,
        "start_time": "2024-08-22T14:09:42.514Z"
      },
      {
        "duration": 16,
        "start_time": "2024-08-22T14:09:42.529Z"
      },
      {
        "duration": 21,
        "start_time": "2024-08-22T14:09:42.547Z"
      },
      {
        "duration": 170,
        "start_time": "2024-08-22T14:09:42.569Z"
      },
      {
        "duration": 8,
        "start_time": "2024-08-22T14:09:42.741Z"
      },
      {
        "duration": 25,
        "start_time": "2024-08-22T14:09:42.751Z"
      },
      {
        "duration": 18,
        "start_time": "2024-08-22T14:09:42.778Z"
      },
      {
        "duration": 405,
        "start_time": "2024-08-22T14:09:42.798Z"
      },
      {
        "duration": 7,
        "start_time": "2024-08-22T14:09:43.205Z"
      },
      {
        "duration": 24,
        "start_time": "2024-08-22T14:09:43.214Z"
      },
      {
        "duration": 10,
        "start_time": "2024-08-22T14:09:43.239Z"
      },
      {
        "duration": 19,
        "start_time": "2024-08-22T14:09:43.250Z"
      },
      {
        "duration": 8,
        "start_time": "2024-08-22T14:09:43.270Z"
      },
      {
        "duration": 81,
        "start_time": "2024-08-22T14:09:43.279Z"
      },
      {
        "duration": 11,
        "start_time": "2024-08-22T14:09:43.362Z"
      },
      {
        "duration": 7,
        "start_time": "2024-08-22T14:09:43.375Z"
      },
      {
        "duration": 14,
        "start_time": "2024-08-22T14:09:43.383Z"
      },
      {
        "duration": 200,
        "start_time": "2024-08-22T14:09:43.399Z"
      },
      {
        "duration": 172,
        "start_time": "2024-08-22T14:09:43.600Z"
      },
      {
        "duration": 192,
        "start_time": "2024-08-22T14:09:43.774Z"
      },
      {
        "duration": 220,
        "start_time": "2024-08-22T14:09:43.967Z"
      },
      {
        "duration": 287,
        "start_time": "2024-08-22T14:09:44.188Z"
      },
      {
        "duration": 13,
        "start_time": "2024-08-22T14:09:44.477Z"
      },
      {
        "duration": 74,
        "start_time": "2024-08-22T14:09:44.492Z"
      },
      {
        "duration": 12,
        "start_time": "2024-08-22T14:09:44.567Z"
      },
      {
        "duration": 18,
        "start_time": "2024-08-22T14:09:44.582Z"
      },
      {
        "duration": 20,
        "start_time": "2024-08-22T14:09:44.601Z"
      },
      {
        "duration": 44,
        "start_time": "2024-08-22T14:09:44.622Z"
      },
      {
        "duration": 259,
        "start_time": "2024-08-22T14:09:44.668Z"
      },
      {
        "duration": 12,
        "start_time": "2024-08-22T14:09:44.929Z"
      },
      {
        "duration": 10,
        "start_time": "2024-08-22T14:09:44.943Z"
      },
      {
        "duration": 243,
        "start_time": "2024-08-22T14:09:44.954Z"
      },
      {
        "duration": 9,
        "start_time": "2024-08-22T14:09:45.199Z"
      },
      {
        "duration": 53,
        "start_time": "2024-08-22T14:09:45.210Z"
      },
      {
        "duration": 106,
        "start_time": "2024-08-22T14:09:45.266Z"
      },
      {
        "duration": 38,
        "start_time": "2024-08-22T14:09:45.374Z"
      },
      {
        "duration": 65,
        "start_time": "2024-08-22T14:09:45.414Z"
      },
      {
        "duration": 17,
        "start_time": "2024-08-22T14:09:45.481Z"
      },
      {
        "duration": 27,
        "start_time": "2024-08-22T14:09:45.500Z"
      },
      {
        "duration": 7,
        "start_time": "2024-08-22T14:09:45.530Z"
      },
      {
        "duration": 41,
        "start_time": "2024-08-22T14:09:45.538Z"
      },
      {
        "duration": 24,
        "start_time": "2024-08-22T14:09:45.581Z"
      },
      {
        "duration": 1162,
        "start_time": "2024-08-22T14:17:20.510Z"
      },
      {
        "duration": 70,
        "start_time": "2024-08-22T14:17:21.675Z"
      },
      {
        "duration": 14,
        "start_time": "2024-08-22T14:17:21.746Z"
      },
      {
        "duration": 45,
        "start_time": "2024-08-22T14:17:21.762Z"
      },
      {
        "duration": 39,
        "start_time": "2024-08-22T14:17:21.809Z"
      },
      {
        "duration": 188,
        "start_time": "2024-08-22T14:17:21.850Z"
      },
      {
        "duration": 9,
        "start_time": "2024-08-22T14:17:22.040Z"
      },
      {
        "duration": 37,
        "start_time": "2024-08-22T14:17:22.051Z"
      },
      {
        "duration": 81,
        "start_time": "2024-08-22T14:17:22.090Z"
      },
      {
        "duration": 435,
        "start_time": "2024-08-22T14:17:22.175Z"
      },
      {
        "duration": 9,
        "start_time": "2024-08-22T14:17:22.611Z"
      },
      {
        "duration": 16,
        "start_time": "2024-08-22T14:17:22.622Z"
      },
      {
        "duration": 20,
        "start_time": "2024-08-22T14:17:22.646Z"
      },
      {
        "duration": 21,
        "start_time": "2024-08-22T14:17:22.667Z"
      },
      {
        "duration": 12,
        "start_time": "2024-08-22T14:17:22.689Z"
      },
      {
        "duration": 35,
        "start_time": "2024-08-22T14:17:22.703Z"
      },
      {
        "duration": 33,
        "start_time": "2024-08-22T14:17:22.739Z"
      },
      {
        "duration": 25,
        "start_time": "2024-08-22T14:17:22.773Z"
      },
      {
        "duration": 33,
        "start_time": "2024-08-22T14:17:22.799Z"
      },
      {
        "duration": 201,
        "start_time": "2024-08-22T14:17:22.834Z"
      },
      {
        "duration": 152,
        "start_time": "2024-08-22T14:17:23.037Z"
      },
      {
        "duration": 190,
        "start_time": "2024-08-22T14:17:23.190Z"
      },
      {
        "duration": 229,
        "start_time": "2024-08-22T14:17:23.381Z"
      },
      {
        "duration": 299,
        "start_time": "2024-08-22T14:17:23.612Z"
      },
      {
        "duration": 13,
        "start_time": "2024-08-22T14:17:23.913Z"
      },
      {
        "duration": 56,
        "start_time": "2024-08-22T14:17:23.927Z"
      },
      {
        "duration": 15,
        "start_time": "2024-08-22T14:17:23.985Z"
      },
      {
        "duration": 21,
        "start_time": "2024-08-22T14:17:24.004Z"
      },
      {
        "duration": 49,
        "start_time": "2024-08-22T14:17:24.026Z"
      },
      {
        "duration": 23,
        "start_time": "2024-08-22T14:17:24.077Z"
      },
      {
        "duration": 256,
        "start_time": "2024-08-22T14:17:24.102Z"
      },
      {
        "duration": 9,
        "start_time": "2024-08-22T14:17:24.360Z"
      },
      {
        "duration": 14,
        "start_time": "2024-08-22T14:17:24.370Z"
      },
      {
        "duration": 261,
        "start_time": "2024-08-22T14:17:24.386Z"
      },
      {
        "duration": 9,
        "start_time": "2024-08-22T14:17:24.649Z"
      },
      {
        "duration": 22,
        "start_time": "2024-08-22T14:17:24.659Z"
      },
      {
        "duration": 3,
        "start_time": "2024-08-22T14:17:24.683Z"
      },
      {
        "duration": 7,
        "start_time": "2024-08-22T14:17:24.688Z"
      },
      {
        "duration": 50,
        "start_time": "2024-08-22T14:17:24.697Z"
      },
      {
        "duration": 16,
        "start_time": "2024-08-22T14:17:24.748Z"
      },
      {
        "duration": 18,
        "start_time": "2024-08-22T14:17:24.766Z"
      },
      {
        "duration": 40,
        "start_time": "2024-08-22T14:17:24.785Z"
      },
      {
        "duration": 19,
        "start_time": "2024-08-22T14:17:24.826Z"
      },
      {
        "duration": 9,
        "start_time": "2024-08-22T14:17:24.847Z"
      },
      {
        "duration": 7,
        "start_time": "2024-08-22T14:23:59.421Z"
      },
      {
        "duration": 1165,
        "start_time": "2024-08-22T14:26:42.967Z"
      },
      {
        "duration": 71,
        "start_time": "2024-08-22T14:26:44.134Z"
      },
      {
        "duration": 13,
        "start_time": "2024-08-22T14:26:44.207Z"
      },
      {
        "duration": 11,
        "start_time": "2024-08-22T14:26:44.222Z"
      },
      {
        "duration": 40,
        "start_time": "2024-08-22T14:26:44.234Z"
      },
      {
        "duration": 204,
        "start_time": "2024-08-22T14:26:44.276Z"
      },
      {
        "duration": 9,
        "start_time": "2024-08-22T14:26:44.481Z"
      },
      {
        "duration": 15,
        "start_time": "2024-08-22T14:26:44.491Z"
      },
      {
        "duration": 38,
        "start_time": "2024-08-22T14:26:44.508Z"
      },
      {
        "duration": 450,
        "start_time": "2024-08-22T14:26:44.549Z"
      },
      {
        "duration": 7,
        "start_time": "2024-08-22T14:26:45.001Z"
      },
      {
        "duration": 109,
        "start_time": "2024-08-22T14:26:45.010Z"
      },
      {
        "duration": 182,
        "start_time": "2024-08-22T14:26:45.121Z"
      },
      {
        "duration": 7,
        "start_time": "2024-08-22T14:26:45.305Z"
      },
      {
        "duration": 21,
        "start_time": "2024-08-22T14:26:45.314Z"
      },
      {
        "duration": 34,
        "start_time": "2024-08-22T14:26:45.336Z"
      },
      {
        "duration": 22,
        "start_time": "2024-08-22T14:26:45.372Z"
      },
      {
        "duration": 7,
        "start_time": "2024-08-22T14:26:45.395Z"
      },
      {
        "duration": 13,
        "start_time": "2024-08-22T14:26:45.404Z"
      },
      {
        "duration": 215,
        "start_time": "2024-08-22T14:26:45.419Z"
      },
      {
        "duration": 153,
        "start_time": "2024-08-22T14:26:45.635Z"
      },
      {
        "duration": 194,
        "start_time": "2024-08-22T14:26:45.790Z"
      },
      {
        "duration": 220,
        "start_time": "2024-08-22T14:26:45.986Z"
      },
      {
        "duration": 311,
        "start_time": "2024-08-22T14:26:46.208Z"
      },
      {
        "duration": 29,
        "start_time": "2024-08-22T14:26:46.521Z"
      },
      {
        "duration": 24,
        "start_time": "2024-08-22T14:26:46.552Z"
      },
      {
        "duration": 16,
        "start_time": "2024-08-22T14:26:46.577Z"
      },
      {
        "duration": 20,
        "start_time": "2024-08-22T14:26:46.598Z"
      },
      {
        "duration": 45,
        "start_time": "2024-08-22T14:26:46.620Z"
      },
      {
        "duration": 20,
        "start_time": "2024-08-22T14:26:46.668Z"
      },
      {
        "duration": 292,
        "start_time": "2024-08-22T14:26:46.690Z"
      },
      {
        "duration": 9,
        "start_time": "2024-08-22T14:26:46.984Z"
      },
      {
        "duration": 12,
        "start_time": "2024-08-22T14:26:46.994Z"
      },
      {
        "duration": 272,
        "start_time": "2024-08-22T14:26:47.008Z"
      },
      {
        "duration": 8,
        "start_time": "2024-08-22T14:26:47.282Z"
      },
      {
        "duration": 8,
        "start_time": "2024-08-22T14:26:47.291Z"
      },
      {
        "duration": 8,
        "start_time": "2024-08-22T14:26:47.300Z"
      },
      {
        "duration": 21,
        "start_time": "2024-08-22T14:26:47.309Z"
      },
      {
        "duration": 46,
        "start_time": "2024-08-22T14:26:47.332Z"
      },
      {
        "duration": 15,
        "start_time": "2024-08-22T14:26:47.380Z"
      },
      {
        "duration": 17,
        "start_time": "2024-08-22T14:26:47.397Z"
      },
      {
        "duration": 5,
        "start_time": "2024-08-22T14:26:47.416Z"
      },
      {
        "duration": 36,
        "start_time": "2024-08-22T14:26:47.422Z"
      },
      {
        "duration": 9,
        "start_time": "2024-08-22T14:26:47.460Z"
      },
      {
        "duration": 1356,
        "start_time": "2024-08-23T11:14:41.718Z"
      },
      {
        "duration": 295,
        "start_time": "2024-08-23T11:14:43.076Z"
      },
      {
        "duration": 13,
        "start_time": "2024-08-23T11:14:43.373Z"
      },
      {
        "duration": 11,
        "start_time": "2024-08-23T11:14:43.388Z"
      },
      {
        "duration": 20,
        "start_time": "2024-08-23T11:14:43.401Z"
      },
      {
        "duration": 9,
        "start_time": "2024-08-23T11:14:43.422Z"
      },
      {
        "duration": 21,
        "start_time": "2024-08-23T11:14:43.432Z"
      },
      {
        "duration": 17,
        "start_time": "2024-08-23T11:14:43.454Z"
      },
      {
        "duration": 7,
        "start_time": "2024-08-23T11:14:43.473Z"
      },
      {
        "duration": 29,
        "start_time": "2024-08-23T11:14:43.482Z"
      },
      {
        "duration": 5,
        "start_time": "2024-08-23T11:14:43.513Z"
      },
      {
        "duration": 16,
        "start_time": "2024-08-23T11:14:43.520Z"
      },
      {
        "duration": 10,
        "start_time": "2024-08-23T11:14:43.537Z"
      },
      {
        "duration": 12,
        "start_time": "2024-08-23T11:14:43.548Z"
      },
      {
        "duration": 11,
        "start_time": "2024-08-23T11:14:43.561Z"
      },
      {
        "duration": 6,
        "start_time": "2024-08-23T11:14:43.574Z"
      },
      {
        "duration": 29,
        "start_time": "2024-08-23T11:14:43.581Z"
      },
      {
        "duration": 201,
        "start_time": "2024-08-23T11:14:43.611Z"
      },
      {
        "duration": 155,
        "start_time": "2024-08-23T11:14:43.814Z"
      },
      {
        "duration": 187,
        "start_time": "2024-08-23T11:14:43.970Z"
      },
      {
        "duration": 221,
        "start_time": "2024-08-23T11:14:44.158Z"
      },
      {
        "duration": 241,
        "start_time": "2024-08-23T11:14:44.381Z"
      },
      {
        "duration": 18,
        "start_time": "2024-08-23T11:14:44.624Z"
      },
      {
        "duration": 36,
        "start_time": "2024-08-23T11:14:44.643Z"
      },
      {
        "duration": 29,
        "start_time": "2024-08-23T11:14:44.681Z"
      },
      {
        "duration": 19,
        "start_time": "2024-08-23T11:14:44.711Z"
      },
      {
        "duration": 21,
        "start_time": "2024-08-23T11:14:44.732Z"
      },
      {
        "duration": 54,
        "start_time": "2024-08-23T11:14:44.756Z"
      },
      {
        "duration": 251,
        "start_time": "2024-08-23T11:14:44.812Z"
      },
      {
        "duration": 8,
        "start_time": "2024-08-23T11:14:45.065Z"
      },
      {
        "duration": 11,
        "start_time": "2024-08-23T11:14:45.074Z"
      },
      {
        "duration": 344,
        "start_time": "2024-08-23T11:14:45.087Z"
      },
      {
        "duration": 11,
        "start_time": "2024-08-23T11:14:45.433Z"
      },
      {
        "duration": 9,
        "start_time": "2024-08-23T11:14:45.446Z"
      },
      {
        "duration": 4,
        "start_time": "2024-08-23T11:14:45.457Z"
      },
      {
        "duration": 6,
        "start_time": "2024-08-23T11:14:45.462Z"
      },
      {
        "duration": 73,
        "start_time": "2024-08-23T11:14:45.469Z"
      },
      {
        "duration": 16,
        "start_time": "2024-08-23T11:14:45.544Z"
      },
      {
        "duration": 23,
        "start_time": "2024-08-23T11:14:45.562Z"
      },
      {
        "duration": 7,
        "start_time": "2024-08-23T11:14:45.604Z"
      },
      {
        "duration": 6,
        "start_time": "2024-08-23T11:14:45.612Z"
      },
      {
        "duration": 9,
        "start_time": "2024-08-23T11:14:45.619Z"
      },
      {
        "duration": 69,
        "start_time": "2024-08-23T11:20:43.960Z"
      },
      {
        "duration": 4,
        "start_time": "2024-08-23T11:21:20.770Z"
      },
      {
        "duration": 62,
        "start_time": "2024-08-23T11:22:56.184Z"
      },
      {
        "duration": 207,
        "start_time": "2024-08-23T11:24:15.345Z"
      },
      {
        "duration": 182,
        "start_time": "2024-08-23T11:25:19.322Z"
      },
      {
        "duration": 183,
        "start_time": "2024-08-23T11:25:47.991Z"
      },
      {
        "duration": 145,
        "start_time": "2024-08-23T11:29:26.937Z"
      },
      {
        "duration": 59,
        "start_time": "2024-08-23T11:29:54.379Z"
      },
      {
        "duration": 66,
        "start_time": "2024-08-23T11:30:03.210Z"
      },
      {
        "duration": 1490,
        "start_time": "2024-08-23T11:31:23.827Z"
      },
      {
        "duration": 1047,
        "start_time": "2024-08-23T11:32:42.508Z"
      },
      {
        "duration": 0,
        "start_time": "2024-08-23T11:32:43.557Z"
      },
      {
        "duration": 157,
        "start_time": "2024-08-23T11:32:46.635Z"
      },
      {
        "duration": 18,
        "start_time": "2024-08-23T11:32:53.297Z"
      },
      {
        "duration": 311,
        "start_time": "2024-08-23T11:33:10.979Z"
      },
      {
        "duration": 17,
        "start_time": "2024-08-23T11:33:30.525Z"
      },
      {
        "duration": 150,
        "start_time": "2024-08-23T11:34:10.276Z"
      },
      {
        "duration": 143,
        "start_time": "2024-08-23T11:35:12.598Z"
      },
      {
        "duration": 118,
        "start_time": "2024-08-23T11:36:44.585Z"
      },
      {
        "duration": 124,
        "start_time": "2024-08-23T11:36:56.147Z"
      },
      {
        "duration": 1323,
        "start_time": "2024-08-23T11:37:24.936Z"
      },
      {
        "duration": 159,
        "start_time": "2024-08-23T11:37:34.172Z"
      },
      {
        "duration": 155,
        "start_time": "2024-08-23T11:38:56.636Z"
      },
      {
        "duration": 21,
        "start_time": "2024-08-23T11:39:06.742Z"
      },
      {
        "duration": 150,
        "start_time": "2024-08-23T11:39:10.547Z"
      },
      {
        "duration": 138,
        "start_time": "2024-08-23T11:39:53.221Z"
      },
      {
        "duration": 135,
        "start_time": "2024-08-23T11:44:34.221Z"
      },
      {
        "duration": 142,
        "start_time": "2024-08-23T11:50:47.535Z"
      },
      {
        "duration": 151,
        "start_time": "2024-08-23T11:52:04.623Z"
      },
      {
        "duration": 345,
        "start_time": "2024-08-23T11:52:14.240Z"
      },
      {
        "duration": 158,
        "start_time": "2024-08-23T11:54:07.792Z"
      },
      {
        "duration": 177,
        "start_time": "2024-08-23T11:54:47.176Z"
      },
      {
        "duration": 74,
        "start_time": "2024-08-23T11:55:30.633Z"
      },
      {
        "duration": 1192,
        "start_time": "2024-08-23T11:55:44.600Z"
      },
      {
        "duration": 69,
        "start_time": "2024-08-23T11:55:45.794Z"
      },
      {
        "duration": 12,
        "start_time": "2024-08-23T11:55:45.865Z"
      },
      {
        "duration": 11,
        "start_time": "2024-08-23T11:55:45.879Z"
      },
      {
        "duration": 51,
        "start_time": "2024-08-23T11:55:45.891Z"
      },
      {
        "duration": 12,
        "start_time": "2024-08-23T11:55:45.944Z"
      },
      {
        "duration": 17,
        "start_time": "2024-08-23T11:55:45.957Z"
      },
      {
        "duration": 44,
        "start_time": "2024-08-23T11:55:45.976Z"
      },
      {
        "duration": 30,
        "start_time": "2024-08-23T11:55:46.022Z"
      },
      {
        "duration": 16,
        "start_time": "2024-08-23T11:55:46.056Z"
      },
      {
        "duration": 26,
        "start_time": "2024-08-23T11:55:46.074Z"
      },
      {
        "duration": 6,
        "start_time": "2024-08-23T11:55:46.102Z"
      },
      {
        "duration": 39,
        "start_time": "2024-08-23T11:55:46.110Z"
      },
      {
        "duration": 7,
        "start_time": "2024-08-23T11:55:46.151Z"
      },
      {
        "duration": 11,
        "start_time": "2024-08-23T11:55:46.159Z"
      },
      {
        "duration": 9,
        "start_time": "2024-08-23T11:55:46.171Z"
      },
      {
        "duration": 12,
        "start_time": "2024-08-23T11:55:46.182Z"
      },
      {
        "duration": 4,
        "start_time": "2024-08-23T11:55:46.196Z"
      },
      {
        "duration": 203,
        "start_time": "2024-08-23T11:55:46.207Z"
      },
      {
        "duration": 193,
        "start_time": "2024-08-23T11:55:46.412Z"
      },
      {
        "duration": 207,
        "start_time": "2024-08-23T11:55:46.607Z"
      },
      {
        "duration": 232,
        "start_time": "2024-08-23T11:55:46.816Z"
      },
      {
        "duration": 233,
        "start_time": "2024-08-23T11:55:47.049Z"
      },
      {
        "duration": 24,
        "start_time": "2024-08-23T11:55:47.283Z"
      },
      {
        "duration": 23,
        "start_time": "2024-08-23T11:55:47.308Z"
      },
      {
        "duration": 15,
        "start_time": "2024-08-23T11:55:47.333Z"
      },
      {
        "duration": 26,
        "start_time": "2024-08-23T11:55:47.350Z"
      },
      {
        "duration": 43,
        "start_time": "2024-08-23T11:55:47.381Z"
      },
      {
        "duration": 20,
        "start_time": "2024-08-23T11:55:47.426Z"
      },
      {
        "duration": 277,
        "start_time": "2024-08-23T11:55:47.448Z"
      },
      {
        "duration": 10,
        "start_time": "2024-08-23T11:55:47.727Z"
      },
      {
        "duration": 9,
        "start_time": "2024-08-23T11:55:47.739Z"
      },
      {
        "duration": 355,
        "start_time": "2024-08-23T11:55:47.750Z"
      },
      {
        "duration": 9,
        "start_time": "2024-08-23T11:55:48.106Z"
      },
      {
        "duration": 10,
        "start_time": "2024-08-23T11:55:48.117Z"
      },
      {
        "duration": 4,
        "start_time": "2024-08-23T11:55:48.129Z"
      },
      {
        "duration": 44,
        "start_time": "2024-08-23T11:55:48.134Z"
      },
      {
        "duration": 56,
        "start_time": "2024-08-23T11:55:48.180Z"
      },
      {
        "duration": 16,
        "start_time": "2024-08-23T11:55:48.238Z"
      },
      {
        "duration": 35,
        "start_time": "2024-08-23T11:55:48.257Z"
      },
      {
        "duration": 20,
        "start_time": "2024-08-23T11:55:48.293Z"
      },
      {
        "duration": 10,
        "start_time": "2024-08-23T11:55:48.315Z"
      },
      {
        "duration": 22,
        "start_time": "2024-08-23T11:55:48.327Z"
      },
      {
        "duration": 55,
        "start_time": "2024-08-23T11:57:43.116Z"
      },
      {
        "duration": 9,
        "start_time": "2024-08-23T12:02:27.532Z"
      },
      {
        "duration": 10,
        "start_time": "2024-08-23T12:03:42.674Z"
      },
      {
        "duration": 9,
        "start_time": "2024-08-23T12:04:01.269Z"
      },
      {
        "duration": 117,
        "start_time": "2024-08-23T12:05:23.068Z"
      },
      {
        "duration": 29,
        "start_time": "2024-08-23T12:06:54.441Z"
      },
      {
        "duration": 38,
        "start_time": "2024-08-23T12:07:08.110Z"
      },
      {
        "duration": 23,
        "start_time": "2024-08-23T12:07:22.242Z"
      },
      {
        "duration": 1154,
        "start_time": "2024-08-23T12:07:43.028Z"
      },
      {
        "duration": 71,
        "start_time": "2024-08-23T12:07:44.184Z"
      },
      {
        "duration": 14,
        "start_time": "2024-08-23T12:07:44.257Z"
      },
      {
        "duration": 24,
        "start_time": "2024-08-23T12:07:44.273Z"
      },
      {
        "duration": 16,
        "start_time": "2024-08-23T12:07:44.298Z"
      },
      {
        "duration": 8,
        "start_time": "2024-08-23T12:07:44.316Z"
      },
      {
        "duration": 18,
        "start_time": "2024-08-23T12:07:44.325Z"
      },
      {
        "duration": 19,
        "start_time": "2024-08-23T12:07:44.345Z"
      },
      {
        "duration": 8,
        "start_time": "2024-08-23T12:07:44.365Z"
      },
      {
        "duration": 31,
        "start_time": "2024-08-23T12:07:44.375Z"
      },
      {
        "duration": 6,
        "start_time": "2024-08-23T12:07:44.408Z"
      },
      {
        "duration": 9,
        "start_time": "2024-08-23T12:07:44.415Z"
      },
      {
        "duration": 15,
        "start_time": "2024-08-23T12:07:44.426Z"
      },
      {
        "duration": 57,
        "start_time": "2024-08-23T12:07:44.443Z"
      },
      {
        "duration": 61,
        "start_time": "2024-08-23T12:07:44.502Z"
      },
      {
        "duration": 11,
        "start_time": "2024-08-23T12:07:44.565Z"
      },
      {
        "duration": 11,
        "start_time": "2024-08-23T12:07:44.577Z"
      },
      {
        "duration": 5,
        "start_time": "2024-08-23T12:07:44.589Z"
      },
      {
        "duration": 196,
        "start_time": "2024-08-23T12:07:44.595Z"
      },
      {
        "duration": 178,
        "start_time": "2024-08-23T12:07:44.793Z"
      },
      {
        "duration": 209,
        "start_time": "2024-08-23T12:07:44.972Z"
      },
      {
        "duration": 215,
        "start_time": "2024-08-23T12:07:45.183Z"
      },
      {
        "duration": 9,
        "start_time": "2024-08-23T12:07:45.404Z"
      },
      {
        "duration": 155,
        "start_time": "2024-08-23T12:07:45.415Z"
      },
      {
        "duration": 0,
        "start_time": "2024-08-23T12:07:45.573Z"
      },
      {
        "duration": 0,
        "start_time": "2024-08-23T12:07:45.574Z"
      },
      {
        "duration": 0,
        "start_time": "2024-08-23T12:07:45.575Z"
      },
      {
        "duration": 0,
        "start_time": "2024-08-23T12:07:45.577Z"
      },
      {
        "duration": 0,
        "start_time": "2024-08-23T12:07:45.578Z"
      },
      {
        "duration": 0,
        "start_time": "2024-08-23T12:07:45.579Z"
      },
      {
        "duration": 0,
        "start_time": "2024-08-23T12:07:45.580Z"
      },
      {
        "duration": 0,
        "start_time": "2024-08-23T12:07:45.581Z"
      },
      {
        "duration": 0,
        "start_time": "2024-08-23T12:07:45.582Z"
      },
      {
        "duration": 0,
        "start_time": "2024-08-23T12:07:45.583Z"
      },
      {
        "duration": 0,
        "start_time": "2024-08-23T12:07:45.605Z"
      },
      {
        "duration": 0,
        "start_time": "2024-08-23T12:07:45.606Z"
      },
      {
        "duration": 0,
        "start_time": "2024-08-23T12:07:45.607Z"
      },
      {
        "duration": 0,
        "start_time": "2024-08-23T12:07:45.608Z"
      },
      {
        "duration": 0,
        "start_time": "2024-08-23T12:07:45.610Z"
      },
      {
        "duration": 0,
        "start_time": "2024-08-23T12:07:45.611Z"
      },
      {
        "duration": 0,
        "start_time": "2024-08-23T12:07:45.612Z"
      },
      {
        "duration": 0,
        "start_time": "2024-08-23T12:07:45.613Z"
      },
      {
        "duration": 0,
        "start_time": "2024-08-23T12:07:45.614Z"
      },
      {
        "duration": 0,
        "start_time": "2024-08-23T12:07:45.615Z"
      },
      {
        "duration": 0,
        "start_time": "2024-08-23T12:07:45.616Z"
      },
      {
        "duration": 11,
        "start_time": "2024-08-23T12:09:22.165Z"
      },
      {
        "duration": 11,
        "start_time": "2024-08-23T12:11:31.563Z"
      },
      {
        "duration": 61,
        "start_time": "2024-08-23T12:21:44.048Z"
      },
      {
        "duration": 1190,
        "start_time": "2024-08-23T12:22:51.081Z"
      },
      {
        "duration": 71,
        "start_time": "2024-08-23T12:22:52.273Z"
      },
      {
        "duration": 11,
        "start_time": "2024-08-23T12:22:52.346Z"
      },
      {
        "duration": 18,
        "start_time": "2024-08-23T12:22:52.359Z"
      },
      {
        "duration": 20,
        "start_time": "2024-08-23T12:22:52.379Z"
      },
      {
        "duration": 8,
        "start_time": "2024-08-23T12:22:52.400Z"
      },
      {
        "duration": 12,
        "start_time": "2024-08-23T12:22:52.409Z"
      },
      {
        "duration": 17,
        "start_time": "2024-08-23T12:22:52.423Z"
      },
      {
        "duration": 6,
        "start_time": "2024-08-23T12:22:52.442Z"
      },
      {
        "duration": 17,
        "start_time": "2024-08-23T12:22:52.450Z"
      },
      {
        "duration": 43,
        "start_time": "2024-08-23T12:22:52.469Z"
      },
      {
        "duration": 84,
        "start_time": "2024-08-23T12:22:52.513Z"
      },
      {
        "duration": 24,
        "start_time": "2024-08-23T12:22:52.599Z"
      },
      {
        "duration": 6,
        "start_time": "2024-08-23T12:22:52.627Z"
      },
      {
        "duration": 11,
        "start_time": "2024-08-23T12:22:52.635Z"
      },
      {
        "duration": 6,
        "start_time": "2024-08-23T12:22:52.648Z"
      },
      {
        "duration": 10,
        "start_time": "2024-08-23T12:22:52.656Z"
      },
      {
        "duration": 9,
        "start_time": "2024-08-23T12:22:52.668Z"
      },
      {
        "duration": 235,
        "start_time": "2024-08-23T12:22:52.678Z"
      },
      {
        "duration": 184,
        "start_time": "2024-08-23T12:22:52.916Z"
      },
      {
        "duration": 203,
        "start_time": "2024-08-23T12:22:53.104Z"
      },
      {
        "duration": 208,
        "start_time": "2024-08-23T12:22:53.309Z"
      },
      {
        "duration": 10,
        "start_time": "2024-08-23T12:22:53.518Z"
      },
      {
        "duration": 227,
        "start_time": "2024-08-23T12:22:53.529Z"
      },
      {
        "duration": 13,
        "start_time": "2024-08-23T12:22:53.758Z"
      },
      {
        "duration": 34,
        "start_time": "2024-08-23T12:22:53.772Z"
      },
      {
        "duration": 15,
        "start_time": "2024-08-23T12:22:53.808Z"
      },
      {
        "duration": 22,
        "start_time": "2024-08-23T12:22:53.824Z"
      },
      {
        "duration": 32,
        "start_time": "2024-08-23T12:22:53.848Z"
      },
      {
        "duration": 33,
        "start_time": "2024-08-23T12:22:53.882Z"
      },
      {
        "duration": 246,
        "start_time": "2024-08-23T12:22:53.916Z"
      },
      {
        "duration": 9,
        "start_time": "2024-08-23T12:22:54.164Z"
      },
      {
        "duration": 9,
        "start_time": "2024-08-23T12:22:54.174Z"
      },
      {
        "duration": 365,
        "start_time": "2024-08-23T12:22:54.185Z"
      },
      {
        "duration": 8,
        "start_time": "2024-08-23T12:22:54.552Z"
      },
      {
        "duration": 32,
        "start_time": "2024-08-23T12:22:54.562Z"
      },
      {
        "duration": 7,
        "start_time": "2024-08-23T12:22:54.595Z"
      },
      {
        "duration": 4,
        "start_time": "2024-08-23T12:22:54.604Z"
      },
      {
        "duration": 41,
        "start_time": "2024-08-23T12:22:54.609Z"
      },
      {
        "duration": 15,
        "start_time": "2024-08-23T12:22:54.651Z"
      },
      {
        "duration": 37,
        "start_time": "2024-08-23T12:22:54.669Z"
      },
      {
        "duration": 6,
        "start_time": "2024-08-23T12:22:54.708Z"
      },
      {
        "duration": 80,
        "start_time": "2024-08-23T12:22:54.716Z"
      },
      {
        "duration": 15,
        "start_time": "2024-08-23T12:22:54.798Z"
      },
      {
        "duration": 8,
        "start_time": "2024-08-23T12:23:46.598Z"
      },
      {
        "duration": 12,
        "start_time": "2024-08-23T12:24:04.433Z"
      },
      {
        "duration": 6,
        "start_time": "2024-08-23T12:24:28.239Z"
      },
      {
        "duration": 10,
        "start_time": "2024-08-23T12:24:33.721Z"
      },
      {
        "duration": 15,
        "start_time": "2024-08-23T12:24:59.648Z"
      },
      {
        "duration": 10,
        "start_time": "2024-08-23T12:25:04.833Z"
      },
      {
        "duration": 8,
        "start_time": "2024-08-23T12:25:09.086Z"
      },
      {
        "duration": 7,
        "start_time": "2024-08-23T12:25:13.217Z"
      },
      {
        "duration": 6,
        "start_time": "2024-08-23T12:25:22.647Z"
      },
      {
        "duration": 1206,
        "start_time": "2024-08-23T12:25:28.792Z"
      },
      {
        "duration": 72,
        "start_time": "2024-08-23T12:25:30.000Z"
      },
      {
        "duration": 13,
        "start_time": "2024-08-23T12:25:30.074Z"
      },
      {
        "duration": 26,
        "start_time": "2024-08-23T12:25:30.089Z"
      },
      {
        "duration": 36,
        "start_time": "2024-08-23T12:25:30.117Z"
      },
      {
        "duration": 30,
        "start_time": "2024-08-23T12:25:30.155Z"
      },
      {
        "duration": 41,
        "start_time": "2024-08-23T12:25:30.188Z"
      },
      {
        "duration": 28,
        "start_time": "2024-08-23T12:25:30.231Z"
      },
      {
        "duration": 19,
        "start_time": "2024-08-23T12:25:30.261Z"
      },
      {
        "duration": 54,
        "start_time": "2024-08-23T12:25:30.282Z"
      },
      {
        "duration": 43,
        "start_time": "2024-08-23T12:25:30.338Z"
      },
      {
        "duration": 39,
        "start_time": "2024-08-23T12:25:30.382Z"
      },
      {
        "duration": 71,
        "start_time": "2024-08-23T12:25:30.423Z"
      },
      {
        "duration": 99,
        "start_time": "2024-08-23T12:25:30.495Z"
      },
      {
        "duration": 19,
        "start_time": "2024-08-23T12:25:30.596Z"
      },
      {
        "duration": 7,
        "start_time": "2024-08-23T12:25:30.617Z"
      },
      {
        "duration": 26,
        "start_time": "2024-08-23T12:25:30.625Z"
      },
      {
        "duration": 53,
        "start_time": "2024-08-23T12:25:30.653Z"
      },
      {
        "duration": 205,
        "start_time": "2024-08-23T12:25:30.708Z"
      },
      {
        "duration": 170,
        "start_time": "2024-08-23T12:25:30.915Z"
      },
      {
        "duration": 222,
        "start_time": "2024-08-23T12:25:31.086Z"
      },
      {
        "duration": 220,
        "start_time": "2024-08-23T12:25:31.312Z"
      },
      {
        "duration": 11,
        "start_time": "2024-08-23T12:25:31.534Z"
      },
      {
        "duration": 225,
        "start_time": "2024-08-23T12:25:31.547Z"
      },
      {
        "duration": 8,
        "start_time": "2024-08-23T12:25:31.774Z"
      },
      {
        "duration": 32,
        "start_time": "2024-08-23T12:25:31.783Z"
      },
      {
        "duration": 21,
        "start_time": "2024-08-23T12:25:31.817Z"
      },
      {
        "duration": 14,
        "start_time": "2024-08-23T12:25:31.842Z"
      },
      {
        "duration": 18,
        "start_time": "2024-08-23T12:25:31.858Z"
      },
      {
        "duration": 46,
        "start_time": "2024-08-23T12:25:31.878Z"
      },
      {
        "duration": 19,
        "start_time": "2024-08-23T12:25:31.925Z"
      },
      {
        "duration": 260,
        "start_time": "2024-08-23T12:25:31.945Z"
      },
      {
        "duration": 9,
        "start_time": "2024-08-23T12:25:32.206Z"
      },
      {
        "duration": 8,
        "start_time": "2024-08-23T12:25:32.216Z"
      },
      {
        "duration": 351,
        "start_time": "2024-08-23T12:25:32.225Z"
      },
      {
        "duration": 8,
        "start_time": "2024-08-23T12:25:32.577Z"
      },
      {
        "duration": 29,
        "start_time": "2024-08-23T12:25:32.586Z"
      },
      {
        "duration": 12,
        "start_time": "2024-08-23T12:25:32.616Z"
      },
      {
        "duration": 4,
        "start_time": "2024-08-23T12:25:32.629Z"
      },
      {
        "duration": 45,
        "start_time": "2024-08-23T12:25:32.634Z"
      },
      {
        "duration": 14,
        "start_time": "2024-08-23T12:25:32.681Z"
      },
      {
        "duration": 19,
        "start_time": "2024-08-23T12:25:32.705Z"
      },
      {
        "duration": 6,
        "start_time": "2024-08-23T12:25:32.725Z"
      },
      {
        "duration": 85,
        "start_time": "2024-08-23T12:25:32.733Z"
      },
      {
        "duration": 11,
        "start_time": "2024-08-23T12:25:32.820Z"
      },
      {
        "duration": 7,
        "start_time": "2024-08-23T12:25:50.735Z"
      },
      {
        "duration": 1202,
        "start_time": "2024-08-23T12:26:14.286Z"
      },
      {
        "duration": 72,
        "start_time": "2024-08-23T12:26:15.490Z"
      },
      {
        "duration": 12,
        "start_time": "2024-08-23T12:26:15.563Z"
      },
      {
        "duration": 92,
        "start_time": "2024-08-23T12:26:15.577Z"
      },
      {
        "duration": 45,
        "start_time": "2024-08-23T12:26:15.671Z"
      },
      {
        "duration": 22,
        "start_time": "2024-08-23T12:26:15.718Z"
      },
      {
        "duration": 18,
        "start_time": "2024-08-23T12:26:15.742Z"
      },
      {
        "duration": 19,
        "start_time": "2024-08-23T12:26:15.762Z"
      },
      {
        "duration": 6,
        "start_time": "2024-08-23T12:26:15.783Z"
      },
      {
        "duration": 14,
        "start_time": "2024-08-23T12:26:15.792Z"
      },
      {
        "duration": 6,
        "start_time": "2024-08-23T12:26:15.807Z"
      },
      {
        "duration": 7,
        "start_time": "2024-08-23T12:26:15.814Z"
      },
      {
        "duration": 8,
        "start_time": "2024-08-23T12:26:15.822Z"
      },
      {
        "duration": 7,
        "start_time": "2024-08-23T12:26:15.832Z"
      },
      {
        "duration": 12,
        "start_time": "2024-08-23T12:26:15.841Z"
      },
      {
        "duration": 7,
        "start_time": "2024-08-23T12:26:15.854Z"
      },
      {
        "duration": 46,
        "start_time": "2024-08-23T12:26:15.863Z"
      },
      {
        "duration": 4,
        "start_time": "2024-08-23T12:26:15.910Z"
      },
      {
        "duration": 240,
        "start_time": "2024-08-23T12:26:15.915Z"
      },
      {
        "duration": 180,
        "start_time": "2024-08-23T12:26:16.157Z"
      },
      {
        "duration": 207,
        "start_time": "2024-08-23T12:26:16.339Z"
      },
      {
        "duration": 247,
        "start_time": "2024-08-23T12:26:16.548Z"
      },
      {
        "duration": 18,
        "start_time": "2024-08-23T12:26:16.796Z"
      },
      {
        "duration": 241,
        "start_time": "2024-08-23T12:26:16.816Z"
      },
      {
        "duration": 8,
        "start_time": "2024-08-23T12:26:17.058Z"
      },
      {
        "duration": 30,
        "start_time": "2024-08-23T12:26:17.067Z"
      },
      {
        "duration": 45,
        "start_time": "2024-08-23T12:26:17.099Z"
      },
      {
        "duration": 17,
        "start_time": "2024-08-23T12:26:17.147Z"
      },
      {
        "duration": 22,
        "start_time": "2024-08-23T12:26:17.165Z"
      },
      {
        "duration": 64,
        "start_time": "2024-08-23T12:26:17.188Z"
      },
      {
        "duration": 20,
        "start_time": "2024-08-23T12:26:17.253Z"
      },
      {
        "duration": 274,
        "start_time": "2024-08-23T12:26:17.275Z"
      },
      {
        "duration": 9,
        "start_time": "2024-08-23T12:26:17.550Z"
      },
      {
        "duration": 8,
        "start_time": "2024-08-23T12:26:17.560Z"
      },
      {
        "duration": 375,
        "start_time": "2024-08-23T12:26:17.570Z"
      },
      {
        "duration": 9,
        "start_time": "2024-08-23T12:26:17.946Z"
      },
      {
        "duration": 8,
        "start_time": "2024-08-23T12:26:17.957Z"
      },
      {
        "duration": 9,
        "start_time": "2024-08-23T12:26:17.967Z"
      },
      {
        "duration": 20,
        "start_time": "2024-08-23T12:26:17.977Z"
      },
      {
        "duration": 70,
        "start_time": "2024-08-23T12:26:17.999Z"
      },
      {
        "duration": 15,
        "start_time": "2024-08-23T12:26:18.071Z"
      },
      {
        "duration": 24,
        "start_time": "2024-08-23T12:26:18.088Z"
      },
      {
        "duration": 5,
        "start_time": "2024-08-23T12:26:18.114Z"
      },
      {
        "duration": 5,
        "start_time": "2024-08-23T12:26:18.120Z"
      },
      {
        "duration": 7,
        "start_time": "2024-08-23T12:26:18.127Z"
      },
      {
        "duration": 7,
        "start_time": "2024-08-23T12:26:35.423Z"
      },
      {
        "duration": 1173,
        "start_time": "2024-08-23T12:26:49.293Z"
      },
      {
        "duration": 70,
        "start_time": "2024-08-23T12:26:50.468Z"
      },
      {
        "duration": 12,
        "start_time": "2024-08-23T12:26:50.540Z"
      },
      {
        "duration": 40,
        "start_time": "2024-08-23T12:26:50.553Z"
      },
      {
        "duration": 16,
        "start_time": "2024-08-23T12:26:50.595Z"
      },
      {
        "duration": 8,
        "start_time": "2024-08-23T12:26:50.613Z"
      },
      {
        "duration": 20,
        "start_time": "2024-08-23T12:26:50.622Z"
      },
      {
        "duration": 20,
        "start_time": "2024-08-23T12:26:50.644Z"
      },
      {
        "duration": 7,
        "start_time": "2024-08-23T12:26:50.665Z"
      },
      {
        "duration": 17,
        "start_time": "2024-08-23T12:26:50.674Z"
      },
      {
        "duration": 6,
        "start_time": "2024-08-23T12:26:50.704Z"
      },
      {
        "duration": 7,
        "start_time": "2024-08-23T12:26:50.712Z"
      },
      {
        "duration": 13,
        "start_time": "2024-08-23T12:26:50.721Z"
      },
      {
        "duration": 83,
        "start_time": "2024-08-23T12:26:50.735Z"
      },
      {
        "duration": 9,
        "start_time": "2024-08-23T12:26:50.820Z"
      },
      {
        "duration": 8,
        "start_time": "2024-08-23T12:26:50.831Z"
      },
      {
        "duration": 13,
        "start_time": "2024-08-23T12:26:50.840Z"
      },
      {
        "duration": 4,
        "start_time": "2024-08-23T12:26:50.855Z"
      },
      {
        "duration": 235,
        "start_time": "2024-08-23T12:26:50.861Z"
      },
      {
        "duration": 181,
        "start_time": "2024-08-23T12:26:51.097Z"
      },
      {
        "duration": 185,
        "start_time": "2024-08-23T12:26:51.280Z"
      },
      {
        "duration": 215,
        "start_time": "2024-08-23T12:26:51.467Z"
      },
      {
        "duration": 22,
        "start_time": "2024-08-23T12:26:51.683Z"
      },
      {
        "duration": 211,
        "start_time": "2024-08-23T12:26:51.707Z"
      },
      {
        "duration": 14,
        "start_time": "2024-08-23T12:26:51.919Z"
      },
      {
        "duration": 20,
        "start_time": "2024-08-23T12:26:51.934Z"
      },
      {
        "duration": 15,
        "start_time": "2024-08-23T12:26:51.955Z"
      },
      {
        "duration": 43,
        "start_time": "2024-08-23T12:26:51.973Z"
      },
      {
        "duration": 22,
        "start_time": "2024-08-23T12:26:52.018Z"
      },
      {
        "duration": 19,
        "start_time": "2024-08-23T12:26:52.041Z"
      },
      {
        "duration": 275,
        "start_time": "2024-08-23T12:26:52.061Z"
      },
      {
        "duration": 8,
        "start_time": "2024-08-23T12:26:52.337Z"
      },
      {
        "duration": 11,
        "start_time": "2024-08-23T12:26:52.347Z"
      },
      {
        "duration": 355,
        "start_time": "2024-08-23T12:26:52.360Z"
      },
      {
        "duration": 11,
        "start_time": "2024-08-23T12:26:52.717Z"
      },
      {
        "duration": 8,
        "start_time": "2024-08-23T12:26:52.730Z"
      },
      {
        "duration": 17,
        "start_time": "2024-08-23T12:26:52.740Z"
      },
      {
        "duration": 5,
        "start_time": "2024-08-23T12:26:52.758Z"
      },
      {
        "duration": 68,
        "start_time": "2024-08-23T12:26:52.765Z"
      },
      {
        "duration": 17,
        "start_time": "2024-08-23T12:26:52.835Z"
      },
      {
        "duration": 28,
        "start_time": "2024-08-23T12:26:52.854Z"
      },
      {
        "duration": 6,
        "start_time": "2024-08-23T12:26:52.883Z"
      },
      {
        "duration": 16,
        "start_time": "2024-08-23T12:26:52.891Z"
      },
      {
        "duration": 10,
        "start_time": "2024-08-23T12:26:52.909Z"
      },
      {
        "duration": 6,
        "start_time": "2024-08-23T12:27:51.529Z"
      },
      {
        "duration": 9,
        "start_time": "2024-08-23T12:28:03.599Z"
      },
      {
        "duration": 11,
        "start_time": "2024-08-23T12:28:31.312Z"
      },
      {
        "duration": 13,
        "start_time": "2024-08-23T12:33:03.700Z"
      },
      {
        "duration": 59,
        "start_time": "2024-08-23T12:38:14.843Z"
      },
      {
        "duration": 11,
        "start_time": "2024-08-23T12:38:50.077Z"
      },
      {
        "duration": 3,
        "start_time": "2024-08-23T12:39:54.564Z"
      },
      {
        "duration": 5,
        "start_time": "2024-08-23T12:40:25.458Z"
      },
      {
        "duration": 4,
        "start_time": "2024-08-23T12:40:35.237Z"
      },
      {
        "duration": 4,
        "start_time": "2024-08-23T12:42:26.246Z"
      },
      {
        "duration": 218,
        "start_time": "2024-08-23T12:46:16.030Z"
      },
      {
        "duration": 1149,
        "start_time": "2024-08-23T12:48:30.841Z"
      },
      {
        "duration": 75,
        "start_time": "2024-08-23T12:48:31.992Z"
      },
      {
        "duration": 14,
        "start_time": "2024-08-23T12:48:32.069Z"
      },
      {
        "duration": 17,
        "start_time": "2024-08-23T12:48:32.086Z"
      },
      {
        "duration": 16,
        "start_time": "2024-08-23T12:48:32.105Z"
      },
      {
        "duration": 8,
        "start_time": "2024-08-23T12:48:32.122Z"
      },
      {
        "duration": 14,
        "start_time": "2024-08-23T12:48:32.131Z"
      },
      {
        "duration": 18,
        "start_time": "2024-08-23T12:48:32.147Z"
      },
      {
        "duration": 7,
        "start_time": "2024-08-23T12:48:32.167Z"
      },
      {
        "duration": 10,
        "start_time": "2024-08-23T12:48:32.206Z"
      },
      {
        "duration": 19,
        "start_time": "2024-08-23T12:48:32.218Z"
      },
      {
        "duration": 51,
        "start_time": "2024-08-23T12:48:32.238Z"
      },
      {
        "duration": 14,
        "start_time": "2024-08-23T12:48:32.291Z"
      },
      {
        "duration": 8,
        "start_time": "2024-08-23T12:48:32.307Z"
      },
      {
        "duration": 10,
        "start_time": "2024-08-23T12:48:32.317Z"
      },
      {
        "duration": 7,
        "start_time": "2024-08-23T12:48:32.329Z"
      },
      {
        "duration": 11,
        "start_time": "2024-08-23T12:48:32.337Z"
      },
      {
        "duration": 4,
        "start_time": "2024-08-23T12:48:32.349Z"
      },
      {
        "duration": 222,
        "start_time": "2024-08-23T12:48:32.355Z"
      },
      {
        "duration": 174,
        "start_time": "2024-08-23T12:48:32.578Z"
      },
      {
        "duration": 213,
        "start_time": "2024-08-23T12:48:32.754Z"
      },
      {
        "duration": 228,
        "start_time": "2024-08-23T12:48:32.969Z"
      },
      {
        "duration": 11,
        "start_time": "2024-08-23T12:48:33.205Z"
      },
      {
        "duration": 241,
        "start_time": "2024-08-23T12:48:33.218Z"
      },
      {
        "duration": 11,
        "start_time": "2024-08-23T12:48:33.461Z"
      },
      {
        "duration": 14,
        "start_time": "2024-08-23T12:48:33.473Z"
      },
      {
        "duration": 16,
        "start_time": "2024-08-23T12:48:33.489Z"
      },
      {
        "duration": 5,
        "start_time": "2024-08-23T12:48:33.510Z"
      },
      {
        "duration": 303,
        "start_time": "2024-08-23T12:48:33.517Z"
      },
      {
        "duration": 16,
        "start_time": "2024-08-23T12:48:33.822Z"
      },
      {
        "duration": 25,
        "start_time": "2024-08-23T12:48:33.840Z"
      },
      {
        "duration": 42,
        "start_time": "2024-08-23T12:48:33.867Z"
      },
      {
        "duration": 22,
        "start_time": "2024-08-23T12:48:33.911Z"
      },
      {
        "duration": 23,
        "start_time": "2024-08-23T12:48:33.935Z"
      },
      {
        "duration": 22,
        "start_time": "2024-08-23T12:48:33.959Z"
      },
      {
        "duration": 332,
        "start_time": "2024-08-23T12:48:34.005Z"
      },
      {
        "duration": 9,
        "start_time": "2024-08-23T12:48:34.339Z"
      },
      {
        "duration": 19,
        "start_time": "2024-08-23T12:48:34.350Z"
      },
      {
        "duration": 249,
        "start_time": "2024-08-23T12:48:34.371Z"
      },
      {
        "duration": 9,
        "start_time": "2024-08-23T12:48:34.622Z"
      },
      {
        "duration": 50,
        "start_time": "2024-08-23T12:48:34.633Z"
      },
      {
        "duration": 11,
        "start_time": "2024-08-23T12:48:34.685Z"
      },
      {
        "duration": 5,
        "start_time": "2024-08-23T12:48:34.698Z"
      },
      {
        "duration": 38,
        "start_time": "2024-08-23T12:48:34.704Z"
      },
      {
        "duration": 15,
        "start_time": "2024-08-23T12:48:34.744Z"
      },
      {
        "duration": 21,
        "start_time": "2024-08-23T12:48:34.760Z"
      },
      {
        "duration": 6,
        "start_time": "2024-08-23T12:48:34.805Z"
      },
      {
        "duration": 125,
        "start_time": "2024-08-23T12:48:34.812Z"
      },
      {
        "duration": 9,
        "start_time": "2024-08-23T12:48:34.939Z"
      },
      {
        "duration": 63,
        "start_time": "2024-08-23T13:01:50.210Z"
      },
      {
        "duration": 1192,
        "start_time": "2024-08-23T13:06:34.185Z"
      },
      {
        "duration": 71,
        "start_time": "2024-08-23T13:06:35.379Z"
      },
      {
        "duration": 15,
        "start_time": "2024-08-23T13:06:35.451Z"
      },
      {
        "duration": 21,
        "start_time": "2024-08-23T13:06:35.468Z"
      },
      {
        "duration": 29,
        "start_time": "2024-08-23T13:06:35.491Z"
      },
      {
        "duration": 16,
        "start_time": "2024-08-23T13:06:35.522Z"
      },
      {
        "duration": 16,
        "start_time": "2024-08-23T13:06:35.540Z"
      },
      {
        "duration": 23,
        "start_time": "2024-08-23T13:06:35.558Z"
      },
      {
        "duration": 19,
        "start_time": "2024-08-23T13:06:35.583Z"
      },
      {
        "duration": 12,
        "start_time": "2024-08-23T13:06:35.604Z"
      },
      {
        "duration": 32,
        "start_time": "2024-08-23T13:06:35.618Z"
      },
      {
        "duration": 47,
        "start_time": "2024-08-23T13:06:35.653Z"
      },
      {
        "duration": 44,
        "start_time": "2024-08-23T13:06:35.702Z"
      },
      {
        "duration": 105,
        "start_time": "2024-08-23T13:06:35.748Z"
      },
      {
        "duration": 22,
        "start_time": "2024-08-23T13:06:35.855Z"
      },
      {
        "duration": 29,
        "start_time": "2024-08-23T13:06:35.879Z"
      },
      {
        "duration": 53,
        "start_time": "2024-08-23T13:06:35.910Z"
      },
      {
        "duration": 19,
        "start_time": "2024-08-23T13:06:35.964Z"
      },
      {
        "duration": 251,
        "start_time": "2024-08-23T13:06:35.985Z"
      },
      {
        "duration": 168,
        "start_time": "2024-08-23T13:06:36.237Z"
      },
      {
        "duration": 189,
        "start_time": "2024-08-23T13:06:36.407Z"
      },
      {
        "duration": 216,
        "start_time": "2024-08-23T13:06:36.598Z"
      },
      {
        "duration": 11,
        "start_time": "2024-08-23T13:06:36.815Z"
      },
      {
        "duration": 234,
        "start_time": "2024-08-23T13:06:36.827Z"
      },
      {
        "duration": 10,
        "start_time": "2024-08-23T13:06:37.063Z"
      },
      {
        "duration": 33,
        "start_time": "2024-08-23T13:06:37.074Z"
      },
      {
        "duration": 37,
        "start_time": "2024-08-23T13:06:37.109Z"
      },
      {
        "duration": 7,
        "start_time": "2024-08-23T13:06:37.150Z"
      },
      {
        "duration": 214,
        "start_time": "2024-08-23T13:06:37.158Z"
      },
      {
        "duration": 15,
        "start_time": "2024-08-23T13:06:37.374Z"
      },
      {
        "duration": 35,
        "start_time": "2024-08-23T13:06:37.391Z"
      },
      {
        "duration": 16,
        "start_time": "2024-08-23T13:06:37.428Z"
      },
      {
        "duration": 20,
        "start_time": "2024-08-23T13:06:37.446Z"
      },
      {
        "duration": 50,
        "start_time": "2024-08-23T13:06:37.467Z"
      },
      {
        "duration": 19,
        "start_time": "2024-08-23T13:06:37.519Z"
      },
      {
        "duration": 351,
        "start_time": "2024-08-23T13:06:37.540Z"
      },
      {
        "duration": 13,
        "start_time": "2024-08-23T13:06:37.893Z"
      },
      {
        "duration": 8,
        "start_time": "2024-08-23T13:06:37.907Z"
      },
      {
        "duration": 246,
        "start_time": "2024-08-23T13:06:37.916Z"
      },
      {
        "duration": 8,
        "start_time": "2024-08-23T13:06:38.164Z"
      },
      {
        "duration": 8,
        "start_time": "2024-08-23T13:06:38.173Z"
      },
      {
        "duration": 3,
        "start_time": "2024-08-23T13:06:38.182Z"
      },
      {
        "duration": 4,
        "start_time": "2024-08-23T13:06:38.206Z"
      },
      {
        "duration": 55,
        "start_time": "2024-08-23T13:06:38.211Z"
      },
      {
        "duration": 15,
        "start_time": "2024-08-23T13:06:38.267Z"
      },
      {
        "duration": 23,
        "start_time": "2024-08-23T13:06:38.283Z"
      },
      {
        "duration": 5,
        "start_time": "2024-08-23T13:06:38.307Z"
      },
      {
        "duration": 11,
        "start_time": "2024-08-23T13:06:38.313Z"
      },
      {
        "duration": 17,
        "start_time": "2024-08-23T13:06:38.325Z"
      },
      {
        "duration": 1224,
        "start_time": "2024-08-23T17:20:00.178Z"
      },
      {
        "duration": 76,
        "start_time": "2024-08-23T17:20:01.410Z"
      },
      {
        "duration": 15,
        "start_time": "2024-08-23T17:20:01.488Z"
      },
      {
        "duration": 51,
        "start_time": "2024-08-23T17:20:01.508Z"
      },
      {
        "duration": 55,
        "start_time": "2024-08-23T17:20:01.560Z"
      },
      {
        "duration": 10,
        "start_time": "2024-08-23T17:20:01.618Z"
      },
      {
        "duration": 35,
        "start_time": "2024-08-23T17:20:01.631Z"
      },
      {
        "duration": 57,
        "start_time": "2024-08-23T17:20:01.668Z"
      },
      {
        "duration": 18,
        "start_time": "2024-08-23T17:20:01.728Z"
      },
      {
        "duration": 17,
        "start_time": "2024-08-23T17:20:01.749Z"
      },
      {
        "duration": 24,
        "start_time": "2024-08-23T17:20:01.768Z"
      },
      {
        "duration": 22,
        "start_time": "2024-08-23T17:20:01.793Z"
      },
      {
        "duration": 74,
        "start_time": "2024-08-23T17:20:01.818Z"
      },
      {
        "duration": 40,
        "start_time": "2024-08-23T17:20:01.893Z"
      },
      {
        "duration": 79,
        "start_time": "2024-08-23T17:20:01.935Z"
      },
      {
        "duration": 13,
        "start_time": "2024-08-23T17:20:02.016Z"
      },
      {
        "duration": 19,
        "start_time": "2024-08-23T17:20:02.031Z"
      },
      {
        "duration": 20,
        "start_time": "2024-08-23T17:20:02.051Z"
      },
      {
        "duration": 243,
        "start_time": "2024-08-23T17:20:02.073Z"
      },
      {
        "duration": 192,
        "start_time": "2024-08-23T17:20:02.318Z"
      },
      {
        "duration": 228,
        "start_time": "2024-08-23T17:20:02.511Z"
      },
      {
        "duration": 252,
        "start_time": "2024-08-23T17:20:02.741Z"
      },
      {
        "duration": 13,
        "start_time": "2024-08-23T17:20:02.998Z"
      },
      {
        "duration": 257,
        "start_time": "2024-08-23T17:20:03.013Z"
      },
      {
        "duration": 11,
        "start_time": "2024-08-23T17:20:03.272Z"
      },
      {
        "duration": 19,
        "start_time": "2024-08-23T17:20:03.299Z"
      },
      {
        "duration": 6,
        "start_time": "2024-08-23T17:20:03.320Z"
      },
      {
        "duration": 14,
        "start_time": "2024-08-23T17:20:03.333Z"
      },
      {
        "duration": 238,
        "start_time": "2024-08-23T17:20:03.349Z"
      },
      {
        "duration": 41,
        "start_time": "2024-08-23T17:20:03.589Z"
      },
      {
        "duration": 50,
        "start_time": "2024-08-23T17:20:03.631Z"
      },
      {
        "duration": 18,
        "start_time": "2024-08-23T17:20:03.683Z"
      },
      {
        "duration": 28,
        "start_time": "2024-08-23T17:20:03.704Z"
      },
      {
        "duration": 28,
        "start_time": "2024-08-23T17:20:03.734Z"
      },
      {
        "duration": 39,
        "start_time": "2024-08-23T17:20:03.764Z"
      },
      {
        "duration": 362,
        "start_time": "2024-08-23T17:20:03.804Z"
      },
      {
        "duration": 9,
        "start_time": "2024-08-23T17:20:04.167Z"
      },
      {
        "duration": 48,
        "start_time": "2024-08-23T17:20:04.178Z"
      },
      {
        "duration": 257,
        "start_time": "2024-08-23T17:20:04.228Z"
      },
      {
        "duration": 13,
        "start_time": "2024-08-23T17:20:04.486Z"
      },
      {
        "duration": 15,
        "start_time": "2024-08-23T17:20:04.512Z"
      },
      {
        "duration": 5,
        "start_time": "2024-08-23T17:20:04.529Z"
      },
      {
        "duration": 21,
        "start_time": "2024-08-23T17:20:04.535Z"
      },
      {
        "duration": 36,
        "start_time": "2024-08-23T17:20:04.558Z"
      },
      {
        "duration": 26,
        "start_time": "2024-08-23T17:20:04.597Z"
      },
      {
        "duration": 21,
        "start_time": "2024-08-23T17:20:04.625Z"
      },
      {
        "duration": 65,
        "start_time": "2024-08-23T17:20:04.648Z"
      },
      {
        "duration": 7,
        "start_time": "2024-08-23T17:20:04.715Z"
      },
      {
        "duration": 24,
        "start_time": "2024-08-23T17:20:04.724Z"
      }
    ],
    "kernelspec": {
      "display_name": "Python 3 (ipykernel)",
      "language": "python",
      "name": "python3"
    },
    "language_info": {
      "codemirror_mode": {
        "name": "ipython",
        "version": 3
      },
      "file_extension": ".py",
      "mimetype": "text/x-python",
      "name": "python",
      "nbconvert_exporter": "python",
      "pygments_lexer": "ipython3",
      "version": "3.9.5"
    },
    "toc": {
      "base_numbering": 1,
      "nav_menu": {},
      "number_sections": true,
      "sideBar": true,
      "skip_h1_title": true,
      "title_cell": "Table of Contents",
      "title_sidebar": "Contents",
      "toc_cell": false,
      "toc_position": {},
      "toc_section_display": true,
      "toc_window_display": false
    },
    "colab": {
      "provenance": []
    }
  },
  "nbformat": 4,
  "nbformat_minor": 5
}