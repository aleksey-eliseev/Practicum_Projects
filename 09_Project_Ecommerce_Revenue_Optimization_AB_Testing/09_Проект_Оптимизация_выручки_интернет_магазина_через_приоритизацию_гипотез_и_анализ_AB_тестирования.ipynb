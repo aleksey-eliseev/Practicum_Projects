{
  "cells": [
    {
      "cell_type": "markdown",
      "metadata": {
        "id": "paZlQ8fxn_G0"
      },
      "source": [
        "# Проект: Оптимизация выручки интернет-магазина через приоритизацию гипотез и анализ A/B-тестирования"
      ]
    },
    {
      "cell_type": "markdown",
      "metadata": {
        "id": "h-rbwmBbn_G0"
      },
      "source": [
        "**Описание проекта**"
      ]
    },
    {
      "cell_type": "markdown",
      "metadata": {
        "id": "ahhMOV6Pn_G1"
      },
      "source": [
        "Вы — аналитик крупного интернет-магазина. Вместе с отделом маркетинга вы подготовили список гипотез для увеличения выручки.\n",
        "\n",
        "Приоритизируйте гипотезы, запустите A/B-тест и проанализируйте результаты."
      ]
    },
    {
      "cell_type": "markdown",
      "metadata": {
        "id": "BpS6qtvPn_G1"
      },
      "source": [
        "**Цель проекта**"
      ]
    },
    {
      "cell_type": "markdown",
      "metadata": {
        "id": "t-3l2f_Pn_G2"
      },
      "source": [
        "Повысить выручку интернет-магазина путем определения и тестирования наиболее перспективных гипотез, а затем анализа их влияния на ключевые метрики бизнеса с помощью A/B-тестирования."
      ]
    },
    {
      "cell_type": "markdown",
      "metadata": {
        "id": "CQvaBUCvn_G2"
      },
      "source": [
        "**Ход исследования**"
      ]
    },
    {
      "cell_type": "markdown",
      "metadata": {
        "id": "lpqYfNTcn_G2"
      },
      "source": [
        "1. Приоритизировать гипотезы, чтобы выбрать те, которые обладают наибольшим потенциалом для роста.\n",
        "2. Провести и проанализировать A/B-тест, чтобы объективно оценить влияние внедренных гипотез на показатели выручки, выявить успешные изменения и принять обоснованное решение о дальнейших шагах."
      ]
    },
    {
      "cell_type": "markdown",
      "metadata": {
        "id": "zR0C4wT8n_G3"
      },
      "source": [
        "**Описание данных**"
      ]
    },
    {
      "cell_type": "markdown",
      "metadata": {
        "id": "J30iCvpjn_G3"
      },
      "source": [
        "**Данные для первой части**\n",
        "\n",
        "Файл `/datasets/hypothesis.csv`.\n",
        "\n",
        "- `Hypothesis` — краткое описание гипотезы;\n",
        "- `Reach` — охват пользователей по 10-балльной шкале;\n",
        "- `Impact` — влияние на пользователей по 10-балльной шкале;\n",
        "- `Confidence` — уверенность в гипотезе по 10-балльной шкале;\n",
        "- `Efforts` — затраты ресурсов на проверку гипотезы по 10-балльной шкале. Чем больше значение `Efforts`, тем дороже проверка гипотезы.\n",
        "\n",
        "**Данные для второй части**\n",
        "\n",
        "Файл `/datasets/orders.csv`.\n",
        "- `transactionId` — идентификатор заказа;\n",
        "- `visitorId` — идентификатор пользователя, совершившего заказ;\n",
        "- `date` — дата, когда был совершён заказ;\n",
        "- `revenue` — выручка заказа;\n",
        "- `group` — группа A/B-теста, в которую попал заказ.\n",
        "\n",
        "Файл `/datasets/visitors.csv`.\n",
        "\n",
        "- `date` — дата;\n",
        "- `group` — группа A/B-теста;\n",
        "- `visitors` — количество пользователей в указанную дату в указанной группе A/B-теста"
      ]
    },
    {
      "cell_type": "markdown",
      "metadata": {
        "id": "lk1An7Itn_G4"
      },
      "source": [
        "## Подготовка данных"
      ]
    },
    {
      "cell_type": "code",
      "execution_count": null,
      "metadata": {
        "id": "lY0iRf2en_G5"
      },
      "outputs": [],
      "source": [
        "# Импоритруем необходимые библиотеки\n",
        "import pandas as pd\n",
        "import numpy as np\n",
        "import datetime as dt\n",
        "import scipy.stats as stats\n",
        "from matplotlib import pyplot as plt"
      ]
    },
    {
      "cell_type": "code",
      "execution_count": null,
      "metadata": {
        "id": "6liDmmsDn_G6"
      },
      "outputs": [],
      "source": [
        "# Загружаем данные\n",
        "try:\n",
        "    hypothesis, orders, visitors = (\n",
        "        pd.read_csv('/datasets/hypothesis.csv'),\n",
        "        pd.read_csv('/datasets/orders.csv'),\n",
        "        pd.read_csv('/datasets/visitors.csv')\n",
        ")\n",
        "\n",
        "except:\n",
        "    hypothesis, orders, visitors = (\n",
        "        pd.read_csv('datasets/hypothesis.csv'),\n",
        "        pd.read_csv('datasets/orders.csv'),\n",
        "        pd.read_csv('datasets/visitors.csv')\n",
        ")"
      ]
    },
    {
      "cell_type": "code",
      "execution_count": null,
      "metadata": {
        "id": "t-sUyVMbn_G7",
        "outputId": "605fb981-663b-492c-8ae6-f84ad9b73f9c"
      },
      "outputs": [
        {
          "name": "stdout",
          "output_type": "stream",
          "text": [
            "<class 'pandas.core.frame.DataFrame'>\n",
            "RangeIndex: 9 entries, 0 to 8\n",
            "Data columns (total 5 columns):\n",
            " #   Column      Non-Null Count  Dtype \n",
            "---  ------      --------------  ----- \n",
            " 0   Hypothesis  9 non-null      object\n",
            " 1   Reach       9 non-null      int64 \n",
            " 2   Impact      9 non-null      int64 \n",
            " 3   Confidence  9 non-null      int64 \n",
            " 4   Efforts     9 non-null      int64 \n",
            "dtypes: int64(4), object(1)\n",
            "memory usage: 488.0+ bytes\n"
          ]
        },
        {
          "data": {
            "text/html": [
              "<div>\n",
              "<style scoped>\n",
              "    .dataframe tbody tr th:only-of-type {\n",
              "        vertical-align: middle;\n",
              "    }\n",
              "\n",
              "    .dataframe tbody tr th {\n",
              "        vertical-align: top;\n",
              "    }\n",
              "\n",
              "    .dataframe thead th {\n",
              "        text-align: right;\n",
              "    }\n",
              "</style>\n",
              "<table border=\"1\" class=\"dataframe\">\n",
              "  <thead>\n",
              "    <tr style=\"text-align: right;\">\n",
              "      <th></th>\n",
              "      <th>Hypothesis</th>\n",
              "      <th>Reach</th>\n",
              "      <th>Impact</th>\n",
              "      <th>Confidence</th>\n",
              "      <th>Efforts</th>\n",
              "    </tr>\n",
              "  </thead>\n",
              "  <tbody>\n",
              "    <tr>\n",
              "      <th>0</th>\n",
              "      <td>Добавить два новых канала привлечения трафика,...</td>\n",
              "      <td>3</td>\n",
              "      <td>10</td>\n",
              "      <td>8</td>\n",
              "      <td>6</td>\n",
              "    </tr>\n",
              "    <tr>\n",
              "      <th>1</th>\n",
              "      <td>Запустить собственную службу доставки, что сок...</td>\n",
              "      <td>2</td>\n",
              "      <td>5</td>\n",
              "      <td>4</td>\n",
              "      <td>10</td>\n",
              "    </tr>\n",
              "    <tr>\n",
              "      <th>2</th>\n",
              "      <td>Добавить блоки рекомендаций товаров на сайт ин...</td>\n",
              "      <td>8</td>\n",
              "      <td>3</td>\n",
              "      <td>7</td>\n",
              "      <td>3</td>\n",
              "    </tr>\n",
              "    <tr>\n",
              "      <th>3</th>\n",
              "      <td>Изменить структура категорий, что увеличит кон...</td>\n",
              "      <td>8</td>\n",
              "      <td>3</td>\n",
              "      <td>3</td>\n",
              "      <td>8</td>\n",
              "    </tr>\n",
              "    <tr>\n",
              "      <th>4</th>\n",
              "      <td>Изменить цвет фона главной страницы, чтобы уве...</td>\n",
              "      <td>3</td>\n",
              "      <td>1</td>\n",
              "      <td>1</td>\n",
              "      <td>1</td>\n",
              "    </tr>\n",
              "  </tbody>\n",
              "</table>\n",
              "</div>"
            ],
            "text/plain": [
              "                                          Hypothesis  Reach  Impact  \\\n",
              "0  Добавить два новых канала привлечения трафика,...      3      10   \n",
              "1  Запустить собственную службу доставки, что сок...      2       5   \n",
              "2  Добавить блоки рекомендаций товаров на сайт ин...      8       3   \n",
              "3  Изменить структура категорий, что увеличит кон...      8       3   \n",
              "4  Изменить цвет фона главной страницы, чтобы уве...      3       1   \n",
              "\n",
              "   Confidence  Efforts  \n",
              "0           8        6  \n",
              "1           4       10  \n",
              "2           7        3  \n",
              "3           3        8  \n",
              "4           1        1  "
            ]
          },
          "execution_count": 3,
          "metadata": {},
          "output_type": "execute_result"
        }
      ],
      "source": [
        "# Выведем первые строки датафреймов и информацию о них\n",
        "# Датафрейм hypothesis\n",
        "hypothesis.info()\n",
        "hypothesis.head()"
      ]
    },
    {
      "cell_type": "code",
      "execution_count": null,
      "metadata": {
        "id": "Ah9KSfj2n_G8",
        "outputId": "2c01e317-e8b5-46a3-cbf4-ccdd6ee0554b"
      },
      "outputs": [
        {
          "name": "stdout",
          "output_type": "stream",
          "text": [
            "<class 'pandas.core.frame.DataFrame'>\n",
            "RangeIndex: 1197 entries, 0 to 1196\n",
            "Data columns (total 5 columns):\n",
            " #   Column         Non-Null Count  Dtype \n",
            "---  ------         --------------  ----- \n",
            " 0   transactionId  1197 non-null   int64 \n",
            " 1   visitorId      1197 non-null   int64 \n",
            " 2   date           1197 non-null   object\n",
            " 3   revenue        1197 non-null   int64 \n",
            " 4   group          1197 non-null   object\n",
            "dtypes: int64(3), object(2)\n",
            "memory usage: 46.9+ KB\n"
          ]
        },
        {
          "data": {
            "text/html": [
              "<div>\n",
              "<style scoped>\n",
              "    .dataframe tbody tr th:only-of-type {\n",
              "        vertical-align: middle;\n",
              "    }\n",
              "\n",
              "    .dataframe tbody tr th {\n",
              "        vertical-align: top;\n",
              "    }\n",
              "\n",
              "    .dataframe thead th {\n",
              "        text-align: right;\n",
              "    }\n",
              "</style>\n",
              "<table border=\"1\" class=\"dataframe\">\n",
              "  <thead>\n",
              "    <tr style=\"text-align: right;\">\n",
              "      <th></th>\n",
              "      <th>transactionId</th>\n",
              "      <th>visitorId</th>\n",
              "      <th>date</th>\n",
              "      <th>revenue</th>\n",
              "      <th>group</th>\n",
              "    </tr>\n",
              "  </thead>\n",
              "  <tbody>\n",
              "    <tr>\n",
              "      <th>0</th>\n",
              "      <td>3667963787</td>\n",
              "      <td>3312258926</td>\n",
              "      <td>2019-08-15</td>\n",
              "      <td>1650</td>\n",
              "      <td>B</td>\n",
              "    </tr>\n",
              "    <tr>\n",
              "      <th>1</th>\n",
              "      <td>2804400009</td>\n",
              "      <td>3642806036</td>\n",
              "      <td>2019-08-15</td>\n",
              "      <td>730</td>\n",
              "      <td>B</td>\n",
              "    </tr>\n",
              "    <tr>\n",
              "      <th>2</th>\n",
              "      <td>2961555356</td>\n",
              "      <td>4069496402</td>\n",
              "      <td>2019-08-15</td>\n",
              "      <td>400</td>\n",
              "      <td>A</td>\n",
              "    </tr>\n",
              "    <tr>\n",
              "      <th>3</th>\n",
              "      <td>3797467345</td>\n",
              "      <td>1196621759</td>\n",
              "      <td>2019-08-15</td>\n",
              "      <td>9759</td>\n",
              "      <td>B</td>\n",
              "    </tr>\n",
              "    <tr>\n",
              "      <th>4</th>\n",
              "      <td>2282983706</td>\n",
              "      <td>2322279887</td>\n",
              "      <td>2019-08-15</td>\n",
              "      <td>2308</td>\n",
              "      <td>B</td>\n",
              "    </tr>\n",
              "  </tbody>\n",
              "</table>\n",
              "</div>"
            ],
            "text/plain": [
              "   transactionId   visitorId        date  revenue group\n",
              "0     3667963787  3312258926  2019-08-15     1650     B\n",
              "1     2804400009  3642806036  2019-08-15      730     B\n",
              "2     2961555356  4069496402  2019-08-15      400     A\n",
              "3     3797467345  1196621759  2019-08-15     9759     B\n",
              "4     2282983706  2322279887  2019-08-15     2308     B"
            ]
          },
          "execution_count": 4,
          "metadata": {},
          "output_type": "execute_result"
        }
      ],
      "source": [
        "# Датафрейм orders\n",
        "orders.info()\n",
        "orders.head()"
      ]
    },
    {
      "cell_type": "code",
      "execution_count": null,
      "metadata": {
        "id": "knRjrPlon_G9",
        "outputId": "f9d842d3-d61e-4972-b9f4-0131daca4eb6"
      },
      "outputs": [
        {
          "data": {
            "text/html": [
              "<div>\n",
              "<style scoped>\n",
              "    .dataframe tbody tr th:only-of-type {\n",
              "        vertical-align: middle;\n",
              "    }\n",
              "\n",
              "    .dataframe tbody tr th {\n",
              "        vertical-align: top;\n",
              "    }\n",
              "\n",
              "    .dataframe thead th {\n",
              "        text-align: right;\n",
              "    }\n",
              "</style>\n",
              "<table border=\"1\" class=\"dataframe\">\n",
              "  <thead>\n",
              "    <tr style=\"text-align: right;\">\n",
              "      <th></th>\n",
              "      <th>transactionId</th>\n",
              "      <th>visitorId</th>\n",
              "      <th>revenue</th>\n",
              "    </tr>\n",
              "  </thead>\n",
              "  <tbody>\n",
              "    <tr>\n",
              "      <th>count</th>\n",
              "      <td>1.197000e+03</td>\n",
              "      <td>1.197000e+03</td>\n",
              "      <td>1.197000e+03</td>\n",
              "    </tr>\n",
              "    <tr>\n",
              "      <th>mean</th>\n",
              "      <td>2.155621e+09</td>\n",
              "      <td>2.165960e+09</td>\n",
              "      <td>8.348006e+03</td>\n",
              "    </tr>\n",
              "    <tr>\n",
              "      <th>std</th>\n",
              "      <td>1.229085e+09</td>\n",
              "      <td>1.236014e+09</td>\n",
              "      <td>3.919113e+04</td>\n",
              "    </tr>\n",
              "    <tr>\n",
              "      <th>min</th>\n",
              "      <td>1.062393e+06</td>\n",
              "      <td>5.114589e+06</td>\n",
              "      <td>5.000000e+01</td>\n",
              "    </tr>\n",
              "    <tr>\n",
              "      <th>25%</th>\n",
              "      <td>1.166776e+09</td>\n",
              "      <td>1.111826e+09</td>\n",
              "      <td>1.220000e+03</td>\n",
              "    </tr>\n",
              "    <tr>\n",
              "      <th>50%</th>\n",
              "      <td>2.145194e+09</td>\n",
              "      <td>2.217985e+09</td>\n",
              "      <td>2.978000e+03</td>\n",
              "    </tr>\n",
              "    <tr>\n",
              "      <th>75%</th>\n",
              "      <td>3.237740e+09</td>\n",
              "      <td>3.177606e+09</td>\n",
              "      <td>8.290000e+03</td>\n",
              "    </tr>\n",
              "    <tr>\n",
              "      <th>max</th>\n",
              "      <td>4.293856e+09</td>\n",
              "      <td>4.283872e+09</td>\n",
              "      <td>1.294500e+06</td>\n",
              "    </tr>\n",
              "  </tbody>\n",
              "</table>\n",
              "</div>"
            ],
            "text/plain": [
              "       transactionId     visitorId       revenue\n",
              "count   1.197000e+03  1.197000e+03  1.197000e+03\n",
              "mean    2.155621e+09  2.165960e+09  8.348006e+03\n",
              "std     1.229085e+09  1.236014e+09  3.919113e+04\n",
              "min     1.062393e+06  5.114589e+06  5.000000e+01\n",
              "25%     1.166776e+09  1.111826e+09  1.220000e+03\n",
              "50%     2.145194e+09  2.217985e+09  2.978000e+03\n",
              "75%     3.237740e+09  3.177606e+09  8.290000e+03\n",
              "max     4.293856e+09  4.283872e+09  1.294500e+06"
            ]
          },
          "execution_count": 5,
          "metadata": {},
          "output_type": "execute_result"
        }
      ],
      "source": [
        "# Оценим столбцы с числовым типом данных orders\n",
        "orders.describe()"
      ]
    },
    {
      "cell_type": "code",
      "execution_count": null,
      "metadata": {
        "id": "RDZJyGA9n_G9",
        "outputId": "db8d9c0f-c350-4731-9aa8-7a57e1d26e9c"
      },
      "outputs": [
        {
          "name": "stdout",
          "output_type": "stream",
          "text": [
            "2019-08-01\n",
            "2019-08-31\n"
          ]
        }
      ],
      "source": [
        "# Найдём за какой период нам предоставлены данные\n",
        "print(orders['date'].min())\n",
        "print(orders['date'].max())"
      ]
    },
    {
      "cell_type": "code",
      "execution_count": null,
      "metadata": {
        "id": "iteBqLOrn_G9",
        "outputId": "390ec26c-d4be-42c7-a82c-3ec096a2e5af"
      },
      "outputs": [
        {
          "name": "stdout",
          "output_type": "stream",
          "text": [
            "<class 'pandas.core.frame.DataFrame'>\n",
            "RangeIndex: 62 entries, 0 to 61\n",
            "Data columns (total 3 columns):\n",
            " #   Column    Non-Null Count  Dtype \n",
            "---  ------    --------------  ----- \n",
            " 0   date      62 non-null     object\n",
            " 1   group     62 non-null     object\n",
            " 2   visitors  62 non-null     int64 \n",
            "dtypes: int64(1), object(2)\n",
            "memory usage: 1.6+ KB\n"
          ]
        },
        {
          "data": {
            "text/html": [
              "<div>\n",
              "<style scoped>\n",
              "    .dataframe tbody tr th:only-of-type {\n",
              "        vertical-align: middle;\n",
              "    }\n",
              "\n",
              "    .dataframe tbody tr th {\n",
              "        vertical-align: top;\n",
              "    }\n",
              "\n",
              "    .dataframe thead th {\n",
              "        text-align: right;\n",
              "    }\n",
              "</style>\n",
              "<table border=\"1\" class=\"dataframe\">\n",
              "  <thead>\n",
              "    <tr style=\"text-align: right;\">\n",
              "      <th></th>\n",
              "      <th>date</th>\n",
              "      <th>group</th>\n",
              "      <th>visitors</th>\n",
              "    </tr>\n",
              "  </thead>\n",
              "  <tbody>\n",
              "    <tr>\n",
              "      <th>0</th>\n",
              "      <td>2019-08-01</td>\n",
              "      <td>A</td>\n",
              "      <td>719</td>\n",
              "    </tr>\n",
              "    <tr>\n",
              "      <th>1</th>\n",
              "      <td>2019-08-02</td>\n",
              "      <td>A</td>\n",
              "      <td>619</td>\n",
              "    </tr>\n",
              "    <tr>\n",
              "      <th>2</th>\n",
              "      <td>2019-08-03</td>\n",
              "      <td>A</td>\n",
              "      <td>507</td>\n",
              "    </tr>\n",
              "    <tr>\n",
              "      <th>3</th>\n",
              "      <td>2019-08-04</td>\n",
              "      <td>A</td>\n",
              "      <td>717</td>\n",
              "    </tr>\n",
              "    <tr>\n",
              "      <th>4</th>\n",
              "      <td>2019-08-05</td>\n",
              "      <td>A</td>\n",
              "      <td>756</td>\n",
              "    </tr>\n",
              "  </tbody>\n",
              "</table>\n",
              "</div>"
            ],
            "text/plain": [
              "         date group  visitors\n",
              "0  2019-08-01     A       719\n",
              "1  2019-08-02     A       619\n",
              "2  2019-08-03     A       507\n",
              "3  2019-08-04     A       717\n",
              "4  2019-08-05     A       756"
            ]
          },
          "execution_count": 7,
          "metadata": {},
          "output_type": "execute_result"
        }
      ],
      "source": [
        "# Датафрейм visitors\n",
        "visitors.info()\n",
        "visitors.head()"
      ]
    },
    {
      "cell_type": "code",
      "execution_count": null,
      "metadata": {
        "id": "TZDmuS5nn_G-",
        "outputId": "10392ab8-2bc4-48d4-cc07-cc6ad75b8db2"
      },
      "outputs": [
        {
          "data": {
            "text/html": [
              "<div>\n",
              "<style scoped>\n",
              "    .dataframe tbody tr th:only-of-type {\n",
              "        vertical-align: middle;\n",
              "    }\n",
              "\n",
              "    .dataframe tbody tr th {\n",
              "        vertical-align: top;\n",
              "    }\n",
              "\n",
              "    .dataframe thead th {\n",
              "        text-align: right;\n",
              "    }\n",
              "</style>\n",
              "<table border=\"1\" class=\"dataframe\">\n",
              "  <thead>\n",
              "    <tr style=\"text-align: right;\">\n",
              "      <th></th>\n",
              "      <th>visitors</th>\n",
              "    </tr>\n",
              "  </thead>\n",
              "  <tbody>\n",
              "    <tr>\n",
              "      <th>count</th>\n",
              "      <td>62.000000</td>\n",
              "    </tr>\n",
              "    <tr>\n",
              "      <th>mean</th>\n",
              "      <td>607.290323</td>\n",
              "    </tr>\n",
              "    <tr>\n",
              "      <th>std</th>\n",
              "      <td>114.400560</td>\n",
              "    </tr>\n",
              "    <tr>\n",
              "      <th>min</th>\n",
              "      <td>361.000000</td>\n",
              "    </tr>\n",
              "    <tr>\n",
              "      <th>25%</th>\n",
              "      <td>534.000000</td>\n",
              "    </tr>\n",
              "    <tr>\n",
              "      <th>50%</th>\n",
              "      <td>624.500000</td>\n",
              "    </tr>\n",
              "    <tr>\n",
              "      <th>75%</th>\n",
              "      <td>710.500000</td>\n",
              "    </tr>\n",
              "    <tr>\n",
              "      <th>max</th>\n",
              "      <td>770.000000</td>\n",
              "    </tr>\n",
              "  </tbody>\n",
              "</table>\n",
              "</div>"
            ],
            "text/plain": [
              "         visitors\n",
              "count   62.000000\n",
              "mean   607.290323\n",
              "std    114.400560\n",
              "min    361.000000\n",
              "25%    534.000000\n",
              "50%    624.500000\n",
              "75%    710.500000\n",
              "max    770.000000"
            ]
          },
          "execution_count": 8,
          "metadata": {},
          "output_type": "execute_result"
        }
      ],
      "source": [
        "# Оценим столбцы с числовым типом данных visitors\n",
        "visitors.describe()"
      ]
    },
    {
      "cell_type": "code",
      "execution_count": null,
      "metadata": {
        "id": "kzzMsSPmn_G-",
        "outputId": "3e88549a-2848-4472-a67b-1ad371b4742d"
      },
      "outputs": [
        {
          "name": "stdout",
          "output_type": "stream",
          "text": [
            "2019-08-01\n",
            "2019-08-31\n"
          ]
        }
      ],
      "source": [
        "# Найдём за какой период нам предоставлены данные\n",
        "print(visitors['date'].min())\n",
        "print(visitors['date'].max())"
      ]
    },
    {
      "cell_type": "code",
      "execution_count": null,
      "metadata": {
        "id": "vE7gJOlSn_G_"
      },
      "outputs": [],
      "source": [
        "# Приведём названия столбцов датафреймов к нижнему регистру\n",
        "# и к стилю написания `snake_case`\n",
        "hypothesis.columns = hypothesis.columns.str.lower()\n",
        "\n",
        "orders = orders.rename(\n",
        "    columns={\n",
        "        'transactionId':'transaction_id',\n",
        "        'visitorId':'visitor_id'\n",
        "    }\n",
        ")"
      ]
    },
    {
      "cell_type": "code",
      "execution_count": null,
      "metadata": {
        "id": "G4CP2QTRn_HA",
        "outputId": "54a535cc-5574-443d-bcec-eb835a6541e9"
      },
      "outputs": [
        {
          "name": "stdout",
          "output_type": "stream",
          "text": [
            "<class 'pandas.core.frame.DataFrame'>\n",
            "RangeIndex: 9 entries, 0 to 8\n",
            "Data columns (total 5 columns):\n",
            " #   Column      Non-Null Count  Dtype \n",
            "---  ------      --------------  ----- \n",
            " 0   hypothesis  9 non-null      object\n",
            " 1   reach       9 non-null      int64 \n",
            " 2   impact      9 non-null      int64 \n",
            " 3   confidence  9 non-null      int64 \n",
            " 4   efforts     9 non-null      int64 \n",
            "dtypes: int64(4), object(1)\n",
            "memory usage: 488.0+ bytes\n"
          ]
        }
      ],
      "source": [
        "hypothesis.info()"
      ]
    },
    {
      "cell_type": "code",
      "execution_count": null,
      "metadata": {
        "id": "1zoBayecn_HA",
        "outputId": "06509117-e596-46e1-d996-072ce2b01c96"
      },
      "outputs": [
        {
          "name": "stdout",
          "output_type": "stream",
          "text": [
            "<class 'pandas.core.frame.DataFrame'>\n",
            "RangeIndex: 1197 entries, 0 to 1196\n",
            "Data columns (total 5 columns):\n",
            " #   Column          Non-Null Count  Dtype \n",
            "---  ------          --------------  ----- \n",
            " 0   transaction_id  1197 non-null   int64 \n",
            " 1   visitor_id      1197 non-null   int64 \n",
            " 2   date            1197 non-null   object\n",
            " 3   revenue         1197 non-null   int64 \n",
            " 4   group           1197 non-null   object\n",
            "dtypes: int64(3), object(2)\n",
            "memory usage: 46.9+ KB\n"
          ]
        }
      ],
      "source": [
        "orders.info()"
      ]
    },
    {
      "cell_type": "code",
      "execution_count": null,
      "metadata": {
        "id": "9RxmpUGbn_HB"
      },
      "outputs": [],
      "source": [
        "# Изменим тип данных столбцов с датами у датафреймов `orders` и `visitors`\n",
        "# на datetime.\n",
        "orders[\"date\"] = orders[\"date\"].map(\n",
        "    lambda x: dt.datetime.strptime(x, '%Y-%m-%d')\n",
        ")\n",
        "visitors[\"date\"] = visitors[\"date\"].map(\n",
        "    lambda x: dt.datetime.strptime(x, '%Y-%m-%d')\n",
        ")"
      ]
    },
    {
      "cell_type": "code",
      "execution_count": null,
      "metadata": {
        "id": "ll-5SCO2n_HB",
        "outputId": "4e8576d2-f41c-4140-d6ba-be9c59ea4146"
      },
      "outputs": [
        {
          "name": "stdout",
          "output_type": "stream",
          "text": [
            "hypothesis:\n",
            "  Кол-во пропусков:\n",
            "hypothesis    0\n",
            "reach         0\n",
            "impact        0\n",
            "confidence    0\n",
            "efforts       0\n",
            "dtype: int64\n",
            "\n",
            "  Кол-во дубликатов: 0\n",
            "\n",
            "orders:\n",
            "  Кол-во пропусков:\n",
            "transaction_id    0\n",
            "visitor_id        0\n",
            "date              0\n",
            "revenue           0\n",
            "group             0\n",
            "dtype: int64\n",
            "\n",
            "  Кол-во дубликатов: 0\n",
            "\n",
            "visitors:\n",
            "  Кол-во пропусков:\n",
            "date        0\n",
            "group       0\n",
            "visitors    0\n",
            "dtype: int64\n",
            "\n",
            "  Кол-во дубликатов: 0\n",
            "\n"
          ]
        }
      ],
      "source": [
        "# Проверим датафреймы на пропуски и дубликаты\n",
        "dataframes = {'hypothesis': hypothesis, 'orders': orders, 'visitors': visitors}\n",
        "\n",
        "for name, df in dataframes.items():\n",
        "    print(f'{name}:')\n",
        "    print(f'  Кол-во пропусков:\\n{df.isna().sum()}\\n')\n",
        "    print(f'  Кол-во дубликатов: {df.duplicated().sum()}\\n')"
      ]
    },
    {
      "cell_type": "code",
      "execution_count": null,
      "metadata": {
        "id": "4Lb_Cjnmn_HC",
        "outputId": "00878fc7-76a0-4c33-ba29-046d30f8b04a"
      },
      "outputs": [
        {
          "name": "stdout",
          "output_type": "stream",
          "text": [
            "Количество уникальных посетителей: 1031\n"
          ]
        }
      ],
      "source": [
        "print(\"Количество уникальных посетителей:\", orders['visitor_id'].nunique())"
      ]
    },
    {
      "cell_type": "code",
      "execution_count": null,
      "metadata": {
        "id": "J5Qqrwgbn_HD"
      },
      "outputs": [],
      "source": [
        "# Проверим корректность разбиения пользователей на группы\n",
        "\n",
        "# Шаг 1: Найдем пользователей, которые попали в обе группы\n",
        "users_in_both_groups = (\n",
        "    orders.groupby('visitor_id')['group']\n",
        "    .nunique()  # количество уникальных значений в столбце group для каждого visitor_id\n",
        "    .reset_index()\n",
        ")\n",
        "users_in_both_groups = users_in_both_groups[users_in_both_groups['group'] > 1]['visitor_id']\n",
        "\n",
        "# Шаг 2: Фильтруем исходный датафрейм, удаляя записи пользователей из обеих групп\n",
        "orders = orders[~orders['visitor_id'].isin(users_in_both_groups)]\n",
        "\n",
        "# Теперь датафрейм `orders` перезаписан, и в нем нет пользователей, которые попали и в группу A, и в группу B.\n"
      ]
    },
    {
      "cell_type": "code",
      "execution_count": null,
      "metadata": {
        "id": "99wTTzbqn_HD",
        "outputId": "2a670cc6-5ccf-4871-e520-4096d5363510"
      },
      "outputs": [
        {
          "name": "stdout",
          "output_type": "stream",
          "text": [
            "Количество пользователей в обеих группах: 58\n"
          ]
        }
      ],
      "source": [
        "print(\"Количество пользователей в обеих группах:\", len(users_in_both_groups))"
      ]
    },
    {
      "cell_type": "markdown",
      "metadata": {
        "id": "GflQq4vcn_HD"
      },
      "source": [
        "В данных обнаружена небольшая доля пользователей — 58 (5,6%) попавших в обе группы. Таки епользователи могут нарушить чистоту эксперимента и исказить результаты, поскольку они получают два разных воздействия теста. Исключим их из анализа."
      ]
    },
    {
      "cell_type": "markdown",
      "metadata": {
        "id": "5bxPbKzyn_HE"
      },
      "source": [
        "**Вывод:**<br/>\n",
        "- Загружены и проверены три датафрейма hypothesis, orders, visitors\n",
        "- Названия столбцов датафреймов приведены к стилю написания snake_case\n",
        "- Тип данных столбцов с датами приведён к datetime.\n",
        "- Предоставлены данные за период 01.08.2019 - 31.08.2019\n",
        "- Пропусков и дубликатов не обнаружено\n",
        "- Обнаружены и удалены пользователи, которые попали в обе группы."
      ]
    },
    {
      "cell_type": "markdown",
      "metadata": {
        "id": "A9plnz-fn_HF"
      },
      "source": [
        "## Часть 1. Приоритизация гипотез"
      ]
    },
    {
      "cell_type": "markdown",
      "metadata": {
        "id": "KD_3mpm5n_HF"
      },
      "source": [
        "### Применим фреймворк ICE для приоритизации гипотез"
      ]
    },
    {
      "cell_type": "markdown",
      "metadata": {
        "id": "uala44Ubn_HF"
      },
      "source": [
        "Применим фреймворк `ICE` для приоритизации гипотез. Отсортируем их по убыванию приоритета."
      ]
    },
    {
      "cell_type": "markdown",
      "metadata": {
        "id": "oVen4N5on_HF"
      },
      "source": [
        "Фреймворк `ICE SCORE` расчитывается как произведение параметров `Impact` (Влияние изменения метрики на пользователей) и `Confidence` (Уровень уверенности в том, что гипотеза действительно даст заявленный результат), деленное на `Efforts` (Усилия необходимые для реализации гипотезы)."
      ]
    },
    {
      "cell_type": "code",
      "execution_count": null,
      "metadata": {
        "id": "9jSiTqGwn_HG",
        "outputId": "d07886aa-61b1-4284-932b-e04b26a7292d"
      },
      "outputs": [
        {
          "name": "stdout",
          "output_type": "stream",
          "text": [
            "            hypothesis        ICE\n",
            "8  Запустить акцию,...  16.200000\n",
            "0  Добавить два нов...  13.333333\n",
            "7  Добавить форму п...  11.200000\n",
            "6  Показать на глав...   8.000000\n",
            "2  Добавить блоки р...   7.000000\n",
            "1  Запустить собств...   2.000000\n",
            "5  Добавить страниц...   1.333333\n",
            "3  Изменить структу...   1.125000\n",
            "4  Изменить цвет фо...   1.000000\n"
          ]
        }
      ],
      "source": [
        "pd.options.display.max_colwidth = 20\n",
        "\n",
        "hypothesis['ICE'] = (hypothesis['impact'] * hypothesis['confidence']) / hypothesis['efforts']\n",
        "\n",
        "print(hypothesis[['hypothesis', 'ICE']].sort_values('ICE', ascending=False))"
      ]
    },
    {
      "cell_type": "code",
      "execution_count": null,
      "metadata": {
        "id": "y2lHxPdjn_HH",
        "outputId": "9933c3eb-6bf1-4c44-a347-d2cb0a85aa31"
      },
      "outputs": [
        {
          "name": "stdout",
          "output_type": "stream",
          "text": [
            "            hypothesis  impact  confidence  efforts        ICE\n",
            "8  Запустить акцию,...       9           9        5  16.200000\n",
            "0  Добавить два нов...      10           8        6  13.333333\n",
            "7  Добавить форму п...       7           8        5  11.200000\n",
            "6  Показать на глав...       3           8        3   8.000000\n",
            "2  Добавить блоки р...       3           7        3   7.000000\n",
            "1  Запустить собств...       5           4       10   2.000000\n",
            "5  Добавить страниц...       2           2        3   1.333333\n",
            "3  Изменить структу...       3           3        8   1.125000\n",
            "4  Изменить цвет фо...       1           1        1   1.000000\n"
          ]
        }
      ],
      "source": [
        "print(hypothesis[['hypothesis', 'impact', 'confidence', 'efforts', 'ICE']].sort_values('ICE', ascending=False))"
      ]
    },
    {
      "cell_type": "markdown",
      "metadata": {
        "id": "IJXWhMefn_HH"
      },
      "source": [
        "Наиболее перспективные гипотезы по ICE: 8, 0, 7"
      ]
    },
    {
      "cell_type": "markdown",
      "metadata": {
        "id": "f_c2cHEDn_HI"
      },
      "source": [
        "### Применим фреймворк RICE для приоритизации гипотез"
      ]
    },
    {
      "cell_type": "markdown",
      "metadata": {
        "id": "Vj4qaAbdn_HI"
      },
      "source": [
        "Применим фреймворк `RICE` для приоритизации гипотез. Отсортируем их по убыванию приоритета."
      ]
    },
    {
      "cell_type": "markdown",
      "metadata": {
        "id": "_3SCNQiqn_HI"
      },
      "source": [
        "Фреймворк `RICE SCORE` расчитывается как произведение параметров `Reach` (Cкольких пользователей затронет изменение), `Impact` (Влияние изменения метрики на пользователей) и `Confidence` (Уровень уверенности в том, что гипотеза действительно даст заявленный результат), деленное на `Efforts` (Усилия необходимые для реализации гипотезы)."
      ]
    },
    {
      "cell_type": "code",
      "execution_count": null,
      "metadata": {
        "id": "1Kmy0U5Zn_HJ",
        "outputId": "2a38027d-db79-4643-e930-b7c06eed0a14"
      },
      "outputs": [
        {
          "name": "stdout",
          "output_type": "stream",
          "text": [
            "            hypothesis   RICE\n",
            "7  Добавить форму п...  112.0\n",
            "2  Добавить блоки р...   56.0\n",
            "0  Добавить два нов...   40.0\n",
            "6  Показать на глав...   40.0\n",
            "8  Запустить акцию,...   16.2\n",
            "3  Изменить структу...    9.0\n",
            "1  Запустить собств...    4.0\n",
            "5  Добавить страниц...    4.0\n",
            "4  Изменить цвет фо...    3.0\n"
          ]
        }
      ],
      "source": [
        "hypothesis['RICE'] = (\n",
        "    hypothesis['reach'] * hypothesis['impact'] * hypothesis['confidence']\n",
        ") / hypothesis['efforts']\n",
        "\n",
        "print(hypothesis[['hypothesis', 'RICE']].sort_values('RICE', ascending=False))"
      ]
    },
    {
      "cell_type": "code",
      "execution_count": null,
      "metadata": {
        "id": "N24qBTSIn_HJ",
        "outputId": "77aff31b-60df-4578-cf5a-ada04f4011ca"
      },
      "outputs": [
        {
          "name": "stdout",
          "output_type": "stream",
          "text": [
            "            hypothesis  reach  impact  confidence  efforts   RICE\n",
            "7  Добавить форму п...     10       7           8        5  112.0\n",
            "2  Добавить блоки р...      8       3           7        3   56.0\n",
            "0  Добавить два нов...      3      10           8        6   40.0\n",
            "6  Показать на глав...      5       3           8        3   40.0\n",
            "8  Запустить акцию,...      1       9           9        5   16.2\n",
            "3  Изменить структу...      8       3           3        8    9.0\n",
            "1  Запустить собств...      2       5           4       10    4.0\n",
            "5  Добавить страниц...      3       2           2        3    4.0\n",
            "4  Изменить цвет фо...      3       1           1        1    3.0\n"
          ]
        }
      ],
      "source": [
        "print(hypothesis[['hypothesis', 'reach', 'impact', 'confidence', 'efforts', 'RICE']].sort_values('RICE', ascending=False))"
      ]
    },
    {
      "cell_type": "code",
      "execution_count": null,
      "metadata": {
        "id": "3atrqolYn_HJ",
        "outputId": "c2807caa-de31-4fa9-8869-55876a47ec7f"
      },
      "outputs": [
        {
          "name": "stdout",
          "output_type": "stream",
          "text": [
            "Добавить форму подписки на все основные страницы, чтобы собрать базу клиентов для email-рассылок\n"
          ]
        }
      ],
      "source": [
        "# Выведем самую перспективную гипотезу\n",
        "print(hypothesis.loc[7, 'hypothesis'])"
      ]
    },
    {
      "cell_type": "markdown",
      "metadata": {
        "id": "XR698ZS3n_HK"
      },
      "source": [
        "Наиболее перспективные гипотезы по RICE: 7, 2, 0"
      ]
    },
    {
      "cell_type": "code",
      "execution_count": null,
      "metadata": {
        "id": "3WJJSdNHn_HK",
        "outputId": "79b3606d-1c5c-4125-c8fe-c6234fc3c73b"
      },
      "outputs": [
        {
          "data": {
            "text/html": [
              "<style  type=\"text/css\" >\n",
              "#T_0db7e_row0_col1,#T_0db7e_row2_col2{\n",
              "            background-color:  lightgreen;\n",
              "        }</style><table id=\"T_0db7e_\" ><thead>    <tr>        <th class=\"blank level0\" ></th>        <th class=\"col_heading level0 col0\" >hypothesis</th>        <th class=\"col_heading level0 col1\" >ICE</th>        <th class=\"col_heading level0 col2\" >RICE</th>    </tr></thead><tbody>\n",
              "                <tr>\n",
              "                        <th id=\"T_0db7e_level0_row0\" class=\"row_heading level0 row0\" >8</th>\n",
              "                        <td id=\"T_0db7e_row0_col0\" class=\"data row0 col0\" >Запустить акцию, дающую скидку на товар в день рождения</td>\n",
              "                        <td id=\"T_0db7e_row0_col1\" class=\"data row0 col1\" >16.20</td>\n",
              "                        <td id=\"T_0db7e_row0_col2\" class=\"data row0 col2\" >16.20</td>\n",
              "            </tr>\n",
              "            <tr>\n",
              "                        <th id=\"T_0db7e_level0_row1\" class=\"row_heading level0 row1\" >0</th>\n",
              "                        <td id=\"T_0db7e_row1_col0\" class=\"data row1 col0\" >Добавить два новых канала привлечения трафика, что позволит привлекать на 30% больше пользователей</td>\n",
              "                        <td id=\"T_0db7e_row1_col1\" class=\"data row1 col1\" >13.33</td>\n",
              "                        <td id=\"T_0db7e_row1_col2\" class=\"data row1 col2\" >40.00</td>\n",
              "            </tr>\n",
              "            <tr>\n",
              "                        <th id=\"T_0db7e_level0_row2\" class=\"row_heading level0 row2\" >7</th>\n",
              "                        <td id=\"T_0db7e_row2_col0\" class=\"data row2 col0\" >Добавить форму подписки на все основные страницы, чтобы собрать базу клиентов для email-рассылок</td>\n",
              "                        <td id=\"T_0db7e_row2_col1\" class=\"data row2 col1\" >11.20</td>\n",
              "                        <td id=\"T_0db7e_row2_col2\" class=\"data row2 col2\" >112.00</td>\n",
              "            </tr>\n",
              "            <tr>\n",
              "                        <th id=\"T_0db7e_level0_row3\" class=\"row_heading level0 row3\" >6</th>\n",
              "                        <td id=\"T_0db7e_row3_col0\" class=\"data row3 col0\" >Показать на главной странице баннеры с актуальными акциями и распродажами, чтобы увеличить конверсию</td>\n",
              "                        <td id=\"T_0db7e_row3_col1\" class=\"data row3 col1\" >8.00</td>\n",
              "                        <td id=\"T_0db7e_row3_col2\" class=\"data row3 col2\" >40.00</td>\n",
              "            </tr>\n",
              "            <tr>\n",
              "                        <th id=\"T_0db7e_level0_row4\" class=\"row_heading level0 row4\" >2</th>\n",
              "                        <td id=\"T_0db7e_row4_col0\" class=\"data row4 col0\" >Добавить блоки рекомендаций товаров на сайт интернет магазина, чтобы повысить конверсию и средний чек заказа</td>\n",
              "                        <td id=\"T_0db7e_row4_col1\" class=\"data row4 col1\" >7.00</td>\n",
              "                        <td id=\"T_0db7e_row4_col2\" class=\"data row4 col2\" >56.00</td>\n",
              "            </tr>\n",
              "            <tr>\n",
              "                        <th id=\"T_0db7e_level0_row5\" class=\"row_heading level0 row5\" >1</th>\n",
              "                        <td id=\"T_0db7e_row5_col0\" class=\"data row5 col0\" >Запустить собственную службу доставки, что сократит срок доставки заказов</td>\n",
              "                        <td id=\"T_0db7e_row5_col1\" class=\"data row5 col1\" >2.00</td>\n",
              "                        <td id=\"T_0db7e_row5_col2\" class=\"data row5 col2\" >4.00</td>\n",
              "            </tr>\n",
              "            <tr>\n",
              "                        <th id=\"T_0db7e_level0_row6\" class=\"row_heading level0 row6\" >5</th>\n",
              "                        <td id=\"T_0db7e_row6_col0\" class=\"data row6 col0\" >Добавить страницу отзывов клиентов о магазине, что позволит увеличить количество заказов</td>\n",
              "                        <td id=\"T_0db7e_row6_col1\" class=\"data row6 col1\" >1.33</td>\n",
              "                        <td id=\"T_0db7e_row6_col2\" class=\"data row6 col2\" >4.00</td>\n",
              "            </tr>\n",
              "            <tr>\n",
              "                        <th id=\"T_0db7e_level0_row7\" class=\"row_heading level0 row7\" >3</th>\n",
              "                        <td id=\"T_0db7e_row7_col0\" class=\"data row7 col0\" >Изменить структура категорий, что увеличит конверсию, т.к. пользователи быстрее найдут нужный товар</td>\n",
              "                        <td id=\"T_0db7e_row7_col1\" class=\"data row7 col1\" >1.12</td>\n",
              "                        <td id=\"T_0db7e_row7_col2\" class=\"data row7 col2\" >9.00</td>\n",
              "            </tr>\n",
              "            <tr>\n",
              "                        <th id=\"T_0db7e_level0_row8\" class=\"row_heading level0 row8\" >4</th>\n",
              "                        <td id=\"T_0db7e_row8_col0\" class=\"data row8 col0\" >Изменить цвет фона главной страницы, чтобы увеличить вовлеченность пользователей</td>\n",
              "                        <td id=\"T_0db7e_row8_col1\" class=\"data row8 col1\" >1.00</td>\n",
              "                        <td id=\"T_0db7e_row8_col2\" class=\"data row8 col2\" >3.00</td>\n",
              "            </tr>\n",
              "    </tbody></table>"
            ],
            "text/plain": [
              "<pandas.io.formats.style.Styler at 0x7f376a095550>"
            ]
          },
          "execution_count": 23,
          "metadata": {},
          "output_type": "execute_result"
        }
      ],
      "source": [
        "ranged_hypothesis = hypothesis[['hypothesis', 'ICE', 'RICE']].sort_values(by=['ICE', 'RICE'], ascending=[False, False])\n",
        "\n",
        "def highlight_max(s):\n",
        "    is_max = s == s.max()\n",
        "    return ['background-color: lightgreen' if v else '' for v in is_max]\n",
        "\n",
        "ranged_hypothesis.style.apply(highlight_max, subset=['ICE', 'RICE']).format({\n",
        "    'ICE': '{:.2f}',\n",
        "    'RICE': '{:.2f}'\n",
        "})"
      ]
    },
    {
      "cell_type": "markdown",
      "metadata": {
        "id": "jmz6OO2kn_HL"
      },
      "source": [
        "**Вывод:**<br/>\n",
        "В ходе приоритизации гипотез были применены фреймворки `ICE` и `RICE`.\n",
        "- По `ICE` наиболее перспективными оказались гипотезы: 8, 0, 7\n",
        "- По `RICE`: 7, 2, 0\n",
        "\n",
        "При применении фреймворка приоритизации `RICE` на первом месте оказалась гипотеза под номером 7 \"Добавить форму подписки на все основные страницы, чтобы собрать базу клиентов для email-рассылок\". Так получилось, потому что при использовании фреймворка `ICE`, в отличии от `RICE` не спользовался параметр  Reach. Значимость гипотезы  получила зависимость от количества пользователей, которых затронет изменение."
      ]
    },
    {
      "cell_type": "markdown",
      "metadata": {
        "id": "BeDgkvxXn_HL"
      },
      "source": [
        "## Часть 2. Анализ A/B-теста"
      ]
    },
    {
      "cell_type": "markdown",
      "metadata": {
        "id": "_b_N7As9n_HM"
      },
      "source": [
        "### График кумулятивной выручки по группам"
      ]
    },
    {
      "cell_type": "markdown",
      "metadata": {
        "id": "8TgRRXjWn_HN"
      },
      "source": [
        "Построим график кумулятивной выручки по группам и датам"
      ]
    },
    {
      "cell_type": "code",
      "execution_count": null,
      "metadata": {
        "id": "gS-u4mfZn_HN",
        "outputId": "06c0e731-411e-4cb9-aea1-7107a40cd982"
      },
      "outputs": [
        {
          "data": {
            "image/png": "[encoded data removed]",
            "text/plain": [
              "<Figure size 1080x360 with 1 Axes>"
            ]
          },
          "metadata": {
            "needs_background": "light"
          },
          "output_type": "display_data"
        }
      ],
      "source": [
        "datesGroups = orders[['date', 'group']].drop_duplicates()\n",
        "\n",
        "ordersAggregated = datesGroups.apply(\n",
        "    lambda x: orders[\n",
        "        np.logical_and(\n",
        "            orders['date'] <= x['date'], orders['group'] == x['group']\n",
        "        )\n",
        "    ].agg(\n",
        "        {\n",
        "            'date': 'max',\n",
        "            'group': 'max',\n",
        "            'transaction_id': 'nunique',\n",
        "            'visitor_id': 'nunique',\n",
        "            'revenue': 'sum',\n",
        "        }\n",
        "    ),\n",
        "    axis=1,\n",
        ").sort_values(by=['date', 'group'])\n",
        "\n",
        "visitorsAggregated = datesGroups.apply(\n",
        "    lambda x: visitors[\n",
        "        np.logical_and(\n",
        "            visitors['date'] <= x['date'], visitors['group'] == x['group']\n",
        "        )\n",
        "    ].agg({'date': 'max', 'group': 'max', 'visitors': 'sum'}),\n",
        "    axis=1,\n",
        ").sort_values(by=['date', 'group'])\n",
        "\n",
        "cumulativeData = ordersAggregated.merge(\n",
        "    visitorsAggregated, left_on=['date', 'group'], right_on=['date', 'group']\n",
        ")\n",
        "cumulativeData.columns = [\n",
        "    'date',\n",
        "    'group',\n",
        "    'orders',\n",
        "    'buyers',\n",
        "    'revenue',\n",
        "    'visitors',\n",
        "]\n",
        "\n",
        "cumulativeRevenueA = cumulativeData[cumulativeData['group']=='A'][['date','revenue', 'orders']]\n",
        "\n",
        "cumulativeRevenueB = cumulativeData[cumulativeData['group']=='B'][['date','revenue', 'orders']]\n",
        "\n",
        "plt.figure(figsize=(15,5))\n",
        "plt.grid()\n",
        "\n",
        "# Строим график выручки группы А\n",
        "plt.plot(cumulativeRevenueA['date'], cumulativeRevenueA['revenue'], label='Группа A')\n",
        "\n",
        "# Строим график выручки группы B\n",
        "plt.plot(cumulativeRevenueB['date'], cumulativeRevenueB['revenue'], label='Группа B')\n",
        "\n",
        "plt.title('Кумулятивная выручка по группам A и B')\n",
        "plt.xlabel('Дата')\n",
        "plt.ylabel('Выручка')\n",
        "plt.xticks(rotation=45)\n",
        "plt.legend()\n",
        "\n",
        "plt.show()"
      ]
    },
    {
      "cell_type": "markdown",
      "metadata": {
        "id": "qU7jTP1qn_HO"
      },
      "source": [
        "**Вывод:**<br/>\n",
        "- Согласно графику группа B стабильно показывает большую выручку, чем группа А.\n",
        "- В середине теста (19 августа) сегмент B ещё сильнее вырвался вперёд и продолжал лидировать весь остаток теста.\n",
        "\n",
        "**Предположение:**<br/>\n",
        "- Возможно в этот день был проведён заказ с аномально большой выручкой."
      ]
    },
    {
      "cell_type": "markdown",
      "metadata": {
        "id": "prlmzdpzn_HO"
      },
      "source": [
        "### График кумулятивного среднего чека по группам"
      ]
    },
    {
      "cell_type": "markdown",
      "metadata": {
        "id": "0Hd_Hbven_HP"
      },
      "source": [
        "Построим график кумулятивного среднего чека по группам и датам"
      ]
    },
    {
      "cell_type": "code",
      "execution_count": null,
      "metadata": {
        "id": "MzouYzD8n_HP",
        "outputId": "8867a752-6b21-486e-e03b-62a7957834fd"
      },
      "outputs": [
        {
          "data": {
            "image/png": "[encoded data removed]",
            "text/plain": [
              "<Figure size 1080x360 with 1 Axes>"
            ]
          },
          "metadata": {
            "needs_background": "light"
          },
          "output_type": "display_data"
        }
      ],
      "source": [
        "plt.figure(figsize=(15,5))\n",
        "plt.grid()\n",
        "\n",
        "plt.plot(cumulativeRevenueA['date'],\n",
        "         cumulativeRevenueA['revenue'] / cumulativeRevenueA['orders'],\n",
        "         label='Группа A')\n",
        "\n",
        "plt.plot(cumulativeRevenueB['date'],\n",
        "         cumulativeRevenueB['revenue'] / cumulativeRevenueB['orders'],\n",
        "         label='Группа B')\n",
        "\n",
        "plt.title('Кумулятивный средний чек по группам A и B')\n",
        "plt.xlabel('Дата')\n",
        "plt.ylabel('Средний чек')\n",
        "plt.xticks(rotation=45)\n",
        "plt.legend()\n",
        "\n",
        "plt.show()"
      ]
    },
    {
      "cell_type": "markdown",
      "metadata": {
        "id": "NXorM27mn_HP"
      },
      "source": [
        "**Вывод:**<br/>\n",
        "- Средний чек группы B большую часть времени выше среднего чека группы A.\n",
        "- 12-14 августа наблюдается небольшой и не продолжительный пик, когда средний чек группы A выше.\n",
        "- 18-19 августа так-же произошел аномальный скачек графика и средний чек группы B вырос практически в 1,5 раза.\n",
        "- После 19 августа средний чек группы B начал плавное снижение.\n",
        "\n",
        "**Предположение:**<br/>\n",
        "- Всё указывает на то, что во второй половине теста имеет место быть аномально большой заказ."
      ]
    },
    {
      "cell_type": "markdown",
      "metadata": {
        "id": "axt4-xCwn_HQ"
      },
      "source": [
        "### График относительного изменения кумулятивного среднего чека группы B к группе A"
      ]
    },
    {
      "cell_type": "markdown",
      "metadata": {
        "id": "llhqwlSHn_HQ"
      },
      "source": [
        "Построим график относительного изменения кумулятивного среднего чека группы B к группе A."
      ]
    },
    {
      "cell_type": "code",
      "execution_count": null,
      "metadata": {
        "id": "15RPRMjon_HR",
        "outputId": "e5ffada9-33a9-4c78-bc31-91955adb6f39"
      },
      "outputs": [
        {
          "data": {
            "image/png": "[encoded data removed]",
            "text/plain": [
              "<Figure size 1080x360 with 1 Axes>"
            ]
          },
          "metadata": {
            "needs_background": "light"
          },
          "output_type": "display_data"
        }
      ],
      "source": [
        "mergedCumulativeRevenue = cumulativeRevenueA.merge(\n",
        "    cumulativeRevenueB,\n",
        "    how='left',\n",
        "    left_on='date',\n",
        "    right_on='date',\n",
        "    suffixes=['A', 'B']\n",
        ")\n",
        "\n",
        "plt.figure(figsize=(15,5))\n",
        "plt.grid()\n",
        "\n",
        "plt.plot(\n",
        "    mergedCumulativeRevenue['date'],\n",
        "    (mergedCumulativeRevenue['revenueB'] / mergedCumulativeRevenue['ordersB']) /\n",
        "    (mergedCumulativeRevenue['revenueA'] / mergedCumulativeRevenue['ordersA']) - 1,\n",
        "    label='Относительное изменение'\n",
        ")\n",
        "\n",
        "plt.axhline(y=0, color='black', linestyle='--')\n",
        "\n",
        "\n",
        "plt.title('Относительное изменение кумулятивного среднего чека группы B к группе A')\n",
        "plt.xlabel('Дата')\n",
        "plt.ylabel('Относительное изменение')\n",
        "plt.xticks(rotation=45)\n",
        "plt.legend()\n",
        "\n",
        "plt.show()"
      ]
    },
    {
      "cell_type": "markdown",
      "metadata": {
        "id": "W0BVHf5Nn_HR"
      },
      "source": [
        "**Вывод:**<br/>\n",
        "- На графике наблюдаются резкие колебания\n",
        "- Наблюдается подъем с 1 по 8 августа и с 13 по 18 августа\n",
        "- Резкий спад с 9 по 13 августа и плавное падение с 19 августа и до конца теста\n",
        "\n",
        "**Предположение:**<br/>\n",
        "- Видимо действительно 19 августа были совершены аномальные заказы."
      ]
    },
    {
      "cell_type": "markdown",
      "metadata": {
        "id": "zKeP6b6in_HS"
      },
      "source": [
        "### График кумулятивного среднего количества заказов на посетителя по группам"
      ]
    },
    {
      "cell_type": "markdown",
      "metadata": {
        "id": "uNw5UBQwn_HS"
      },
      "source": [
        "Построим график кумулятивного среднего количества заказов на посетителя по группам"
      ]
    },
    {
      "cell_type": "code",
      "execution_count": null,
      "metadata": {
        "id": "6rM8lUb3n_HT",
        "outputId": "af37f677-6d39-4f5c-86d6-5eff0daced56"
      },
      "outputs": [
        {
          "data": {
            "image/png": "[encoded data removed]",
            "text/plain": [
              "<Figure size 1080x360 with 1 Axes>"
            ]
          },
          "metadata": {
            "needs_background": "light"
          },
          "output_type": "display_data"
        }
      ],
      "source": [
        "cumulativeData['conversion'] = cumulativeData['orders'] / cumulativeData['visitors']\n",
        "\n",
        "cumulativeDataA = cumulativeData[cumulativeData['group'] == 'A']\n",
        "cumulativeDataB = cumulativeData[cumulativeData['group'] == 'B']\n",
        "\n",
        "plt.figure(figsize=(15,5))\n",
        "plt.grid()\n",
        "\n",
        "plt.plot(cumulativeDataA['date'], cumulativeDataA['conversion'], label='Группа A')\n",
        "plt.plot(cumulativeDataB['date'], cumulativeDataB['conversion'], label='Группа B')\n",
        "\n",
        "plt.title('Кумулятивное среднее количество заказов на посетителя по группам')\n",
        "plt.xlabel('Дата')\n",
        "plt.ylabel('Среднее количество заказов')\n",
        "plt.legend()\n",
        "\n",
        "plt.show()"
      ]
    },
    {
      "cell_type": "markdown",
      "metadata": {
        "id": "JIDgc0A-n_HT"
      },
      "source": [
        "**Вывод:**<br/>\n",
        "- В начале теста сегмент A имел большее кумулятивное среднее количество заказов, но постепенно сегмент B вырвался вперёд и стабильно показывал большую конверсию до конца теста."
      ]
    },
    {
      "cell_type": "markdown",
      "metadata": {
        "id": "RPw7RijMn_HU"
      },
      "source": [
        "### График относительного изменения кумулятивного среднего количества заказов на посетителя группы B к группе A"
      ]
    },
    {
      "cell_type": "markdown",
      "metadata": {
        "id": "sBazHMKRn_HU"
      },
      "source": [
        "Построим график относительного изменения кумулятивного среднего количества заказов на посетителя группы B к группе A"
      ]
    },
    {
      "cell_type": "code",
      "execution_count": null,
      "metadata": {
        "id": "DjxGuzo6n_HU",
        "outputId": "40ae0caa-5dc1-46bd-9827-07228623c1aa"
      },
      "outputs": [
        {
          "data": {
            "image/png": "[encoded data removed]",
            "text/plain": [
              "<Figure size 1080x360 with 1 Axes>"
            ]
          },
          "metadata": {
            "needs_background": "light"
          },
          "output_type": "display_data"
        }
      ],
      "source": [
        "mergedCumulativeConversions = cumulativeDataA[['date', 'conversion']].merge(\n",
        "    cumulativeDataB[['date', 'conversion']],\n",
        "    how='left',\n",
        "    left_on='date',\n",
        "    right_on='date',\n",
        "    suffixes=['A', 'B']\n",
        ")\n",
        "\n",
        "plt.figure(figsize=(15,5))\n",
        "plt.grid()\n",
        "\n",
        "plt.plot(\n",
        "    mergedCumulativeConversions['date'],\n",
        "    mergedCumulativeConversions['conversionB']/mergedCumulativeConversions['conversionA']-1,\n",
        "    label='Относительное изменение'\n",
        ")\n",
        "\n",
        "plt.axhline(y=0, color='black', linestyle='--')\n",
        "plt.axhline(y=0.1, color='grey', linestyle='--')\n",
        "plt.axhline(y=0.2, color='grey', linestyle='--')\n",
        "\n",
        "plt.title('Относительное изменение кумулятивной конверсии группы B к группе A')\n",
        "plt.xlabel('Дата')\n",
        "plt.ylabel('Относительное изменение')\n",
        "plt.legend()  # Добавляем легенду\n",
        "\n",
        "plt.show()"
      ]
    },
    {
      "cell_type": "markdown",
      "metadata": {
        "id": "4DXF8uYkn_HV"
      },
      "source": [
        "**Вывод:**<br/>\n",
        "- Почти с самого начала теста группа B лидирует по метрике: в середине теста был прирост в 20% относительно группы A, затем пошёл плавный отностельной конверсии спад до 10-14%."
      ]
    },
    {
      "cell_type": "markdown",
      "metadata": {
        "id": "gnYg_IuQn_HW"
      },
      "source": [
        "### Точечный график количества заказов по пользователям"
      ]
    },
    {
      "cell_type": "markdown",
      "metadata": {
        "id": "-txw8QSLn_HW"
      },
      "source": [
        "Cтроим точечный график количества заказов по пользователям"
      ]
    },
    {
      "cell_type": "code",
      "execution_count": null,
      "metadata": {
        "id": "Qlpd9ckMn_HW",
        "outputId": "1ac5f18e-0475-4919-c098-4c6dde307d52"
      },
      "outputs": [
        {
          "name": "stdout",
          "output_type": "stream",
          "text": [
            "     visitor_id  orders\n",
            "908  3967698036       3\n",
            "55    249864742       3\n",
            "478  2108163459       3\n",
            "687  2988190573       3\n",
            "890  3908431265       3\n",
            "138   611059232       3\n",
            "632  2742574263       3\n",
            "157   678354126       2\n",
            "323  1404560065       2\n",
            "452  1985475298       2\n"
          ]
        },
        {
          "data": {
            "image/png": "[encoded data removed]",
            "text/plain": [
              "<Figure size 1080x360 with 1 Axes>"
            ]
          },
          "metadata": {
            "needs_background": "light"
          },
          "output_type": "display_data"
        }
      ],
      "source": [
        "ordersByUsers = (\n",
        "    orders.groupby('visitor_id', as_index=False)\n",
        "    .agg({'transaction_id': 'nunique'})\n",
        ")\n",
        "\n",
        "# Выводим топ-10 пользователей по количеству заказов\n",
        "ordersByUsers.columns = ['visitor_id', 'orders']\n",
        "\n",
        "print(ordersByUsers.sort_values(by='orders', ascending=False).head(10))\n",
        "\n",
        "# Создаем серию из чисел от 0 до количества наблюдений в ordersByUsers для оси X\n",
        "x_values = pd.Series(range(0, len(ordersByUsers)))\n",
        "\n",
        "plt.figure(figsize=(15,5))\n",
        "plt.grid()\n",
        "plt.title('Количество заказов по пользователям')\n",
        "plt.xlabel('Пользователи')\n",
        "plt.ylabel('Количество заказов')\n",
        "plt.scatter(x_values, ordersByUsers['orders'], alpha=0.5)\n",
        "\n",
        "plt.show()"
      ]
    },
    {
      "cell_type": "markdown",
      "metadata": {
        "id": "DX9fB-HDn_HX"
      },
      "source": [
        "**Вывод:**<br/>\n",
        "- Из графика следует, что подавляющее большинство пользователй не совершает более 2 заказов"
      ]
    },
    {
      "cell_type": "markdown",
      "metadata": {
        "id": "ZaJYrf0sn_HX"
      },
      "source": [
        "### 95-й и 99-й перцентили количества заказов на пользователя"
      ]
    },
    {
      "cell_type": "markdown",
      "metadata": {
        "id": "TlfjpQq3n_HX"
      },
      "source": [
        "Посчитаем 95-й и 99-й перцентили количества заказов на пользователя\n",
        "Выберем границу для определения аномальных пользователей"
      ]
    },
    {
      "cell_type": "code",
      "execution_count": null,
      "metadata": {
        "id": "AtkUON7bn_HX",
        "outputId": "7e2d69c9-0694-4f6d-daa9-3e5d00f37dcb"
      },
      "outputs": [
        {
          "name": "stdout",
          "output_type": "stream",
          "text": [
            "[1. 2.]\n"
          ]
        }
      ],
      "source": [
        "print(np.percentile(ordersByUsers['orders'], [95, 99]))"
      ]
    },
    {
      "cell_type": "markdown",
      "metadata": {
        "id": "6EkZ0yyIn_HY"
      },
      "source": [
        "**Вывод:**<br/>\n",
        "- Лишь немногие пользователи (5%) сделали более 1 заказа\n",
        "- Очень небольшое (аномаьное) количество пользователей (1%) сделали более 2 заказов"
      ]
    },
    {
      "cell_type": "markdown",
      "metadata": {
        "id": "lDYj3hXVn_HY"
      },
      "source": [
        "### Точечный график стоимостей заказов"
      ]
    },
    {
      "cell_type": "markdown",
      "metadata": {
        "id": "VQm3hVbbn_HZ"
      },
      "source": [
        "Построим точечный график стоимостей заказов"
      ]
    },
    {
      "cell_type": "code",
      "execution_count": null,
      "metadata": {
        "id": "aZDrtYirn_HZ",
        "outputId": "b0130fc5-8af4-4cec-8c4e-f33bd6989a29"
      },
      "outputs": [
        {
          "data": {
            "image/png": "[encoded data removed]",
            "text/plain": [
              "<Figure size 1080x360 with 1 Axes>"
            ]
          },
          "metadata": {
            "needs_background": "light"
          },
          "output_type": "display_data"
        }
      ],
      "source": [
        "x_values = pd.Series(range(0, len(orders['revenue'])))\n",
        "\n",
        "plt.figure(figsize=(15,5))\n",
        "plt.grid()\n",
        "plt.title('Стоимость заказов')\n",
        "plt.xlabel('Заказ')\n",
        "plt.ylabel('Стоимость')\n",
        "plt.scatter(x_values, orders['revenue'], alpha=0.5)\n",
        "\n",
        "plt.show()"
      ]
    },
    {
      "cell_type": "markdown",
      "metadata": {
        "id": "fUgsDHikn_HZ"
      },
      "source": [
        "Построим точечный график стоимостей заказов без выбросов"
      ]
    },
    {
      "cell_type": "code",
      "execution_count": null,
      "metadata": {
        "id": "KAVeKFGEn_Ha",
        "outputId": "81d33866-a488-4a9a-c745-461dfd7c6a63"
      },
      "outputs": [
        {
          "data": {
            "image/png": "[encoded data removed]",
            "text/plain": [
              "<Figure size 1080x360 with 1 Axes>"
            ]
          },
          "metadata": {
            "needs_background": "light"
          },
          "output_type": "display_data"
        }
      ],
      "source": [
        "x_values = pd.Series(range(0, len(orders['revenue'])))\n",
        "\n",
        "plt.figure(figsize=(15,5))\n",
        "plt.grid()\n",
        "plt.title('Стоимость заказов')\n",
        "plt.xlabel('Заказ')\n",
        "plt.ylabel('Стоимость')\n",
        "plt.scatter(x_values, orders['revenue'], alpha=0.5)\n",
        "plt.ylim(0,250000)\n",
        "\n",
        "plt.show()"
      ]
    },
    {
      "cell_type": "markdown",
      "metadata": {
        "id": "czgLP6dLn_Ha"
      },
      "source": [
        "**Вывод:**<br/>\n",
        "- В основной массе у заказов сумма не превышает 25 тысяч.\n",
        "- Есть единичные аномальные заказы на сумму 200 тысяч и 1,2 млн."
      ]
    },
    {
      "cell_type": "markdown",
      "metadata": {
        "id": "2dbkh1i7n_Hb"
      },
      "source": [
        "### 95-й и 99-й перцентили стоимости заказов"
      ]
    },
    {
      "cell_type": "markdown",
      "metadata": {
        "id": "nR40WpBCn_Hb"
      },
      "source": [
        "Посчитаем 95-й и 99-й перцентили стоимости заказов"
      ]
    },
    {
      "cell_type": "code",
      "execution_count": null,
      "metadata": {
        "id": "_3rxds-_n_Hb",
        "outputId": "7ce7ef18-d7a8-46a4-987f-a195a605da26"
      },
      "outputs": [
        {
          "name": "stdout",
          "output_type": "stream",
          "text": [
            "[26785. 53904.]\n"
          ]
        }
      ],
      "source": [
        "print(np.percentile(orders['revenue'], [95, 99]))"
      ]
    },
    {
      "cell_type": "markdown",
      "metadata": {
        "id": "pN7rsAE6n_Hc"
      },
      "source": [
        "**Вывод:**<br/>\n",
        "- Лишь немногие заказы (5%) были сделаны на сумму более 26785\n",
        "- Очень небольшое количество аномальных заказов (1%) были сделаны на сумму более 53904"
      ]
    },
    {
      "cell_type": "markdown",
      "metadata": {
        "id": "GYNsQM25n_Hc"
      },
      "source": [
        "### Статистическая значимость различий в среднем количестве заказов на посетителя между группами по «сырым» данным"
      ]
    },
    {
      "cell_type": "markdown",
      "metadata": {
        "id": "SbNSoswtn_Hc"
      },
      "source": [
        "Посчитаем статистическую значимость различий в среднем числе заказов на пользователя и среднем чеке между группами по «сырым» данным — без удаления аномальных пользователей.\n",
        "\n",
        "Сформулируем гипотезы.\n",
        "- **H0:** различий в среднем количестве заказов между группами нет.\n",
        "- **H1:** различия в среднем между группами есть."
      ]
    },
    {
      "cell_type": "code",
      "execution_count": null,
      "metadata": {
        "id": "OJuFnLchn_Hd",
        "outputId": "07a59f18-72da-46b0-81fd-5f797c13b737"
      },
      "outputs": [
        {
          "data": {
            "text/html": [
              "<div>\n",
              "<style scoped>\n",
              "    .dataframe tbody tr th:only-of-type {\n",
              "        vertical-align: middle;\n",
              "    }\n",
              "\n",
              "    .dataframe tbody tr th {\n",
              "        vertical-align: top;\n",
              "    }\n",
              "\n",
              "    .dataframe thead th {\n",
              "        text-align: right;\n",
              "    }\n",
              "</style>\n",
              "<table border=\"1\" class=\"dataframe\">\n",
              "  <thead>\n",
              "    <tr style=\"text-align: right;\">\n",
              "      <th></th>\n",
              "      <th>date</th>\n",
              "      <th>ordersPerDateA</th>\n",
              "      <th>revenuePerDateA</th>\n",
              "      <th>ordersPerDateB</th>\n",
              "      <th>revenuePerDateB</th>\n",
              "      <th>ordersCummulativeA</th>\n",
              "      <th>revenueCummulativeA</th>\n",
              "      <th>ordersCummulativeB</th>\n",
              "      <th>revenueCummulativeB</th>\n",
              "      <th>visitorsPerDateA</th>\n",
              "      <th>visitorsPerDateB</th>\n",
              "      <th>visitorsCummulativeA</th>\n",
              "      <th>visitorsCummulativeB</th>\n",
              "    </tr>\n",
              "  </thead>\n",
              "  <tbody>\n",
              "    <tr>\n",
              "      <th>0</th>\n",
              "      <td>2019-08-01</td>\n",
              "      <td>23</td>\n",
              "      <td>142779</td>\n",
              "      <td>17</td>\n",
              "      <td>59758</td>\n",
              "      <td>23</td>\n",
              "      <td>142779</td>\n",
              "      <td>17</td>\n",
              "      <td>59758</td>\n",
              "      <td>719</td>\n",
              "      <td>713</td>\n",
              "      <td>719</td>\n",
              "      <td>713</td>\n",
              "    </tr>\n",
              "    <tr>\n",
              "      <th>1</th>\n",
              "      <td>2019-08-02</td>\n",
              "      <td>19</td>\n",
              "      <td>91602</td>\n",
              "      <td>23</td>\n",
              "      <td>162043</td>\n",
              "      <td>42</td>\n",
              "      <td>234381</td>\n",
              "      <td>40</td>\n",
              "      <td>221801</td>\n",
              "      <td>619</td>\n",
              "      <td>581</td>\n",
              "      <td>1338</td>\n",
              "      <td>1294</td>\n",
              "    </tr>\n",
              "    <tr>\n",
              "      <th>2</th>\n",
              "      <td>2019-08-03</td>\n",
              "      <td>24</td>\n",
              "      <td>112473</td>\n",
              "      <td>14</td>\n",
              "      <td>67049</td>\n",
              "      <td>66</td>\n",
              "      <td>346854</td>\n",
              "      <td>54</td>\n",
              "      <td>288850</td>\n",
              "      <td>507</td>\n",
              "      <td>509</td>\n",
              "      <td>1845</td>\n",
              "      <td>1803</td>\n",
              "    </tr>\n",
              "    <tr>\n",
              "      <th>3</th>\n",
              "      <td>2019-08-04</td>\n",
              "      <td>11</td>\n",
              "      <td>41176</td>\n",
              "      <td>14</td>\n",
              "      <td>96890</td>\n",
              "      <td>77</td>\n",
              "      <td>388030</td>\n",
              "      <td>68</td>\n",
              "      <td>385740</td>\n",
              "      <td>717</td>\n",
              "      <td>770</td>\n",
              "      <td>2562</td>\n",
              "      <td>2573</td>\n",
              "    </tr>\n",
              "    <tr>\n",
              "      <th>4</th>\n",
              "      <td>2019-08-05</td>\n",
              "      <td>22</td>\n",
              "      <td>86383</td>\n",
              "      <td>21</td>\n",
              "      <td>89908</td>\n",
              "      <td>99</td>\n",
              "      <td>474413</td>\n",
              "      <td>89</td>\n",
              "      <td>475648</td>\n",
              "      <td>756</td>\n",
              "      <td>707</td>\n",
              "      <td>3318</td>\n",
              "      <td>3280</td>\n",
              "    </tr>\n",
              "  </tbody>\n",
              "</table>\n",
              "</div>"
            ],
            "text/plain": [
              "        date  ordersPerDateA  revenuePerDateA  ordersPerDateB  \\\n",
              "0 2019-08-01              23           142779              17   \n",
              "1 2019-08-02              19            91602              23   \n",
              "2 2019-08-03              24           112473              14   \n",
              "3 2019-08-04              11            41176              14   \n",
              "4 2019-08-05              22            86383              21   \n",
              "\n",
              "   revenuePerDateB  ordersCummulativeA  revenueCummulativeA  \\\n",
              "0            59758                  23               142779   \n",
              "1           162043                  42               234381   \n",
              "2            67049                  66               346854   \n",
              "3            96890                  77               388030   \n",
              "4            89908                  99               474413   \n",
              "\n",
              "   ordersCummulativeB  revenueCummulativeB  visitorsPerDateA  \\\n",
              "0                  17                59758               719   \n",
              "1                  40               221801               619   \n",
              "2                  54               288850               507   \n",
              "3                  68               385740               717   \n",
              "4                  89               475648               756   \n",
              "\n",
              "   visitorsPerDateB  visitorsCummulativeA  visitorsCummulativeB  \n",
              "0               713                  719                   713   \n",
              "1               581                 1338                  1294   \n",
              "2               509                 1845                  1803   \n",
              "3               770                 2562                  2573   \n",
              "4               707                 3318                  3280   "
            ]
          },
          "metadata": {},
          "output_type": "display_data"
        }
      ],
      "source": [
        "# Создаем таблицу с данными о ежедневных посещениях для группы A\n",
        "visitorsADaily = visitors[visitors['group'] == 'A'][['date', 'visitors']]\n",
        "visitorsADaily.columns = ['date', 'visitorsPerDateA']  # Переименовываем столбцы\n",
        "\n",
        "# Вычисляем кумулятивные посещения для группы A\n",
        "visitorsACummulative = visitorsADaily.apply(\n",
        "    lambda x: visitorsADaily[visitorsADaily['date'] <= x['date']].agg(\n",
        "        {'date': 'max', 'visitorsPerDateA': 'sum'}\n",
        "    ),\n",
        "    axis=1,\n",
        ")\n",
        "visitorsACummulative.columns = ['date', 'visitorsCummulativeA']  # Переименовываем столбцы\n",
        "\n",
        "# Создаем таблицу с данными о ежедневных посещениях для группы B\n",
        "visitorsBDaily = visitors[visitors['group'] == 'B'][['date', 'visitors']]\n",
        "visitorsBDaily.columns = ['date', 'visitorsPerDateB']  # Переименовываем столбцы\n",
        "\n",
        "# Вычисляем кумулятивные посещения для группы B\n",
        "visitorsBCummulative = visitorsBDaily.apply(\n",
        "    lambda x: visitorsBDaily[visitorsBDaily['date'] <= x['date']].agg(\n",
        "        {'date': 'max', 'visitorsPerDateB': 'sum'}\n",
        "    ),\n",
        "    axis=1,\n",
        ")\n",
        "visitorsBCummulative.columns = ['date', 'visitorsCummulativeB']  # Переименовываем столбцы\n",
        "\n",
        "# Создаем таблицу с данными о ежедневных заказах и выручке для группы A\n",
        "ordersADaily = (\n",
        "    orders[orders['group'] == 'A'][['date', 'transaction_id', 'visitor_id', 'revenue']]\n",
        "    .groupby('date', as_index=False)\n",
        "    .agg({'transaction_id': pd.Series.nunique, 'revenue': 'sum'})  # Количество уникальных заказов и сумма выручки\n",
        ")\n",
        "ordersADaily.columns = ['date', 'ordersPerDateA', 'revenuePerDateA']  # Переименовываем столбцы\n",
        "\n",
        "# Вычисляем кумулятивные заказы и выручку для группы A\n",
        "ordersACummulative = ordersADaily.apply(\n",
        "    lambda x: ordersADaily[ordersADaily['date'] <= x['date']].agg(\n",
        "        {'date': 'max', 'ordersPerDateA': 'sum', 'revenuePerDateA': 'sum'}\n",
        "    ),\n",
        "    axis=1,\n",
        ").sort_values(by=['date'])  # Сортируем по дате для удобства анализа\n",
        "ordersACummulative.columns = [\n",
        "    'date',\n",
        "    'ordersCummulativeA',\n",
        "    'revenueCummulativeA',\n",
        "]  # Переименовываем столбцы\n",
        "\n",
        "# Создаем таблицу с данными о ежедневных заказах и выручке для группы B\n",
        "ordersBDaily = (\n",
        "    orders[orders['group'] == 'B'][['date', 'transaction_id', 'visitor_id', 'revenue']]\n",
        "    .groupby('date', as_index=False)\n",
        "    .agg({'transaction_id': pd.Series.nunique, 'revenue': 'sum'})  # Количество уникальных заказов и сумма выручки\n",
        ")\n",
        "ordersBDaily.columns = ['date', 'ordersPerDateB', 'revenuePerDateB']  # Переименовываем столбцы\n",
        "\n",
        "# Вычисляем кумулятивные заказы и выручку для группы B\n",
        "ordersBCummulative = ordersBDaily.apply(\n",
        "    lambda x: ordersBDaily[ordersBDaily['date'] <= x['date']].agg(\n",
        "        {'date': 'max', 'ordersPerDateB': 'sum', 'revenuePerDateB': 'sum'}\n",
        "    ),\n",
        "    axis=1,\n",
        ").sort_values(by=['date'])  # Сортируем по дате для удобства анализа\n",
        "ordersBCummulative.columns = [\n",
        "    'date',\n",
        "    'ordersCummulativeB',\n",
        "    'revenueCummulativeB',\n",
        "]  # Переименовываем столбцы\n",
        "\n",
        "# Объединяем все таблицы в один DataFrame по дате (date), чтобы получить полную сводку данных\n",
        "data = (\n",
        "    ordersADaily.merge(\n",
        "        ordersBDaily, left_on='date', right_on='date', how='left'\n",
        "    )\n",
        "    .merge(ordersACummulative, left_on='date', right_on='date', how='left')\n",
        "    .merge(ordersBCummulative, left_on='date', right_on='date', how='left')\n",
        "    .merge(visitorsADaily, left_on='date', right_on='date', how='left')\n",
        "    .merge(visitorsBDaily, left_on='date', right_on='date', how='left')\n",
        "    .merge(visitorsACummulative, left_on='date', right_on='date', how='left')\n",
        "    .merge(visitorsBCummulative, left_on='date', right_on='date', how='left')\n",
        ")\n",
        "\n",
        "# Выводим первые 5 строк объединенного DataFrame для проверки результата\n",
        "display(data.head(5))"
      ]
    },
    {
      "cell_type": "markdown",
      "metadata": {
        "id": "bXFeXO2kn_He"
      },
      "source": [
        "Посчитаем статистическую значимость различия в среднем количестве заказов между группами.\n",
        "\n",
        "Создадим переменные `ordersByUsersA` и `ordersByUsersB` со столбцами `['userId', 'orders']`. В них для пользователей, которые заказывали хотя бы 1 раз, укажем число совершённых заказов."
      ]
    },
    {
      "cell_type": "code",
      "execution_count": null,
      "metadata": {
        "id": "9vZcKHFEn_Hf",
        "outputId": "4775f562-6bf2-4f6b-e034-b7200c59866b"
      },
      "outputs": [
        {
          "name": "stdout",
          "output_type": "stream",
          "text": [
            "p-value: 0.011\n",
            "Относительное изменение: 0.160\n"
          ]
        }
      ],
      "source": [
        "# Группируем данные по пользователям группы A, чтобы посчитать количество уникальных заказов для каждого пользователя\n",
        "ordersByUsersA = (\n",
        "    orders[orders['group'] == 'A']\n",
        "    .groupby('visitor_id', as_index=False)\n",
        "    .agg({'transaction_id': pd.Series.nunique})  # Количество уникальных заказов для каждого пользователя\n",
        ")\n",
        "ordersByUsersA.columns = ['visitor_id', 'orders']  # Переименовываем столбцы\n",
        "\n",
        "# Группируем данные по пользователям группы B аналогично, подсчитывая уникальные заказы\n",
        "ordersByUsersB = (\n",
        "    orders[orders['group'] == 'B']\n",
        "    .groupby('visitor_id', as_index=False)\n",
        "    .agg({'transaction_id': pd.Series.nunique})  # Количество уникальных заказов для каждого пользователя\n",
        ")\n",
        "ordersByUsersB.columns = ['visitor_id', 'orders']  # Переименовываем столбцы\n",
        "\n",
        "# Формируем выборку заказов для группы A\n",
        "sampleA = pd.concat(\n",
        "    [\n",
        "        ordersByUsersA['orders'],  # Количество заказов у пользователей, которые сделали хотя бы один заказ\n",
        "        pd.Series(\n",
        "            0,  # Заполняем 0 для посетителей, которые не сделали ни одного заказа\n",
        "            index=np.arange(\n",
        "                data['visitorsPerDateA'].sum() - len(ordersByUsersA['orders'])\n",
        "            ),  # Индексы для нулей: разница между общим числом посетителей и числом заказавших пользователей\n",
        "            name='orders',\n",
        "        ),\n",
        "    ],\n",
        "    axis=0,\n",
        ")\n",
        "\n",
        "# Формируем выборку заказов для группы B (аналогично)\n",
        "sampleB = pd.concat(\n",
        "    [\n",
        "        ordersByUsersB['orders'],  # Количество заказов у пользователей, которые сделали хотя бы один заказ\n",
        "        pd.Series(\n",
        "            0,  # Заполняем 0 для посетителей, которые не сделали ни одного заказа\n",
        "            index=np.arange(\n",
        "                data['visitorsPerDateB'].sum() - len(ordersByUsersB['orders'])\n",
        "            ),  # Индексы для нулей: разница между общим числом посетителей и числом заказавших пользователей\n",
        "            name='orders',\n",
        "        ),\n",
        "    ],\n",
        "    axis=0,\n",
        ")\n",
        "\n",
        "# Выводим p-значение для теста Манна-Уитни на проверку разницы между выборками sampleA и sampleB\n",
        "print(\"p-value: \" \"{0:.3f}\".format(stats.mannwhitneyu(sampleA, sampleB)[1]))\n",
        "\n",
        "# Выводим относительное изменение среднего числа заказов в группе B по сравнению с группой A\n",
        "print(\"Относительное изменение: \" \"{0:.3f}\".format(sampleB.mean() / sampleA.mean() - 1))"
      ]
    },
    {
      "cell_type": "markdown",
      "metadata": {
        "id": "-hpaHGknn_Hg"
      },
      "source": [
        "**Вывод:**<br/>\n",
        "- По «сырым» данным различия в среднем числе заказов групп A и B есть.\n",
        "- `p-value = 0.011` меньше 0.05. Значит, нулевую гипотезу о том, что статистически значимых различий в среднем числе заказов между группами нет, ОТВЕРГАЕМ.\n",
        "- Относительный выигрышь группы \"B\" равен 16%."
      ]
    },
    {
      "cell_type": "markdown",
      "metadata": {
        "id": "RQw6fQwvn_Hg"
      },
      "source": [
        "### Статистическая значимость различий в среднем чеке заказа между группами по «сырым» данным"
      ]
    },
    {
      "cell_type": "markdown",
      "metadata": {
        "id": "AehS9Lpkn_Hh"
      },
      "source": [
        "Проверим статистическую значимость различий в среднем чеке между сегментами.\n",
        "- **H0:** различий в среднем чеке между группами нет.\n",
        "- **H1:** различия в среднем чеке между группами есть.\n",
        "\n",
        "Чтобы рассчитать статистическую значимость различий в среднем чеке, передадим критерию `mannwhitneyu()` данные о выручке с заказов.\n",
        "\n",
        "А ещё найдём относительные различия в среднем чеке между группами:"
      ]
    },
    {
      "cell_type": "code",
      "execution_count": null,
      "metadata": {
        "id": "gNB5kA7En_Hh",
        "outputId": "a2cc935f-fb68-4985-896e-985ed409153e"
      },
      "outputs": [
        {
          "name": "stdout",
          "output_type": "stream",
          "text": [
            "p-value: 0.829\n",
            "Относительное изменение: 0.287\n"
          ]
        }
      ],
      "source": [
        "print(\"p-value: \" '{0:.3f}'.format(stats.mannwhitneyu(orders[orders['group']=='A']['revenue'], orders[orders['group']=='B']['revenue'])[1]))\n",
        "print(\"Относительное изменение: \" '{0:.3f}'.format(orders[orders['group']=='B']['revenue'].mean()/orders[orders['group']=='A']['revenue'].mean()-1))"
      ]
    },
    {
      "cell_type": "markdown",
      "metadata": {
        "id": "_3YQOScGn_Hh"
      },
      "source": [
        "**Вывод:**<br/>\n",
        "- По «сырым» данным различий в среднем чеке заказов между группами A и B нет.\n",
        "- `p-value = 0.829` значительно больше 0.05. Значит, причин отвергать нулевую гипотезу и считать, что в среднем чеке есть различия, нет.\n",
        "- Наблюдаемое различие средних чеков группы B по отношению к группе A в 28,7% не является статистически значимым."
      ]
    },
    {
      "cell_type": "markdown",
      "metadata": {
        "id": "yv8JHocPn_Hi"
      },
      "source": [
        "### Статистическая значимость различий в среднем количестве заказов на посетителя между группами по «очищенным» данным"
      ]
    },
    {
      "cell_type": "markdown",
      "metadata": {
        "id": "qlhKXwo3n_Hi"
      },
      "source": [
        "На предыдущих шагах (3.7, 3.9) мы приняли за аномальных пользователей тех, кто севершил 2 и более заказаов или тех, кто совершил заказ дороже 53 904. Сделаем срезы пользователей с числом заказов больше 1 — `usersWithManyOrders` и пользователей, совершивших заказы дороже 53 904 — `usersWithExpensiveOrders`. Объединим их в таблице `abnormalUsers`.\n",
        "\n",
        "Узнаем, сколько всего аномальных пользователей атрибутом `shape`."
      ]
    },
    {
      "cell_type": "code",
      "execution_count": null,
      "metadata": {
        "id": "a_m-wBROn_Hj",
        "outputId": "d15b7de7-5330-4bbb-f823-7a043794ccbe"
      },
      "outputs": [
        {
          "name": "stdout",
          "output_type": "stream",
          "text": [
            "1099    148427295\n",
            "33      249864742\n",
            "36      366673373\n",
            "51      406208401\n",
            "67      522292794\n",
            "Name: visitor_id, dtype: int64\n",
            "45\n"
          ]
        }
      ],
      "source": [
        "# Создаем список пользователей с более чем 1 заказами в каждой из групп (A и B)\n",
        "usersWithManyOrders = pd.concat(\n",
        "    [\n",
        "        ordersByUsersA[ordersByUsersA['orders'] > 1]['visitor_id'],  # Пользователи группы A с > 1 заказами\n",
        "        ordersByUsersB[ordersByUsersB['orders'] > 1]['visitor_id'],  # Пользователи группы B с > 1 заказами\n",
        "    ],\n",
        "    axis=0,\n",
        ")\n",
        "\n",
        "# Создаем список пользователей, чьи заказы принесли больше 53 904 в выручке\n",
        "usersWithExpensiveOrders = orders[orders['revenue'] > 53904]['visitor_id']\n",
        "\n",
        "# Создаем объединенный список \"аномальных\" пользователей (с большим количеством заказов или дорогими заказами)\n",
        "# Объединяем два списка, удаляем дубликаты и сортируем пользователей\n",
        "abnormalUsers = (\n",
        "    pd.concat([usersWithManyOrders, usersWithExpensiveOrders], axis=0)\n",
        "    .drop_duplicates()  # Убираем дубликаты пользователей\n",
        "    .sort_values()  # Сортируем пользователей по их ID (или другому критерию)\n",
        ")\n",
        "\n",
        "print(abnormalUsers.head())\n",
        "print(len(abnormalUsers))"
      ]
    },
    {
      "cell_type": "markdown",
      "metadata": {
        "id": "zqcD91LEn_Hj"
      },
      "source": [
        "Всего 45 аномальных пользователей.\n",
        "\n",
        "Узнаем, как их действия повлияли на результаты теста. Посчитаем статистическую значимость различий в среднем количестве заказов между группами теста по очищенным данным. Сначала подготовим выборки количества заказов по пользователям по группам теста:"
      ]
    },
    {
      "cell_type": "code",
      "execution_count": null,
      "metadata": {
        "id": "SbEPyMBgn_Hk"
      },
      "outputs": [],
      "source": [
        "# Формируем отфильтрованную выборку для группы A, исключая \"аномальных\" пользователей\n",
        "# Оставляем только тех пользователей, которые не входят в список abnormalUsers\n",
        "sampleAFiltered = pd.concat(\n",
        "    [\n",
        "        ordersByUsersA[\n",
        "            np.logical_not(ordersByUsersA['visitor_id'].isin(abnormalUsers))  # Исключаем аномальных пользователей\n",
        "        ]['orders'],\n",
        "        pd.Series(\n",
        "            0,\n",
        "            index=np.arange(\n",
        "                data['visitorsPerDateA'].sum() - len(ordersByUsersA['orders'])\n",
        "            ),  # Заполняем 0 для посетителей без заказов\n",
        "            name='orders',\n",
        "        ),\n",
        "    ],\n",
        "    axis=0,\n",
        ")\n",
        "\n",
        "# Формируем отфильтрованную выборку для группы B, исключая \"аномальных\" пользователей\n",
        "# Оставляем только тех пользователей, которые не входят в список abnormalUsers\n",
        "sampleBFiltered = pd.concat(\n",
        "    [\n",
        "        ordersByUsersB[\n",
        "            np.logical_not(ordersByUsersB['visitor_id'].isin(abnormalUsers))  # Исключаем аномальных пользователей\n",
        "        ]['orders'],\n",
        "        pd.Series(\n",
        "            0,\n",
        "            index=np.arange(\n",
        "                data['visitorsPerDateB'].sum() - len(ordersByUsersB['orders'])\n",
        "            ),  # Заполняем 0 для посетителей без заказов\n",
        "            name='orders',\n",
        "        ),\n",
        "    ],\n",
        "    axis=0,\n",
        ")"
      ]
    },
    {
      "cell_type": "markdown",
      "metadata": {
        "id": "4voM6xv8n_Hk"
      },
      "source": [
        "Применим статистический критерий Манна-Уитни к полученным выборкам:\n",
        "\n",
        "Сформулируем гипотезы.\n",
        "- **H0**: статистически значимых различий в среднем количестве заказов между группами по очищенным данным нет.\n",
        "- **H1**: статистически значимые различия в среднем между группами есть."
      ]
    },
    {
      "cell_type": "code",
      "execution_count": null,
      "metadata": {
        "id": "yF0fZTfEn_Hk",
        "outputId": "62361fb1-7212-4ed5-88df-ce8c4f1727ed"
      },
      "outputs": [
        {
          "name": "stdout",
          "output_type": "stream",
          "text": [
            "p-value: 0.008\n",
            "Относительное изменение: 0.188\n"
          ]
        }
      ],
      "source": [
        "print(\"p-value: \" '{0:.3f}'.format(stats.mannwhitneyu(sampleAFiltered, sampleBFiltered)[1]))\n",
        "print(\"Относительное изменение: \" '{0:.3f}'.format(sampleBFiltered.mean()/sampleAFiltered.mean()-1))"
      ]
    },
    {
      "cell_type": "markdown",
      "metadata": {
        "id": "88loJoLxn_Hl"
      },
      "source": [
        "**Вывод:**<br/>\n",
        "- По «очищенным» данным различия в среднем числе заказов групп A и B есть.\n",
        "- `p-value = 0.008` меньше 0.05. Значит, нулевую гипотезу о том, что статистически значимых различий в среднем количестве заказов между группами по очищенным данным нет - отвергаем.\n",
        "- Относительный выигрышь группы \"B\" равен 18,8%."
      ]
    },
    {
      "cell_type": "markdown",
      "metadata": {
        "id": "XLqYWPppn_Hl"
      },
      "source": [
        "### Статистическая значимость различий в среднем чеке заказа между группами по «очищенным» данным"
      ]
    },
    {
      "cell_type": "markdown",
      "metadata": {
        "id": "O-3kSrf4n_Hl"
      },
      "source": [
        "Сформулируем гипотезы.\n",
        "- **H0:** статистически значимых различий в средних чеках между группами нет\n",
        "- **H1:** статистически значимые различия в среднем между группами есть."
      ]
    },
    {
      "cell_type": "code",
      "execution_count": null,
      "metadata": {
        "id": "D1VAtk24n_Hl",
        "outputId": "39c04ff6-b1ee-4c60-ce64-c93b7b70c737"
      },
      "outputs": [
        {
          "name": "stdout",
          "output_type": "stream",
          "text": [
            "p-value: 0.969\n",
            "Относительное изменение: 0.002\n"
          ]
        }
      ],
      "source": [
        "print(\n",
        "    \"p-value: \" '{0:.3f}'.format(\n",
        "        stats.mannwhitneyu(\n",
        "            orders[\n",
        "                np.logical_and(\n",
        "                    orders['group'] == 'A',\n",
        "                    np.logical_not(orders['visitor_id'].isin(abnormalUsers)),\n",
        "                )\n",
        "            ]['revenue'],\n",
        "            orders[\n",
        "                np.logical_and(\n",
        "                    orders['group'] == 'B',\n",
        "                    np.logical_not(orders['visitor_id'].isin(abnormalUsers)),\n",
        "                )\n",
        "            ]['revenue'],\n",
        "        )[1]\n",
        "    )\n",
        ")\n",
        "\n",
        "print(\n",
        "   \"Относительное изменение: \" \"{0:.3f}\".format(\n",
        "        orders[\n",
        "            np.logical_and(\n",
        "                orders['group'] == 'B',\n",
        "                np.logical_not(orders['visitor_id'].isin(abnormalUsers)),\n",
        "            )\n",
        "        ]['revenue'].mean()\n",
        "        / orders[\n",
        "            np.logical_and(\n",
        "                orders['group'] == 'A',\n",
        "                np.logical_not(orders['visitor_id'].isin(abnormalUsers)),\n",
        "            )\n",
        "        ]['revenue'].mean()\n",
        "        - 1\n",
        "    )\n",
        ")"
      ]
    },
    {
      "cell_type": "markdown",
      "metadata": {
        "id": "Zs8asTAZn_Hm"
      },
      "source": [
        "**Вывод:**<br/>\n",
        "- По «очищенным» данным различий в среднем чеке заказов групп A и B нет.\n",
        "- `p-value = 0.969` больше 0.05. Значит, нулевую гипотезу о том, что различий в средних чеках между группами нет - не отвергаем.\n",
        "- Средний чек группы B оказался на 0,2% ниже среднего чека группы A."
      ]
    },
    {
      "cell_type": "markdown",
      "metadata": {
        "id": "R0JAV2Iun_Hm"
      },
      "source": [
        "### Решение по результатам теста"
      ]
    },
    {
      "cell_type": "markdown",
      "metadata": {
        "id": "h7XKi9Phn_Hn"
      },
      "source": [
        "**Выводы:**<br/>\n",
        "- Есть статистически значимое различие по конверсии между группами как по сырым данным, так и после фильтрации аномалий. Относительный выигрышь группы \"B\" над \"A\" по \"сырым\" данным равен 16%, по \"очищенным\" данным выигрышь равен 18,8%.\n",
        "- Хотя группа B имеет средний чек, превышающий аналогичный показатель группы A, это отличие статистически не значимо. Таким образом, увеличение числа заказов в группе B не сопровождается таким же увеличением среднего чека. По \"сырым\" данным средний чек группы \"B\" на 28,7% выше среднего чека группы \"A\", при этом по \"очищенным\" данным средний чек группы \"B\" ниже на 0,2%.\n",
        "\n",
        "Увеличение конверсии в группе B по сравнению с группой A сохраняется даже после очистки данных, что делает результат достоверным и устойчивым. Поскольку конверсия напрямую влияет на выручку, значимый рост конверсии в группе B приводит к увеличению выручки, несмотря на то, что средний чек остался практически неизменным."
      ]
    },
    {
      "cell_type": "markdown",
      "metadata": {
        "id": "Q8CiGqUon_Hn"
      },
      "source": [
        "**Решение по результатам теста:**<br/>\n",
        "Остановить тест и зафиксировать победу группы В."
      ]
    },
    {
      "cell_type": "markdown",
      "metadata": {
        "id": "_M8u1w0in_Hn"
      },
      "source": [
        "## Общий вывод"
      ]
    },
    {
      "cell_type": "markdown",
      "metadata": {
        "id": "2hKJwPRGn_Hn"
      },
      "source": [
        "В ходе исследования по приоритизации гипотез и проведению A/B-тестирования были пройдены шаги и получены следующие данные:\n",
        "\n",
        "1) **Подготовка данных**\n",
        "   - Загружены и проверены данные `hypothesis`, `orders`, `visitors`, столбцы приведены к `snake_case` и типам данных.\n",
        "   - Пропусков и дубликатов не обнаружено; данные за период 01.08.2019 - 31.08.2019.\n",
        "\n",
        "2) **Приоритизация гипотез**\n",
        "   - Применены фреймворки `ICE` и `RICE`.\n",
        "   - **ICE**: лидеры гипотезы 8, 0, 7; **RICE**: 7, 2, 0. Гипотеза 7 вышла на первое место по `RICE`, так как учитывает охват (Reach), важный фактор для значимости гипотезы.\n",
        "\n",
        "3) **Анализ A/B-теста**\n",
        "   - **Выручка по группам**: Группа B стабильно выше группы A; с 19 августа разрыв усилился.\n",
        "   - **Средний чек по группам**: В группе B чек выше, но с колебаниями, особенно 18-19 августа.\n",
        "   - **Изменение среднего чека B к A**: Резкие скачки, особенно с 1 по 8 августа и с 13 по 18 августа.\n",
        "   - **Среднее число заказов**: Группа B постепенно обогнала A и сохраняла преимущество до конца теста.\n",
        "   - **Изменение среднего числа заказов B к A**: B стабильно выше, прирост до 20%, к концу теста 10-14%.\n",
        "   - **График заказов по пользователям**: Подавляющее большинство пользователей делает до 2 заказов.\n",
        "   - **Анализ аномалий по заказам и их стоимости**: 95% пользователей сделали не более 1 заказов, стоимость большинства не превышала 25,000, отдельные — до 1,2 млн.\n",
        "\n",
        "4) **Статистическая значимость различий**\n",
        "   - **Среднее число заказов на пользователя**:\n",
        "      - **Сырые данные**: p-value = 0.011 (<0.05), значимое отличие, прирост B на 16%.\n",
        "      - **Очищенные данные**: p-value = 0.008 (<0.05), значимое отличие, прирост B на 18,8%.\n",
        "   - **Средний чек**:\n",
        "      - **Сырые данные**: p-value = 0.829 (>0.05), значимых отличий нет. Средний чек B выше на 28,7%.\n",
        "      - **Очищенные данные**: p-value = 0.969 (>0.05), значимых отличий нет, средний чек B на 0,2% ниже A.\n",
        "\n",
        "5) **Решение по результатам теста**:\n",
        "   - Тест можно завершить, зафиксировав победу группы B."
      ]
    }
  ],
  "metadata": {
    "ExecuteTimeLog": [
      {
        "duration": 1441,
        "start_time": "2024-11-10T18:34:30.982Z"
      },
      {
        "duration": 69,
        "start_time": "2024-11-10T18:39:28.459Z"
      },
      {
        "duration": 12,
        "start_time": "2024-11-10T18:40:27.277Z"
      },
      {
        "duration": 8,
        "start_time": "2024-11-10T18:41:17.032Z"
      },
      {
        "duration": 10,
        "start_time": "2024-11-10T18:44:45.250Z"
      },
      {
        "duration": 70,
        "start_time": "2024-11-10T18:46:59.008Z"
      },
      {
        "duration": 9,
        "start_time": "2024-11-10T18:49:08.343Z"
      },
      {
        "duration": 1139,
        "start_time": "2024-11-10T18:51:33.836Z"
      },
      {
        "duration": 27,
        "start_time": "2024-11-10T18:51:34.977Z"
      },
      {
        "duration": 12,
        "start_time": "2024-11-10T18:51:35.006Z"
      },
      {
        "duration": 9,
        "start_time": "2024-11-10T18:51:35.020Z"
      },
      {
        "duration": 8,
        "start_time": "2024-11-10T18:51:35.031Z"
      },
      {
        "duration": 117,
        "start_time": "2024-11-10T18:54:56.606Z"
      },
      {
        "duration": 9,
        "start_time": "2024-11-10T18:55:15.649Z"
      },
      {
        "duration": 14,
        "start_time": "2024-11-10T18:56:58.694Z"
      },
      {
        "duration": 1302,
        "start_time": "2024-11-10T18:57:21.490Z"
      },
      {
        "duration": 28,
        "start_time": "2024-11-10T18:57:22.794Z"
      },
      {
        "duration": 12,
        "start_time": "2024-11-10T18:57:22.824Z"
      },
      {
        "duration": 10,
        "start_time": "2024-11-10T18:57:22.838Z"
      },
      {
        "duration": 10,
        "start_time": "2024-11-10T18:57:22.850Z"
      },
      {
        "duration": 11,
        "start_time": "2024-11-10T18:57:22.862Z"
      },
      {
        "duration": 132,
        "start_time": "2024-11-10T18:57:22.874Z"
      },
      {
        "duration": 8,
        "start_time": "2024-11-10T18:57:49.305Z"
      },
      {
        "duration": 1039,
        "start_time": "2024-11-10T19:04:55.790Z"
      },
      {
        "duration": 16,
        "start_time": "2024-11-10T19:05:14.219Z"
      },
      {
        "duration": 5,
        "start_time": "2024-11-10T19:07:39.316Z"
      },
      {
        "duration": 7,
        "start_time": "2024-11-10T19:08:45.278Z"
      },
      {
        "duration": 6,
        "start_time": "2024-11-10T19:08:54.353Z"
      },
      {
        "duration": 4,
        "start_time": "2024-11-10T19:09:52.419Z"
      },
      {
        "duration": 1448,
        "start_time": "2024-11-11T12:01:02.732Z"
      },
      {
        "duration": 229,
        "start_time": "2024-11-11T12:01:04.183Z"
      },
      {
        "duration": 12,
        "start_time": "2024-11-11T12:01:04.413Z"
      },
      {
        "duration": 19,
        "start_time": "2024-11-11T12:01:04.428Z"
      },
      {
        "duration": 9,
        "start_time": "2024-11-11T12:01:04.448Z"
      },
      {
        "duration": 15,
        "start_time": "2024-11-11T12:01:04.458Z"
      },
      {
        "duration": 18,
        "start_time": "2024-11-11T12:01:04.475Z"
      },
      {
        "duration": 7,
        "start_time": "2024-11-11T12:01:04.495Z"
      },
      {
        "duration": 8,
        "start_time": "2024-11-11T12:02:13.829Z"
      },
      {
        "duration": 8,
        "start_time": "2024-11-11T12:02:15.931Z"
      },
      {
        "duration": 20,
        "start_time": "2024-11-11T12:03:49.061Z"
      },
      {
        "duration": 1231,
        "start_time": "2024-11-11T12:04:26.910Z"
      },
      {
        "duration": 83,
        "start_time": "2024-11-11T12:04:28.144Z"
      },
      {
        "duration": 22,
        "start_time": "2024-11-11T12:04:28.228Z"
      },
      {
        "duration": 44,
        "start_time": "2024-11-11T12:04:28.252Z"
      },
      {
        "duration": 79,
        "start_time": "2024-11-11T12:04:28.298Z"
      },
      {
        "duration": 28,
        "start_time": "2024-11-11T12:04:28.378Z"
      },
      {
        "duration": 46,
        "start_time": "2024-11-11T12:04:28.407Z"
      },
      {
        "duration": 19,
        "start_time": "2024-11-11T12:04:28.454Z"
      },
      {
        "duration": 15,
        "start_time": "2024-11-11T12:04:28.475Z"
      },
      {
        "duration": 16,
        "start_time": "2024-11-11T12:04:28.492Z"
      },
      {
        "duration": 32,
        "start_time": "2024-11-11T12:22:47.815Z"
      },
      {
        "duration": 31,
        "start_time": "2024-11-11T12:22:55.101Z"
      },
      {
        "duration": 19,
        "start_time": "2024-11-11T12:22:58.740Z"
      },
      {
        "duration": 15,
        "start_time": "2024-11-11T12:25:21.988Z"
      },
      {
        "duration": 1431,
        "start_time": "2024-11-11T12:25:27.325Z"
      },
      {
        "duration": 81,
        "start_time": "2024-11-11T12:25:28.758Z"
      },
      {
        "duration": 19,
        "start_time": "2024-11-11T12:25:28.841Z"
      },
      {
        "duration": 16,
        "start_time": "2024-11-11T12:25:28.862Z"
      },
      {
        "duration": 17,
        "start_time": "2024-11-11T12:25:28.881Z"
      },
      {
        "duration": 15,
        "start_time": "2024-11-11T12:25:28.900Z"
      },
      {
        "duration": 42,
        "start_time": "2024-11-11T12:25:28.917Z"
      },
      {
        "duration": 8,
        "start_time": "2024-11-11T12:25:28.960Z"
      },
      {
        "duration": 12,
        "start_time": "2024-11-11T12:25:28.970Z"
      },
      {
        "duration": 11,
        "start_time": "2024-11-11T12:25:28.983Z"
      },
      {
        "duration": 8,
        "start_time": "2024-11-11T12:25:28.996Z"
      },
      {
        "duration": 113,
        "start_time": "2024-11-11T12:36:56.553Z"
      },
      {
        "duration": 9,
        "start_time": "2024-11-11T12:37:13.680Z"
      },
      {
        "duration": 5,
        "start_time": "2024-11-11T12:39:44.180Z"
      },
      {
        "duration": 1222,
        "start_time": "2024-11-11T12:41:00.134Z"
      },
      {
        "duration": 81,
        "start_time": "2024-11-11T12:41:01.358Z"
      },
      {
        "duration": 58,
        "start_time": "2024-11-11T12:41:01.441Z"
      },
      {
        "duration": 16,
        "start_time": "2024-11-11T12:41:01.500Z"
      },
      {
        "duration": 24,
        "start_time": "2024-11-11T12:41:01.518Z"
      },
      {
        "duration": 18,
        "start_time": "2024-11-11T12:41:01.544Z"
      },
      {
        "duration": 19,
        "start_time": "2024-11-11T12:41:01.564Z"
      },
      {
        "duration": 20,
        "start_time": "2024-11-11T12:41:01.584Z"
      },
      {
        "duration": 11,
        "start_time": "2024-11-11T12:41:01.606Z"
      },
      {
        "duration": 8,
        "start_time": "2024-11-11T12:41:01.619Z"
      },
      {
        "duration": 29,
        "start_time": "2024-11-11T12:41:01.628Z"
      },
      {
        "duration": 17,
        "start_time": "2024-11-11T12:41:01.658Z"
      },
      {
        "duration": 16,
        "start_time": "2024-11-11T12:41:01.677Z"
      },
      {
        "duration": 106,
        "start_time": "2024-11-11T12:42:42.340Z"
      },
      {
        "duration": 10,
        "start_time": "2024-11-11T12:43:07.383Z"
      },
      {
        "duration": 8,
        "start_time": "2024-11-11T12:43:11.357Z"
      },
      {
        "duration": 6,
        "start_time": "2024-11-11T12:43:24.101Z"
      },
      {
        "duration": 13,
        "start_time": "2024-11-11T12:43:44.677Z"
      },
      {
        "duration": 63,
        "start_time": "2024-11-11T12:45:49.865Z"
      },
      {
        "duration": 60,
        "start_time": "2024-11-11T12:46:10.800Z"
      },
      {
        "duration": 15,
        "start_time": "2024-11-11T12:54:04.566Z"
      },
      {
        "duration": 14,
        "start_time": "2024-11-11T12:54:41.415Z"
      },
      {
        "duration": 20,
        "start_time": "2024-11-11T12:56:44.918Z"
      },
      {
        "duration": 1181,
        "start_time": "2024-11-11T12:58:56.271Z"
      },
      {
        "duration": 81,
        "start_time": "2024-11-11T12:58:57.454Z"
      },
      {
        "duration": 21,
        "start_time": "2024-11-11T12:58:57.537Z"
      },
      {
        "duration": 21,
        "start_time": "2024-11-11T12:58:57.559Z"
      },
      {
        "duration": 21,
        "start_time": "2024-11-11T12:58:57.582Z"
      },
      {
        "duration": 4,
        "start_time": "2024-11-11T12:58:57.605Z"
      },
      {
        "duration": 14,
        "start_time": "2024-11-11T12:58:57.611Z"
      },
      {
        "duration": 37,
        "start_time": "2024-11-11T12:58:57.627Z"
      },
      {
        "duration": 9,
        "start_time": "2024-11-11T12:58:57.666Z"
      },
      {
        "duration": 8,
        "start_time": "2024-11-11T12:58:57.677Z"
      },
      {
        "duration": 10,
        "start_time": "2024-11-11T12:58:57.686Z"
      },
      {
        "duration": 7,
        "start_time": "2024-11-11T12:58:57.698Z"
      },
      {
        "duration": 4,
        "start_time": "2024-11-11T12:58:57.707Z"
      },
      {
        "duration": 129,
        "start_time": "2024-11-11T13:12:58.773Z"
      },
      {
        "duration": 30,
        "start_time": "2024-11-11T13:13:59.860Z"
      },
      {
        "duration": 1210,
        "start_time": "2024-11-11T13:14:04.219Z"
      },
      {
        "duration": 81,
        "start_time": "2024-11-11T13:14:05.431Z"
      },
      {
        "duration": 149,
        "start_time": "2024-11-11T13:14:05.514Z"
      },
      {
        "duration": 36,
        "start_time": "2024-11-11T13:14:05.665Z"
      },
      {
        "duration": 24,
        "start_time": "2024-11-11T13:14:05.702Z"
      },
      {
        "duration": 10,
        "start_time": "2024-11-11T13:14:05.728Z"
      },
      {
        "duration": 24,
        "start_time": "2024-11-11T13:14:05.740Z"
      },
      {
        "duration": 40,
        "start_time": "2024-11-11T13:14:05.766Z"
      },
      {
        "duration": 9,
        "start_time": "2024-11-11T13:14:05.808Z"
      },
      {
        "duration": 25,
        "start_time": "2024-11-11T13:14:05.819Z"
      },
      {
        "duration": 50,
        "start_time": "2024-11-11T13:14:05.845Z"
      },
      {
        "duration": 27,
        "start_time": "2024-11-11T13:14:05.897Z"
      },
      {
        "duration": 34,
        "start_time": "2024-11-11T13:14:05.926Z"
      },
      {
        "duration": 152,
        "start_time": "2024-11-11T13:14:05.961Z"
      },
      {
        "duration": 10,
        "start_time": "2024-11-11T13:14:37.106Z"
      },
      {
        "duration": 11,
        "start_time": "2024-11-11T13:14:46.248Z"
      },
      {
        "duration": 4,
        "start_time": "2024-11-11T13:14:59.690Z"
      },
      {
        "duration": 11,
        "start_time": "2024-11-11T13:15:03.163Z"
      },
      {
        "duration": 1148,
        "start_time": "2024-11-11T13:15:08.786Z"
      },
      {
        "duration": 83,
        "start_time": "2024-11-11T13:15:09.936Z"
      },
      {
        "duration": 21,
        "start_time": "2024-11-11T13:15:10.020Z"
      },
      {
        "duration": 19,
        "start_time": "2024-11-11T13:15:10.043Z"
      },
      {
        "duration": 22,
        "start_time": "2024-11-11T13:15:10.063Z"
      },
      {
        "duration": 5,
        "start_time": "2024-11-11T13:15:10.086Z"
      },
      {
        "duration": 39,
        "start_time": "2024-11-11T13:15:10.093Z"
      },
      {
        "duration": 29,
        "start_time": "2024-11-11T13:15:10.133Z"
      },
      {
        "duration": 43,
        "start_time": "2024-11-11T13:15:10.164Z"
      },
      {
        "duration": 16,
        "start_time": "2024-11-11T13:15:10.210Z"
      },
      {
        "duration": 19,
        "start_time": "2024-11-11T13:15:10.228Z"
      },
      {
        "duration": 29,
        "start_time": "2024-11-11T13:15:10.249Z"
      },
      {
        "duration": 20,
        "start_time": "2024-11-11T13:15:10.279Z"
      },
      {
        "duration": 17,
        "start_time": "2024-11-11T13:15:10.300Z"
      },
      {
        "duration": 15,
        "start_time": "2024-11-11T13:15:10.319Z"
      },
      {
        "duration": 568,
        "start_time": "2024-11-11T13:15:10.336Z"
      },
      {
        "duration": 478,
        "start_time": "2024-11-11T13:17:04.043Z"
      },
      {
        "duration": 550,
        "start_time": "2024-11-11T13:18:58.729Z"
      },
      {
        "duration": 448,
        "start_time": "2024-11-11T13:19:06.706Z"
      },
      {
        "duration": 492,
        "start_time": "2024-11-11T13:19:25.719Z"
      },
      {
        "duration": 511,
        "start_time": "2024-11-11T13:21:01.576Z"
      },
      {
        "duration": 178,
        "start_time": "2024-11-11T13:31:39.471Z"
      },
      {
        "duration": 201,
        "start_time": "2024-11-11T13:32:20.363Z"
      },
      {
        "duration": 1240,
        "start_time": "2024-11-11T13:40:00.974Z"
      },
      {
        "duration": 80,
        "start_time": "2024-11-11T13:40:02.216Z"
      },
      {
        "duration": 21,
        "start_time": "2024-11-11T13:40:02.298Z"
      },
      {
        "duration": 37,
        "start_time": "2024-11-11T13:40:02.321Z"
      },
      {
        "duration": 19,
        "start_time": "2024-11-11T13:40:02.360Z"
      },
      {
        "duration": 97,
        "start_time": "2024-11-11T13:40:02.381Z"
      },
      {
        "duration": 47,
        "start_time": "2024-11-11T13:40:02.480Z"
      },
      {
        "duration": 97,
        "start_time": "2024-11-11T13:40:02.529Z"
      },
      {
        "duration": 121,
        "start_time": "2024-11-11T13:40:02.627Z"
      },
      {
        "duration": 22,
        "start_time": "2024-11-11T13:40:02.750Z"
      },
      {
        "duration": 47,
        "start_time": "2024-11-11T13:40:02.773Z"
      },
      {
        "duration": 32,
        "start_time": "2024-11-11T13:40:02.822Z"
      },
      {
        "duration": 23,
        "start_time": "2024-11-11T13:40:02.856Z"
      },
      {
        "duration": 30,
        "start_time": "2024-11-11T13:40:02.881Z"
      },
      {
        "duration": 21,
        "start_time": "2024-11-11T13:40:02.913Z"
      },
      {
        "duration": 594,
        "start_time": "2024-11-11T13:40:02.936Z"
      },
      {
        "duration": 208,
        "start_time": "2024-11-11T13:40:03.532Z"
      },
      {
        "duration": 297,
        "start_time": "2024-11-11T13:42:08.633Z"
      },
      {
        "duration": 285,
        "start_time": "2024-11-11T13:43:09.989Z"
      },
      {
        "duration": 317,
        "start_time": "2024-11-11T13:44:10.157Z"
      },
      {
        "duration": 348,
        "start_time": "2024-11-11T13:44:24.139Z"
      },
      {
        "duration": 238,
        "start_time": "2024-11-11T13:44:44.684Z"
      },
      {
        "duration": 534,
        "start_time": "2024-11-11T13:44:57.578Z"
      },
      {
        "duration": 1275,
        "start_time": "2024-11-11T13:53:41.571Z"
      },
      {
        "duration": 80,
        "start_time": "2024-11-11T13:53:42.848Z"
      },
      {
        "duration": 22,
        "start_time": "2024-11-11T13:53:42.930Z"
      },
      {
        "duration": 16,
        "start_time": "2024-11-11T13:53:42.953Z"
      },
      {
        "duration": 23,
        "start_time": "2024-11-11T13:53:42.971Z"
      },
      {
        "duration": 7,
        "start_time": "2024-11-11T13:53:42.995Z"
      },
      {
        "duration": 12,
        "start_time": "2024-11-11T13:53:43.003Z"
      },
      {
        "duration": 35,
        "start_time": "2024-11-11T13:53:43.017Z"
      },
      {
        "duration": 16,
        "start_time": "2024-11-11T13:53:43.054Z"
      },
      {
        "duration": 16,
        "start_time": "2024-11-11T13:53:43.072Z"
      },
      {
        "duration": 11,
        "start_time": "2024-11-11T13:53:43.091Z"
      },
      {
        "duration": 8,
        "start_time": "2024-11-11T13:53:43.104Z"
      },
      {
        "duration": 43,
        "start_time": "2024-11-11T13:53:43.114Z"
      },
      {
        "duration": 10,
        "start_time": "2024-11-11T13:53:43.159Z"
      },
      {
        "duration": 27,
        "start_time": "2024-11-11T13:53:43.171Z"
      },
      {
        "duration": 635,
        "start_time": "2024-11-11T13:53:43.199Z"
      },
      {
        "duration": 287,
        "start_time": "2024-11-11T13:53:43.836Z"
      },
      {
        "duration": 373,
        "start_time": "2024-11-11T13:53:44.124Z"
      },
      {
        "duration": 238,
        "start_time": "2024-11-11T13:57:13.960Z"
      },
      {
        "duration": 246,
        "start_time": "2024-11-11T13:59:52.250Z"
      },
      {
        "duration": 68,
        "start_time": "2024-11-11T14:02:26.602Z"
      },
      {
        "duration": 1223,
        "start_time": "2024-11-11T14:04:41.222Z"
      },
      {
        "duration": 80,
        "start_time": "2024-11-11T14:04:42.447Z"
      },
      {
        "duration": 21,
        "start_time": "2024-11-11T14:04:42.529Z"
      },
      {
        "duration": 34,
        "start_time": "2024-11-11T14:04:42.551Z"
      },
      {
        "duration": 36,
        "start_time": "2024-11-11T14:04:42.587Z"
      },
      {
        "duration": 33,
        "start_time": "2024-11-11T14:04:42.625Z"
      },
      {
        "duration": 15,
        "start_time": "2024-11-11T14:04:42.660Z"
      },
      {
        "duration": 11,
        "start_time": "2024-11-11T14:04:42.676Z"
      },
      {
        "duration": 18,
        "start_time": "2024-11-11T14:04:42.688Z"
      },
      {
        "duration": 26,
        "start_time": "2024-11-11T14:04:42.707Z"
      },
      {
        "duration": 103,
        "start_time": "2024-11-11T14:04:42.735Z"
      },
      {
        "duration": 7,
        "start_time": "2024-11-11T14:04:42.840Z"
      },
      {
        "duration": 33,
        "start_time": "2024-11-11T14:04:42.849Z"
      },
      {
        "duration": 10,
        "start_time": "2024-11-11T14:04:42.885Z"
      },
      {
        "duration": 5,
        "start_time": "2024-11-11T14:04:42.896Z"
      },
      {
        "duration": 626,
        "start_time": "2024-11-11T14:04:42.903Z"
      },
      {
        "duration": 260,
        "start_time": "2024-11-11T14:04:43.531Z"
      },
      {
        "duration": 353,
        "start_time": "2024-11-11T14:04:43.793Z"
      },
      {
        "duration": 262,
        "start_time": "2024-11-11T14:04:44.147Z"
      },
      {
        "duration": 306,
        "start_time": "2024-11-11T14:10:11.706Z"
      },
      {
        "duration": 203,
        "start_time": "2024-11-11T14:10:27.477Z"
      },
      {
        "duration": 203,
        "start_time": "2024-11-11T14:10:52.756Z"
      },
      {
        "duration": 223,
        "start_time": "2024-11-11T14:12:01.468Z"
      },
      {
        "duration": 432,
        "start_time": "2024-11-11T14:13:33.445Z"
      },
      {
        "duration": 1203,
        "start_time": "2024-11-11T14:15:57.465Z"
      },
      {
        "duration": 81,
        "start_time": "2024-11-11T14:15:58.670Z"
      },
      {
        "duration": 22,
        "start_time": "2024-11-11T14:15:58.753Z"
      },
      {
        "duration": 95,
        "start_time": "2024-11-11T14:15:58.778Z"
      },
      {
        "duration": 14,
        "start_time": "2024-11-11T14:15:58.875Z"
      },
      {
        "duration": 5,
        "start_time": "2024-11-11T14:15:58.890Z"
      },
      {
        "duration": 13,
        "start_time": "2024-11-11T14:15:58.896Z"
      },
      {
        "duration": 11,
        "start_time": "2024-11-11T14:15:58.911Z"
      },
      {
        "duration": 36,
        "start_time": "2024-11-11T14:15:58.924Z"
      },
      {
        "duration": 16,
        "start_time": "2024-11-11T14:15:58.963Z"
      },
      {
        "duration": 10,
        "start_time": "2024-11-11T14:15:58.980Z"
      },
      {
        "duration": 7,
        "start_time": "2024-11-11T14:15:58.992Z"
      },
      {
        "duration": 9,
        "start_time": "2024-11-11T14:15:59.000Z"
      },
      {
        "duration": 43,
        "start_time": "2024-11-11T14:15:59.010Z"
      },
      {
        "duration": 4,
        "start_time": "2024-11-11T14:15:59.055Z"
      },
      {
        "duration": 648,
        "start_time": "2024-11-11T14:15:59.060Z"
      },
      {
        "duration": 254,
        "start_time": "2024-11-11T14:15:59.710Z"
      },
      {
        "duration": 350,
        "start_time": "2024-11-11T14:15:59.966Z"
      },
      {
        "duration": 274,
        "start_time": "2024-11-11T14:16:00.318Z"
      },
      {
        "duration": 326,
        "start_time": "2024-11-11T14:16:00.594Z"
      },
      {
        "duration": 101,
        "start_time": "2024-11-11T14:17:24.765Z"
      },
      {
        "duration": 145,
        "start_time": "2024-11-11T14:19:44.718Z"
      },
      {
        "duration": 157,
        "start_time": "2024-11-11T14:21:17.238Z"
      },
      {
        "duration": 171,
        "start_time": "2024-11-11T14:21:37.053Z"
      },
      {
        "duration": 227,
        "start_time": "2024-11-11T14:23:48.494Z"
      },
      {
        "duration": 362,
        "start_time": "2024-11-11T14:26:18.428Z"
      },
      {
        "duration": 256,
        "start_time": "2024-11-11T14:28:13.479Z"
      },
      {
        "duration": 384,
        "start_time": "2024-11-11T14:29:59.232Z"
      },
      {
        "duration": 233,
        "start_time": "2024-11-11T14:31:39.543Z"
      },
      {
        "duration": 525,
        "start_time": "2024-11-11T14:33:00.737Z"
      },
      {
        "duration": 1216,
        "start_time": "2024-11-11T14:33:10.436Z"
      },
      {
        "duration": 80,
        "start_time": "2024-11-11T14:33:11.654Z"
      },
      {
        "duration": 20,
        "start_time": "2024-11-11T14:33:11.736Z"
      },
      {
        "duration": 15,
        "start_time": "2024-11-11T14:33:11.758Z"
      },
      {
        "duration": 15,
        "start_time": "2024-11-11T14:33:11.775Z"
      },
      {
        "duration": 4,
        "start_time": "2024-11-11T14:33:11.792Z"
      },
      {
        "duration": 14,
        "start_time": "2024-11-11T14:33:11.798Z"
      },
      {
        "duration": 12,
        "start_time": "2024-11-11T14:33:11.814Z"
      },
      {
        "duration": 17,
        "start_time": "2024-11-11T14:33:11.851Z"
      },
      {
        "duration": 16,
        "start_time": "2024-11-11T14:33:11.870Z"
      },
      {
        "duration": 9,
        "start_time": "2024-11-11T14:33:11.888Z"
      },
      {
        "duration": 14,
        "start_time": "2024-11-11T14:33:11.898Z"
      },
      {
        "duration": 10,
        "start_time": "2024-11-11T14:33:11.914Z"
      },
      {
        "duration": 8,
        "start_time": "2024-11-11T14:33:11.953Z"
      },
      {
        "duration": 14,
        "start_time": "2024-11-11T14:33:11.963Z"
      },
      {
        "duration": 635,
        "start_time": "2024-11-11T14:33:11.978Z"
      },
      {
        "duration": 254,
        "start_time": "2024-11-11T14:33:12.615Z"
      },
      {
        "duration": 367,
        "start_time": "2024-11-11T14:33:12.871Z"
      },
      {
        "duration": 265,
        "start_time": "2024-11-11T14:33:13.240Z"
      },
      {
        "duration": 409,
        "start_time": "2024-11-11T14:33:13.507Z"
      },
      {
        "duration": 194,
        "start_time": "2024-11-11T14:33:13.918Z"
      },
      {
        "duration": 1366,
        "start_time": "2024-11-12T12:47:24.387Z"
      },
      {
        "duration": 238,
        "start_time": "2024-11-12T12:47:25.756Z"
      },
      {
        "duration": 20,
        "start_time": "2024-11-12T12:47:25.995Z"
      },
      {
        "duration": 17,
        "start_time": "2024-11-12T12:47:26.017Z"
      },
      {
        "duration": 14,
        "start_time": "2024-11-12T12:47:26.036Z"
      },
      {
        "duration": 4,
        "start_time": "2024-11-12T12:47:26.051Z"
      },
      {
        "duration": 12,
        "start_time": "2024-11-12T12:47:26.056Z"
      },
      {
        "duration": 10,
        "start_time": "2024-11-12T12:47:26.069Z"
      },
      {
        "duration": 14,
        "start_time": "2024-11-12T12:47:26.081Z"
      },
      {
        "duration": 20,
        "start_time": "2024-11-12T12:47:26.097Z"
      },
      {
        "duration": 8,
        "start_time": "2024-11-12T12:47:26.119Z"
      },
      {
        "duration": 6,
        "start_time": "2024-11-12T12:47:26.129Z"
      },
      {
        "duration": 9,
        "start_time": "2024-11-12T12:47:26.164Z"
      },
      {
        "duration": 7,
        "start_time": "2024-11-12T12:47:26.176Z"
      },
      {
        "duration": 5,
        "start_time": "2024-11-12T12:47:26.184Z"
      },
      {
        "duration": 608,
        "start_time": "2024-11-12T12:47:26.190Z"
      },
      {
        "duration": 252,
        "start_time": "2024-11-12T12:47:26.800Z"
      },
      {
        "duration": 417,
        "start_time": "2024-11-12T12:47:27.053Z"
      },
      {
        "duration": 249,
        "start_time": "2024-11-12T12:47:27.472Z"
      },
      {
        "duration": 389,
        "start_time": "2024-11-12T12:47:27.723Z"
      },
      {
        "duration": 166,
        "start_time": "2024-11-12T12:47:28.113Z"
      },
      {
        "duration": 11,
        "start_time": "2024-11-12T12:47:48.040Z"
      },
      {
        "duration": 8,
        "start_time": "2024-11-12T12:48:07.117Z"
      },
      {
        "duration": 1245,
        "start_time": "2024-11-12T12:49:25.981Z"
      },
      {
        "duration": 79,
        "start_time": "2024-11-12T12:49:27.228Z"
      },
      {
        "duration": 18,
        "start_time": "2024-11-12T12:49:27.311Z"
      },
      {
        "duration": 15,
        "start_time": "2024-11-12T12:49:27.331Z"
      },
      {
        "duration": 14,
        "start_time": "2024-11-12T12:49:27.347Z"
      },
      {
        "duration": 5,
        "start_time": "2024-11-12T12:49:27.362Z"
      },
      {
        "duration": 19,
        "start_time": "2024-11-12T12:49:27.368Z"
      },
      {
        "duration": 13,
        "start_time": "2024-11-12T12:49:27.388Z"
      },
      {
        "duration": 14,
        "start_time": "2024-11-12T12:49:27.402Z"
      },
      {
        "duration": 14,
        "start_time": "2024-11-12T12:49:27.417Z"
      },
      {
        "duration": 15,
        "start_time": "2024-11-12T12:49:27.432Z"
      },
      {
        "duration": 18,
        "start_time": "2024-11-12T12:49:27.448Z"
      },
      {
        "duration": 17,
        "start_time": "2024-11-12T12:49:27.468Z"
      },
      {
        "duration": 7,
        "start_time": "2024-11-12T12:49:27.487Z"
      },
      {
        "duration": 4,
        "start_time": "2024-11-12T12:49:27.495Z"
      },
      {
        "duration": 649,
        "start_time": "2024-11-12T12:49:27.500Z"
      },
      {
        "duration": 256,
        "start_time": "2024-11-12T12:49:28.150Z"
      },
      {
        "duration": 343,
        "start_time": "2024-11-12T12:49:28.407Z"
      },
      {
        "duration": 255,
        "start_time": "2024-11-12T12:49:28.752Z"
      },
      {
        "duration": 322,
        "start_time": "2024-11-12T12:49:29.008Z"
      },
      {
        "duration": 161,
        "start_time": "2024-11-12T12:49:29.331Z"
      },
      {
        "duration": 13,
        "start_time": "2024-11-12T12:51:18.089Z"
      },
      {
        "duration": 6,
        "start_time": "2024-11-12T13:03:47.814Z"
      },
      {
        "duration": 102,
        "start_time": "2024-11-12T13:07:58.070Z"
      },
      {
        "duration": 1053,
        "start_time": "2024-11-12T13:08:29.180Z"
      },
      {
        "duration": 136,
        "start_time": "2024-11-12T13:11:03.032Z"
      },
      {
        "duration": 167,
        "start_time": "2024-11-12T13:14:08.288Z"
      },
      {
        "duration": 263,
        "start_time": "2024-11-12T13:18:53.993Z"
      },
      {
        "duration": 176,
        "start_time": "2024-11-12T13:20:01.092Z"
      },
      {
        "duration": 166,
        "start_time": "2024-11-12T13:22:36.025Z"
      },
      {
        "duration": 4,
        "start_time": "2024-11-12T13:25:08.387Z"
      },
      {
        "duration": 1195,
        "start_time": "2024-11-12T13:28:54.333Z"
      },
      {
        "duration": 79,
        "start_time": "2024-11-12T13:28:55.529Z"
      },
      {
        "duration": 20,
        "start_time": "2024-11-12T13:28:55.610Z"
      },
      {
        "duration": 35,
        "start_time": "2024-11-12T13:28:55.632Z"
      },
      {
        "duration": 22,
        "start_time": "2024-11-12T13:28:55.670Z"
      },
      {
        "duration": 14,
        "start_time": "2024-11-12T13:28:55.694Z"
      },
      {
        "duration": 25,
        "start_time": "2024-11-12T13:28:55.709Z"
      },
      {
        "duration": 22,
        "start_time": "2024-11-12T13:28:55.736Z"
      },
      {
        "duration": 33,
        "start_time": "2024-11-12T13:28:55.760Z"
      },
      {
        "duration": 30,
        "start_time": "2024-11-12T13:28:55.796Z"
      },
      {
        "duration": 16,
        "start_time": "2024-11-12T13:28:55.828Z"
      },
      {
        "duration": 25,
        "start_time": "2024-11-12T13:28:55.846Z"
      },
      {
        "duration": 35,
        "start_time": "2024-11-12T13:28:55.873Z"
      },
      {
        "duration": 54,
        "start_time": "2024-11-12T13:28:55.910Z"
      },
      {
        "duration": 22,
        "start_time": "2024-11-12T13:28:55.966Z"
      },
      {
        "duration": 632,
        "start_time": "2024-11-12T13:28:55.989Z"
      },
      {
        "duration": 239,
        "start_time": "2024-11-12T13:28:56.623Z"
      },
      {
        "duration": 407,
        "start_time": "2024-11-12T13:28:56.865Z"
      },
      {
        "duration": 262,
        "start_time": "2024-11-12T13:28:57.273Z"
      },
      {
        "duration": 394,
        "start_time": "2024-11-12T13:28:57.537Z"
      },
      {
        "duration": 185,
        "start_time": "2024-11-12T13:28:57.934Z"
      },
      {
        "duration": 4,
        "start_time": "2024-11-12T13:28:58.120Z"
      },
      {
        "duration": 178,
        "start_time": "2024-11-12T13:28:58.125Z"
      },
      {
        "duration": 174,
        "start_time": "2024-11-12T13:28:58.305Z"
      },
      {
        "duration": 4,
        "start_time": "2024-11-12T13:28:58.481Z"
      },
      {
        "duration": 1241,
        "start_time": "2024-11-12T13:37:27.920Z"
      },
      {
        "duration": 80,
        "start_time": "2024-11-12T13:37:29.163Z"
      },
      {
        "duration": 20,
        "start_time": "2024-11-12T13:37:29.244Z"
      },
      {
        "duration": 19,
        "start_time": "2024-11-12T13:37:29.266Z"
      },
      {
        "duration": 15,
        "start_time": "2024-11-12T13:37:29.287Z"
      },
      {
        "duration": 11,
        "start_time": "2024-11-12T13:37:29.304Z"
      },
      {
        "duration": 14,
        "start_time": "2024-11-12T13:37:29.317Z"
      },
      {
        "duration": 13,
        "start_time": "2024-11-12T13:37:29.332Z"
      },
      {
        "duration": 15,
        "start_time": "2024-11-12T13:37:29.364Z"
      },
      {
        "duration": 13,
        "start_time": "2024-11-12T13:37:29.382Z"
      },
      {
        "duration": 9,
        "start_time": "2024-11-12T13:37:29.397Z"
      },
      {
        "duration": 62,
        "start_time": "2024-11-12T13:37:29.407Z"
      },
      {
        "duration": 9,
        "start_time": "2024-11-12T13:37:29.471Z"
      },
      {
        "duration": 8,
        "start_time": "2024-11-12T13:37:29.481Z"
      },
      {
        "duration": 9,
        "start_time": "2024-11-12T13:37:29.491Z"
      },
      {
        "duration": 644,
        "start_time": "2024-11-12T13:37:29.502Z"
      },
      {
        "duration": 244,
        "start_time": "2024-11-12T13:37:30.148Z"
      },
      {
        "duration": 361,
        "start_time": "2024-11-12T13:37:30.394Z"
      },
      {
        "duration": 278,
        "start_time": "2024-11-12T13:37:30.756Z"
      },
      {
        "duration": 374,
        "start_time": "2024-11-12T13:37:31.036Z"
      },
      {
        "duration": 168,
        "start_time": "2024-11-12T13:37:31.412Z"
      },
      {
        "duration": 4,
        "start_time": "2024-11-12T13:37:31.582Z"
      },
      {
        "duration": 188,
        "start_time": "2024-11-12T13:37:31.588Z"
      },
      {
        "duration": 190,
        "start_time": "2024-11-12T13:37:31.778Z"
      },
      {
        "duration": 5,
        "start_time": "2024-11-12T13:37:31.970Z"
      },
      {
        "duration": 145,
        "start_time": "2024-11-12T13:47:44.602Z"
      },
      {
        "duration": 114,
        "start_time": "2024-11-12T13:52:29.963Z"
      },
      {
        "duration": 252,
        "start_time": "2024-11-12T13:58:06.706Z"
      },
      {
        "duration": 171,
        "start_time": "2024-11-12T13:58:40.718Z"
      },
      {
        "duration": 215,
        "start_time": "2024-11-12T13:59:44.774Z"
      },
      {
        "duration": 219,
        "start_time": "2024-11-12T14:00:21.158Z"
      },
      {
        "duration": 166,
        "start_time": "2024-11-12T14:02:25.104Z"
      },
      {
        "duration": 1189,
        "start_time": "2024-11-12T14:03:09.580Z"
      },
      {
        "duration": 140,
        "start_time": "2024-11-12T14:03:10.773Z"
      },
      {
        "duration": 22,
        "start_time": "2024-11-12T14:03:10.914Z"
      },
      {
        "duration": 16,
        "start_time": "2024-11-12T14:03:10.938Z"
      },
      {
        "duration": 16,
        "start_time": "2024-11-12T14:03:10.957Z"
      },
      {
        "duration": 5,
        "start_time": "2024-11-12T14:03:10.975Z"
      },
      {
        "duration": 12,
        "start_time": "2024-11-12T14:03:10.981Z"
      },
      {
        "duration": 14,
        "start_time": "2024-11-12T14:03:10.994Z"
      },
      {
        "duration": 23,
        "start_time": "2024-11-12T14:03:11.010Z"
      },
      {
        "duration": 42,
        "start_time": "2024-11-12T14:03:11.035Z"
      },
      {
        "duration": 21,
        "start_time": "2024-11-12T14:03:11.079Z"
      },
      {
        "duration": 7,
        "start_time": "2024-11-12T14:03:11.102Z"
      },
      {
        "duration": 11,
        "start_time": "2024-11-12T14:03:11.112Z"
      },
      {
        "duration": 10,
        "start_time": "2024-11-12T14:03:11.126Z"
      },
      {
        "duration": 29,
        "start_time": "2024-11-12T14:03:11.138Z"
      },
      {
        "duration": 709,
        "start_time": "2024-11-12T14:03:11.170Z"
      },
      {
        "duration": 251,
        "start_time": "2024-11-12T14:03:11.882Z"
      },
      {
        "duration": 387,
        "start_time": "2024-11-12T14:03:12.135Z"
      },
      {
        "duration": 258,
        "start_time": "2024-11-12T14:03:12.523Z"
      },
      {
        "duration": 372,
        "start_time": "2024-11-12T14:03:12.782Z"
      },
      {
        "duration": 181,
        "start_time": "2024-11-12T14:03:13.156Z"
      },
      {
        "duration": 5,
        "start_time": "2024-11-12T14:03:13.339Z"
      },
      {
        "duration": 191,
        "start_time": "2024-11-12T14:03:13.345Z"
      },
      {
        "duration": 198,
        "start_time": "2024-11-12T14:03:13.537Z"
      },
      {
        "duration": 5,
        "start_time": "2024-11-12T14:03:13.737Z"
      },
      {
        "duration": 296,
        "start_time": "2024-11-12T14:03:13.744Z"
      },
      {
        "duration": 199,
        "start_time": "2024-11-12T14:03:14.042Z"
      },
      {
        "duration": 72,
        "start_time": "2024-11-12T14:13:09.719Z"
      },
      {
        "duration": 11,
        "start_time": "2024-11-12T14:13:36.969Z"
      },
      {
        "duration": 1116,
        "start_time": "2024-11-12T14:18:40.403Z"
      },
      {
        "duration": 131,
        "start_time": "2024-11-12T14:18:41.521Z"
      },
      {
        "duration": 20,
        "start_time": "2024-11-12T14:18:41.654Z"
      },
      {
        "duration": 16,
        "start_time": "2024-11-12T14:18:41.676Z"
      },
      {
        "duration": 32,
        "start_time": "2024-11-12T14:18:41.694Z"
      },
      {
        "duration": 8,
        "start_time": "2024-11-12T14:18:41.727Z"
      },
      {
        "duration": 20,
        "start_time": "2024-11-12T14:18:41.737Z"
      },
      {
        "duration": 12,
        "start_time": "2024-11-12T14:18:41.758Z"
      },
      {
        "duration": 13,
        "start_time": "2024-11-12T14:18:41.772Z"
      },
      {
        "duration": 34,
        "start_time": "2024-11-12T14:18:41.788Z"
      },
      {
        "duration": 9,
        "start_time": "2024-11-12T14:18:41.824Z"
      },
      {
        "duration": 16,
        "start_time": "2024-11-12T14:18:41.834Z"
      },
      {
        "duration": 12,
        "start_time": "2024-11-12T14:18:41.852Z"
      },
      {
        "duration": 14,
        "start_time": "2024-11-12T14:18:41.865Z"
      },
      {
        "duration": 4,
        "start_time": "2024-11-12T14:18:41.881Z"
      },
      {
        "duration": 619,
        "start_time": "2024-11-12T14:18:41.887Z"
      },
      {
        "duration": 248,
        "start_time": "2024-11-12T14:18:42.508Z"
      },
      {
        "duration": 372,
        "start_time": "2024-11-12T14:18:42.757Z"
      },
      {
        "duration": 253,
        "start_time": "2024-11-12T14:18:43.131Z"
      },
      {
        "duration": 335,
        "start_time": "2024-11-12T14:18:43.386Z"
      },
      {
        "duration": 185,
        "start_time": "2024-11-12T14:18:43.723Z"
      },
      {
        "duration": 4,
        "start_time": "2024-11-12T14:18:43.910Z"
      },
      {
        "duration": 182,
        "start_time": "2024-11-12T14:18:43.916Z"
      },
      {
        "duration": 181,
        "start_time": "2024-11-12T14:18:44.100Z"
      },
      {
        "duration": 5,
        "start_time": "2024-11-12T14:18:44.283Z"
      },
      {
        "duration": 233,
        "start_time": "2024-11-12T14:18:44.290Z"
      },
      {
        "duration": 196,
        "start_time": "2024-11-12T14:18:44.525Z"
      },
      {
        "duration": 10,
        "start_time": "2024-11-12T14:18:44.724Z"
      },
      {
        "duration": 68,
        "start_time": "2024-11-12T14:27:30.254Z"
      },
      {
        "duration": 8,
        "start_time": "2024-11-12T14:27:36.690Z"
      },
      {
        "duration": 9,
        "start_time": "2024-11-12T14:28:02.972Z"
      },
      {
        "duration": 9,
        "start_time": "2024-11-12T14:28:27.580Z"
      },
      {
        "duration": 9,
        "start_time": "2024-11-12T14:29:09.655Z"
      },
      {
        "duration": 10,
        "start_time": "2024-11-12T14:30:43.534Z"
      },
      {
        "duration": 27,
        "start_time": "2024-11-12T14:31:03.661Z"
      },
      {
        "duration": 15,
        "start_time": "2024-11-12T14:40:32.904Z"
      },
      {
        "duration": 1024,
        "start_time": "2024-11-12T14:46:41.693Z"
      },
      {
        "duration": 130,
        "start_time": "2024-11-12T14:46:42.719Z"
      },
      {
        "duration": 18,
        "start_time": "2024-11-12T14:46:42.851Z"
      },
      {
        "duration": 14,
        "start_time": "2024-11-12T14:46:42.871Z"
      },
      {
        "duration": 13,
        "start_time": "2024-11-12T14:46:42.887Z"
      },
      {
        "duration": 3,
        "start_time": "2024-11-12T14:46:42.902Z"
      },
      {
        "duration": 14,
        "start_time": "2024-11-12T14:46:42.906Z"
      },
      {
        "duration": 10,
        "start_time": "2024-11-12T14:46:42.921Z"
      },
      {
        "duration": 44,
        "start_time": "2024-11-12T14:46:42.933Z"
      },
      {
        "duration": 47,
        "start_time": "2024-11-12T14:46:42.978Z"
      },
      {
        "duration": 9,
        "start_time": "2024-11-12T14:46:43.027Z"
      },
      {
        "duration": 8,
        "start_time": "2024-11-12T14:46:43.038Z"
      },
      {
        "duration": 8,
        "start_time": "2024-11-12T14:46:43.048Z"
      },
      {
        "duration": 11,
        "start_time": "2024-11-12T14:46:43.060Z"
      },
      {
        "duration": 9,
        "start_time": "2024-11-12T14:46:43.073Z"
      },
      {
        "duration": 624,
        "start_time": "2024-11-12T14:46:43.092Z"
      },
      {
        "duration": 260,
        "start_time": "2024-11-12T14:46:43.718Z"
      },
      {
        "duration": 331,
        "start_time": "2024-11-12T14:46:43.979Z"
      },
      {
        "duration": 242,
        "start_time": "2024-11-12T14:46:44.312Z"
      },
      {
        "duration": 356,
        "start_time": "2024-11-12T14:46:44.556Z"
      },
      {
        "duration": 169,
        "start_time": "2024-11-12T14:46:44.914Z"
      },
      {
        "duration": 4,
        "start_time": "2024-11-12T14:46:45.085Z"
      },
      {
        "duration": 183,
        "start_time": "2024-11-12T14:46:45.090Z"
      },
      {
        "duration": 166,
        "start_time": "2024-11-12T14:46:45.275Z"
      },
      {
        "duration": 4,
        "start_time": "2024-11-12T14:46:45.443Z"
      },
      {
        "duration": 254,
        "start_time": "2024-11-12T14:46:45.448Z"
      },
      {
        "duration": 235,
        "start_time": "2024-11-12T14:46:45.704Z"
      },
      {
        "duration": 11,
        "start_time": "2024-11-12T14:46:45.941Z"
      },
      {
        "duration": 11,
        "start_time": "2024-11-12T14:46:45.965Z"
      },
      {
        "duration": 15,
        "start_time": "2024-11-12T14:46:45.977Z"
      },
      {
        "duration": 40,
        "start_time": "2024-11-12T14:46:45.993Z"
      },
      {
        "duration": 14,
        "start_time": "2024-11-12T14:46:46.035Z"
      },
      {
        "duration": 60,
        "start_time": "2024-11-13T11:38:46.699Z"
      },
      {
        "duration": 1336,
        "start_time": "2024-11-13T11:38:53.991Z"
      },
      {
        "duration": 304,
        "start_time": "2024-11-13T11:38:55.329Z"
      },
      {
        "duration": 20,
        "start_time": "2024-11-13T11:38:55.634Z"
      },
      {
        "duration": 16,
        "start_time": "2024-11-13T11:38:55.656Z"
      },
      {
        "duration": 18,
        "start_time": "2024-11-13T11:38:55.674Z"
      },
      {
        "duration": 18,
        "start_time": "2024-11-13T11:38:55.694Z"
      },
      {
        "duration": 5,
        "start_time": "2024-11-13T11:38:55.715Z"
      },
      {
        "duration": 23,
        "start_time": "2024-11-13T11:38:55.723Z"
      },
      {
        "duration": 10,
        "start_time": "2024-11-13T11:38:55.748Z"
      },
      {
        "duration": 35,
        "start_time": "2024-11-13T11:38:55.762Z"
      },
      {
        "duration": 15,
        "start_time": "2024-11-13T11:38:55.799Z"
      },
      {
        "duration": 10,
        "start_time": "2024-11-13T11:38:55.816Z"
      },
      {
        "duration": 15,
        "start_time": "2024-11-13T11:38:55.827Z"
      },
      {
        "duration": 8,
        "start_time": "2024-11-13T11:38:55.843Z"
      },
      {
        "duration": 10,
        "start_time": "2024-11-13T11:38:55.852Z"
      },
      {
        "duration": 11,
        "start_time": "2024-11-13T11:38:55.863Z"
      },
      {
        "duration": 673,
        "start_time": "2024-11-13T11:38:55.897Z"
      },
      {
        "duration": 246,
        "start_time": "2024-11-13T11:38:56.572Z"
      },
      {
        "duration": 403,
        "start_time": "2024-11-13T11:38:56.820Z"
      },
      {
        "duration": 268,
        "start_time": "2024-11-13T11:38:57.225Z"
      },
      {
        "duration": 370,
        "start_time": "2024-11-13T11:38:57.495Z"
      },
      {
        "duration": 167,
        "start_time": "2024-11-13T11:38:57.866Z"
      },
      {
        "duration": 4,
        "start_time": "2024-11-13T11:38:58.035Z"
      },
      {
        "duration": 202,
        "start_time": "2024-11-13T11:38:58.041Z"
      },
      {
        "duration": 225,
        "start_time": "2024-11-13T11:38:58.245Z"
      },
      {
        "duration": 5,
        "start_time": "2024-11-13T11:38:58.471Z"
      },
      {
        "duration": 274,
        "start_time": "2024-11-13T11:38:58.477Z"
      },
      {
        "duration": 176,
        "start_time": "2024-11-13T11:38:58.754Z"
      },
      {
        "duration": 11,
        "start_time": "2024-11-13T11:38:58.932Z"
      },
      {
        "duration": 12,
        "start_time": "2024-11-13T11:38:58.944Z"
      },
      {
        "duration": 37,
        "start_time": "2024-11-13T11:38:58.958Z"
      },
      {
        "duration": 46,
        "start_time": "2024-11-13T11:38:58.997Z"
      },
      {
        "duration": 15,
        "start_time": "2024-11-13T11:38:59.045Z"
      },
      {
        "duration": 18,
        "start_time": "2024-11-13T11:39:39.831Z"
      },
      {
        "duration": 5,
        "start_time": "2024-11-13T11:42:30.051Z"
      },
      {
        "duration": 5,
        "start_time": "2024-11-13T11:42:51.311Z"
      },
      {
        "duration": 11,
        "start_time": "2024-11-13T11:43:23.040Z"
      },
      {
        "duration": 5,
        "start_time": "2024-11-13T11:43:38.105Z"
      },
      {
        "duration": 1158,
        "start_time": "2024-11-13T12:11:56.169Z"
      },
      {
        "duration": 142,
        "start_time": "2024-11-13T12:11:57.329Z"
      },
      {
        "duration": 21,
        "start_time": "2024-11-13T12:11:57.472Z"
      },
      {
        "duration": 21,
        "start_time": "2024-11-13T12:11:57.495Z"
      },
      {
        "duration": 22,
        "start_time": "2024-11-13T12:11:57.518Z"
      },
      {
        "duration": 3,
        "start_time": "2024-11-13T12:11:57.542Z"
      },
      {
        "duration": 21,
        "start_time": "2024-11-13T12:11:57.546Z"
      },
      {
        "duration": 39,
        "start_time": "2024-11-13T12:11:57.568Z"
      },
      {
        "duration": 5,
        "start_time": "2024-11-13T12:11:57.609Z"
      },
      {
        "duration": 5,
        "start_time": "2024-11-13T12:11:57.618Z"
      },
      {
        "duration": 11,
        "start_time": "2024-11-13T12:11:57.624Z"
      },
      {
        "duration": 48,
        "start_time": "2024-11-13T12:11:57.637Z"
      },
      {
        "duration": 15,
        "start_time": "2024-11-13T12:11:57.686Z"
      },
      {
        "duration": 17,
        "start_time": "2024-11-13T12:11:57.702Z"
      },
      {
        "duration": 10,
        "start_time": "2024-11-13T12:11:57.721Z"
      },
      {
        "duration": 7,
        "start_time": "2024-11-13T12:11:57.733Z"
      },
      {
        "duration": 11,
        "start_time": "2024-11-13T12:11:57.741Z"
      },
      {
        "duration": 8,
        "start_time": "2024-11-13T12:11:57.753Z"
      },
      {
        "duration": 39,
        "start_time": "2024-11-13T12:11:57.762Z"
      },
      {
        "duration": 617,
        "start_time": "2024-11-13T12:11:57.803Z"
      },
      {
        "duration": 280,
        "start_time": "2024-11-13T12:11:58.421Z"
      },
      {
        "duration": 375,
        "start_time": "2024-11-13T12:11:58.704Z"
      },
      {
        "duration": 292,
        "start_time": "2024-11-13T12:11:59.080Z"
      },
      {
        "duration": 389,
        "start_time": "2024-11-13T12:11:59.374Z"
      },
      {
        "duration": 166,
        "start_time": "2024-11-13T12:11:59.764Z"
      },
      {
        "duration": 4,
        "start_time": "2024-11-13T12:11:59.932Z"
      },
      {
        "duration": 183,
        "start_time": "2024-11-13T12:11:59.937Z"
      },
      {
        "duration": 185,
        "start_time": "2024-11-13T12:12:00.123Z"
      },
      {
        "duration": 6,
        "start_time": "2024-11-13T12:12:00.310Z"
      },
      {
        "duration": 250,
        "start_time": "2024-11-13T12:12:00.317Z"
      },
      {
        "duration": 169,
        "start_time": "2024-11-13T12:12:00.569Z"
      },
      {
        "duration": 10,
        "start_time": "2024-11-13T12:12:00.739Z"
      },
      {
        "duration": 12,
        "start_time": "2024-11-13T12:12:00.750Z"
      },
      {
        "duration": 10,
        "start_time": "2024-11-13T12:12:00.764Z"
      },
      {
        "duration": 52,
        "start_time": "2024-11-13T12:12:00.776Z"
      },
      {
        "duration": 36,
        "start_time": "2024-11-13T12:12:00.829Z"
      },
      {
        "duration": 1269,
        "start_time": "2024-11-13T12:33:31.377Z"
      },
      {
        "duration": 276,
        "start_time": "2024-11-13T12:33:32.648Z"
      },
      {
        "duration": 20,
        "start_time": "2024-11-13T12:33:32.926Z"
      },
      {
        "duration": 16,
        "start_time": "2024-11-13T12:33:32.948Z"
      },
      {
        "duration": 29,
        "start_time": "2024-11-13T12:33:32.966Z"
      },
      {
        "duration": 8,
        "start_time": "2024-11-13T12:33:32.997Z"
      },
      {
        "duration": 18,
        "start_time": "2024-11-13T12:33:33.007Z"
      },
      {
        "duration": 44,
        "start_time": "2024-11-13T12:33:33.026Z"
      },
      {
        "duration": 36,
        "start_time": "2024-11-13T12:33:33.071Z"
      },
      {
        "duration": 5,
        "start_time": "2024-11-13T12:33:33.111Z"
      },
      {
        "duration": 16,
        "start_time": "2024-11-13T12:33:33.118Z"
      },
      {
        "duration": 14,
        "start_time": "2024-11-13T12:33:33.136Z"
      },
      {
        "duration": 14,
        "start_time": "2024-11-13T12:33:33.151Z"
      },
      {
        "duration": 24,
        "start_time": "2024-11-13T12:33:33.167Z"
      },
      {
        "duration": 18,
        "start_time": "2024-11-13T12:33:33.193Z"
      },
      {
        "duration": 9,
        "start_time": "2024-11-13T12:33:33.213Z"
      },
      {
        "duration": 26,
        "start_time": "2024-11-13T12:33:33.224Z"
      },
      {
        "duration": 16,
        "start_time": "2024-11-13T12:33:33.252Z"
      },
      {
        "duration": 15,
        "start_time": "2024-11-13T12:33:33.270Z"
      },
      {
        "duration": 610,
        "start_time": "2024-11-13T12:33:33.286Z"
      },
      {
        "duration": 252,
        "start_time": "2024-11-13T12:33:33.897Z"
      },
      {
        "duration": 414,
        "start_time": "2024-11-13T12:33:34.151Z"
      },
      {
        "duration": 268,
        "start_time": "2024-11-13T12:33:34.567Z"
      },
      {
        "duration": 407,
        "start_time": "2024-11-13T12:33:34.837Z"
      },
      {
        "duration": 179,
        "start_time": "2024-11-13T12:33:35.246Z"
      },
      {
        "duration": 4,
        "start_time": "2024-11-13T12:33:35.426Z"
      },
      {
        "duration": 190,
        "start_time": "2024-11-13T12:33:35.432Z"
      },
      {
        "duration": 179,
        "start_time": "2024-11-13T12:33:35.625Z"
      },
      {
        "duration": 4,
        "start_time": "2024-11-13T12:33:35.806Z"
      },
      {
        "duration": 231,
        "start_time": "2024-11-13T12:33:35.812Z"
      },
      {
        "duration": 190,
        "start_time": "2024-11-13T12:33:36.045Z"
      },
      {
        "duration": 12,
        "start_time": "2024-11-13T12:33:36.236Z"
      },
      {
        "duration": 27,
        "start_time": "2024-11-13T12:33:36.249Z"
      },
      {
        "duration": 8,
        "start_time": "2024-11-13T12:33:36.278Z"
      },
      {
        "duration": 27,
        "start_time": "2024-11-13T12:33:36.288Z"
      },
      {
        "duration": 19,
        "start_time": "2024-11-13T12:33:36.317Z"
      },
      {
        "duration": 92,
        "start_time": "2024-11-13T12:39:20.941Z"
      },
      {
        "duration": 52,
        "start_time": "2024-11-13T14:07:08.942Z"
      },
      {
        "duration": 1349,
        "start_time": "2024-11-13T14:07:16.794Z"
      },
      {
        "duration": 294,
        "start_time": "2024-11-13T14:07:18.146Z"
      },
      {
        "duration": 19,
        "start_time": "2024-11-13T14:07:18.442Z"
      },
      {
        "duration": 19,
        "start_time": "2024-11-13T14:07:18.462Z"
      },
      {
        "duration": 20,
        "start_time": "2024-11-13T14:07:18.483Z"
      },
      {
        "duration": 4,
        "start_time": "2024-11-13T14:07:18.504Z"
      },
      {
        "duration": 19,
        "start_time": "2024-11-13T14:07:18.509Z"
      },
      {
        "duration": 19,
        "start_time": "2024-11-13T14:07:18.529Z"
      },
      {
        "duration": 7,
        "start_time": "2024-11-13T14:07:18.550Z"
      },
      {
        "duration": 4,
        "start_time": "2024-11-13T14:07:18.558Z"
      },
      {
        "duration": 15,
        "start_time": "2024-11-13T14:07:18.564Z"
      },
      {
        "duration": 38,
        "start_time": "2024-11-13T14:07:18.581Z"
      },
      {
        "duration": 18,
        "start_time": "2024-11-13T14:07:18.621Z"
      },
      {
        "duration": 17,
        "start_time": "2024-11-13T14:07:18.642Z"
      },
      {
        "duration": 10,
        "start_time": "2024-11-13T14:07:18.661Z"
      },
      {
        "duration": 7,
        "start_time": "2024-11-13T14:07:18.673Z"
      },
      {
        "duration": 36,
        "start_time": "2024-11-13T14:07:18.682Z"
      },
      {
        "duration": 7,
        "start_time": "2024-11-13T14:07:18.720Z"
      },
      {
        "duration": 4,
        "start_time": "2024-11-13T14:07:18.729Z"
      },
      {
        "duration": 624,
        "start_time": "2024-11-13T14:07:18.734Z"
      },
      {
        "duration": 253,
        "start_time": "2024-11-13T14:07:19.360Z"
      },
      {
        "duration": 402,
        "start_time": "2024-11-13T14:07:19.618Z"
      },
      {
        "duration": 253,
        "start_time": "2024-11-13T14:07:20.022Z"
      },
      {
        "duration": 377,
        "start_time": "2024-11-13T14:07:20.278Z"
      },
      {
        "duration": 176,
        "start_time": "2024-11-13T14:07:20.657Z"
      },
      {
        "duration": 4,
        "start_time": "2024-11-13T14:07:20.835Z"
      },
      {
        "duration": 188,
        "start_time": "2024-11-13T14:07:20.841Z"
      },
      {
        "duration": 194,
        "start_time": "2024-11-13T14:07:21.031Z"
      },
      {
        "duration": 5,
        "start_time": "2024-11-13T14:07:21.227Z"
      },
      {
        "duration": 239,
        "start_time": "2024-11-13T14:07:21.233Z"
      },
      {
        "duration": 186,
        "start_time": "2024-11-13T14:07:21.474Z"
      },
      {
        "duration": 13,
        "start_time": "2024-11-13T14:07:21.662Z"
      },
      {
        "duration": 12,
        "start_time": "2024-11-13T14:07:21.677Z"
      },
      {
        "duration": 34,
        "start_time": "2024-11-13T14:07:21.691Z"
      },
      {
        "duration": 54,
        "start_time": "2024-11-13T14:07:21.726Z"
      },
      {
        "duration": 15,
        "start_time": "2024-11-13T14:07:21.783Z"
      },
      {
        "duration": 8,
        "start_time": "2024-11-13T14:07:48.939Z"
      },
      {
        "duration": 9,
        "start_time": "2024-11-13T14:07:52.490Z"
      },
      {
        "duration": 8,
        "start_time": "2024-11-13T14:07:56.522Z"
      },
      {
        "duration": 9,
        "start_time": "2024-11-13T14:08:11.730Z"
      },
      {
        "duration": 1045,
        "start_time": "2024-11-13T14:08:19.773Z"
      },
      {
        "duration": 123,
        "start_time": "2024-11-13T14:08:20.820Z"
      },
      {
        "duration": 20,
        "start_time": "2024-11-13T14:08:20.945Z"
      },
      {
        "duration": 15,
        "start_time": "2024-11-13T14:08:20.967Z"
      },
      {
        "duration": 20,
        "start_time": "2024-11-13T14:08:20.983Z"
      },
      {
        "duration": 3,
        "start_time": "2024-11-13T14:08:21.005Z"
      },
      {
        "duration": 18,
        "start_time": "2024-11-13T14:08:21.010Z"
      },
      {
        "duration": 18,
        "start_time": "2024-11-13T14:08:21.029Z"
      },
      {
        "duration": 4,
        "start_time": "2024-11-13T14:08:21.049Z"
      },
      {
        "duration": 5,
        "start_time": "2024-11-13T14:08:21.056Z"
      },
      {
        "duration": 18,
        "start_time": "2024-11-13T14:08:21.062Z"
      },
      {
        "duration": 12,
        "start_time": "2024-11-13T14:08:21.081Z"
      },
      {
        "duration": 30,
        "start_time": "2024-11-13T14:08:21.095Z"
      },
      {
        "duration": 22,
        "start_time": "2024-11-13T14:08:21.127Z"
      },
      {
        "duration": 9,
        "start_time": "2024-11-13T14:08:21.151Z"
      },
      {
        "duration": 6,
        "start_time": "2024-11-13T14:08:21.161Z"
      },
      {
        "duration": 9,
        "start_time": "2024-11-13T14:08:21.169Z"
      },
      {
        "duration": 15,
        "start_time": "2024-11-13T14:08:21.180Z"
      },
      {
        "duration": 13,
        "start_time": "2024-11-13T14:08:21.218Z"
      },
      {
        "duration": 638,
        "start_time": "2024-11-13T14:08:21.232Z"
      },
      {
        "duration": 246,
        "start_time": "2024-11-13T14:08:21.872Z"
      },
      {
        "duration": 355,
        "start_time": "2024-11-13T14:08:22.120Z"
      },
      {
        "duration": 254,
        "start_time": "2024-11-13T14:08:22.477Z"
      },
      {
        "duration": 370,
        "start_time": "2024-11-13T14:08:22.733Z"
      },
      {
        "duration": 174,
        "start_time": "2024-11-13T14:08:23.105Z"
      },
      {
        "duration": 4,
        "start_time": "2024-11-13T14:08:23.281Z"
      },
      {
        "duration": 181,
        "start_time": "2024-11-13T14:08:23.286Z"
      },
      {
        "duration": 178,
        "start_time": "2024-11-13T14:08:23.470Z"
      },
      {
        "duration": 4,
        "start_time": "2024-11-13T14:08:23.649Z"
      },
      {
        "duration": 246,
        "start_time": "2024-11-13T14:08:23.655Z"
      },
      {
        "duration": 166,
        "start_time": "2024-11-13T14:08:23.903Z"
      },
      {
        "duration": 10,
        "start_time": "2024-11-13T14:08:24.071Z"
      },
      {
        "duration": 9,
        "start_time": "2024-11-13T14:08:24.083Z"
      },
      {
        "duration": 28,
        "start_time": "2024-11-13T14:08:24.093Z"
      },
      {
        "duration": 25,
        "start_time": "2024-11-13T14:08:24.123Z"
      },
      {
        "duration": 13,
        "start_time": "2024-11-13T14:08:24.150Z"
      },
      {
        "duration": 11,
        "start_time": "2024-11-13T14:17:30.723Z"
      },
      {
        "duration": 6,
        "start_time": "2024-11-13T14:26:01.263Z"
      },
      {
        "duration": 10,
        "start_time": "2024-11-13T14:26:09.267Z"
      },
      {
        "duration": 133,
        "start_time": "2024-11-13T14:28:43.464Z"
      },
      {
        "duration": 14,
        "start_time": "2024-11-13T14:29:06.487Z"
      },
      {
        "duration": 5,
        "start_time": "2024-11-13T14:35:12.011Z"
      },
      {
        "duration": 8,
        "start_time": "2024-11-13T14:35:16.991Z"
      },
      {
        "duration": 5,
        "start_time": "2024-11-13T14:35:58.162Z"
      },
      {
        "duration": 7,
        "start_time": "2024-11-13T14:36:05.902Z"
      },
      {
        "duration": 4,
        "start_time": "2024-11-13T14:37:50.494Z"
      },
      {
        "duration": 13,
        "start_time": "2024-11-13T14:37:55.527Z"
      },
      {
        "duration": 13,
        "start_time": "2024-11-13T14:38:31.016Z"
      },
      {
        "duration": 4,
        "start_time": "2024-11-13T14:39:25.115Z"
      },
      {
        "duration": 7,
        "start_time": "2024-11-13T14:39:53.410Z"
      },
      {
        "duration": 14,
        "start_time": "2024-11-13T14:40:27.338Z"
      },
      {
        "duration": 159,
        "start_time": "2024-11-13T14:45:59.382Z"
      },
      {
        "duration": 104,
        "start_time": "2024-11-13T14:46:12.108Z"
      },
      {
        "duration": 5,
        "start_time": "2024-11-13T14:47:23.909Z"
      },
      {
        "duration": 16,
        "start_time": "2024-11-13T14:48:31.777Z"
      },
      {
        "duration": 120,
        "start_time": "2024-11-13T14:53:37.541Z"
      },
      {
        "duration": 7,
        "start_time": "2024-11-13T14:57:33.957Z"
      },
      {
        "duration": 9,
        "start_time": "2024-11-13T14:57:44.773Z"
      },
      {
        "duration": 9,
        "start_time": "2024-11-13T14:58:07.926Z"
      },
      {
        "duration": 5,
        "start_time": "2024-11-13T14:58:11.621Z"
      },
      {
        "duration": 13,
        "start_time": "2024-11-13T14:58:18.972Z"
      },
      {
        "duration": 12,
        "start_time": "2024-11-13T14:58:22.276Z"
      },
      {
        "duration": 12,
        "start_time": "2024-11-13T14:58:22.705Z"
      },
      {
        "duration": 1294,
        "start_time": "2024-11-13T18:20:43.479Z"
      },
      {
        "duration": 295,
        "start_time": "2024-11-13T18:20:44.775Z"
      },
      {
        "duration": 19,
        "start_time": "2024-11-13T18:20:45.072Z"
      },
      {
        "duration": 62,
        "start_time": "2024-11-13T18:20:45.093Z"
      },
      {
        "duration": 92,
        "start_time": "2024-11-13T18:20:45.157Z"
      },
      {
        "duration": 13,
        "start_time": "2024-11-13T18:20:45.250Z"
      },
      {
        "duration": 45,
        "start_time": "2024-11-13T18:20:45.264Z"
      },
      {
        "duration": 16,
        "start_time": "2024-11-13T18:20:45.311Z"
      },
      {
        "duration": 58,
        "start_time": "2024-11-13T18:20:45.329Z"
      },
      {
        "duration": 18,
        "start_time": "2024-11-13T18:20:45.390Z"
      },
      {
        "duration": 23,
        "start_time": "2024-11-13T18:20:45.409Z"
      },
      {
        "duration": 24,
        "start_time": "2024-11-13T18:20:45.434Z"
      },
      {
        "duration": 14,
        "start_time": "2024-11-13T18:20:45.460Z"
      },
      {
        "duration": 22,
        "start_time": "2024-11-13T18:20:45.476Z"
      },
      {
        "duration": 7,
        "start_time": "2024-11-13T18:20:45.500Z"
      },
      {
        "duration": 10,
        "start_time": "2024-11-13T18:20:45.509Z"
      },
      {
        "duration": 8,
        "start_time": "2024-11-13T18:20:45.521Z"
      },
      {
        "duration": 8,
        "start_time": "2024-11-13T18:20:45.530Z"
      },
      {
        "duration": 9,
        "start_time": "2024-11-13T18:20:45.539Z"
      },
      {
        "duration": 11,
        "start_time": "2024-11-13T18:20:45.550Z"
      },
      {
        "duration": 14,
        "start_time": "2024-11-13T18:20:45.562Z"
      },
      {
        "duration": 51,
        "start_time": "2024-11-13T18:20:45.600Z"
      },
      {
        "duration": 575,
        "start_time": "2024-11-13T18:20:45.653Z"
      },
      {
        "duration": 238,
        "start_time": "2024-11-13T18:20:46.230Z"
      },
      {
        "duration": 411,
        "start_time": "2024-11-13T18:20:46.470Z"
      },
      {
        "duration": 250,
        "start_time": "2024-11-13T18:20:46.883Z"
      },
      {
        "duration": 316,
        "start_time": "2024-11-13T18:20:47.135Z"
      },
      {
        "duration": 186,
        "start_time": "2024-11-13T18:20:47.455Z"
      },
      {
        "duration": 5,
        "start_time": "2024-11-13T18:20:47.645Z"
      },
      {
        "duration": 176,
        "start_time": "2024-11-13T18:20:47.652Z"
      },
      {
        "duration": 166,
        "start_time": "2024-11-13T18:20:47.830Z"
      },
      {
        "duration": 5,
        "start_time": "2024-11-13T18:20:47.998Z"
      },
      {
        "duration": 350,
        "start_time": "2024-11-13T18:20:48.004Z"
      },
      {
        "duration": 151,
        "start_time": "2024-11-13T18:20:48.356Z"
      },
      {
        "duration": 12,
        "start_time": "2024-11-13T18:20:48.509Z"
      },
      {
        "duration": 53,
        "start_time": "2024-11-13T18:20:48.524Z"
      },
      {
        "duration": 11,
        "start_time": "2024-11-13T18:20:48.579Z"
      },
      {
        "duration": 34,
        "start_time": "2024-11-13T18:20:48.592Z"
      },
      {
        "duration": 14,
        "start_time": "2024-11-13T18:20:48.629Z"
      },
      {
        "duration": 4,
        "start_time": "2024-11-13T18:22:17.623Z"
      },
      {
        "duration": 1027,
        "start_time": "2024-11-13T18:22:24.521Z"
      },
      {
        "duration": 131,
        "start_time": "2024-11-13T18:22:25.550Z"
      },
      {
        "duration": 19,
        "start_time": "2024-11-13T18:22:25.682Z"
      },
      {
        "duration": 50,
        "start_time": "2024-11-13T18:22:25.703Z"
      },
      {
        "duration": 45,
        "start_time": "2024-11-13T18:22:25.754Z"
      },
      {
        "duration": 13,
        "start_time": "2024-11-13T18:22:25.801Z"
      },
      {
        "duration": 27,
        "start_time": "2024-11-13T18:22:25.816Z"
      },
      {
        "duration": 18,
        "start_time": "2024-11-13T18:22:25.845Z"
      },
      {
        "duration": 34,
        "start_time": "2024-11-13T18:22:25.864Z"
      },
      {
        "duration": 19,
        "start_time": "2024-11-13T18:22:25.900Z"
      },
      {
        "duration": 30,
        "start_time": "2024-11-13T18:22:25.920Z"
      },
      {
        "duration": 15,
        "start_time": "2024-11-13T18:22:25.952Z"
      },
      {
        "duration": 43,
        "start_time": "2024-11-13T18:22:25.969Z"
      },
      {
        "duration": 30,
        "start_time": "2024-11-13T18:22:26.014Z"
      },
      {
        "duration": 21,
        "start_time": "2024-11-13T18:22:26.046Z"
      },
      {
        "duration": 25,
        "start_time": "2024-11-13T18:22:26.069Z"
      },
      {
        "duration": 26,
        "start_time": "2024-11-13T18:22:26.095Z"
      },
      {
        "duration": 33,
        "start_time": "2024-11-13T18:22:26.123Z"
      },
      {
        "duration": 39,
        "start_time": "2024-11-13T18:22:26.157Z"
      },
      {
        "duration": 10,
        "start_time": "2024-11-13T18:22:26.198Z"
      },
      {
        "duration": 17,
        "start_time": "2024-11-13T18:22:26.210Z"
      },
      {
        "duration": 15,
        "start_time": "2024-11-13T18:22:26.229Z"
      },
      {
        "duration": 59,
        "start_time": "2024-11-13T18:22:26.245Z"
      },
      {
        "duration": 600,
        "start_time": "2024-11-13T18:22:26.305Z"
      },
      {
        "duration": 244,
        "start_time": "2024-11-13T18:22:26.907Z"
      },
      {
        "duration": 319,
        "start_time": "2024-11-13T18:22:27.153Z"
      },
      {
        "duration": 239,
        "start_time": "2024-11-13T18:22:27.474Z"
      },
      {
        "duration": 325,
        "start_time": "2024-11-13T18:22:27.716Z"
      },
      {
        "duration": 190,
        "start_time": "2024-11-13T18:22:28.043Z"
      },
      {
        "duration": 5,
        "start_time": "2024-11-13T18:22:28.235Z"
      },
      {
        "duration": 189,
        "start_time": "2024-11-13T18:22:28.242Z"
      },
      {
        "duration": 173,
        "start_time": "2024-11-13T18:22:28.433Z"
      },
      {
        "duration": 3,
        "start_time": "2024-11-13T18:22:28.608Z"
      },
      {
        "duration": 324,
        "start_time": "2024-11-13T18:22:28.613Z"
      },
      {
        "duration": 166,
        "start_time": "2024-11-13T18:22:28.938Z"
      },
      {
        "duration": 10,
        "start_time": "2024-11-13T18:22:29.106Z"
      },
      {
        "duration": 9,
        "start_time": "2024-11-13T18:22:29.118Z"
      },
      {
        "duration": 14,
        "start_time": "2024-11-13T18:22:29.128Z"
      },
      {
        "duration": 25,
        "start_time": "2024-11-13T18:22:29.144Z"
      },
      {
        "duration": 42,
        "start_time": "2024-11-13T18:22:29.171Z"
      },
      {
        "duration": 4,
        "start_time": "2024-11-13T18:23:04.993Z"
      },
      {
        "duration": 1078,
        "start_time": "2024-11-13T18:24:12.014Z"
      },
      {
        "duration": 142,
        "start_time": "2024-11-13T18:24:13.094Z"
      },
      {
        "duration": 20,
        "start_time": "2024-11-13T18:24:13.240Z"
      },
      {
        "duration": 42,
        "start_time": "2024-11-13T18:24:13.262Z"
      },
      {
        "duration": 42,
        "start_time": "2024-11-13T18:24:13.306Z"
      },
      {
        "duration": 4,
        "start_time": "2024-11-13T18:24:13.350Z"
      },
      {
        "duration": 31,
        "start_time": "2024-11-13T18:24:13.355Z"
      },
      {
        "duration": 24,
        "start_time": "2024-11-13T18:24:13.387Z"
      },
      {
        "duration": 10,
        "start_time": "2024-11-13T18:24:13.413Z"
      },
      {
        "duration": 7,
        "start_time": "2024-11-13T18:24:13.424Z"
      },
      {
        "duration": 11,
        "start_time": "2024-11-13T18:24:13.433Z"
      },
      {
        "duration": 11,
        "start_time": "2024-11-13T18:24:13.446Z"
      },
      {
        "duration": 14,
        "start_time": "2024-11-13T18:24:13.459Z"
      },
      {
        "duration": 45,
        "start_time": "2024-11-13T18:24:13.475Z"
      },
      {
        "duration": 24,
        "start_time": "2024-11-13T18:24:13.521Z"
      },
      {
        "duration": 11,
        "start_time": "2024-11-13T18:24:13.548Z"
      },
      {
        "duration": 3,
        "start_time": "2024-11-13T18:24:13.561Z"
      },
      {
        "duration": 12,
        "start_time": "2024-11-13T18:24:13.566Z"
      },
      {
        "duration": 15,
        "start_time": "2024-11-13T18:24:13.580Z"
      },
      {
        "duration": 13,
        "start_time": "2024-11-13T18:24:13.596Z"
      },
      {
        "duration": 8,
        "start_time": "2024-11-13T18:24:13.610Z"
      },
      {
        "duration": 9,
        "start_time": "2024-11-13T18:24:13.619Z"
      },
      {
        "duration": 54,
        "start_time": "2024-11-13T18:24:13.630Z"
      },
      {
        "duration": 630,
        "start_time": "2024-11-13T18:24:13.685Z"
      },
      {
        "duration": 253,
        "start_time": "2024-11-13T18:24:14.316Z"
      },
      {
        "duration": 356,
        "start_time": "2024-11-13T18:24:14.571Z"
      },
      {
        "duration": 229,
        "start_time": "2024-11-13T18:24:14.930Z"
      },
      {
        "duration": 353,
        "start_time": "2024-11-13T18:24:15.161Z"
      },
      {
        "duration": 189,
        "start_time": "2024-11-13T18:24:15.516Z"
      },
      {
        "duration": 4,
        "start_time": "2024-11-13T18:24:15.707Z"
      },
      {
        "duration": 203,
        "start_time": "2024-11-13T18:24:15.712Z"
      },
      {
        "duration": 163,
        "start_time": "2024-11-13T18:24:15.916Z"
      },
      {
        "duration": 6,
        "start_time": "2024-11-13T18:24:16.081Z"
      },
      {
        "duration": 300,
        "start_time": "2024-11-13T18:24:16.100Z"
      },
      {
        "duration": 154,
        "start_time": "2024-11-13T18:24:16.401Z"
      },
      {
        "duration": 11,
        "start_time": "2024-11-13T18:24:16.557Z"
      },
      {
        "duration": 36,
        "start_time": "2024-11-13T18:24:16.569Z"
      },
      {
        "duration": 21,
        "start_time": "2024-11-13T18:24:16.607Z"
      },
      {
        "duration": 43,
        "start_time": "2024-11-13T18:24:16.630Z"
      },
      {
        "duration": 14,
        "start_time": "2024-11-13T18:24:16.674Z"
      },
      {
        "duration": 234,
        "start_time": "2024-11-13T18:33:23.286Z"
      },
      {
        "duration": 139,
        "start_time": "2024-11-13T18:36:35.517Z"
      },
      {
        "duration": 153,
        "start_time": "2024-11-13T18:36:53.649Z"
      },
      {
        "duration": 170,
        "start_time": "2024-11-13T18:37:22.201Z"
      },
      {
        "duration": 14,
        "start_time": "2024-11-13T18:40:03.149Z"
      },
      {
        "duration": 13,
        "start_time": "2024-11-13T18:45:11.315Z"
      },
      {
        "duration": 9,
        "start_time": "2024-11-13T18:46:44.448Z"
      },
      {
        "duration": 1010,
        "start_time": "2024-11-13T18:47:02.158Z"
      },
      {
        "duration": 139,
        "start_time": "2024-11-13T18:47:03.171Z"
      },
      {
        "duration": 19,
        "start_time": "2024-11-13T18:47:03.312Z"
      },
      {
        "duration": 36,
        "start_time": "2024-11-13T18:47:03.333Z"
      },
      {
        "duration": 35,
        "start_time": "2024-11-13T18:47:03.370Z"
      },
      {
        "duration": 9,
        "start_time": "2024-11-13T18:47:03.407Z"
      },
      {
        "duration": 19,
        "start_time": "2024-11-13T18:47:03.418Z"
      },
      {
        "duration": 17,
        "start_time": "2024-11-13T18:47:03.438Z"
      },
      {
        "duration": 3,
        "start_time": "2024-11-13T18:47:03.457Z"
      },
      {
        "duration": 26,
        "start_time": "2024-11-13T18:47:03.463Z"
      },
      {
        "duration": 27,
        "start_time": "2024-11-13T18:47:03.491Z"
      },
      {
        "duration": 30,
        "start_time": "2024-11-13T18:47:03.520Z"
      },
      {
        "duration": 32,
        "start_time": "2024-11-13T18:47:03.552Z"
      },
      {
        "duration": 17,
        "start_time": "2024-11-13T18:47:03.586Z"
      },
      {
        "duration": 4,
        "start_time": "2024-11-13T18:47:03.605Z"
      },
      {
        "duration": 24,
        "start_time": "2024-11-13T18:47:03.610Z"
      },
      {
        "duration": 3,
        "start_time": "2024-11-13T18:47:03.636Z"
      },
      {
        "duration": 16,
        "start_time": "2024-11-13T18:47:03.641Z"
      },
      {
        "duration": 17,
        "start_time": "2024-11-13T18:47:03.660Z"
      },
      {
        "duration": 16,
        "start_time": "2024-11-13T18:47:03.679Z"
      },
      {
        "duration": 22,
        "start_time": "2024-11-13T18:47:03.697Z"
      },
      {
        "duration": 24,
        "start_time": "2024-11-13T18:47:03.721Z"
      },
      {
        "duration": 58,
        "start_time": "2024-11-13T18:47:03.747Z"
      },
      {
        "duration": 583,
        "start_time": "2024-11-13T18:47:03.807Z"
      },
      {
        "duration": 237,
        "start_time": "2024-11-13T18:47:04.399Z"
      },
      {
        "duration": 326,
        "start_time": "2024-11-13T18:47:04.638Z"
      },
      {
        "duration": 240,
        "start_time": "2024-11-13T18:47:04.966Z"
      },
      {
        "duration": 329,
        "start_time": "2024-11-13T18:47:05.209Z"
      },
      {
        "duration": 174,
        "start_time": "2024-11-13T18:47:05.540Z"
      },
      {
        "duration": 4,
        "start_time": "2024-11-13T18:47:05.715Z"
      },
      {
        "duration": 181,
        "start_time": "2024-11-13T18:47:05.721Z"
      },
      {
        "duration": 175,
        "start_time": "2024-11-13T18:47:05.903Z"
      },
      {
        "duration": 4,
        "start_time": "2024-11-13T18:47:06.079Z"
      },
      {
        "duration": 344,
        "start_time": "2024-11-13T18:47:06.085Z"
      },
      {
        "duration": 156,
        "start_time": "2024-11-13T18:47:06.430Z"
      },
      {
        "duration": 19,
        "start_time": "2024-11-13T18:47:06.588Z"
      },
      {
        "duration": 115,
        "start_time": "2024-11-13T18:47:06.608Z"
      },
      {
        "duration": 21,
        "start_time": "2024-11-13T18:47:06.725Z"
      },
      {
        "duration": 34,
        "start_time": "2024-11-13T18:47:06.747Z"
      },
      {
        "duration": 13,
        "start_time": "2024-11-13T18:47:06.783Z"
      },
      {
        "duration": 24,
        "start_time": "2024-11-13T18:48:21.368Z"
      },
      {
        "duration": 17,
        "start_time": "2024-11-13T18:50:16.227Z"
      },
      {
        "duration": 983,
        "start_time": "2024-11-14T06:20:44.338Z"
      },
      {
        "duration": 266,
        "start_time": "2024-11-14T06:20:45.326Z"
      },
      {
        "duration": 26,
        "start_time": "2024-11-14T06:20:45.596Z"
      },
      {
        "duration": 19,
        "start_time": "2024-11-14T06:20:45.624Z"
      },
      {
        "duration": 15,
        "start_time": "2024-11-14T06:20:45.645Z"
      },
      {
        "duration": 3,
        "start_time": "2024-11-14T06:20:45.661Z"
      },
      {
        "duration": 23,
        "start_time": "2024-11-14T06:20:45.666Z"
      },
      {
        "duration": 12,
        "start_time": "2024-11-14T06:20:45.690Z"
      },
      {
        "duration": 26,
        "start_time": "2024-11-14T06:20:45.704Z"
      },
      {
        "duration": 18,
        "start_time": "2024-11-14T06:20:45.732Z"
      },
      {
        "duration": 10,
        "start_time": "2024-11-14T06:20:45.751Z"
      },
      {
        "duration": 9,
        "start_time": "2024-11-14T06:20:45.762Z"
      },
      {
        "duration": 31,
        "start_time": "2024-11-14T06:20:45.773Z"
      },
      {
        "duration": 28,
        "start_time": "2024-11-14T06:20:45.806Z"
      },
      {
        "duration": 5,
        "start_time": "2024-11-14T06:20:45.838Z"
      },
      {
        "duration": 12,
        "start_time": "2024-11-14T06:20:45.845Z"
      },
      {
        "duration": 4,
        "start_time": "2024-11-14T06:20:45.858Z"
      },
      {
        "duration": 39,
        "start_time": "2024-11-14T06:20:45.863Z"
      },
      {
        "duration": 29,
        "start_time": "2024-11-14T06:20:45.904Z"
      },
      {
        "duration": 7,
        "start_time": "2024-11-14T06:20:45.935Z"
      },
      {
        "duration": 7,
        "start_time": "2024-11-14T06:20:45.944Z"
      },
      {
        "duration": 8,
        "start_time": "2024-11-14T06:20:45.952Z"
      },
      {
        "duration": 65,
        "start_time": "2024-11-14T06:20:45.962Z"
      },
      {
        "duration": 542,
        "start_time": "2024-11-14T06:20:46.029Z"
      },
      {
        "duration": 209,
        "start_time": "2024-11-14T06:20:46.573Z"
      },
      {
        "duration": 380,
        "start_time": "2024-11-14T06:20:46.784Z"
      },
      {
        "duration": 238,
        "start_time": "2024-11-14T06:20:47.168Z"
      },
      {
        "duration": 340,
        "start_time": "2024-11-14T06:20:47.407Z"
      },
      {
        "duration": 164,
        "start_time": "2024-11-14T06:20:47.749Z"
      },
      {
        "duration": 8,
        "start_time": "2024-11-14T06:20:47.918Z"
      },
      {
        "duration": 194,
        "start_time": "2024-11-14T06:20:47.928Z"
      },
      {
        "duration": 319,
        "start_time": "2024-11-14T06:20:48.124Z"
      },
      {
        "duration": 3,
        "start_time": "2024-11-14T06:20:48.445Z"
      },
      {
        "duration": 600,
        "start_time": "2024-11-14T06:20:48.449Z"
      },
      {
        "duration": 379,
        "start_time": "2024-11-14T06:20:49.050Z"
      },
      {
        "duration": 9,
        "start_time": "2024-11-14T06:20:49.430Z"
      },
      {
        "duration": 14,
        "start_time": "2024-11-14T06:20:49.441Z"
      },
      {
        "duration": 66,
        "start_time": "2024-11-14T06:20:49.456Z"
      },
      {
        "duration": 26,
        "start_time": "2024-11-14T06:20:49.524Z"
      },
      {
        "duration": 11,
        "start_time": "2024-11-14T06:20:49.551Z"
      }
    ],
    "kernelspec": {
      "display_name": "Python 3 (ipykernel)",
      "language": "python",
      "name": "python3"
    },
    "language_info": {
      "codemirror_mode": {
        "name": "ipython",
        "version": 3
      },
      "file_extension": ".py",
      "mimetype": "text/x-python",
      "name": "python",
      "nbconvert_exporter": "python",
      "pygments_lexer": "ipython3",
      "version": "3.9.5"
    },
    "toc": {
      "base_numbering": 1,
      "nav_menu": {},
      "number_sections": true,
      "sideBar": true,
      "skip_h1_title": true,
      "title_cell": "Table of Contents",
      "title_sidebar": "Contents",
      "toc_cell": false,
      "toc_position": {},
      "toc_section_display": true,
      "toc_window_display": true
    },
    "colab": {
      "provenance": []
    }
  },
  "nbformat": 4,
  "nbformat_minor": 0
}