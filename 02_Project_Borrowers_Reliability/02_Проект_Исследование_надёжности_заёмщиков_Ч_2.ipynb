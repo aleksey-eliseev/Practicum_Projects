{
  "cells": [
    {
      "cell_type": "markdown",
      "id": "386f2ae7",
      "metadata": {
        "deletable": false,
        "editable": false,
        "id": "386f2ae7"
      },
      "source": [
        "# Исследование надежности заемщиков\n"
      ]
    },
    {
      "cell_type": "markdown",
      "id": "ffe86f65",
      "metadata": {
        "deletable": false,
        "editable": false,
        "id": "ffe86f65"
      },
      "source": [
        "Во второй части проекта вы выполните шаги 3 и 4. Их вручную проверит ревьюер.\n",
        "Чтобы вам не пришлось писать код заново для шагов 1 и 2, мы добавили авторские решения в ячейки с кодом.\n",
        "\n"
      ]
    },
    {
      "cell_type": "markdown",
      "id": "26613308",
      "metadata": {
        "deletable": false,
        "editable": false,
        "id": "26613308"
      },
      "source": [
        "## Откройте таблицу и изучите общую информацию о данных"
      ]
    },
    {
      "cell_type": "markdown",
      "id": "3c9f838e",
      "metadata": {
        "deletable": false,
        "editable": false,
        "id": "3c9f838e"
      },
      "source": [
        "**Задание 1. Импортируйте библиотеку pandas. Считайте данные из csv-файла в датафрейм и сохраните в переменную `data`. Путь к файлу:**\n",
        "\n",
        "`/datasets/data.csv`"
      ]
    },
    {
      "cell_type": "code",
      "execution_count": null,
      "id": "77a68a90",
      "metadata": {
        "deletable": false,
        "id": "77a68a90"
      },
      "outputs": [],
      "source": [
        "import pandas as pd\n",
        "\n",
        "try:\n",
        "    data = pd.read_csv('/datasets/data.csv')\n",
        "except:\n",
        "    data = pd.read_csv('https://code.s3.yandex.net/datasets/data.csv')"
      ]
    },
    {
      "cell_type": "markdown",
      "id": "45365635",
      "metadata": {
        "deletable": false,
        "editable": false,
        "id": "45365635"
      },
      "source": [
        "**Задание 2. Выведите первые 20 строчек датафрейма `data` на экран.**"
      ]
    },
    {
      "cell_type": "code",
      "execution_count": null,
      "id": "b0451a9a",
      "metadata": {
        "deletable": false,
        "id": "b0451a9a",
        "outputId": "1a8f3ef2-d323-4ec2-ddf7-89670b5944c4"
      },
      "outputs": [
        {
          "data": {
            "text/html": [
              "<div>\n",
              "<style scoped>\n",
              "    .dataframe tbody tr th:only-of-type {\n",
              "        vertical-align: middle;\n",
              "    }\n",
              "\n",
              "    .dataframe tbody tr th {\n",
              "        vertical-align: top;\n",
              "    }\n",
              "\n",
              "    .dataframe thead th {\n",
              "        text-align: right;\n",
              "    }\n",
              "</style>\n",
              "<table border=\"1\" class=\"dataframe\">\n",
              "  <thead>\n",
              "    <tr style=\"text-align: right;\">\n",
              "      <th></th>\n",
              "      <th>children</th>\n",
              "      <th>days_employed</th>\n",
              "      <th>dob_years</th>\n",
              "      <th>education</th>\n",
              "      <th>education_id</th>\n",
              "      <th>family_status</th>\n",
              "      <th>family_status_id</th>\n",
              "      <th>gender</th>\n",
              "      <th>income_type</th>\n",
              "      <th>debt</th>\n",
              "      <th>total_income</th>\n",
              "      <th>purpose</th>\n",
              "    </tr>\n",
              "  </thead>\n",
              "  <tbody>\n",
              "    <tr>\n",
              "      <th>0</th>\n",
              "      <td>1</td>\n",
              "      <td>-8437.673028</td>\n",
              "      <td>42</td>\n",
              "      <td>высшее</td>\n",
              "      <td>0</td>\n",
              "      <td>женат / замужем</td>\n",
              "      <td>0</td>\n",
              "      <td>F</td>\n",
              "      <td>сотрудник</td>\n",
              "      <td>0</td>\n",
              "      <td>253875.639453</td>\n",
              "      <td>покупка жилья</td>\n",
              "    </tr>\n",
              "    <tr>\n",
              "      <th>1</th>\n",
              "      <td>1</td>\n",
              "      <td>-4024.803754</td>\n",
              "      <td>36</td>\n",
              "      <td>среднее</td>\n",
              "      <td>1</td>\n",
              "      <td>женат / замужем</td>\n",
              "      <td>0</td>\n",
              "      <td>F</td>\n",
              "      <td>сотрудник</td>\n",
              "      <td>0</td>\n",
              "      <td>112080.014102</td>\n",
              "      <td>приобретение автомобиля</td>\n",
              "    </tr>\n",
              "    <tr>\n",
              "      <th>2</th>\n",
              "      <td>0</td>\n",
              "      <td>-5623.422610</td>\n",
              "      <td>33</td>\n",
              "      <td>Среднее</td>\n",
              "      <td>1</td>\n",
              "      <td>женат / замужем</td>\n",
              "      <td>0</td>\n",
              "      <td>M</td>\n",
              "      <td>сотрудник</td>\n",
              "      <td>0</td>\n",
              "      <td>145885.952297</td>\n",
              "      <td>покупка жилья</td>\n",
              "    </tr>\n",
              "    <tr>\n",
              "      <th>3</th>\n",
              "      <td>3</td>\n",
              "      <td>-4124.747207</td>\n",
              "      <td>32</td>\n",
              "      <td>среднее</td>\n",
              "      <td>1</td>\n",
              "      <td>женат / замужем</td>\n",
              "      <td>0</td>\n",
              "      <td>M</td>\n",
              "      <td>сотрудник</td>\n",
              "      <td>0</td>\n",
              "      <td>267628.550329</td>\n",
              "      <td>дополнительное образование</td>\n",
              "    </tr>\n",
              "    <tr>\n",
              "      <th>4</th>\n",
              "      <td>0</td>\n",
              "      <td>340266.072047</td>\n",
              "      <td>53</td>\n",
              "      <td>среднее</td>\n",
              "      <td>1</td>\n",
              "      <td>гражданский брак</td>\n",
              "      <td>1</td>\n",
              "      <td>F</td>\n",
              "      <td>пенсионер</td>\n",
              "      <td>0</td>\n",
              "      <td>158616.077870</td>\n",
              "      <td>сыграть свадьбу</td>\n",
              "    </tr>\n",
              "    <tr>\n",
              "      <th>5</th>\n",
              "      <td>0</td>\n",
              "      <td>-926.185831</td>\n",
              "      <td>27</td>\n",
              "      <td>высшее</td>\n",
              "      <td>0</td>\n",
              "      <td>гражданский брак</td>\n",
              "      <td>1</td>\n",
              "      <td>M</td>\n",
              "      <td>компаньон</td>\n",
              "      <td>0</td>\n",
              "      <td>255763.565419</td>\n",
              "      <td>покупка жилья</td>\n",
              "    </tr>\n",
              "    <tr>\n",
              "      <th>6</th>\n",
              "      <td>0</td>\n",
              "      <td>-2879.202052</td>\n",
              "      <td>43</td>\n",
              "      <td>высшее</td>\n",
              "      <td>0</td>\n",
              "      <td>женат / замужем</td>\n",
              "      <td>0</td>\n",
              "      <td>F</td>\n",
              "      <td>компаньон</td>\n",
              "      <td>0</td>\n",
              "      <td>240525.971920</td>\n",
              "      <td>операции с жильем</td>\n",
              "    </tr>\n",
              "    <tr>\n",
              "      <th>7</th>\n",
              "      <td>0</td>\n",
              "      <td>-152.779569</td>\n",
              "      <td>50</td>\n",
              "      <td>СРЕДНЕЕ</td>\n",
              "      <td>1</td>\n",
              "      <td>женат / замужем</td>\n",
              "      <td>0</td>\n",
              "      <td>M</td>\n",
              "      <td>сотрудник</td>\n",
              "      <td>0</td>\n",
              "      <td>135823.934197</td>\n",
              "      <td>образование</td>\n",
              "    </tr>\n",
              "    <tr>\n",
              "      <th>8</th>\n",
              "      <td>2</td>\n",
              "      <td>-6929.865299</td>\n",
              "      <td>35</td>\n",
              "      <td>ВЫСШЕЕ</td>\n",
              "      <td>0</td>\n",
              "      <td>гражданский брак</td>\n",
              "      <td>1</td>\n",
              "      <td>F</td>\n",
              "      <td>сотрудник</td>\n",
              "      <td>0</td>\n",
              "      <td>95856.832424</td>\n",
              "      <td>на проведение свадьбы</td>\n",
              "    </tr>\n",
              "    <tr>\n",
              "      <th>9</th>\n",
              "      <td>0</td>\n",
              "      <td>-2188.756445</td>\n",
              "      <td>41</td>\n",
              "      <td>среднее</td>\n",
              "      <td>1</td>\n",
              "      <td>женат / замужем</td>\n",
              "      <td>0</td>\n",
              "      <td>M</td>\n",
              "      <td>сотрудник</td>\n",
              "      <td>0</td>\n",
              "      <td>144425.938277</td>\n",
              "      <td>покупка жилья для семьи</td>\n",
              "    </tr>\n",
              "    <tr>\n",
              "      <th>10</th>\n",
              "      <td>2</td>\n",
              "      <td>-4171.483647</td>\n",
              "      <td>36</td>\n",
              "      <td>высшее</td>\n",
              "      <td>0</td>\n",
              "      <td>женат / замужем</td>\n",
              "      <td>0</td>\n",
              "      <td>M</td>\n",
              "      <td>компаньон</td>\n",
              "      <td>0</td>\n",
              "      <td>113943.491460</td>\n",
              "      <td>покупка недвижимости</td>\n",
              "    </tr>\n",
              "    <tr>\n",
              "      <th>11</th>\n",
              "      <td>0</td>\n",
              "      <td>-792.701887</td>\n",
              "      <td>40</td>\n",
              "      <td>среднее</td>\n",
              "      <td>1</td>\n",
              "      <td>женат / замужем</td>\n",
              "      <td>0</td>\n",
              "      <td>F</td>\n",
              "      <td>сотрудник</td>\n",
              "      <td>0</td>\n",
              "      <td>77069.234271</td>\n",
              "      <td>покупка коммерческой недвижимости</td>\n",
              "    </tr>\n",
              "    <tr>\n",
              "      <th>12</th>\n",
              "      <td>0</td>\n",
              "      <td>NaN</td>\n",
              "      <td>65</td>\n",
              "      <td>среднее</td>\n",
              "      <td>1</td>\n",
              "      <td>гражданский брак</td>\n",
              "      <td>1</td>\n",
              "      <td>M</td>\n",
              "      <td>пенсионер</td>\n",
              "      <td>0</td>\n",
              "      <td>NaN</td>\n",
              "      <td>сыграть свадьбу</td>\n",
              "    </tr>\n",
              "    <tr>\n",
              "      <th>13</th>\n",
              "      <td>0</td>\n",
              "      <td>-1846.641941</td>\n",
              "      <td>54</td>\n",
              "      <td>неоконченное высшее</td>\n",
              "      <td>2</td>\n",
              "      <td>женат / замужем</td>\n",
              "      <td>0</td>\n",
              "      <td>F</td>\n",
              "      <td>сотрудник</td>\n",
              "      <td>0</td>\n",
              "      <td>130458.228857</td>\n",
              "      <td>приобретение автомобиля</td>\n",
              "    </tr>\n",
              "    <tr>\n",
              "      <th>14</th>\n",
              "      <td>0</td>\n",
              "      <td>-1844.956182</td>\n",
              "      <td>56</td>\n",
              "      <td>высшее</td>\n",
              "      <td>0</td>\n",
              "      <td>гражданский брак</td>\n",
              "      <td>1</td>\n",
              "      <td>F</td>\n",
              "      <td>компаньон</td>\n",
              "      <td>1</td>\n",
              "      <td>165127.911772</td>\n",
              "      <td>покупка жилой недвижимости</td>\n",
              "    </tr>\n",
              "    <tr>\n",
              "      <th>15</th>\n",
              "      <td>1</td>\n",
              "      <td>-972.364419</td>\n",
              "      <td>26</td>\n",
              "      <td>среднее</td>\n",
              "      <td>1</td>\n",
              "      <td>женат / замужем</td>\n",
              "      <td>0</td>\n",
              "      <td>F</td>\n",
              "      <td>сотрудник</td>\n",
              "      <td>0</td>\n",
              "      <td>116820.904450</td>\n",
              "      <td>строительство собственной недвижимости</td>\n",
              "    </tr>\n",
              "    <tr>\n",
              "      <th>16</th>\n",
              "      <td>0</td>\n",
              "      <td>-1719.934226</td>\n",
              "      <td>35</td>\n",
              "      <td>среднее</td>\n",
              "      <td>1</td>\n",
              "      <td>женат / замужем</td>\n",
              "      <td>0</td>\n",
              "      <td>F</td>\n",
              "      <td>сотрудник</td>\n",
              "      <td>0</td>\n",
              "      <td>289202.704229</td>\n",
              "      <td>недвижимость</td>\n",
              "    </tr>\n",
              "    <tr>\n",
              "      <th>17</th>\n",
              "      <td>0</td>\n",
              "      <td>-2369.999720</td>\n",
              "      <td>33</td>\n",
              "      <td>высшее</td>\n",
              "      <td>0</td>\n",
              "      <td>гражданский брак</td>\n",
              "      <td>1</td>\n",
              "      <td>M</td>\n",
              "      <td>сотрудник</td>\n",
              "      <td>0</td>\n",
              "      <td>90410.586745</td>\n",
              "      <td>строительство недвижимости</td>\n",
              "    </tr>\n",
              "    <tr>\n",
              "      <th>18</th>\n",
              "      <td>0</td>\n",
              "      <td>400281.136913</td>\n",
              "      <td>53</td>\n",
              "      <td>среднее</td>\n",
              "      <td>1</td>\n",
              "      <td>вдовец / вдова</td>\n",
              "      <td>2</td>\n",
              "      <td>F</td>\n",
              "      <td>пенсионер</td>\n",
              "      <td>0</td>\n",
              "      <td>56823.777243</td>\n",
              "      <td>на покупку подержанного автомобиля</td>\n",
              "    </tr>\n",
              "    <tr>\n",
              "      <th>19</th>\n",
              "      <td>0</td>\n",
              "      <td>-10038.818549</td>\n",
              "      <td>48</td>\n",
              "      <td>СРЕДНЕЕ</td>\n",
              "      <td>1</td>\n",
              "      <td>в разводе</td>\n",
              "      <td>3</td>\n",
              "      <td>F</td>\n",
              "      <td>сотрудник</td>\n",
              "      <td>0</td>\n",
              "      <td>242831.107982</td>\n",
              "      <td>на покупку своего автомобиля</td>\n",
              "    </tr>\n",
              "  </tbody>\n",
              "</table>\n",
              "</div>"
            ],
            "text/plain": [
              "    children  days_employed  dob_years            education  education_id  \\\n",
              "0          1   -8437.673028         42               высшее             0   \n",
              "1          1   -4024.803754         36              среднее             1   \n",
              "2          0   -5623.422610         33              Среднее             1   \n",
              "3          3   -4124.747207         32              среднее             1   \n",
              "4          0  340266.072047         53              среднее             1   \n",
              "5          0    -926.185831         27               высшее             0   \n",
              "6          0   -2879.202052         43               высшее             0   \n",
              "7          0    -152.779569         50              СРЕДНЕЕ             1   \n",
              "8          2   -6929.865299         35               ВЫСШЕЕ             0   \n",
              "9          0   -2188.756445         41              среднее             1   \n",
              "10         2   -4171.483647         36               высшее             0   \n",
              "11         0    -792.701887         40              среднее             1   \n",
              "12         0            NaN         65              среднее             1   \n",
              "13         0   -1846.641941         54  неоконченное высшее             2   \n",
              "14         0   -1844.956182         56               высшее             0   \n",
              "15         1    -972.364419         26              среднее             1   \n",
              "16         0   -1719.934226         35              среднее             1   \n",
              "17         0   -2369.999720         33               высшее             0   \n",
              "18         0  400281.136913         53              среднее             1   \n",
              "19         0  -10038.818549         48              СРЕДНЕЕ             1   \n",
              "\n",
              "       family_status  family_status_id gender income_type  debt  \\\n",
              "0    женат / замужем                 0      F   сотрудник     0   \n",
              "1    женат / замужем                 0      F   сотрудник     0   \n",
              "2    женат / замужем                 0      M   сотрудник     0   \n",
              "3    женат / замужем                 0      M   сотрудник     0   \n",
              "4   гражданский брак                 1      F   пенсионер     0   \n",
              "5   гражданский брак                 1      M   компаньон     0   \n",
              "6    женат / замужем                 0      F   компаньон     0   \n",
              "7    женат / замужем                 0      M   сотрудник     0   \n",
              "8   гражданский брак                 1      F   сотрудник     0   \n",
              "9    женат / замужем                 0      M   сотрудник     0   \n",
              "10   женат / замужем                 0      M   компаньон     0   \n",
              "11   женат / замужем                 0      F   сотрудник     0   \n",
              "12  гражданский брак                 1      M   пенсионер     0   \n",
              "13   женат / замужем                 0      F   сотрудник     0   \n",
              "14  гражданский брак                 1      F   компаньон     1   \n",
              "15   женат / замужем                 0      F   сотрудник     0   \n",
              "16   женат / замужем                 0      F   сотрудник     0   \n",
              "17  гражданский брак                 1      M   сотрудник     0   \n",
              "18    вдовец / вдова                 2      F   пенсионер     0   \n",
              "19         в разводе                 3      F   сотрудник     0   \n",
              "\n",
              "     total_income                                 purpose  \n",
              "0   253875.639453                           покупка жилья  \n",
              "1   112080.014102                 приобретение автомобиля  \n",
              "2   145885.952297                           покупка жилья  \n",
              "3   267628.550329              дополнительное образование  \n",
              "4   158616.077870                         сыграть свадьбу  \n",
              "5   255763.565419                           покупка жилья  \n",
              "6   240525.971920                       операции с жильем  \n",
              "7   135823.934197                             образование  \n",
              "8    95856.832424                   на проведение свадьбы  \n",
              "9   144425.938277                 покупка жилья для семьи  \n",
              "10  113943.491460                    покупка недвижимости  \n",
              "11   77069.234271       покупка коммерческой недвижимости  \n",
              "12            NaN                         сыграть свадьбу  \n",
              "13  130458.228857                 приобретение автомобиля  \n",
              "14  165127.911772              покупка жилой недвижимости  \n",
              "15  116820.904450  строительство собственной недвижимости  \n",
              "16  289202.704229                            недвижимость  \n",
              "17   90410.586745              строительство недвижимости  \n",
              "18   56823.777243      на покупку подержанного автомобиля  \n",
              "19  242831.107982            на покупку своего автомобиля  "
            ]
          },
          "execution_count": 2,
          "metadata": {},
          "output_type": "execute_result"
        }
      ],
      "source": [
        "data.head(20)"
      ]
    },
    {
      "cell_type": "markdown",
      "id": "0ed8f27f",
      "metadata": {
        "deletable": false,
        "editable": false,
        "id": "0ed8f27f"
      },
      "source": [
        "**Задание 3. Выведите основную информацию о датафрейме с помощью метода `info()`.**"
      ]
    },
    {
      "cell_type": "code",
      "execution_count": null,
      "id": "ab3f863b",
      "metadata": {
        "deletable": false,
        "id": "ab3f863b",
        "outputId": "15376089-8dad-46c9-b520-c05248d43158"
      },
      "outputs": [
        {
          "name": "stdout",
          "output_type": "stream",
          "text": [
            "<class 'pandas.core.frame.DataFrame'>\n",
            "RangeIndex: 21525 entries, 0 to 21524\n",
            "Data columns (total 12 columns):\n",
            " #   Column            Non-Null Count  Dtype  \n",
            "---  ------            --------------  -----  \n",
            " 0   children          21525 non-null  int64  \n",
            " 1   days_employed     19351 non-null  float64\n",
            " 2   dob_years         21525 non-null  int64  \n",
            " 3   education         21525 non-null  object \n",
            " 4   education_id      21525 non-null  int64  \n",
            " 5   family_status     21525 non-null  object \n",
            " 6   family_status_id  21525 non-null  int64  \n",
            " 7   gender            21525 non-null  object \n",
            " 8   income_type       21525 non-null  object \n",
            " 9   debt              21525 non-null  int64  \n",
            " 10  total_income      19351 non-null  float64\n",
            " 11  purpose           21525 non-null  object \n",
            "dtypes: float64(2), int64(5), object(5)\n",
            "memory usage: 2.0+ MB\n"
          ]
        }
      ],
      "source": [
        "data.info()"
      ]
    },
    {
      "cell_type": "markdown",
      "id": "60e3e22d",
      "metadata": {
        "deletable": false,
        "editable": false,
        "id": "60e3e22d"
      },
      "source": [
        "## Предобработка данных"
      ]
    },
    {
      "cell_type": "markdown",
      "id": "03dc170c",
      "metadata": {
        "deletable": false,
        "editable": false,
        "id": "03dc170c"
      },
      "source": [
        "### Удаление пропусков"
      ]
    },
    {
      "cell_type": "markdown",
      "id": "a4f54eef",
      "metadata": {
        "deletable": false,
        "editable": false,
        "id": "a4f54eef"
      },
      "source": [
        "**Задание 4. Выведите количество пропущенных значений для каждого столбца. Используйте комбинацию двух методов.**"
      ]
    },
    {
      "cell_type": "code",
      "execution_count": null,
      "id": "2dc372b2",
      "metadata": {
        "deletable": false,
        "id": "2dc372b2",
        "outputId": "81f4d817-781c-465c-ed15-91ce4446810d"
      },
      "outputs": [
        {
          "data": {
            "text/plain": [
              "children               0\n",
              "days_employed       2174\n",
              "dob_years              0\n",
              "education              0\n",
              "education_id           0\n",
              "family_status          0\n",
              "family_status_id       0\n",
              "gender                 0\n",
              "income_type            0\n",
              "debt                   0\n",
              "total_income        2174\n",
              "purpose                0\n",
              "dtype: int64"
            ]
          },
          "execution_count": 4,
          "metadata": {},
          "output_type": "execute_result"
        }
      ],
      "source": [
        "data.isna().sum()"
      ]
    },
    {
      "cell_type": "markdown",
      "id": "14f011b1",
      "metadata": {
        "deletable": false,
        "editable": false,
        "id": "14f011b1"
      },
      "source": [
        "**Задание 5. В двух столбцах есть пропущенные значения. Один из них — `days_employed`. Пропуски в этом столбце вы обработаете на следующем этапе. Другой столбец с пропущенными значениями — `total_income` — хранит данные о доходах. На сумму дохода сильнее всего влияет тип занятости, поэтому заполнить пропуски в этом столбце нужно медианным значением по каждому типу из столбца `income_type`. Например, у человека с типом занятости `сотрудник` пропуск в столбце `total_income` должен быть заполнен медианным доходом среди всех записей с тем же типом.**"
      ]
    },
    {
      "cell_type": "code",
      "execution_count": null,
      "id": "bdabfb6e",
      "metadata": {
        "deletable": false,
        "id": "bdabfb6e"
      },
      "outputs": [],
      "source": [
        "for t in data['income_type'].unique():\n",
        "    data.loc[(data['income_type'] == t) & (data['total_income'].isna()), 'total_income'] = \\\n",
        "    data.loc[(data['income_type'] == t), 'total_income'].median()"
      ]
    },
    {
      "cell_type": "markdown",
      "id": "5be34059",
      "metadata": {
        "deletable": false,
        "editable": false,
        "id": "5be34059"
      },
      "source": [
        "### Обработка аномальных значений"
      ]
    },
    {
      "cell_type": "markdown",
      "id": "a87606cb",
      "metadata": {
        "deletable": false,
        "editable": false,
        "id": "a87606cb"
      },
      "source": [
        "**Задание 6. В данных могут встречаться артефакты (аномалии) — значения, которые не отражают действительность и появились по какой-то ошибке. таким артефактом будет отрицательное количество дней трудового стажа в столбце `days_employed`. Для реальных данных это нормально. Обработайте значения в этом столбце: замените все отрицательные значения положительными с помощью метода `abs()`.**"
      ]
    },
    {
      "cell_type": "code",
      "execution_count": null,
      "id": "020c46cc",
      "metadata": {
        "deletable": false,
        "id": "020c46cc"
      },
      "outputs": [],
      "source": [
        "data['days_employed'] = data['days_employed'].abs()"
      ]
    },
    {
      "cell_type": "markdown",
      "id": "45538a3a",
      "metadata": {
        "deletable": false,
        "editable": false,
        "id": "45538a3a"
      },
      "source": [
        "**Задание 7. Для каждого типа занятости выведите медианное значение трудового стажа `days_employed` в днях.**"
      ]
    },
    {
      "cell_type": "code",
      "execution_count": null,
      "id": "cd3e6328",
      "metadata": {
        "deletable": false,
        "id": "cd3e6328",
        "outputId": "801ef80e-522b-4668-f34e-565af7432bcf"
      },
      "outputs": [
        {
          "data": {
            "text/plain": [
              "income_type\n",
              "безработный        366413.652744\n",
              "в декрете            3296.759962\n",
              "госслужащий          2689.368353\n",
              "компаньон            1547.382223\n",
              "пенсионер          365213.306266\n",
              "предприниматель       520.848083\n",
              "сотрудник            1574.202821\n",
              "студент               578.751554\n",
              "Name: days_employed, dtype: float64"
            ]
          },
          "execution_count": 7,
          "metadata": {},
          "output_type": "execute_result"
        }
      ],
      "source": [
        "data.groupby('income_type')['days_employed'].agg('median')"
      ]
    },
    {
      "cell_type": "markdown",
      "id": "90c5f058",
      "metadata": {
        "deletable": false,
        "editable": false,
        "id": "90c5f058"
      },
      "source": [
        "У двух типов (безработные и пенсионеры) получатся аномально большие значения. Исправить такие значения сложно, поэтому оставьте их как есть."
      ]
    },
    {
      "cell_type": "markdown",
      "id": "9652e50d",
      "metadata": {
        "deletable": false,
        "editable": false,
        "id": "9652e50d"
      },
      "source": [
        "**Задание 8. Выведите перечень уникальных значений столбца `children`.**"
      ]
    },
    {
      "cell_type": "code",
      "execution_count": null,
      "id": "dbb37b8e",
      "metadata": {
        "deletable": false,
        "id": "dbb37b8e",
        "outputId": "6975b15c-7f95-4697-d16d-a0c79b657b03"
      },
      "outputs": [
        {
          "data": {
            "text/plain": [
              "array([ 1,  0,  3,  2, -1,  4, 20,  5])"
            ]
          },
          "execution_count": 8,
          "metadata": {},
          "output_type": "execute_result"
        }
      ],
      "source": [
        "data['children'].unique()"
      ]
    },
    {
      "cell_type": "markdown",
      "id": "2b8b0715",
      "metadata": {
        "deletable": false,
        "editable": false,
        "id": "2b8b0715"
      },
      "source": [
        "**Задание 9. В столбце `children` есть два аномальных значения. Удалите строки, в которых встречаются такие аномальные значения из датафрейма `data`.**"
      ]
    },
    {
      "cell_type": "code",
      "execution_count": null,
      "id": "20009df8",
      "metadata": {
        "deletable": false,
        "id": "20009df8"
      },
      "outputs": [],
      "source": [
        "data = data[(data['children'] != -1) & (data['children'] != 20)]"
      ]
    },
    {
      "cell_type": "markdown",
      "id": "8c6ac9f1",
      "metadata": {
        "deletable": false,
        "editable": false,
        "id": "8c6ac9f1"
      },
      "source": [
        "**Задание 10. Ещё раз выведите перечень уникальных значений столбца `children`, чтобы убедиться, что артефакты удалены.**"
      ]
    },
    {
      "cell_type": "code",
      "execution_count": null,
      "id": "07337b81",
      "metadata": {
        "deletable": false,
        "id": "07337b81",
        "outputId": "b2097101-d49d-44d9-901b-32a65c9463d1"
      },
      "outputs": [
        {
          "data": {
            "text/plain": [
              "array([1, 0, 3, 2, 4, 5])"
            ]
          },
          "execution_count": 10,
          "metadata": {},
          "output_type": "execute_result"
        }
      ],
      "source": [
        "data['children'].unique()"
      ]
    },
    {
      "cell_type": "markdown",
      "id": "ee3f52d4",
      "metadata": {
        "deletable": false,
        "editable": false,
        "id": "ee3f52d4"
      },
      "source": [
        "### Удаление пропусков (продолжение)"
      ]
    },
    {
      "cell_type": "markdown",
      "id": "a700b0e4",
      "metadata": {
        "deletable": false,
        "editable": false,
        "id": "a700b0e4"
      },
      "source": [
        "**Задание 11. Заполните пропуски в столбце `days_employed` медианными значениями по каждого типа занятости `income_type`.**"
      ]
    },
    {
      "cell_type": "code",
      "execution_count": null,
      "id": "61946b83",
      "metadata": {
        "deletable": false,
        "id": "61946b83"
      },
      "outputs": [],
      "source": [
        "for t in data['income_type'].unique():\n",
        "    data.loc[(data['income_type'] == t) & (data['days_employed'].isna()), 'days_employed'] = \\\n",
        "    data.loc[(data['income_type'] == t), 'days_employed'].median()"
      ]
    },
    {
      "cell_type": "markdown",
      "id": "550dcd9b",
      "metadata": {
        "deletable": false,
        "editable": false,
        "id": "550dcd9b"
      },
      "source": [
        "**Задание 12. Убедитесь, что все пропуски заполнены. Проверьте себя и ещё раз выведите количество пропущенных значений для каждого столбца с помощью двух методов.**"
      ]
    },
    {
      "cell_type": "code",
      "execution_count": null,
      "id": "937c7014",
      "metadata": {
        "deletable": false,
        "id": "937c7014",
        "outputId": "8da1e4e1-358e-4e87-98c9-f261bce0a7b2"
      },
      "outputs": [
        {
          "data": {
            "text/plain": [
              "children            0\n",
              "days_employed       0\n",
              "dob_years           0\n",
              "education           0\n",
              "education_id        0\n",
              "family_status       0\n",
              "family_status_id    0\n",
              "gender              0\n",
              "income_type         0\n",
              "debt                0\n",
              "total_income        0\n",
              "purpose             0\n",
              "dtype: int64"
            ]
          },
          "execution_count": 12,
          "metadata": {},
          "output_type": "execute_result"
        }
      ],
      "source": [
        "data.isna().sum()"
      ]
    },
    {
      "cell_type": "markdown",
      "id": "d522e295",
      "metadata": {
        "deletable": false,
        "editable": false,
        "id": "d522e295"
      },
      "source": [
        "### Изменение типов данных"
      ]
    },
    {
      "cell_type": "markdown",
      "id": "c229c581",
      "metadata": {
        "deletable": false,
        "editable": false,
        "id": "c229c581"
      },
      "source": [
        "**Задание 13. Замените вещественный тип данных в столбце `total_income` на целочисленный с помощью метода `astype()`.**"
      ]
    },
    {
      "cell_type": "code",
      "execution_count": null,
      "id": "31036462",
      "metadata": {
        "deletable": false,
        "id": "31036462"
      },
      "outputs": [],
      "source": [
        "data['total_income'] = data['total_income'].astype(int)"
      ]
    },
    {
      "cell_type": "markdown",
      "id": "b8e3d1d9",
      "metadata": {
        "deletable": false,
        "editable": false,
        "id": "b8e3d1d9"
      },
      "source": [
        "### Обработка дубликатов"
      ]
    },
    {
      "cell_type": "markdown",
      "id": "9be53c49",
      "metadata": {
        "deletable": false,
        "editable": false,
        "id": "9be53c49"
      },
      "source": [
        "**Задание 14. Обработайте неявные дубликаты в столбце `education`. В этом столбце есть одни и те же значения, но записанные по-разному: с использованием заглавных и строчных букв. Приведите их к нижнему регистру.**"
      ]
    },
    {
      "cell_type": "code",
      "execution_count": null,
      "id": "d89e73e1",
      "metadata": {
        "deletable": false,
        "id": "d89e73e1"
      },
      "outputs": [],
      "source": [
        "data['education'] = data['education'].str.lower()"
      ]
    },
    {
      "cell_type": "markdown",
      "id": "01d4500e",
      "metadata": {
        "deletable": false,
        "editable": false,
        "id": "01d4500e"
      },
      "source": [
        "**Задание 15. Выведите на экран количество строк-дубликатов в данных. Если такие строки присутствуют, удалите их.**"
      ]
    },
    {
      "cell_type": "code",
      "execution_count": null,
      "id": "e10efb23",
      "metadata": {
        "deletable": false,
        "id": "e10efb23",
        "outputId": "9684deba-1934-42d1-99e1-cda61740f822"
      },
      "outputs": [
        {
          "data": {
            "text/plain": [
              "71"
            ]
          },
          "execution_count": 15,
          "metadata": {},
          "output_type": "execute_result"
        }
      ],
      "source": [
        "data.duplicated().sum()"
      ]
    },
    {
      "cell_type": "code",
      "execution_count": null,
      "id": "df853f20",
      "metadata": {
        "deletable": false,
        "id": "df853f20"
      },
      "outputs": [],
      "source": [
        "data = data.drop_duplicates()"
      ]
    },
    {
      "cell_type": "markdown",
      "id": "627be38f",
      "metadata": {
        "deletable": false,
        "editable": false,
        "id": "627be38f"
      },
      "source": [
        "### Категоризация данных"
      ]
    },
    {
      "cell_type": "markdown",
      "id": "4684c3e0",
      "metadata": {
        "deletable": false,
        "editable": false,
        "id": "4684c3e0"
      },
      "source": [
        "**Задание 16. На основании диапазонов, указанных ниже, создайте в датафрейме `data` столбец `total_income_category` с категориями:**\n",
        "\n",
        "- 0–30000 — `'E'`;\n",
        "- 30001–50000 — `'D'`;\n",
        "- 50001–200000 — `'C'`;\n",
        "- 200001–1000000 — `'B'`;\n",
        "- 1000001 и выше — `'A'`.\n",
        "\n",
        "\n",
        "**Например, кредитополучателю с доходом 25000 нужно назначить категорию `'E'`, а клиенту, получающему 235000, — `'B'`. Используйте собственную функцию с именем `categorize_income()` и метод `apply()`.**"
      ]
    },
    {
      "cell_type": "code",
      "execution_count": null,
      "id": "78965238",
      "metadata": {
        "deletable": false,
        "id": "78965238"
      },
      "outputs": [],
      "source": [
        "def categorize_income(income):\n",
        "    try:\n",
        "        if 0 <= income <= 30000:\n",
        "            return 'E'\n",
        "        elif 30001 <= income <= 50000:\n",
        "            return 'D'\n",
        "        elif 50001 <= income <= 200000:\n",
        "            return 'C'\n",
        "        elif 200001 <= income <= 1000000:\n",
        "            return 'B'\n",
        "        elif income >= 1000001:\n",
        "            return 'A'\n",
        "    except:\n",
        "        pass"
      ]
    },
    {
      "cell_type": "code",
      "execution_count": null,
      "id": "0980ada1",
      "metadata": {
        "deletable": false,
        "id": "0980ada1"
      },
      "outputs": [],
      "source": [
        "data['total_income_category'] = data['total_income'].apply(categorize_income)"
      ]
    },
    {
      "cell_type": "markdown",
      "id": "9917bba0",
      "metadata": {
        "deletable": false,
        "editable": false,
        "id": "9917bba0"
      },
      "source": [
        "**Задание 17. Выведите на экран перечень уникальных целей взятия кредита из столбца `purpose`.**"
      ]
    },
    {
      "cell_type": "code",
      "execution_count": null,
      "id": "ee07b65e",
      "metadata": {
        "deletable": false,
        "id": "ee07b65e",
        "outputId": "673c12d9-7d7e-4ae0-9812-c622c89dd244"
      },
      "outputs": [
        {
          "data": {
            "text/plain": [
              "array(['покупка жилья', 'приобретение автомобиля',\n",
              "       'дополнительное образование', 'сыграть свадьбу',\n",
              "       'операции с жильем', 'образование', 'на проведение свадьбы',\n",
              "       'покупка жилья для семьи', 'покупка недвижимости',\n",
              "       'покупка коммерческой недвижимости', 'покупка жилой недвижимости',\n",
              "       'строительство собственной недвижимости', 'недвижимость',\n",
              "       'строительство недвижимости', 'на покупку подержанного автомобиля',\n",
              "       'на покупку своего автомобиля',\n",
              "       'операции с коммерческой недвижимостью',\n",
              "       'строительство жилой недвижимости', 'жилье',\n",
              "       'операции со своей недвижимостью', 'автомобили',\n",
              "       'заняться образованием', 'сделка с подержанным автомобилем',\n",
              "       'получение образования', 'автомобиль', 'свадьба',\n",
              "       'получение дополнительного образования', 'покупка своего жилья',\n",
              "       'операции с недвижимостью', 'получение высшего образования',\n",
              "       'свой автомобиль', 'сделка с автомобилем',\n",
              "       'профильное образование', 'высшее образование',\n",
              "       'покупка жилья для сдачи', 'на покупку автомобиля', 'ремонт жилью',\n",
              "       'заняться высшим образованием'], dtype=object)"
            ]
          },
          "execution_count": 19,
          "metadata": {},
          "output_type": "execute_result"
        }
      ],
      "source": [
        "data['purpose'].unique()"
      ]
    },
    {
      "cell_type": "markdown",
      "id": "52b79d56",
      "metadata": {
        "deletable": false,
        "editable": false,
        "id": "52b79d56"
      },
      "source": [
        "**Задание 18. Создайте функцию, которая на основании данных из столбца `purpose` сформирует новый столбец `purpose_category`, в который войдут следующие категории:**\n",
        "\n",
        "- `'операции с автомобилем'`,\n",
        "- `'операции с недвижимостью'`,\n",
        "- `'проведение свадьбы'`,\n",
        "- `'получение образования'`.\n",
        "\n",
        "**Например, если в столбце `purpose` находится подстрока `'на покупку автомобиля'`, то в столбце `purpose_category` должна появиться строка `'операции с автомобилем'`.**\n",
        "\n",
        "**Используйте собственную функцию с именем `categorize_purpose()` и метод `apply()`. Изучите данные в столбце `purpose` и определите, какие подстроки помогут вам правильно определить категорию.**"
      ]
    },
    {
      "cell_type": "code",
      "execution_count": null,
      "id": "be41da5d",
      "metadata": {
        "deletable": false,
        "id": "be41da5d"
      },
      "outputs": [],
      "source": [
        "def categorize_purpose(row):\n",
        "    try:\n",
        "        if 'автом' in row:\n",
        "            return 'операции с автомобилем'\n",
        "        elif 'жил' in row or 'недвиж' in row:\n",
        "            return 'операции с недвижимостью'\n",
        "        elif 'свад' in row:\n",
        "            return 'проведение свадьбы'\n",
        "        elif 'образов' in row:\n",
        "            return 'получение образования'\n",
        "    except:\n",
        "        return 'нет категории'"
      ]
    },
    {
      "cell_type": "code",
      "execution_count": null,
      "id": "94c4a19a",
      "metadata": {
        "deletable": false,
        "id": "94c4a19a"
      },
      "outputs": [],
      "source": [
        "data['purpose_category'] = data['purpose'].apply(categorize_purpose)"
      ]
    },
    {
      "cell_type": "markdown",
      "id": "3d596c34",
      "metadata": {
        "deletable": false,
        "editable": false,
        "id": "3d596c34"
      },
      "source": [
        "### Шаг 3. Исследуйте данные и ответьте на вопросы"
      ]
    },
    {
      "cell_type": "markdown",
      "id": "648db036",
      "metadata": {
        "deletable": false,
        "editable": false,
        "id": "648db036"
      },
      "source": [
        "#### 3.1 Есть ли зависимость между количеством детей и возвратом кредита в срок?"
      ]
    },
    {
      "cell_type": "code",
      "execution_count": null,
      "id": "7fcff25e",
      "metadata": {
        "deletable": false,
        "id": "7fcff25e",
        "outputId": "5778bc82-7f3a-4530-f4cf-30ce673e8f24"
      },
      "outputs": [
        {
          "data": {
            "text/html": [
              "<div>\n",
              "<style scoped>\n",
              "    .dataframe tbody tr th:only-of-type {\n",
              "        vertical-align: middle;\n",
              "    }\n",
              "\n",
              "    .dataframe tbody tr th {\n",
              "        vertical-align: top;\n",
              "    }\n",
              "\n",
              "    .dataframe thead th {\n",
              "        text-align: right;\n",
              "    }\n",
              "</style>\n",
              "<table border=\"1\" class=\"dataframe\">\n",
              "  <thead>\n",
              "    <tr style=\"text-align: right;\">\n",
              "      <th></th>\n",
              "      <th>count</th>\n",
              "      <th>sum</th>\n",
              "      <th>share</th>\n",
              "    </tr>\n",
              "    <tr>\n",
              "      <th>children</th>\n",
              "      <th></th>\n",
              "      <th></th>\n",
              "      <th></th>\n",
              "    </tr>\n",
              "  </thead>\n",
              "  <tbody>\n",
              "    <tr>\n",
              "      <th>4</th>\n",
              "      <td>41</td>\n",
              "      <td>4</td>\n",
              "      <td>0.097561</td>\n",
              "    </tr>\n",
              "    <tr>\n",
              "      <th>2</th>\n",
              "      <td>2052</td>\n",
              "      <td>194</td>\n",
              "      <td>0.094542</td>\n",
              "    </tr>\n",
              "    <tr>\n",
              "      <th>1</th>\n",
              "      <td>4808</td>\n",
              "      <td>444</td>\n",
              "      <td>0.092346</td>\n",
              "    </tr>\n",
              "    <tr>\n",
              "      <th>3</th>\n",
              "      <td>330</td>\n",
              "      <td>27</td>\n",
              "      <td>0.081818</td>\n",
              "    </tr>\n",
              "    <tr>\n",
              "      <th>0</th>\n",
              "      <td>14091</td>\n",
              "      <td>1063</td>\n",
              "      <td>0.075438</td>\n",
              "    </tr>\n",
              "    <tr>\n",
              "      <th>5</th>\n",
              "      <td>9</td>\n",
              "      <td>0</td>\n",
              "      <td>0.000000</td>\n",
              "    </tr>\n",
              "  </tbody>\n",
              "</table>\n",
              "</div>"
            ],
            "text/plain": [
              "          count   sum     share\n",
              "children                       \n",
              "4            41     4  0.097561\n",
              "2          2052   194  0.094542\n",
              "1          4808   444  0.092346\n",
              "3           330    27  0.081818\n",
              "0         14091  1063  0.075438\n",
              "5             9     0  0.000000"
            ]
          },
          "execution_count": 99,
          "metadata": {},
          "output_type": "execute_result"
        }
      ],
      "source": [
        "children_relation_debt.groupby('children').agg(['count', 'sum'])\n",
        "children_relation_debt['share'] = data.groupby('children')['debt'].sum() / data.groupby('children')['debt'].count()\n",
        "children_relation_debt.sort_values(by='share', ascending=False)"
      ]
    },
    {
      "cell_type": "markdown",
      "id": "2eb9088e",
      "metadata": {
        "deletable": false,
        "id": "2eb9088e"
      },
      "source": [
        "**Вывод:** Исходя из данных, полученных путем группировки заемщиков по количеству детей, подсчёту заемщиков и должников в каждой группе, можно сделать предварительный вывод, что заемщики без детей серьёзнее относятся к выплате кредитов. С увеличением количества детей наблюдается тенденция к увеличению доли просроченных платежей. Однако выборки заемщиков с 3-4, а особенно с 5 детьми, слишком малы, чтобы делать окончательные выводы о зависимости между количеством детей и возвратом кредита в срок."
      ]
    },
    {
      "cell_type": "markdown",
      "id": "74c9b3a7",
      "metadata": {
        "deletable": false,
        "editable": false,
        "id": "74c9b3a7"
      },
      "source": [
        "#### 3.2 Есть ли зависимость между семейным положением и возвратом кредита в срок?"
      ]
    },
    {
      "cell_type": "code",
      "execution_count": null,
      "id": "8098ab3b",
      "metadata": {
        "deletable": false,
        "id": "8098ab3b",
        "outputId": "7e285fb0-c1c7-43d8-825c-f0f17cbdd179"
      },
      "outputs": [
        {
          "data": {
            "text/html": [
              "<div>\n",
              "<style scoped>\n",
              "    .dataframe tbody tr th:only-of-type {\n",
              "        vertical-align: middle;\n",
              "    }\n",
              "\n",
              "    .dataframe tbody tr th {\n",
              "        vertical-align: top;\n",
              "    }\n",
              "\n",
              "    .dataframe thead th {\n",
              "        text-align: right;\n",
              "    }\n",
              "</style>\n",
              "<table border=\"1\" class=\"dataframe\">\n",
              "  <thead>\n",
              "    <tr style=\"text-align: right;\">\n",
              "      <th></th>\n",
              "      <th>count</th>\n",
              "      <th>sum</th>\n",
              "      <th>share</th>\n",
              "    </tr>\n",
              "    <tr>\n",
              "      <th>family_status</th>\n",
              "      <th></th>\n",
              "      <th></th>\n",
              "      <th></th>\n",
              "    </tr>\n",
              "  </thead>\n",
              "  <tbody>\n",
              "    <tr>\n",
              "      <th>Не женат / не замужем</th>\n",
              "      <td>2796</td>\n",
              "      <td>273</td>\n",
              "      <td>0.097639</td>\n",
              "    </tr>\n",
              "    <tr>\n",
              "      <th>гражданский брак</th>\n",
              "      <td>4134</td>\n",
              "      <td>385</td>\n",
              "      <td>0.093130</td>\n",
              "    </tr>\n",
              "    <tr>\n",
              "      <th>женат / замужем</th>\n",
              "      <td>12261</td>\n",
              "      <td>927</td>\n",
              "      <td>0.075606</td>\n",
              "    </tr>\n",
              "    <tr>\n",
              "      <th>в разводе</th>\n",
              "      <td>1189</td>\n",
              "      <td>84</td>\n",
              "      <td>0.070648</td>\n",
              "    </tr>\n",
              "    <tr>\n",
              "      <th>вдовец / вдова</th>\n",
              "      <td>951</td>\n",
              "      <td>63</td>\n",
              "      <td>0.066246</td>\n",
              "    </tr>\n",
              "  </tbody>\n",
              "</table>\n",
              "</div>"
            ],
            "text/plain": [
              "                       count  sum     share\n",
              "family_status                              \n",
              "Не женат / не замужем   2796  273  0.097639\n",
              "гражданский брак        4134  385  0.093130\n",
              "женат / замужем        12261  927  0.075606\n",
              "в разводе               1189   84  0.070648\n",
              "вдовец / вдова           951   63  0.066246"
            ]
          },
          "execution_count": 33,
          "metadata": {},
          "output_type": "execute_result"
        }
      ],
      "source": [
        "family_st_relation_debt.groupby('family_status').agg(['count', 'sum'])\n",
        "family_st_relation_debt['share'] = data.groupby('family_status')['debt'].sum() / data.groupby('family_status')['debt'].count()\n",
        "family_st_relation_debt.sort_values(by='share', ascending=False)"
      ]
    },
    {
      "cell_type": "markdown",
      "id": "c389ca63",
      "metadata": {
        "deletable": false,
        "id": "c389ca63"
      },
      "source": [
        "**Вывод:** Наибольшая доля просрочек по кредитам наблюдается у заемщиков в статусах \"не женат / не замужем\" и \"гражданский брак\". В то же время, заемщики в статусах \"женат / замужем\", \"в разводе\" и \"вдовец / вдова\" демонстрируют большую дисциплинированность и чаще возвращают долги в срок. Таким образом, семейное положение, отличное от холостого, положительно влияет на своевременность возврата кредитов."
      ]
    },
    {
      "cell_type": "markdown",
      "id": "9529de68",
      "metadata": {
        "deletable": false,
        "editable": false,
        "id": "9529de68"
      },
      "source": [
        "#### 3.3 Есть ли зависимость между уровнем дохода и возвратом кредита в срок?"
      ]
    },
    {
      "cell_type": "code",
      "execution_count": null,
      "id": "8787f44a",
      "metadata": {
        "deletable": false,
        "id": "8787f44a",
        "outputId": "92a3238c-1ab6-4b88-bfa0-f46484b6f931"
      },
      "outputs": [
        {
          "data": {
            "text/html": [
              "<div>\n",
              "<style scoped>\n",
              "    .dataframe tbody tr th:only-of-type {\n",
              "        vertical-align: middle;\n",
              "    }\n",
              "\n",
              "    .dataframe tbody tr th {\n",
              "        vertical-align: top;\n",
              "    }\n",
              "\n",
              "    .dataframe thead th {\n",
              "        text-align: right;\n",
              "    }\n",
              "</style>\n",
              "<table border=\"1\" class=\"dataframe\">\n",
              "  <thead>\n",
              "    <tr style=\"text-align: right;\">\n",
              "      <th></th>\n",
              "      <th>count</th>\n",
              "      <th>sum</th>\n",
              "      <th>share</th>\n",
              "    </tr>\n",
              "    <tr>\n",
              "      <th>total_income_category</th>\n",
              "      <th></th>\n",
              "      <th></th>\n",
              "      <th></th>\n",
              "    </tr>\n",
              "  </thead>\n",
              "  <tbody>\n",
              "    <tr>\n",
              "      <th>E</th>\n",
              "      <td>22</td>\n",
              "      <td>2</td>\n",
              "      <td>0.090909</td>\n",
              "    </tr>\n",
              "    <tr>\n",
              "      <th>C</th>\n",
              "      <td>15921</td>\n",
              "      <td>1353</td>\n",
              "      <td>0.084982</td>\n",
              "    </tr>\n",
              "    <tr>\n",
              "      <th>A</th>\n",
              "      <td>25</td>\n",
              "      <td>2</td>\n",
              "      <td>0.080000</td>\n",
              "    </tr>\n",
              "    <tr>\n",
              "      <th>B</th>\n",
              "      <td>5014</td>\n",
              "      <td>354</td>\n",
              "      <td>0.070602</td>\n",
              "    </tr>\n",
              "    <tr>\n",
              "      <th>D</th>\n",
              "      <td>349</td>\n",
              "      <td>21</td>\n",
              "      <td>0.060172</td>\n",
              "    </tr>\n",
              "  </tbody>\n",
              "</table>\n",
              "</div>"
            ],
            "text/plain": [
              "                       count   sum     share\n",
              "total_income_category                       \n",
              "E                         22     2  0.090909\n",
              "C                      15921  1353  0.084982\n",
              "A                         25     2  0.080000\n",
              "B                       5014   354  0.070602\n",
              "D                        349    21  0.060172"
            ]
          },
          "execution_count": 34,
          "metadata": {},
          "output_type": "execute_result"
        }
      ],
      "source": [
        "income_ct_relation_debt.groupby('total_income_category').agg(['count', 'sum'])\n",
        "income_ct_relation_debt['share'] = data.groupby('total_income_category')['debt'].sum() / data.groupby('total_income_category')['debt'].count()\n",
        "income_ct_relation_debt.sort_values(by='share', ascending=False)"
      ]
    },
    {
      "cell_type": "markdown",
      "id": "6dd14b57",
      "metadata": {
        "deletable": false,
        "id": "6dd14b57"
      },
      "source": [
        "**Вывод:** Из представленных данных самая большая доля просрочек наблюдается у заемщиков с самым низким доходом 0–30000 ('E'). Но так как выборка по группам заемщиков с самым низким ('E') и самым высоким ('A') доходом слишком мала, сделать корректные выводы не представляется возможным. Тем не менее, выборка заемщиков со средним доходом ('C') позволяет предположить, что такие заемщики более склонны к просрочкам по кредитам. Это говорит о том, что высокий доход не является гарантией своевременной выплаты кредитов."
      ]
    },
    {
      "cell_type": "markdown",
      "id": "1dcc9b12",
      "metadata": {
        "deletable": false,
        "editable": false,
        "id": "1dcc9b12"
      },
      "source": [
        "#### 3.4 Как разные цели кредита влияют на его возврат в срок?"
      ]
    },
    {
      "cell_type": "code",
      "execution_count": null,
      "id": "c602bc8b",
      "metadata": {
        "deletable": false,
        "id": "c602bc8b",
        "outputId": "a0bd0d0e-542a-427b-f721-9c64c4e5acf2"
      },
      "outputs": [
        {
          "data": {
            "text/html": [
              "<div>\n",
              "<style scoped>\n",
              "    .dataframe tbody tr th:only-of-type {\n",
              "        vertical-align: middle;\n",
              "    }\n",
              "\n",
              "    .dataframe tbody tr th {\n",
              "        vertical-align: top;\n",
              "    }\n",
              "\n",
              "    .dataframe thead th {\n",
              "        text-align: right;\n",
              "    }\n",
              "</style>\n",
              "<table border=\"1\" class=\"dataframe\">\n",
              "  <thead>\n",
              "    <tr style=\"text-align: right;\">\n",
              "      <th></th>\n",
              "      <th>count</th>\n",
              "      <th>sum</th>\n",
              "      <th>share</th>\n",
              "    </tr>\n",
              "    <tr>\n",
              "      <th>purpose_category</th>\n",
              "      <th></th>\n",
              "      <th></th>\n",
              "      <th></th>\n",
              "    </tr>\n",
              "  </thead>\n",
              "  <tbody>\n",
              "    <tr>\n",
              "      <th>операции с автомобилем</th>\n",
              "      <td>4279</td>\n",
              "      <td>400</td>\n",
              "      <td>0.093480</td>\n",
              "    </tr>\n",
              "    <tr>\n",
              "      <th>получение образования</th>\n",
              "      <td>3988</td>\n",
              "      <td>369</td>\n",
              "      <td>0.092528</td>\n",
              "    </tr>\n",
              "    <tr>\n",
              "      <th>проведение свадьбы</th>\n",
              "      <td>2313</td>\n",
              "      <td>183</td>\n",
              "      <td>0.079118</td>\n",
              "    </tr>\n",
              "    <tr>\n",
              "      <th>операции с недвижимостью</th>\n",
              "      <td>10751</td>\n",
              "      <td>780</td>\n",
              "      <td>0.072551</td>\n",
              "    </tr>\n",
              "  </tbody>\n",
              "</table>\n",
              "</div>"
            ],
            "text/plain": [
              "                          count  sum     share\n",
              "purpose_category                              \n",
              "операции с автомобилем     4279  400  0.093480\n",
              "получение образования      3988  369  0.092528\n",
              "проведение свадьбы         2313  183  0.079118\n",
              "операции с недвижимостью  10751  780  0.072551"
            ]
          },
          "execution_count": 35,
          "metadata": {},
          "output_type": "execute_result"
        }
      ],
      "source": [
        "purpose_relation_debt.groupby('purpose_category').agg(['count', 'sum'])\n",
        "purpose_relation_debt['share'] = data.groupby('purpose_category')['debt'].sum() / data.groupby('purpose_category')['debt'].count()\n",
        "purpose_relation_debt.sort_values(by='share', ascending=False)"
      ]
    },
    {
      "cell_type": "markdown",
      "id": "cf05ed63",
      "metadata": {
        "deletable": false,
        "id": "cf05ed63"
      },
      "source": [
        "**Вывод:** Среди всех целей, на которые берут кредиты, наибольшая доля просрочек наблюдается у заемщиков, использовавших средства для покупки автомобиля и получения образования. Наиболее дисциплинированными в плане возврата кредитов оказались заемщики, бравшие деньги на покупку недвижимости."
      ]
    },
    {
      "cell_type": "markdown",
      "id": "46c1f10b",
      "metadata": {
        "deletable": false,
        "editable": false,
        "id": "46c1f10b"
      },
      "source": [
        "#### 3.5 Приведите возможные причины появления пропусков в исходных данных."
      ]
    },
    {
      "cell_type": "markdown",
      "id": "3697d2a9",
      "metadata": {
        "deletable": false,
        "id": "3697d2a9"
      },
      "source": [
        "*Ответ:* Человеческий фактор — менеджер, вводивший данные в форму мог случайно или намеренно пропустить поля. Технический сбой — при загрузке или выгрузке информации могли произойти неполадки, приведшие к потере данных."
      ]
    },
    {
      "cell_type": "markdown",
      "id": "3137d257",
      "metadata": {
        "deletable": false,
        "editable": false,
        "id": "3137d257"
      },
      "source": [
        "#### 3.6 Объясните, почему заполнить пропуски медианным значением — лучшее решение для количественных переменных."
      ]
    },
    {
      "cell_type": "markdown",
      "id": "cf40012a",
      "metadata": {
        "deletable": false,
        "id": "cf40012a"
      },
      "source": [
        "*Ответ:* Медианные значения не подвержены влиянию выбросов. Это значит, что экстремальные значения в данных не исказят выводы."
      ]
    },
    {
      "cell_type": "markdown",
      "id": "57bc304e",
      "metadata": {
        "deletable": false,
        "editable": false,
        "id": "57bc304e"
      },
      "source": [
        "### Шаг 4: общий вывод."
      ]
    },
    {
      "cell_type": "markdown",
      "id": "1ab75d1c",
      "metadata": {
        "deletable": false,
        "id": "1ab75d1c"
      },
      "source": [
        "Для анализа и поиска зависимостей мне был предоставлен датасет от кредитного отдела банка с подробной информацией о каждом заёмщике и их платёжеспособности.\n",
        "В качестве основной задачи нужно разобраться, влияет ли семейное положение и количество детей клиента на факт погашения кредита в срок.\n",
        "\n",
        "С полученными данными были проведены следующие манипуляции:\n",
        "- Нахождение и заполнение пропусков медианными значениями в столбцах с информацией о ежемесячном доходе и днях трудового стажа\n",
        "- Обработка аномальных значений трудового стажа и кол-ва детей у заёмщика\n",
        "- Обработка дубликатов в столбцах с информацией об образовании, удаление строк с полными дубликатами\n",
        "- Категоризация данных о доходе заемщика и целей кредита\n",
        "\n",
        "В ходе исследования было выяснено:\n",
        "\n",
        "1. Заемщики без детей демонстрируют большую ответственность в выплате кредитов. С увеличением количества детей возрастает и доля просрочек. Однако выборки заемщиков с тремя и более детьми слишком маля для окончательных выводов.\n",
        "\n",
        "2. Самое значительное влияние на возврат долгов имеет семейное положение. Женатые, разведенные и вдовцы имеют лучшие показатели в возврате долгов. Тогда как наибольная доля просрочек приходится на заёмщиков не состоящих в браке.\n",
        "\n",
        "3. По уровню дохода самая высокая доля просрочек наблюдается среди заёмщиков с самыми назкими доходами, но малые выборки в крайних группах А и Е не позволяют делать однозначные выводы.\n",
        "\n",
        "4. Цель, на которую берется кредит, также влияет на вероятность просрочек. Существенная доля просрочек отмечена среди заёмщиков, использующих кредитные средства для покупки автомобиля и получения образования. Наиболее дисциплинированные заемщики берут кредиты на покупку недвижимости.\n",
        "\n",
        "В совокупности, наиболее надежными заемщиками являются те, кто не имеет детей, состоит в браке, имеет стабильный доход и берёт кредит на покупку недвижимости.\n",
        "Такой заёмщик будет демонстрировать высокую дисциплинированность в погашении кредита.\n",
        "Ненадёжным же заемщиком будет считаться человек с несколькими детьми, не состоящий в браке или находящийся в гражданском браке, с низким доходом и берущий кредит на покупку автомобиля или получение образования.\n",
        "\n",
        "Для улучшения сбора данных и разработки более точных скоринговых моделей, я бы посоветовал: Увеличить выбоки заёмщиков с крайними значениями количества детей и доходов, чтобы можно было делать более точные выводы. Так же необходимо регулярно обновлять данные о заемщиках и постараться включить информацию о других источниках дохода, чтобы учитывать изменяющееся экономическое и социальное положение заемщиков.\n",
        "При формировании баз данных, так же необходимо снизить до минимума человеческий фактор, который может повлиять на достоверность данных, пропуски и аномалии."
      ]
    }
  ],
  "metadata": {
    "ExecuteTimeLog": [
      {
        "duration": 544,
        "start_time": "2024-07-16T08:05:18.096Z"
      },
      {
        "duration": 23,
        "start_time": "2024-07-16T08:05:22.130Z"
      },
      {
        "duration": 16,
        "start_time": "2024-07-16T08:05:47.023Z"
      },
      {
        "duration": 13,
        "start_time": "2024-07-16T08:06:01.631Z"
      },
      {
        "duration": 44,
        "start_time": "2024-07-16T08:06:24.351Z"
      },
      {
        "duration": 4,
        "start_time": "2024-07-16T08:06:45.445Z"
      },
      {
        "duration": 9,
        "start_time": "2024-07-16T08:07:16.840Z"
      },
      {
        "duration": 5,
        "start_time": "2024-07-16T08:07:28.417Z"
      },
      {
        "duration": 8,
        "start_time": "2024-07-16T08:07:44.606Z"
      },
      {
        "duration": 5,
        "start_time": "2024-07-16T08:07:48.682Z"
      },
      {
        "duration": 37,
        "start_time": "2024-07-16T08:08:11.534Z"
      },
      {
        "duration": 11,
        "start_time": "2024-07-16T08:08:18.856Z"
      },
      {
        "duration": 3,
        "start_time": "2024-07-16T08:08:34.463Z"
      },
      {
        "duration": 13,
        "start_time": "2024-07-16T08:08:49.926Z"
      },
      {
        "duration": 21,
        "start_time": "2024-07-16T08:08:56.701Z"
      },
      {
        "duration": 18,
        "start_time": "2024-07-16T08:08:59.009Z"
      },
      {
        "duration": 3,
        "start_time": "2024-07-16T08:09:44.410Z"
      },
      {
        "duration": 16,
        "start_time": "2024-07-16T08:09:48.018Z"
      },
      {
        "duration": 7,
        "start_time": "2024-07-16T08:09:55.231Z"
      },
      {
        "duration": 3,
        "start_time": "2024-07-16T08:10:18.337Z"
      },
      {
        "duration": 9,
        "start_time": "2024-07-16T08:10:21.408Z"
      },
      {
        "duration": 12,
        "start_time": "2024-07-16T08:13:16.709Z"
      },
      {
        "duration": 5,
        "start_time": "2024-07-16T08:14:20.203Z"
      },
      {
        "duration": 3,
        "start_time": "2024-07-16T08:14:31.977Z"
      },
      {
        "duration": 7,
        "start_time": "2024-07-16T08:16:42.079Z"
      },
      {
        "duration": 10,
        "start_time": "2024-07-16T08:17:37.737Z"
      },
      {
        "duration": 3,
        "start_time": "2024-07-16T08:21:17.892Z"
      },
      {
        "duration": 10,
        "start_time": "2024-07-16T08:22:17.780Z"
      },
      {
        "duration": 10,
        "start_time": "2024-07-16T08:22:54.427Z"
      },
      {
        "duration": 3,
        "start_time": "2024-07-16T08:23:46.385Z"
      },
      {
        "duration": 9,
        "start_time": "2024-07-16T08:25:10.286Z"
      },
      {
        "duration": 11,
        "start_time": "2024-07-16T08:25:36.716Z"
      },
      {
        "duration": 72,
        "start_time": "2024-07-16T08:46:31.347Z"
      },
      {
        "duration": 106,
        "start_time": "2024-07-16T08:46:40.718Z"
      },
      {
        "duration": 5,
        "start_time": "2024-07-16T08:47:16.235Z"
      },
      {
        "duration": 10,
        "start_time": "2024-07-16T08:47:36.129Z"
      },
      {
        "duration": 18,
        "start_time": "2024-07-16T08:47:45.773Z"
      },
      {
        "duration": 10,
        "start_time": "2024-07-16T08:48:51.738Z"
      },
      {
        "duration": 10,
        "start_time": "2024-07-16T08:49:00.484Z"
      },
      {
        "duration": 7,
        "start_time": "2024-07-16T08:49:04.644Z"
      },
      {
        "duration": 9,
        "start_time": "2024-07-16T08:50:19.813Z"
      },
      {
        "duration": 7,
        "start_time": "2024-07-16T09:46:59.888Z"
      },
      {
        "duration": 4,
        "start_time": "2024-07-16T09:47:04.441Z"
      },
      {
        "duration": 4,
        "start_time": "2024-07-16T09:47:06.536Z"
      },
      {
        "duration": 5,
        "start_time": "2024-07-16T09:47:18.704Z"
      },
      {
        "duration": 525,
        "start_time": "2024-07-16T09:47:31.849Z"
      },
      {
        "duration": 27,
        "start_time": "2024-07-16T09:47:32.376Z"
      },
      {
        "duration": 17,
        "start_time": "2024-07-16T09:47:32.405Z"
      },
      {
        "duration": 12,
        "start_time": "2024-07-16T09:47:32.424Z"
      },
      {
        "duration": 65,
        "start_time": "2024-07-16T09:47:32.438Z"
      },
      {
        "duration": 5,
        "start_time": "2024-07-16T09:47:32.505Z"
      },
      {
        "duration": 20,
        "start_time": "2024-07-16T09:47:32.512Z"
      },
      {
        "duration": 5,
        "start_time": "2024-07-16T09:47:32.534Z"
      },
      {
        "duration": 32,
        "start_time": "2024-07-16T09:47:32.541Z"
      },
      {
        "duration": 5,
        "start_time": "2024-07-16T09:47:32.577Z"
      },
      {
        "duration": 55,
        "start_time": "2024-07-16T09:47:32.584Z"
      },
      {
        "duration": 26,
        "start_time": "2024-07-16T09:47:32.640Z"
      },
      {
        "duration": 4,
        "start_time": "2024-07-16T09:47:32.668Z"
      },
      {
        "duration": 14,
        "start_time": "2024-07-16T09:47:32.673Z"
      },
      {
        "duration": 96,
        "start_time": "2024-07-16T09:47:32.688Z"
      },
      {
        "duration": 40,
        "start_time": "2024-07-16T09:47:32.785Z"
      },
      {
        "duration": 21,
        "start_time": "2024-07-16T09:47:32.827Z"
      },
      {
        "duration": 19,
        "start_time": "2024-07-16T09:47:32.850Z"
      },
      {
        "duration": 6,
        "start_time": "2024-07-16T09:47:32.871Z"
      },
      {
        "duration": 14,
        "start_time": "2024-07-16T09:47:32.879Z"
      },
      {
        "duration": 21,
        "start_time": "2024-07-16T09:47:32.894Z"
      },
      {
        "duration": 19,
        "start_time": "2024-07-16T09:47:32.916Z"
      },
      {
        "duration": 11,
        "start_time": "2024-07-16T09:47:32.937Z"
      },
      {
        "duration": 7,
        "start_time": "2024-07-16T09:47:32.950Z"
      },
      {
        "duration": 25,
        "start_time": "2024-07-16T09:47:32.958Z"
      },
      {
        "duration": 4,
        "start_time": "2024-07-16T09:47:36.560Z"
      },
      {
        "duration": 6,
        "start_time": "2024-07-16T09:47:54.687Z"
      },
      {
        "duration": 74,
        "start_time": "2024-07-16T09:49:22.643Z"
      },
      {
        "duration": 8,
        "start_time": "2024-07-16T09:50:01.397Z"
      },
      {
        "duration": 10,
        "start_time": "2024-07-16T09:50:13.506Z"
      },
      {
        "duration": 10,
        "start_time": "2024-07-16T09:51:01.420Z"
      },
      {
        "duration": 11,
        "start_time": "2024-07-16T09:51:10.178Z"
      },
      {
        "duration": 18,
        "start_time": "2024-07-16T09:52:12.027Z"
      },
      {
        "duration": 16,
        "start_time": "2024-07-16T09:52:37.754Z"
      },
      {
        "duration": 15,
        "start_time": "2024-07-16T09:53:38.889Z"
      },
      {
        "duration": 15,
        "start_time": "2024-07-16T09:53:47.698Z"
      },
      {
        "duration": 18,
        "start_time": "2024-07-16T09:55:23.884Z"
      },
      {
        "duration": 26,
        "start_time": "2024-07-16T10:00:14.744Z"
      },
      {
        "duration": 37,
        "start_time": "2024-07-16T10:24:33.063Z"
      },
      {
        "duration": 21,
        "start_time": "2024-07-16T10:28:41.622Z"
      },
      {
        "duration": 25,
        "start_time": "2024-07-16T10:42:32.041Z"
      },
      {
        "duration": 459,
        "start_time": "2024-07-16T20:19:17.390Z"
      },
      {
        "duration": 23,
        "start_time": "2024-07-16T20:19:17.851Z"
      },
      {
        "duration": 19,
        "start_time": "2024-07-16T20:19:17.876Z"
      },
      {
        "duration": 10,
        "start_time": "2024-07-16T20:19:17.897Z"
      },
      {
        "duration": 37,
        "start_time": "2024-07-16T20:19:17.908Z"
      },
      {
        "duration": 3,
        "start_time": "2024-07-16T20:19:17.946Z"
      },
      {
        "duration": 8,
        "start_time": "2024-07-16T20:19:17.950Z"
      },
      {
        "duration": 23,
        "start_time": "2024-07-16T20:19:17.959Z"
      },
      {
        "duration": 5,
        "start_time": "2024-07-16T20:19:17.984Z"
      },
      {
        "duration": 5,
        "start_time": "2024-07-16T20:19:17.991Z"
      },
      {
        "duration": 32,
        "start_time": "2024-07-16T20:19:17.997Z"
      },
      {
        "duration": 9,
        "start_time": "2024-07-16T20:19:18.031Z"
      },
      {
        "duration": 3,
        "start_time": "2024-07-16T20:19:18.042Z"
      },
      {
        "duration": 39,
        "start_time": "2024-07-16T20:19:18.046Z"
      },
      {
        "duration": 26,
        "start_time": "2024-07-16T20:19:18.087Z"
      },
      {
        "duration": 16,
        "start_time": "2024-07-16T20:19:18.114Z"
      },
      {
        "duration": 10,
        "start_time": "2024-07-16T20:19:18.131Z"
      },
      {
        "duration": 10,
        "start_time": "2024-07-16T20:19:18.143Z"
      },
      {
        "duration": 8,
        "start_time": "2024-07-16T20:19:18.154Z"
      },
      {
        "duration": 20,
        "start_time": "2024-07-16T20:19:18.163Z"
      },
      {
        "duration": 12,
        "start_time": "2024-07-16T20:19:18.184Z"
      },
      {
        "duration": 16,
        "start_time": "2024-07-16T20:19:18.197Z"
      },
      {
        "duration": 19,
        "start_time": "2024-07-16T20:19:18.215Z"
      },
      {
        "duration": 17,
        "start_time": "2024-07-16T20:19:18.235Z"
      },
      {
        "duration": 40,
        "start_time": "2024-07-16T20:19:18.253Z"
      },
      {
        "duration": 52,
        "start_time": "2024-07-17T05:51:09.294Z"
      },
      {
        "duration": 7,
        "start_time": "2024-07-17T05:51:16.082Z"
      },
      {
        "duration": 553,
        "start_time": "2024-07-17T05:51:27.011Z"
      },
      {
        "duration": 23,
        "start_time": "2024-07-17T05:51:27.566Z"
      },
      {
        "duration": 16,
        "start_time": "2024-07-17T05:51:27.590Z"
      },
      {
        "duration": 10,
        "start_time": "2024-07-17T05:51:27.609Z"
      },
      {
        "duration": 63,
        "start_time": "2024-07-17T05:51:27.621Z"
      },
      {
        "duration": 3,
        "start_time": "2024-07-17T05:51:27.686Z"
      },
      {
        "duration": 9,
        "start_time": "2024-07-17T05:51:27.691Z"
      },
      {
        "duration": 4,
        "start_time": "2024-07-17T05:51:27.702Z"
      },
      {
        "duration": 9,
        "start_time": "2024-07-17T05:51:27.708Z"
      },
      {
        "duration": 6,
        "start_time": "2024-07-17T05:51:27.720Z"
      },
      {
        "duration": 78,
        "start_time": "2024-07-17T05:51:27.728Z"
      },
      {
        "duration": 11,
        "start_time": "2024-07-17T05:51:27.808Z"
      },
      {
        "duration": 4,
        "start_time": "2024-07-17T05:51:27.820Z"
      },
      {
        "duration": 13,
        "start_time": "2024-07-17T05:51:27.826Z"
      },
      {
        "duration": 54,
        "start_time": "2024-07-17T05:51:27.841Z"
      },
      {
        "duration": 26,
        "start_time": "2024-07-17T05:51:27.897Z"
      },
      {
        "duration": 4,
        "start_time": "2024-07-17T05:51:27.925Z"
      },
      {
        "duration": 19,
        "start_time": "2024-07-17T05:51:27.931Z"
      },
      {
        "duration": 56,
        "start_time": "2024-07-17T05:51:27.952Z"
      },
      {
        "duration": 4,
        "start_time": "2024-07-17T05:51:28.011Z"
      },
      {
        "duration": 13,
        "start_time": "2024-07-17T05:51:28.016Z"
      },
      {
        "duration": 16,
        "start_time": "2024-07-17T05:51:28.031Z"
      },
      {
        "duration": 21,
        "start_time": "2024-07-17T05:51:28.048Z"
      },
      {
        "duration": 21,
        "start_time": "2024-07-17T05:51:28.071Z"
      },
      {
        "duration": 22,
        "start_time": "2024-07-17T05:51:28.094Z"
      },
      {
        "duration": 17,
        "start_time": "2024-07-17T05:51:41.507Z"
      },
      {
        "duration": 14,
        "start_time": "2024-07-17T05:51:47.338Z"
      },
      {
        "duration": 20,
        "start_time": "2024-07-17T05:52:01.486Z"
      },
      {
        "duration": 21,
        "start_time": "2024-07-17T05:54:26.107Z"
      },
      {
        "duration": 20,
        "start_time": "2024-07-17T05:54:32.284Z"
      },
      {
        "duration": 72,
        "start_time": "2024-07-17T05:54:55.581Z"
      },
      {
        "duration": 18,
        "start_time": "2024-07-17T05:55:22.707Z"
      },
      {
        "duration": 21,
        "start_time": "2024-07-17T05:55:31.035Z"
      },
      {
        "duration": 20,
        "start_time": "2024-07-17T05:56:19.620Z"
      },
      {
        "duration": 24,
        "start_time": "2024-07-17T06:41:26.884Z"
      },
      {
        "duration": 1789,
        "start_time": "2024-07-17T07:04:10.136Z"
      },
      {
        "duration": 687,
        "start_time": "2024-07-17T07:04:30.762Z"
      },
      {
        "duration": 746,
        "start_time": "2024-07-17T07:04:37.724Z"
      },
      {
        "duration": 20,
        "start_time": "2024-07-17T07:04:48.398Z"
      },
      {
        "duration": 397,
        "start_time": "2024-07-17T07:05:24.725Z"
      },
      {
        "duration": 69,
        "start_time": "2024-07-17T07:06:03.224Z"
      },
      {
        "duration": 63,
        "start_time": "2024-07-17T07:06:18.950Z"
      },
      {
        "duration": 26,
        "start_time": "2024-07-17T07:06:31.096Z"
      },
      {
        "duration": 676,
        "start_time": "2024-07-17T07:06:48.255Z"
      },
      {
        "duration": 21,
        "start_time": "2024-07-17T07:07:31.648Z"
      },
      {
        "duration": 697,
        "start_time": "2024-07-17T07:07:49.120Z"
      },
      {
        "duration": 18,
        "start_time": "2024-07-17T07:09:20.609Z"
      },
      {
        "duration": 20,
        "start_time": "2024-07-17T07:09:32.286Z"
      },
      {
        "duration": 27,
        "start_time": "2024-07-17T07:11:52.201Z"
      },
      {
        "duration": 1453,
        "start_time": "2024-07-17T07:11:57.863Z"
      },
      {
        "duration": 26,
        "start_time": "2024-07-17T07:13:21.969Z"
      },
      {
        "duration": 24,
        "start_time": "2024-07-17T07:13:36.711Z"
      },
      {
        "duration": 23,
        "start_time": "2024-07-17T07:13:42.689Z"
      },
      {
        "duration": 212,
        "start_time": "2024-07-17T07:15:28.570Z"
      },
      {
        "duration": 402,
        "start_time": "2024-07-17T07:16:24.595Z"
      },
      {
        "duration": 402,
        "start_time": "2024-07-17T07:16:38.921Z"
      },
      {
        "duration": 203,
        "start_time": "2024-07-17T07:17:46.135Z"
      },
      {
        "duration": 202,
        "start_time": "2024-07-17T07:17:54.738Z"
      },
      {
        "duration": 194,
        "start_time": "2024-07-17T07:18:01.009Z"
      },
      {
        "duration": 210,
        "start_time": "2024-07-17T07:18:04.268Z"
      },
      {
        "duration": 202,
        "start_time": "2024-07-17T07:18:10.809Z"
      },
      {
        "duration": 35,
        "start_time": "2024-07-17T07:20:08.562Z"
      },
      {
        "duration": 21,
        "start_time": "2024-07-17T07:21:35.859Z"
      },
      {
        "duration": 24,
        "start_time": "2024-07-17T07:34:31.337Z"
      },
      {
        "duration": 990,
        "start_time": "2024-07-17T07:34:51.893Z"
      },
      {
        "duration": 606,
        "start_time": "2024-07-17T07:35:02.375Z"
      },
      {
        "duration": 189,
        "start_time": "2024-07-17T07:36:17.376Z"
      },
      {
        "duration": 304,
        "start_time": "2024-07-17T07:36:50.111Z"
      },
      {
        "duration": 314,
        "start_time": "2024-07-17T07:37:11.311Z"
      },
      {
        "duration": 323,
        "start_time": "2024-07-17T07:38:07.374Z"
      },
      {
        "duration": 402,
        "start_time": "2024-07-17T07:39:43.296Z"
      },
      {
        "duration": 194,
        "start_time": "2024-07-17T07:40:33.296Z"
      },
      {
        "duration": 188,
        "start_time": "2024-07-17T07:40:48.945Z"
      },
      {
        "duration": 188,
        "start_time": "2024-07-17T07:40:53.161Z"
      },
      {
        "duration": 20,
        "start_time": "2024-07-17T07:45:17.841Z"
      },
      {
        "duration": 18,
        "start_time": "2024-07-17T07:45:27.551Z"
      },
      {
        "duration": 1191,
        "start_time": "2024-07-17T07:47:33.226Z"
      },
      {
        "duration": 1008,
        "start_time": "2024-07-17T07:47:49.487Z"
      },
      {
        "duration": 163,
        "start_time": "2024-07-17T07:48:03.188Z"
      },
      {
        "duration": 157,
        "start_time": "2024-07-17T07:48:45.232Z"
      },
      {
        "duration": 165,
        "start_time": "2024-07-17T07:48:50.466Z"
      },
      {
        "duration": 165,
        "start_time": "2024-07-17T07:48:55.476Z"
      },
      {
        "duration": 275,
        "start_time": "2024-07-17T07:49:18.690Z"
      },
      {
        "duration": 178,
        "start_time": "2024-07-17T07:49:28.179Z"
      },
      {
        "duration": 19,
        "start_time": "2024-07-17T07:50:16.404Z"
      },
      {
        "duration": 17,
        "start_time": "2024-07-17T07:50:57.819Z"
      },
      {
        "duration": 1089,
        "start_time": "2024-07-17T07:51:23.189Z"
      },
      {
        "duration": 16,
        "start_time": "2024-07-17T07:51:29.972Z"
      },
      {
        "duration": 15,
        "start_time": "2024-07-17T07:53:35.027Z"
      },
      {
        "duration": 14,
        "start_time": "2024-07-17T07:53:51.626Z"
      },
      {
        "duration": 180,
        "start_time": "2024-07-17T07:54:02.413Z"
      },
      {
        "duration": 169,
        "start_time": "2024-07-17T07:55:07.433Z"
      },
      {
        "duration": 206,
        "start_time": "2024-07-17T07:56:41.040Z"
      },
      {
        "duration": 208,
        "start_time": "2024-07-17T07:56:50.199Z"
      },
      {
        "duration": 181,
        "start_time": "2024-07-17T07:57:06.689Z"
      },
      {
        "duration": 168,
        "start_time": "2024-07-17T07:57:42.397Z"
      },
      {
        "duration": 18,
        "start_time": "2024-07-17T07:58:39.852Z"
      },
      {
        "duration": 1414,
        "start_time": "2024-07-17T07:59:03.052Z"
      },
      {
        "duration": 19,
        "start_time": "2024-07-17T07:59:17.798Z"
      }
    ],
    "colab": {
      "provenance": []
    },
    "kernelspec": {
      "display_name": "Python 3 (ipykernel)",
      "language": "python",
      "name": "python3"
    },
    "language_info": {
      "codemirror_mode": {
        "name": "ipython",
        "version": 3
      },
      "file_extension": ".py",
      "mimetype": "text/x-python",
      "name": "python",
      "nbconvert_exporter": "python",
      "pygments_lexer": "ipython3",
      "version": "3.9.5"
    },
    "toc": {
      "base_numbering": 1,
      "nav_menu": {},
      "number_sections": true,
      "sideBar": true,
      "skip_h1_title": true,
      "title_cell": "Table of Contents",
      "title_sidebar": "Contents",
      "toc_cell": false,
      "toc_position": {},
      "toc_section_display": true,
      "toc_window_display": false
    }
  },
  "nbformat": 4,
  "nbformat_minor": 5
}