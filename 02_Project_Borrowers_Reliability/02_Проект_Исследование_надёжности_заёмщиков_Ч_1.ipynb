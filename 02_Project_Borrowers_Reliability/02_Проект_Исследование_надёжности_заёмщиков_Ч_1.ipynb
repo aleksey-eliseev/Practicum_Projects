{
 "cells": [
  {
   "cell_type": "markdown",
   "id": "4f11de00",
   "metadata": {
    "deletable": false,
    "editable": false,
    "id": "4f11de00"
   },
   "source": [
    "# Исследование надежности заемщиков"
   ]
  },
  {
   "cell_type": "markdown",
   "id": "f09d6878",
   "metadata": {
    "deletable": false,
    "editable": false,
    "id": "f09d6878"
   },
   "source": [
    "Это первая часть проекта, она будет проверена автоматически. Вторую часть проверит ревьюер. "
   ]
  },
  {
   "cell_type": "markdown",
   "id": "516620ee",
   "metadata": {
    "deletable": false,
    "editable": false,
    "id": "516620ee"
   },
   "source": [
    "## Откройте таблицу и изучите общую информацию о данных"
   ]
  },
  {
   "cell_type": "markdown",
   "id": "76a8a9ce",
   "metadata": {
    "deletable": false,
    "editable": false,
    "id": "76a8a9ce",
    "tags": [
     "start_task"
    ]
   },
   "source": [
    "**Задание 1. Импортируйте библиотеку pandas. Считайте данные из csv-файла в датафрейм и сохраните в переменную `data`. Путь к файлу:**\n",
    "\n",
    "`/datasets/data.csv`"
   ]
  },
  {
   "cell_type": "code",
   "execution_count": 1,
   "id": "fab207d0",
   "metadata": {
    "id": "fab207d0"
   },
   "outputs": [],
   "source": [
    "# импортируем библиотеку pandas\n",
    "import pandas as pd"
   ]
  },
  {
   "cell_type": "code",
   "execution_count": 2,
   "id": "6c82b607",
   "metadata": {
    "id": "6c82b607"
   },
   "outputs": [],
   "source": [
    "# считываем csv-файл методом .read_csv()\n",
    "data = pd.read_csv('/datasets/data.csv')"
   ]
  },
  {
   "cell_type": "markdown",
   "id": "08bbb5b3",
   "metadata": {
    "deletable": false,
    "editable": false,
    "id": "08bbb5b3",
    "tags": [
     "start_task"
    ]
   },
   "source": [
    "**Задание 2. Выведите первые 20 строчек датафрейма `data` на экран.**"
   ]
  },
  {
   "cell_type": "code",
   "execution_count": 3,
   "id": "4ff33b36",
   "metadata": {
    "id": "4ff33b36"
   },
   "outputs": [
    {
     "name": "stdout",
     "output_type": "stream",
     "text": [
      "    children  days_employed  dob_years            education  education_id  \\\n",
      "0          1   -8437.673028         42               высшее             0   \n",
      "1          1   -4024.803754         36              среднее             1   \n",
      "2          0   -5623.422610         33              Среднее             1   \n",
      "3          3   -4124.747207         32              среднее             1   \n",
      "4          0  340266.072047         53              среднее             1   \n",
      "5          0    -926.185831         27               высшее             0   \n",
      "6          0   -2879.202052         43               высшее             0   \n",
      "7          0    -152.779569         50              СРЕДНЕЕ             1   \n",
      "8          2   -6929.865299         35               ВЫСШЕЕ             0   \n",
      "9          0   -2188.756445         41              среднее             1   \n",
      "10         2   -4171.483647         36               высшее             0   \n",
      "11         0    -792.701887         40              среднее             1   \n",
      "12         0            NaN         65              среднее             1   \n",
      "13         0   -1846.641941         54  неоконченное высшее             2   \n",
      "14         0   -1844.956182         56               высшее             0   \n",
      "15         1    -972.364419         26              среднее             1   \n",
      "16         0   -1719.934226         35              среднее             1   \n",
      "17         0   -2369.999720         33               высшее             0   \n",
      "18         0  400281.136913         53              среднее             1   \n",
      "19         0  -10038.818549         48              СРЕДНЕЕ             1   \n",
      "\n",
      "       family_status  family_status_id gender income_type  debt  \\\n",
      "0    женат / замужем                 0      F   сотрудник     0   \n",
      "1    женат / замужем                 0      F   сотрудник     0   \n",
      "2    женат / замужем                 0      M   сотрудник     0   \n",
      "3    женат / замужем                 0      M   сотрудник     0   \n",
      "4   гражданский брак                 1      F   пенсионер     0   \n",
      "5   гражданский брак                 1      M   компаньон     0   \n",
      "6    женат / замужем                 0      F   компаньон     0   \n",
      "7    женат / замужем                 0      M   сотрудник     0   \n",
      "8   гражданский брак                 1      F   сотрудник     0   \n",
      "9    женат / замужем                 0      M   сотрудник     0   \n",
      "10   женат / замужем                 0      M   компаньон     0   \n",
      "11   женат / замужем                 0      F   сотрудник     0   \n",
      "12  гражданский брак                 1      M   пенсионер     0   \n",
      "13   женат / замужем                 0      F   сотрудник     0   \n",
      "14  гражданский брак                 1      F   компаньон     1   \n",
      "15   женат / замужем                 0      F   сотрудник     0   \n",
      "16   женат / замужем                 0      F   сотрудник     0   \n",
      "17  гражданский брак                 1      M   сотрудник     0   \n",
      "18    вдовец / вдова                 2      F   пенсионер     0   \n",
      "19         в разводе                 3      F   сотрудник     0   \n",
      "\n",
      "     total_income                                 purpose  \n",
      "0   253875.639453                           покупка жилья  \n",
      "1   112080.014102                 приобретение автомобиля  \n",
      "2   145885.952297                           покупка жилья  \n",
      "3   267628.550329              дополнительное образование  \n",
      "4   158616.077870                         сыграть свадьбу  \n",
      "5   255763.565419                           покупка жилья  \n",
      "6   240525.971920                       операции с жильем  \n",
      "7   135823.934197                             образование  \n",
      "8    95856.832424                   на проведение свадьбы  \n",
      "9   144425.938277                 покупка жилья для семьи  \n",
      "10  113943.491460                    покупка недвижимости  \n",
      "11   77069.234271       покупка коммерческой недвижимости  \n",
      "12            NaN                         сыграть свадьбу  \n",
      "13  130458.228857                 приобретение автомобиля  \n",
      "14  165127.911772              покупка жилой недвижимости  \n",
      "15  116820.904450  строительство собственной недвижимости  \n",
      "16  289202.704229                            недвижимость  \n",
      "17   90410.586745              строительство недвижимости  \n",
      "18   56823.777243      на покупку подержанного автомобиля  \n",
      "19  242831.107982            на покупку своего автомобиля  \n"
     ]
    }
   ],
   "source": [
    "# выводим первые 20 строк датафрейма методом .head()\n",
    "print(data.head(20))"
   ]
  },
  {
   "cell_type": "markdown",
   "id": "c8f382ae",
   "metadata": {
    "deletable": false,
    "editable": false,
    "id": "c8f382ae",
    "tags": [
     "start_task"
    ]
   },
   "source": [
    "**Задание 3. Выведите основную информацию о датафрейме с помощью метода `info()`.**"
   ]
  },
  {
   "cell_type": "code",
   "execution_count": 4,
   "id": "e1ed9908",
   "metadata": {
    "id": "e1ed9908"
   },
   "outputs": [
    {
     "name": "stdout",
     "output_type": "stream",
     "text": [
      "<class 'pandas.core.frame.DataFrame'>\n",
      "RangeIndex: 21525 entries, 0 to 21524\n",
      "Data columns (total 12 columns):\n",
      " #   Column            Non-Null Count  Dtype  \n",
      "---  ------            --------------  -----  \n",
      " 0   children          21525 non-null  int64  \n",
      " 1   days_employed     19351 non-null  float64\n",
      " 2   dob_years         21525 non-null  int64  \n",
      " 3   education         21525 non-null  object \n",
      " 4   education_id      21525 non-null  int64  \n",
      " 5   family_status     21525 non-null  object \n",
      " 6   family_status_id  21525 non-null  int64  \n",
      " 7   gender            21525 non-null  object \n",
      " 8   income_type       21525 non-null  object \n",
      " 9   debt              21525 non-null  int64  \n",
      " 10  total_income      19351 non-null  float64\n",
      " 11  purpose           21525 non-null  object \n",
      "dtypes: float64(2), int64(5), object(5)\n",
      "memory usage: 2.0+ MB\n",
      "None\n"
     ]
    }
   ],
   "source": [
    "# выводим основную информацию о датафрейме\n",
    "print(data.info())"
   ]
  },
  {
   "cell_type": "markdown",
   "id": "f969a1cd",
   "metadata": {
    "deletable": false,
    "editable": false,
    "id": "f969a1cd"
   },
   "source": [
    "## Предобработка данных"
   ]
  },
  {
   "cell_type": "markdown",
   "id": "7283e864",
   "metadata": {
    "deletable": false,
    "editable": false,
    "id": "7283e864"
   },
   "source": [
    "### Удаление пропусков"
   ]
  },
  {
   "cell_type": "markdown",
   "id": "c9a0745e",
   "metadata": {
    "deletable": false,
    "editable": false,
    "id": "c9a0745e",
    "tags": [
     "start_task"
    ]
   },
   "source": [
    "**Задание 4. Выведите количество пропущенных значений для каждого столбца. Используйте комбинацию двух методов.**"
   ]
  },
  {
   "cell_type": "code",
   "execution_count": 5,
   "id": "b7a096e1",
   "metadata": {
    "id": "b7a096e1"
   },
   "outputs": [
    {
     "name": "stdout",
     "output_type": "stream",
     "text": [
      "children               0\n",
      "days_employed       2174\n",
      "dob_years              0\n",
      "education              0\n",
      "education_id           0\n",
      "family_status          0\n",
      "family_status_id       0\n",
      "gender                 0\n",
      "income_type            0\n",
      "debt                   0\n",
      "total_income        2174\n",
      "purpose                0\n",
      "dtype: int64\n"
     ]
    }
   ],
   "source": [
    "# для нахождения пропусков в столбцах применяем метод .isna(), суммируем .sum()\n",
    "print(data.isna().sum())"
   ]
  },
  {
   "cell_type": "markdown",
   "id": "c2578616",
   "metadata": {
    "deletable": false,
    "editable": false,
    "id": "c2578616",
    "tags": [
     "start_task"
    ]
   },
   "source": [
    "**Задание 5. В двух столбцах есть пропущенные значения. Один из них — `days_employed`. Пропуски в этом столбце вы обработаете на следующем этапе. Другой столбец с пропущенными значениями — `total_income` — хранит данные о доходах. На сумму дохода сильнее всего влияет тип занятости, поэтому заполнить пропуски в этом столбце нужно медианным значением по каждому типу из столбца `income_type`. Например, у человека с типом занятости `сотрудник` пропуск в столбце `total_income` должен быть заполнен медианным доходом среди всех записей с тем же типом.**"
   ]
  },
  {
   "cell_type": "code",
   "execution_count": 6,
   "id": "e8afc4bc",
   "metadata": {
    "id": "e8afc4bc"
   },
   "outputs": [],
   "source": [
    "# получаем уникальные значения в 'income_type'. 'd' проходится по каждому уникальному значению в 'income_type'. \n",
    "for d in data['income_type'].unique():\n",
    "    # выражение использует .loc для доступа к строкам, где 'income_type' равно текущему значению 'd', а  'total_income' пропущен \n",
    "    data.loc[(data['income_type'] == d) & (data['total_income'].isna()), 'total_income'] = \\\n",
    "    data.loc[(data['income_type'] == d), 'total_income'].median() # вычисляем медианное значение 'total_income' для всех строк, где 'income_type' равен 'd'"
   ]
  },
  {
   "cell_type": "markdown",
   "id": "ae986d46",
   "metadata": {
    "deletable": false,
    "editable": false,
    "id": "ae986d46"
   },
   "source": [
    "### Обработка аномальных значений"
   ]
  },
  {
   "cell_type": "markdown",
   "id": "b049cbae",
   "metadata": {
    "deletable": false,
    "editable": false,
    "id": "b049cbae",
    "tags": [
     "start_task"
    ]
   },
   "source": [
    "**Задание 6. В данных могут встречаться артефакты (аномалии) — значения, которые не отражают действительность и появились по какой-то ошибке. Таким артефактом будет отрицательное количество дней трудового стажа в столбце `days_employed`. Для реальных данных это нормально. Обработайте значения в этом столбце: замените все отрицательные значения положительными с помощью метода `abs()`.**"
   ]
  },
  {
   "cell_type": "code",
   "execution_count": 7,
   "id": "187779b0",
   "metadata": {
    "id": "187779b0"
   },
   "outputs": [],
   "source": [
    "data['days_employed'] = data['days_employed'].abs()"
   ]
  },
  {
   "cell_type": "markdown",
   "id": "a13054c2",
   "metadata": {
    "deletable": false,
    "editable": false,
    "id": "a13054c2",
    "tags": [
     "start_task"
    ]
   },
   "source": [
    "**Задание 7. Для каждого типа занятости выведите медианное значение трудового стажа `days_employed` в днях.**"
   ]
  },
  {
   "cell_type": "code",
   "execution_count": 8,
   "id": "f3f5810c",
   "metadata": {
    "id": "f3f5810c"
   },
   "outputs": [
    {
     "data": {
      "text/plain": [
       "income_type\n",
       "безработный        366413.652744\n",
       "в декрете            3296.759962\n",
       "госслужащий          2689.368353\n",
       "компаньон            1547.382223\n",
       "пенсионер          365213.306266\n",
       "предприниматель       520.848083\n",
       "сотрудник            1574.202821\n",
       "студент               578.751554\n",
       "Name: days_employed, dtype: float64"
      ]
     },
     "execution_count": 8,
     "metadata": {},
     "output_type": "execute_result"
    }
   ],
   "source": [
    "data.groupby('income_type')['days_employed'].median()"
   ]
  },
  {
   "cell_type": "markdown",
   "id": "dbc3168c",
   "metadata": {
    "deletable": false,
    "editable": false,
    "id": "dbc3168c"
   },
   "source": [
    "У двух типов (безработные и пенсионеры) получатся аномально большие значения. Исправить такие значения сложно, поэтому оставьте их как есть."
   ]
  },
  {
   "cell_type": "markdown",
   "id": "ff4378c2",
   "metadata": {
    "deletable": false,
    "editable": false,
    "id": "ff4378c2",
    "tags": [
     "start_task"
    ]
   },
   "source": [
    "**Задание 8. Выведите перечень уникальных значений столбца `children`.**"
   ]
  },
  {
   "cell_type": "code",
   "execution_count": 9,
   "id": "9bd0c232",
   "metadata": {
    "id": "9bd0c232"
   },
   "outputs": [
    {
     "data": {
      "text/plain": [
       "array([ 1,  0,  3,  2, -1,  4, 20,  5])"
      ]
     },
     "execution_count": 9,
     "metadata": {},
     "output_type": "execute_result"
    }
   ],
   "source": [
    "# для нахождения уникальных значений столбца исполльзую метод .unique()\n",
    "data['children'].unique()"
   ]
  },
  {
   "cell_type": "markdown",
   "id": "8e911990",
   "metadata": {
    "deletable": false,
    "editable": false,
    "id": "8e911990",
    "tags": [
     "start_task"
    ]
   },
   "source": [
    "**Задание 9. В столбце `children` есть два аномальных значения. Удалите строки, в которых встречаются такие аномальные значения из датафрейма `data`.**"
   ]
  },
  {
   "cell_type": "code",
   "execution_count": 10,
   "id": "6d5ba289",
   "metadata": {
    "id": "6d5ba289"
   },
   "outputs": [],
   "source": [
    "data = data[(data['children'] != -1) & (data['children'] != 20)]"
   ]
  },
  {
   "cell_type": "markdown",
   "id": "18d77455",
   "metadata": {
    "deletable": false,
    "editable": false,
    "id": "18d77455",
    "tags": [
     "start_task"
    ]
   },
   "source": [
    "**Задание 10. Ещё раз выведите перечень уникальных значений столбца `children`, чтобы убедиться, что артефакты удалены.**"
   ]
  },
  {
   "cell_type": "code",
   "execution_count": 11,
   "id": "2c5fa92c",
   "metadata": {
    "id": "2c5fa92c"
   },
   "outputs": [
    {
     "data": {
      "text/plain": [
       "array([1, 0, 3, 2, 4, 5])"
      ]
     },
     "execution_count": 11,
     "metadata": {},
     "output_type": "execute_result"
    }
   ],
   "source": [
    "data['children'].unique()"
   ]
  },
  {
   "cell_type": "markdown",
   "id": "0ec07dee",
   "metadata": {
    "deletable": false,
    "editable": false,
    "id": "0ec07dee"
   },
   "source": [
    "### Удаление пропусков (продолжение)"
   ]
  },
  {
   "cell_type": "markdown",
   "id": "0fc3ae3f",
   "metadata": {
    "deletable": false,
    "editable": false,
    "id": "0fc3ae3f",
    "tags": [
     "start_task"
    ]
   },
   "source": [
    "**Задание 11. Заполните пропуски в столбце `days_employed` медианными значениями по каждому типу занятости `income_type`.**"
   ]
  },
  {
   "cell_type": "code",
   "execution_count": 12,
   "id": "e2aea7ac",
   "metadata": {
    "id": "e2aea7ac"
   },
   "outputs": [],
   "source": [
    "for t in data['income_type'].unique():\n",
    "    data.loc[(data['income_type'] == t) & (data['days_employed'].isna()), 'days_employed'] = \\\n",
    "    data.loc[(data['income_type'] == t), 'days_employed'].median()"
   ]
  },
  {
   "cell_type": "markdown",
   "id": "97b0b795",
   "metadata": {
    "deletable": false,
    "editable": false,
    "id": "97b0b795",
    "tags": [
     "start_task"
    ]
   },
   "source": [
    "**Задание 12. Убедитесь, что все пропуски заполнены. Проверьте себя и ещё раз выведите количество пропущенных значений для каждого столбца с помощью двух методов.**"
   ]
  },
  {
   "cell_type": "code",
   "execution_count": 13,
   "id": "79632a21",
   "metadata": {
    "id": "79632a21"
   },
   "outputs": [
    {
     "name": "stdout",
     "output_type": "stream",
     "text": [
      "children            0\n",
      "days_employed       0\n",
      "dob_years           0\n",
      "education           0\n",
      "education_id        0\n",
      "family_status       0\n",
      "family_status_id    0\n",
      "gender              0\n",
      "income_type         0\n",
      "debt                0\n",
      "total_income        0\n",
      "purpose             0\n",
      "dtype: int64\n"
     ]
    }
   ],
   "source": [
    "print(data.isna().sum())"
   ]
  },
  {
   "cell_type": "markdown",
   "id": "bd4aeb20",
   "metadata": {
    "deletable": false,
    "editable": false,
    "id": "bd4aeb20"
   },
   "source": [
    "### Изменение типов данных"
   ]
  },
  {
   "cell_type": "markdown",
   "id": "963bfa58",
   "metadata": {
    "deletable": false,
    "editable": false,
    "id": "963bfa58",
    "tags": [
     "start_task"
    ]
   },
   "source": [
    "**Задание 13. Замените вещественный тип данных в столбце `total_income` на целочисленный с помощью метода `astype()`.**"
   ]
  },
  {
   "cell_type": "code",
   "execution_count": 14,
   "id": "73da6ea0",
   "metadata": {
    "id": "73da6ea0"
   },
   "outputs": [],
   "source": [
    "data['total_income'] = data['total_income'].astype('int')"
   ]
  },
  {
   "cell_type": "markdown",
   "id": "d290239e",
   "metadata": {
    "deletable": false,
    "editable": false,
    "id": "d290239e"
   },
   "source": [
    "### Обработка дубликатов"
   ]
  },
  {
   "cell_type": "markdown",
   "id": "1b5844fd",
   "metadata": {
    "deletable": false,
    "editable": false,
    "id": "1b5844fd",
    "tags": [
     "start_task"
    ]
   },
   "source": [
    "**Задание 14. Обработайте неявные дубликаты в столбце `education`. В этом столбце есть одни и те же значения, но записанные по-разному: с использованием заглавных и строчных букв. Приведите их к нижнему регистру.**"
   ]
  },
  {
   "cell_type": "code",
   "execution_count": 15,
   "id": "3f2504b3",
   "metadata": {
    "id": "3f2504b3"
   },
   "outputs": [],
   "source": [
    "data['education'] = data['education'].str.lower()"
   ]
  },
  {
   "cell_type": "markdown",
   "id": "4c22acbc",
   "metadata": {
    "deletable": false,
    "editable": false,
    "id": "4c22acbc",
    "tags": [
     "start_task"
    ]
   },
   "source": [
    "**Задание 15. Выведите на экран количество строк-дубликатов в данных. Если такие строки присутствуют, удалите их.**"
   ]
  },
  {
   "cell_type": "code",
   "execution_count": 23,
   "id": "d34a4325",
   "metadata": {
    "id": "d34a4325"
   },
   "outputs": [
    {
     "data": {
      "text/plain": [
       "71"
      ]
     },
     "execution_count": 23,
     "metadata": {},
     "output_type": "execute_result"
    }
   ],
   "source": [
    "data.duplicated().sum()"
   ]
  },
  {
   "cell_type": "code",
   "execution_count": 26,
   "id": "6e1a6499",
   "metadata": {
    "id": "6e1a6499"
   },
   "outputs": [],
   "source": [
    "data = data.drop_duplicates()"
   ]
  },
  {
   "cell_type": "markdown",
   "id": "e5686ccc",
   "metadata": {
    "deletable": false,
    "editable": false,
    "id": "e5686ccc"
   },
   "source": [
    "### Категоризация данных"
   ]
  },
  {
   "cell_type": "markdown",
   "id": "636e9acd",
   "metadata": {
    "deletable": false,
    "editable": false,
    "id": "636e9acd",
    "tags": [
     "start_task"
    ]
   },
   "source": [
    "**Задание 16. На основании диапазонов, указанных ниже, создайте в датафрейме `data` столбец `total_income_category` с категориями:**\n",
    "\n",
    "- 0–30000 — `'E'`;\n",
    "- 30001–50000 — `'D'`;\n",
    "- 50001–200000 — `'C'`;\n",
    "- 200001–1000000 — `'B'`;\n",
    "- 1000001 и выше — `'A'`.\n",
    "\n",
    "\n",
    "**Например, кредитополучателю с доходом 25000 нужно назначить категорию `'E'`, а клиенту, получающему 235000, — `'B'`. Используйте собственную функцию с именем `categorize_income()` и метод `apply()`.**"
   ]
  },
  {
   "cell_type": "code",
   "execution_count": 31,
   "id": "880a77e5",
   "metadata": {
    "id": "880a77e5"
   },
   "outputs": [],
   "source": [
    "# создайте функцию categorize_income()\n",
    "def categorize_income(income):\n",
    "    if 0 <= income <= 30000:\n",
    "        return 'E'\n",
    "    elif 30001 <= income <= 50000:\n",
    "         return 'D'\n",
    "    elif 50001 <= income <= 200000:\n",
    "        return 'C'\n",
    "    elif 200001 <= income <= 1000000:\n",
    "        return 'B'\n",
    "    elif income >= 1000001:\n",
    "        return 'A'"
   ]
  },
  {
   "cell_type": "code",
   "execution_count": 32,
   "id": "6f25f161",
   "metadata": {
    "id": "6f25f161"
   },
   "outputs": [],
   "source": [
    "# примените функцию методом apply()\n",
    "data['total_income_category'] = data['total_income'].apply(categorize_income)"
   ]
  },
  {
   "cell_type": "markdown",
   "id": "3363b685",
   "metadata": {
    "deletable": false,
    "editable": false,
    "id": "3363b685",
    "tags": [
     "start_task"
    ]
   },
   "source": [
    "**Задание 17. Выведите на экран перечень уникальных целей взятия кредита из столбца `purpose`.**"
   ]
  },
  {
   "cell_type": "code",
   "execution_count": 33,
   "id": "e59f2c15",
   "metadata": {
    "id": "e59f2c15"
   },
   "outputs": [
    {
     "data": {
      "text/plain": [
       "array(['покупка жилья', 'приобретение автомобиля',\n",
       "       'дополнительное образование', 'сыграть свадьбу',\n",
       "       'операции с жильем', 'образование', 'на проведение свадьбы',\n",
       "       'покупка жилья для семьи', 'покупка недвижимости',\n",
       "       'покупка коммерческой недвижимости', 'покупка жилой недвижимости',\n",
       "       'строительство собственной недвижимости', 'недвижимость',\n",
       "       'строительство недвижимости', 'на покупку подержанного автомобиля',\n",
       "       'на покупку своего автомобиля',\n",
       "       'операции с коммерческой недвижимостью',\n",
       "       'строительство жилой недвижимости', 'жилье',\n",
       "       'операции со своей недвижимостью', 'автомобили',\n",
       "       'заняться образованием', 'сделка с подержанным автомобилем',\n",
       "       'получение образования', 'автомобиль', 'свадьба',\n",
       "       'получение дополнительного образования', 'покупка своего жилья',\n",
       "       'операции с недвижимостью', 'получение высшего образования',\n",
       "       'свой автомобиль', 'сделка с автомобилем',\n",
       "       'профильное образование', 'высшее образование',\n",
       "       'покупка жилья для сдачи', 'на покупку автомобиля', 'ремонт жилью',\n",
       "       'заняться высшим образованием'], dtype=object)"
      ]
     },
     "execution_count": 33,
     "metadata": {},
     "output_type": "execute_result"
    }
   ],
   "source": [
    "data['purpose'].unique()"
   ]
  },
  {
   "cell_type": "markdown",
   "id": "bb33e847",
   "metadata": {
    "deletable": false,
    "editable": false,
    "id": "bb33e847",
    "tags": [
     "start_task"
    ]
   },
   "source": [
    "**Задание 18. Создайте функцию, которая на основании данных из столбца `purpose` сформирует новый столбец `purpose_category`, в который войдут следующие категории:**\n",
    "\n",
    "- `'операции с автомобилем'`,\n",
    "- `'операции с недвижимостью'`,\n",
    "- `'проведение свадьбы'`,\n",
    "- `'получение образования'`.\n",
    "\n",
    "**Например, если в столбце `purpose` находится подстрока `'на покупку автомобиля'`, то в столбце `purpose_category` должна появиться строка `'операции с автомобилем'`.**\n",
    "\n",
    "**Используйте собственную функцию с именем `categorize_purpose()` и метод `apply()`. Изучите данные в столбце `purpose` и определите, какие подстроки помогут вам правильно определить категорию.**"
   ]
  },
  {
   "cell_type": "code",
   "execution_count": 38,
   "id": "63909b83",
   "metadata": {
    "id": "63909b83"
   },
   "outputs": [],
   "source": [
    "# создайте функцию categorize_purpose()\n",
    "def categorize_purpose(row):\n",
    "    if 'автом' in row:\n",
    "        return 'операции с автомобилем'\n",
    "    elif 'жил' in row or 'недвиж' in row:\n",
    "        return 'операции с недвижимостью'\n",
    "    elif 'свад' in row:\n",
    "        return 'проведение свадьбы'\n",
    "    elif 'образов' in row:\n",
    "        return 'получение образования'"
   ]
  },
  {
   "cell_type": "code",
   "execution_count": 39,
   "id": "7cb4a81d",
   "metadata": {
    "id": "7cb4a81d"
   },
   "outputs": [],
   "source": [
    "\n",
    "data['purpose_category'] = data['purpose'].apply(categorize_purpose)"
   ]
  },
  {
   "cell_type": "code",
   "execution_count": null,
   "id": "31142153",
   "metadata": {},
   "outputs": [],
   "source": []
  }
 ],
 "metadata": {
  "ExecuteTimeLog": [
   {
    "duration": 347,
    "start_time": "2024-07-15T12:37:49.585Z"
   },
   {
    "duration": 135,
    "start_time": "2024-07-15T12:38:09.765Z"
   },
   {
    "duration": 11,
    "start_time": "2024-07-15T12:38:53.117Z"
   },
   {
    "duration": 15,
    "start_time": "2024-07-15T12:43:36.679Z"
   },
   {
    "duration": 25,
    "start_time": "2024-07-15T12:45:54.479Z"
   },
   {
    "duration": 12,
    "start_time": "2024-07-15T12:46:00.919Z"
   },
   {
    "duration": 9,
    "start_time": "2024-07-15T12:46:34.976Z"
   },
   {
    "duration": 2,
    "start_time": "2024-07-15T13:40:47.405Z"
   },
   {
    "duration": 413,
    "start_time": "2024-07-15T13:40:55.723Z"
   },
   {
    "duration": 75,
    "start_time": "2024-07-15T13:40:56.138Z"
   },
   {
    "duration": 9,
    "start_time": "2024-07-15T13:40:56.215Z"
   },
   {
    "duration": 35,
    "start_time": "2024-07-15T13:40:56.226Z"
   },
   {
    "duration": 10,
    "start_time": "2024-07-15T13:40:56.263Z"
   },
   {
    "duration": 2,
    "start_time": "2024-07-15T13:40:56.275Z"
   },
   {
    "duration": 4,
    "start_time": "2024-07-15T13:40:56.279Z"
   },
   {
    "duration": 13,
    "start_time": "2024-07-15T13:40:56.284Z"
   },
   {
    "duration": 4,
    "start_time": "2024-07-15T13:40:56.298Z"
   },
   {
    "duration": 3,
    "start_time": "2024-07-15T13:40:56.304Z"
   },
   {
    "duration": 4,
    "start_time": "2024-07-15T13:40:56.308Z"
   },
   {
    "duration": 6,
    "start_time": "2024-07-15T13:40:56.313Z"
   },
   {
    "duration": 18,
    "start_time": "2024-07-15T13:40:56.320Z"
   },
   {
    "duration": 2,
    "start_time": "2024-07-15T13:40:56.341Z"
   },
   {
    "duration": 3,
    "start_time": "2024-07-15T13:40:56.345Z"
   },
   {
    "duration": 4,
    "start_time": "2024-07-15T13:40:56.350Z"
   },
   {
    "duration": 3,
    "start_time": "2024-07-15T13:40:56.355Z"
   },
   {
    "duration": 3,
    "start_time": "2024-07-15T13:40:56.360Z"
   },
   {
    "duration": 3,
    "start_time": "2024-07-15T13:40:56.365Z"
   },
   {
    "duration": 17,
    "start_time": "2024-07-15T13:40:56.370Z"
   },
   {
    "duration": 9,
    "start_time": "2024-07-15T13:40:56.389Z"
   },
   {
    "duration": 6,
    "start_time": "2024-07-15T13:40:56.400Z"
   },
   {
    "duration": 49,
    "start_time": "2024-07-15T13:46:06.636Z"
   },
   {
    "duration": 34,
    "start_time": "2024-07-15T13:46:11.867Z"
   },
   {
    "duration": 32,
    "start_time": "2024-07-15T13:46:29.924Z"
   },
   {
    "duration": 124,
    "start_time": "2024-07-15T13:57:45.058Z"
   },
   {
    "duration": 74,
    "start_time": "2024-07-15T13:58:04.696Z"
   },
   {
    "duration": 34,
    "start_time": "2024-07-15T13:58:11.256Z"
   },
   {
    "duration": 33,
    "start_time": "2024-07-15T13:58:23.048Z"
   },
   {
    "duration": 4,
    "start_time": "2024-07-15T14:03:04.184Z"
   },
   {
    "duration": 12,
    "start_time": "2024-07-15T14:05:06.171Z"
   },
   {
    "duration": 1249,
    "start_time": "2024-07-15T14:06:31.412Z"
   },
   {
    "duration": 6,
    "start_time": "2024-07-15T14:06:42.299Z"
   },
   {
    "duration": 6,
    "start_time": "2024-07-15T14:08:15.962Z"
   },
   {
    "duration": 3,
    "start_time": "2024-07-15T14:17:56.660Z"
   },
   {
    "duration": 8,
    "start_time": "2024-07-15T14:19:18.740Z"
   },
   {
    "duration": 5,
    "start_time": "2024-07-15T14:19:46.973Z"
   },
   {
    "duration": 36,
    "start_time": "2024-07-15T14:21:49.806Z"
   },
   {
    "duration": 38,
    "start_time": "2024-07-15T14:22:11.917Z"
   },
   {
    "duration": 50,
    "start_time": "2024-07-15T14:22:43.540Z"
   },
   {
    "duration": 35,
    "start_time": "2024-07-15T14:23:28.446Z"
   },
   {
    "duration": 38,
    "start_time": "2024-07-15T14:25:37.506Z"
   },
   {
    "duration": 39,
    "start_time": "2024-07-15T14:25:44.647Z"
   },
   {
    "duration": 431,
    "start_time": "2024-07-15T14:31:25.104Z"
   },
   {
    "duration": 77,
    "start_time": "2024-07-15T14:31:25.537Z"
   },
   {
    "duration": 10,
    "start_time": "2024-07-15T14:31:25.616Z"
   },
   {
    "duration": 49,
    "start_time": "2024-07-15T14:31:25.627Z"
   },
   {
    "duration": 12,
    "start_time": "2024-07-15T14:31:25.679Z"
   },
   {
    "duration": 69,
    "start_time": "2024-07-15T14:31:25.692Z"
   },
   {
    "duration": 4,
    "start_time": "2024-07-15T14:31:25.764Z"
   },
   {
    "duration": 20,
    "start_time": "2024-07-15T14:31:25.770Z"
   },
   {
    "duration": 31,
    "start_time": "2024-07-15T14:31:25.792Z"
   },
   {
    "duration": 23,
    "start_time": "2024-07-15T14:31:25.825Z"
   },
   {
    "duration": 28,
    "start_time": "2024-07-15T14:31:25.850Z"
   },
   {
    "duration": 58,
    "start_time": "2024-07-15T14:31:25.879Z"
   },
   {
    "duration": 41,
    "start_time": "2024-07-15T14:31:25.939Z"
   },
   {
    "duration": 22,
    "start_time": "2024-07-15T14:31:25.983Z"
   },
   {
    "duration": 3,
    "start_time": "2024-07-15T14:31:26.007Z"
   },
   {
    "duration": 17,
    "start_time": "2024-07-15T14:31:26.012Z"
   },
   {
    "duration": 48,
    "start_time": "2024-07-15T14:31:26.033Z"
   },
   {
    "duration": 27,
    "start_time": "2024-07-15T14:31:26.083Z"
   },
   {
    "duration": 17,
    "start_time": "2024-07-15T14:31:26.112Z"
   },
   {
    "duration": 24,
    "start_time": "2024-07-15T14:31:26.131Z"
   },
   {
    "duration": 16,
    "start_time": "2024-07-15T14:31:26.157Z"
   },
   {
    "duration": 25,
    "start_time": "2024-07-15T14:31:26.174Z"
   },
   {
    "duration": 34,
    "start_time": "2024-07-15T14:31:33.288Z"
   },
   {
    "duration": 105,
    "start_time": "2024-07-15T14:32:25.462Z"
   },
   {
    "duration": 11,
    "start_time": "2024-07-15T14:32:52.254Z"
   },
   {
    "duration": 5,
    "start_time": "2024-07-15T14:35:16.299Z"
   },
   {
    "duration": 4,
    "start_time": "2024-07-15T14:37:58.747Z"
   },
   {
    "duration": 11,
    "start_time": "2024-07-15T14:40:09.075Z"
   },
   {
    "duration": 9,
    "start_time": "2024-07-15T14:40:43.490Z"
   },
   {
    "duration": 19,
    "start_time": "2024-07-15T14:41:00.155Z"
   },
   {
    "duration": 27,
    "start_time": "2024-07-15T14:42:14.100Z"
   },
   {
    "duration": 18,
    "start_time": "2024-07-15T14:43:05.052Z"
   },
   {
    "duration": 39,
    "start_time": "2024-07-15T14:43:15.835Z"
   },
   {
    "duration": 27,
    "start_time": "2024-07-15T14:43:47.797Z"
   },
   {
    "duration": 45,
    "start_time": "2024-07-15T14:43:49.492Z"
   },
   {
    "duration": 403,
    "start_time": "2024-07-15T14:44:37.178Z"
   },
   {
    "duration": 89,
    "start_time": "2024-07-15T14:44:37.583Z"
   },
   {
    "duration": 11,
    "start_time": "2024-07-15T14:44:37.673Z"
   },
   {
    "duration": 16,
    "start_time": "2024-07-15T14:44:37.685Z"
   },
   {
    "duration": 8,
    "start_time": "2024-07-15T14:44:37.703Z"
   },
   {
    "duration": 69,
    "start_time": "2024-07-15T14:44:37.712Z"
   },
   {
    "duration": 3,
    "start_time": "2024-07-15T14:44:37.783Z"
   },
   {
    "duration": 13,
    "start_time": "2024-07-15T14:44:37.788Z"
   },
   {
    "duration": 4,
    "start_time": "2024-07-15T14:44:37.803Z"
   },
   {
    "duration": 7,
    "start_time": "2024-07-15T14:44:37.808Z"
   },
   {
    "duration": 6,
    "start_time": "2024-07-15T14:44:37.837Z"
   },
   {
    "duration": 61,
    "start_time": "2024-07-15T14:44:37.845Z"
   },
   {
    "duration": 8,
    "start_time": "2024-07-15T14:44:37.908Z"
   },
   {
    "duration": 3,
    "start_time": "2024-07-15T14:44:37.919Z"
   },
   {
    "duration": 20,
    "start_time": "2024-07-15T14:44:37.923Z"
   },
   {
    "duration": 26,
    "start_time": "2024-07-15T14:44:37.948Z"
   },
   {
    "duration": 32,
    "start_time": "2024-07-15T14:44:37.975Z"
   },
   {
    "duration": 3,
    "start_time": "2024-07-15T14:44:38.009Z"
   },
   {
    "duration": 3,
    "start_time": "2024-07-15T14:44:38.014Z"
   },
   {
    "duration": 17,
    "start_time": "2024-07-15T14:44:38.045Z"
   },
   {
    "duration": 3,
    "start_time": "2024-07-15T14:44:38.064Z"
   },
   {
    "duration": 12,
    "start_time": "2024-07-15T14:44:38.069Z"
   },
   {
    "duration": 445,
    "start_time": "2024-07-15T14:45:11.011Z"
   },
   {
    "duration": 77,
    "start_time": "2024-07-15T14:45:11.458Z"
   },
   {
    "duration": 14,
    "start_time": "2024-07-15T14:45:11.536Z"
   },
   {
    "duration": 58,
    "start_time": "2024-07-15T14:45:11.552Z"
   },
   {
    "duration": 21,
    "start_time": "2024-07-15T14:45:11.613Z"
   },
   {
    "duration": 45,
    "start_time": "2024-07-15T14:45:11.636Z"
   },
   {
    "duration": 4,
    "start_time": "2024-07-15T14:45:11.682Z"
   },
   {
    "duration": 16,
    "start_time": "2024-07-15T14:45:11.687Z"
   },
   {
    "duration": 5,
    "start_time": "2024-07-15T14:45:11.705Z"
   },
   {
    "duration": 27,
    "start_time": "2024-07-15T14:45:11.711Z"
   },
   {
    "duration": 6,
    "start_time": "2024-07-15T14:45:11.739Z"
   },
   {
    "duration": 40,
    "start_time": "2024-07-15T14:45:11.747Z"
   },
   {
    "duration": 9,
    "start_time": "2024-07-15T14:45:11.788Z"
   },
   {
    "duration": 3,
    "start_time": "2024-07-15T14:45:11.800Z"
   },
   {
    "duration": 48,
    "start_time": "2024-07-15T14:45:11.805Z"
   },
   {
    "duration": 20,
    "start_time": "2024-07-15T14:45:11.855Z"
   },
   {
    "duration": 31,
    "start_time": "2024-07-15T14:45:11.876Z"
   },
   {
    "duration": 2,
    "start_time": "2024-07-15T14:45:11.908Z"
   },
   {
    "duration": 6,
    "start_time": "2024-07-15T14:45:11.912Z"
   },
   {
    "duration": 3,
    "start_time": "2024-07-15T14:45:11.945Z"
   },
   {
    "duration": 11,
    "start_time": "2024-07-15T14:45:11.951Z"
   },
   {
    "duration": 10,
    "start_time": "2024-07-15T14:45:11.964Z"
   },
   {
    "duration": 18,
    "start_time": "2024-07-15T14:46:13.398Z"
   },
   {
    "duration": 48,
    "start_time": "2024-07-15T14:46:23.572Z"
   },
   {
    "duration": 31,
    "start_time": "2024-07-15T14:46:33.587Z"
   },
   {
    "duration": 28,
    "start_time": "2024-07-15T14:47:22.733Z"
   },
   {
    "duration": 2,
    "start_time": "2024-07-15T14:48:52.623Z"
   },
   {
    "duration": 4,
    "start_time": "2024-07-15T14:49:20.071Z"
   },
   {
    "duration": 3,
    "start_time": "2024-07-15T14:49:28.085Z"
   },
   {
    "duration": 15,
    "start_time": "2024-07-15T14:49:38.921Z"
   },
   {
    "duration": 5,
    "start_time": "2024-07-15T14:50:22.662Z"
   },
   {
    "duration": 14,
    "start_time": "2024-07-15T14:50:29.755Z"
   },
   {
    "duration": 6,
    "start_time": "2024-07-15T14:50:57.140Z"
   },
   {
    "duration": 2,
    "start_time": "2024-07-15T14:51:53.567Z"
   },
   {
    "duration": 3,
    "start_time": "2024-07-15T14:52:22.304Z"
   },
   {
    "duration": 73,
    "start_time": "2024-07-15T14:52:46.767Z"
   },
   {
    "duration": 9,
    "start_time": "2024-07-15T14:52:56.767Z"
   },
   {
    "duration": 4,
    "start_time": "2024-07-15T14:53:01.408Z"
   },
   {
    "duration": 14,
    "start_time": "2024-07-15T14:53:03.247Z"
   }
  ],
  "colab": {
   "provenance": []
  },
  "kernelspec": {
   "display_name": "Python 3 (ipykernel)",
   "language": "python",
   "name": "python3"
  },
  "language_info": {
   "codemirror_mode": {
    "name": "ipython",
    "version": 3
   },
   "file_extension": ".py",
   "mimetype": "text/x-python",
   "name": "python",
   "nbconvert_exporter": "python",
   "pygments_lexer": "ipython3",
   "version": "3.9.5"
  },
  "toc": {
   "base_numbering": 1,
   "nav_menu": {},
   "number_sections": true,
   "sideBar": true,
   "skip_h1_title": true,
   "title_cell": "Table of Contents",
   "title_sidebar": "Contents",
   "toc_cell": false,
   "toc_position": {},
   "toc_section_display": true,
   "toc_window_display": false
  }
 },
 "nbformat": 4,
 "nbformat_minor": 5
}
